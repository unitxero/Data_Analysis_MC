{
  "nbformat": 4,
  "nbformat_minor": 0,
  "metadata": {
    "colab": {
      "name": "Day 6 Sport Dataset EDA Group Work.ipynb",
      "provenance": [],
      "collapsed_sections": [],
      "include_colab_link": true
    },
    "kernelspec": {
      "name": "python3",
      "display_name": "Python 3"
    },
    "language_info": {
      "name": "python"
    }
  },
  "cells": [
    {
      "cell_type": "markdown",
      "metadata": {
        "id": "view-in-github",
        "colab_type": "text"
      },
      "source": [
        "<a href=\"https://colab.research.google.com/github/unitxero/Data_Analysis_MC/blob/main/Day_6_Sport_Dataset_EDA_Group_Work.ipynb\" target=\"_parent\"><img src=\"https://colab.research.google.com/assets/colab-badge.svg\" alt=\"Open In Colab\"/></a>"
      ]
    },
    {
      "cell_type": "markdown",
      "source": [
        "# In class Assignment\n",
        "\n",
        "## Find a sports dataset\n",
        "## after conducting initial EDA which include and not limited to:\n",
        "##    1. Change at least two column names and complete at least one broadcast operation\n",
        "##       (make sure to make a copy of the new version of te dataset once in a while)\n",
        "## answer questions:\n",
        "##     1. Who are the highest paid players in the sport\n",
        "##     2. Who is the most efficent player in that sport\n",
        "          ## most points scored possibly, or highest salary\n",
        "##     3. Which is the better team in that sport\n",
        "##     4. Come up with 5 more questions and answers"
      ],
      "metadata": {
        "id": "1Ntk9xEvN5KS"
      }
    },
    {
      "cell_type": "markdown",
      "source": [
        ""
      ],
      "metadata": {
        "id": "xQ4DOoouOCvV"
      }
    },
    {
      "cell_type": "code",
      "source": [
        "import numpy as np\n",
        "import pandas as pd"
      ],
      "metadata": {
        "id": "MOXeaoYRPS5j"
      },
      "execution_count": null,
      "outputs": []
    },
    {
      "cell_type": "code",
      "source": [
        "mlb = pd.read_csv('https://raw.githubusercontent.com/UwzH43ZRx-5S/mlData/main/mlb.csv')"
      ],
      "metadata": {
        "id": "qInmnvV2OjNx"
      },
      "execution_count": null,
      "outputs": []
    },
    {
      "cell_type": "code",
      "source": [
        "df_mlb = mlb"
      ],
      "metadata": {
        "id": "2Fk0C-3YPYGp"
      },
      "execution_count": null,
      "outputs": []
    },
    {
      "cell_type": "code",
      "source": [
        "# preview of the data set\n",
        "# showing the first 5 and last 5 rows\n",
        "# there are 4 columns \n",
        "df_mlb"
      ],
      "metadata": {
        "id": "fFFinLjuPqt8"
      },
      "execution_count": null,
      "outputs": []
    },
    {
      "cell_type": "code",
      "source": [
        "# we return a result of 828 rows, in a step of 1\n",
        "df_mlb.index"
      ],
      "metadata": {
        "colab": {
          "base_uri": "https://localhost:8080/"
        },
        "id": "OLYiqanWPoA2",
        "outputId": "f98d68ff-5fd9-41d7-f234-4807b0ddae2d"
      },
      "execution_count": null,
      "outputs": [
        {
          "output_type": "execute_result",
          "data": {
            "text/plain": [
              "RangeIndex(start=0, stop=828, step=1)"
            ]
          },
          "metadata": {},
          "execution_count": 7
        }
      ]
    },
    {
      "cell_type": "code",
      "source": [
        "# we return 828 rows and 4 columns\n",
        "df_mlb.shape"
      ],
      "metadata": {
        "colab": {
          "base_uri": "https://localhost:8080/"
        },
        "id": "klup80AlP6sD",
        "outputId": "2ec76756-e2b1-4d1f-de47-415d7a7f666f"
      },
      "execution_count": null,
      "outputs": [
        {
          "output_type": "execute_result",
          "data": {
            "text/plain": [
              "(828, 4)"
            ]
          },
          "metadata": {},
          "execution_count": 8
        }
      ]
    },
    {
      "cell_type": "code",
      "source": [
        "df_mlb.rename(columns={'player': 'Player'}, inplace=True)\n",
        "df_mlb.rename(columns={'team': 'Team'}, inplace=True)\n",
        "df_mlb['Actual Salary'] = df_mlb['salary'].mul(1000)"
      ],
      "metadata": {
        "id": "-bLFJSajRZ4F"
      },
      "execution_count": null,
      "outputs": []
    },
    {
      "cell_type": "code",
      "source": [
        "print(df_mlb[['Player', 'salary']][df_mlb.salary == df_mlb['salary'].max()])\n",
        "#Highest paid player in the MLB at the time was Alex Rodriguez."
      ],
      "metadata": {
        "colab": {
          "base_uri": "https://localhost:8080/"
        },
        "id": "cFMmn79uTXAB",
        "outputId": "0eccdb15-a396-4d3c-95d2-97929d3d6a46"
      },
      "execution_count": null,
      "outputs": [
        {
          "output_type": "stream",
          "name": "stdout",
          "text": [
            "             Player   salary\n",
            "494  Alex Rodriguez  33000.0\n"
          ]
        }
      ]
    },
    {
      "cell_type": "code",
      "source": [
        "shortstops = df_mlb.loc[df_mlb['position'] == 'Shortstop']\n",
        "print(shortstops[['Player', 'salary']][shortstops.salary == shortstops['salary'].max()])\n",
        "#The highest paid shortstop was Derek Jeter."
      ],
      "metadata": {
        "colab": {
          "base_uri": "https://localhost:8080/"
        },
        "id": "9h5JQ8poZgTS",
        "outputId": "a7750b90-8135-4ad1-f992-4da94a7ebf45"
      },
      "execution_count": null,
      "outputs": [
        {
          "output_type": "stream",
          "name": "stdout",
          "text": [
            "          Player   salary\n",
            "496  Derek Jeter  22600.0\n"
          ]
        }
      ]
    },
    {
      "cell_type": "code",
      "source": [
        "thirdbaseman = df_mlb.loc[df_mlb['position'] == 'Third Baseman']\n",
        "print(thirdbaseman[['Player', 'salary']][thirdbaseman.salary == thirdbaseman['salary'].max()])\n",
        "#The highest paid third baseman was Alex Rodriguez."
      ],
      "metadata": {
        "colab": {
          "base_uri": "https://localhost:8080/"
        },
        "id": "-g-p6sfIbQJu",
        "outputId": "b010bd0e-15b2-44c7-9fbf-324872e09ea6"
      },
      "execution_count": null,
      "outputs": [
        {
          "output_type": "stream",
          "name": "stdout",
          "text": [
            "             Player   salary\n",
            "494  Alex Rodriguez  33000.0\n"
          ]
        }
      ]
    },
    {
      "cell_type": "code",
      "source": [
        "catcher = df_mlb.loc[df_mlb['position'] == 'Catcher']\n",
        "print(catcher[['Player', 'salary']][catcher.salary == catcher['salary'].max()])\n",
        "#The highest paid catcher was Jorge Posada."
      ],
      "metadata": {
        "colab": {
          "base_uri": "https://localhost:8080/"
        },
        "id": "7OEIe2n7baMz",
        "outputId": "d69388fe-3574-4d46-ec84-c368c3b23308"
      },
      "execution_count": null,
      "outputs": [
        {
          "output_type": "stream",
          "name": "stdout",
          "text": [
            "           Player   salary\n",
            "500  Jorge Posada  13100.0\n"
          ]
        }
      ]
    },
    {
      "cell_type": "code",
      "source": [
        "pitcher = df_mlb.loc[df_mlb['position'] == 'Pitcher']\n",
        "print(pitcher[['Player', 'salary']][pitcher.salary == pitcher['salary'].max()])\n",
        "#The highest paid pitcher was CC Sabathia."
      ],
      "metadata": {
        "id": "9r4u96RObh4V"
      },
      "execution_count": null,
      "outputs": []
    },
    {
      "cell_type": "code",
      "source": [
        "outfielder = df_mlb.loc[df_mlb['position'] == 'Outfielder']\n",
        "print(outfielder[['Player', 'salary']][outfielder.salary == outfielder['salary'].max()])\n",
        "#The highest paid outfielder was Carlos Beltran."
      ],
      "metadata": {
        "colab": {
          "base_uri": "https://localhost:8080/"
        },
        "id": "zWEahH22fRF8",
        "outputId": "48fb0d71-092a-4d6a-9aa1-0a1f7ddba054"
      },
      "execution_count": null,
      "outputs": [
        {
          "output_type": "stream",
          "name": "stdout",
          "text": [
            "             Player     salary\n",
            "467  Carlos Beltran  19401.569\n"
          ]
        }
      ]
    },
    {
      "cell_type": "code",
      "source": [
        "teamy = df_mlb.loc[df_mlb['Team'] == 'Arizona Diamondbacks']\n",
        "print(teamy[['Player', 'salary']][teamy.salary == teamy['salary'].max()])\n",
        "#The highest paid player on the Arizona Diamondbacks was Brandon Webb."
      ],
      "metadata": {
        "colab": {
          "base_uri": "https://localhost:8080/"
        },
        "id": "QHIS8sHHffmI",
        "outputId": "d75aeac7-8f2b-4f05-b49b-d3b99f5c99ec"
      },
      "execution_count": null,
      "outputs": [
        {
          "output_type": "stream",
          "name": "stdout",
          "text": [
            "         Player  salary\n",
            "0  Brandon Webb  8500.0\n"
          ]
        }
      ]
    },
    {
      "cell_type": "code",
      "source": [
        "d = teamsum.groupby(by= ['Team'])\n",
        "g = d.agg({'salary':\"max\"})\n",
        "g.reset_index(inplace=True)\n",
        "g"
      ],
      "metadata": {
        "colab": {
          "base_uri": "https://localhost:8080/",
          "height": 990
        },
        "id": "zDQu0XHhgEl0",
        "outputId": "91e6e239-dc41-456b-da90-ffd6682c247b"
      },
      "execution_count": null,
      "outputs": [
        {
          "output_type": "execute_result",
          "data": {
            "text/html": [
              "\n",
              "  <div id=\"df-fcb3965d-f95b-431d-9c02-89c35e98cd85\">\n",
              "    <div class=\"colab-df-container\">\n",
              "      <div>\n",
              "<style scoped>\n",
              "    .dataframe tbody tr th:only-of-type {\n",
              "        vertical-align: middle;\n",
              "    }\n",
              "\n",
              "    .dataframe tbody tr th {\n",
              "        vertical-align: top;\n",
              "    }\n",
              "\n",
              "    .dataframe thead th {\n",
              "        text-align: right;\n",
              "    }\n",
              "</style>\n",
              "<table border=\"1\" class=\"dataframe\">\n",
              "  <thead>\n",
              "    <tr style=\"text-align: right;\">\n",
              "      <th></th>\n",
              "      <th>Team</th>\n",
              "      <th>salary</th>\n",
              "    </tr>\n",
              "  </thead>\n",
              "  <tbody>\n",
              "    <tr>\n",
              "      <th>0</th>\n",
              "      <td>Arizona Diamondbacks</td>\n",
              "      <td>8500.000</td>\n",
              "    </tr>\n",
              "    <tr>\n",
              "      <th>1</th>\n",
              "      <td>Atlanta Braves</td>\n",
              "      <td>15000.000</td>\n",
              "    </tr>\n",
              "    <tr>\n",
              "      <th>2</th>\n",
              "      <td>Baltimore Orioles</td>\n",
              "      <td>12000.000</td>\n",
              "    </tr>\n",
              "    <tr>\n",
              "      <th>3</th>\n",
              "      <td>Boston Red Sox</td>\n",
              "      <td>18700.000</td>\n",
              "    </tr>\n",
              "    <tr>\n",
              "      <th>4</th>\n",
              "      <td>Chicago Cubs</td>\n",
              "      <td>19000.000</td>\n",
              "    </tr>\n",
              "    <tr>\n",
              "      <th>5</th>\n",
              "      <td>Chicago White Sox</td>\n",
              "      <td>15000.000</td>\n",
              "    </tr>\n",
              "    <tr>\n",
              "      <th>6</th>\n",
              "      <td>Cincinnati Reds</td>\n",
              "      <td>12500.000</td>\n",
              "    </tr>\n",
              "    <tr>\n",
              "      <th>7</th>\n",
              "      <td>Cleveland Indians</td>\n",
              "      <td>11500.000</td>\n",
              "    </tr>\n",
              "    <tr>\n",
              "      <th>8</th>\n",
              "      <td>Colorado Rockies</td>\n",
              "      <td>17775.000</td>\n",
              "    </tr>\n",
              "    <tr>\n",
              "      <th>9</th>\n",
              "      <td>Detroit Tigers</td>\n",
              "      <td>20000.000</td>\n",
              "    </tr>\n",
              "    <tr>\n",
              "      <th>10</th>\n",
              "      <td>Florida Marlins</td>\n",
              "      <td>10000.000</td>\n",
              "    </tr>\n",
              "    <tr>\n",
              "      <th>11</th>\n",
              "      <td>Houston Astros</td>\n",
              "      <td>19000.000</td>\n",
              "    </tr>\n",
              "    <tr>\n",
              "      <th>12</th>\n",
              "      <td>Kansas City Royals</td>\n",
              "      <td>12400.000</td>\n",
              "    </tr>\n",
              "    <tr>\n",
              "      <th>13</th>\n",
              "      <td>Los Angeles Angeles</td>\n",
              "      <td>18500.000</td>\n",
              "    </tr>\n",
              "    <tr>\n",
              "      <th>14</th>\n",
              "      <td>Los Angeles Dodgers</td>\n",
              "      <td>18695.006</td>\n",
              "    </tr>\n",
              "    <tr>\n",
              "      <th>15</th>\n",
              "      <td>Milwaukee Brewers</td>\n",
              "      <td>12750.000</td>\n",
              "    </tr>\n",
              "    <tr>\n",
              "      <th>16</th>\n",
              "      <td>Minnesota Twins</td>\n",
              "      <td>15000.000</td>\n",
              "    </tr>\n",
              "    <tr>\n",
              "      <th>17</th>\n",
              "      <td>New York Mets</td>\n",
              "      <td>20144.707</td>\n",
              "    </tr>\n",
              "    <tr>\n",
              "      <th>18</th>\n",
              "      <td>New York Yankees</td>\n",
              "      <td>33000.000</td>\n",
              "    </tr>\n",
              "    <tr>\n",
              "      <th>19</th>\n",
              "      <td>Oakland Athletics</td>\n",
              "      <td>12500.000</td>\n",
              "    </tr>\n",
              "    <tr>\n",
              "      <th>20</th>\n",
              "      <td>Philadelphia Phillies</td>\n",
              "      <td>19000.000</td>\n",
              "    </tr>\n",
              "    <tr>\n",
              "      <th>21</th>\n",
              "      <td>Pittsburgh Pirates</td>\n",
              "      <td>5000.000</td>\n",
              "    </tr>\n",
              "    <tr>\n",
              "      <th>22</th>\n",
              "      <td>San Diego Padres</td>\n",
              "      <td>6375.000</td>\n",
              "    </tr>\n",
              "    <tr>\n",
              "      <th>23</th>\n",
              "      <td>San Francisco Giants</td>\n",
              "      <td>18500.000</td>\n",
              "    </tr>\n",
              "    <tr>\n",
              "      <th>24</th>\n",
              "      <td>Seattle Mariners</td>\n",
              "      <td>18000.000</td>\n",
              "    </tr>\n",
              "    <tr>\n",
              "      <th>25</th>\n",
              "      <td>St. Louis Cardinals</td>\n",
              "      <td>16333.327</td>\n",
              "    </tr>\n",
              "    <tr>\n",
              "      <th>26</th>\n",
              "      <td>Tampa Bay Rays</td>\n",
              "      <td>10125.000</td>\n",
              "    </tr>\n",
              "    <tr>\n",
              "      <th>27</th>\n",
              "      <td>Texas Rangers</td>\n",
              "      <td>13174.974</td>\n",
              "    </tr>\n",
              "    <tr>\n",
              "      <th>28</th>\n",
              "      <td>Toronto Blue Jays</td>\n",
              "      <td>15687.500</td>\n",
              "    </tr>\n",
              "    <tr>\n",
              "      <th>29</th>\n",
              "      <td>Washington Nationals</td>\n",
              "      <td>12000.000</td>\n",
              "    </tr>\n",
              "  </tbody>\n",
              "</table>\n",
              "</div>\n",
              "      <button class=\"colab-df-convert\" onclick=\"convertToInteractive('df-fcb3965d-f95b-431d-9c02-89c35e98cd85')\"\n",
              "              title=\"Convert this dataframe to an interactive table.\"\n",
              "              style=\"display:none;\">\n",
              "        \n",
              "  <svg xmlns=\"http://www.w3.org/2000/svg\" height=\"24px\"viewBox=\"0 0 24 24\"\n",
              "       width=\"24px\">\n",
              "    <path d=\"M0 0h24v24H0V0z\" fill=\"none\"/>\n",
              "    <path d=\"M18.56 5.44l.94 2.06.94-2.06 2.06-.94-2.06-.94-.94-2.06-.94 2.06-2.06.94zm-11 1L8.5 8.5l.94-2.06 2.06-.94-2.06-.94L8.5 2.5l-.94 2.06-2.06.94zm10 10l.94 2.06.94-2.06 2.06-.94-2.06-.94-.94-2.06-.94 2.06-2.06.94z\"/><path d=\"M17.41 7.96l-1.37-1.37c-.4-.4-.92-.59-1.43-.59-.52 0-1.04.2-1.43.59L10.3 9.45l-7.72 7.72c-.78.78-.78 2.05 0 2.83L4 21.41c.39.39.9.59 1.41.59.51 0 1.02-.2 1.41-.59l7.78-7.78 2.81-2.81c.8-.78.8-2.07 0-2.86zM5.41 20L4 18.59l7.72-7.72 1.47 1.35L5.41 20z\"/>\n",
              "  </svg>\n",
              "      </button>\n",
              "      \n",
              "  <style>\n",
              "    .colab-df-container {\n",
              "      display:flex;\n",
              "      flex-wrap:wrap;\n",
              "      gap: 12px;\n",
              "    }\n",
              "\n",
              "    .colab-df-convert {\n",
              "      background-color: #E8F0FE;\n",
              "      border: none;\n",
              "      border-radius: 50%;\n",
              "      cursor: pointer;\n",
              "      display: none;\n",
              "      fill: #1967D2;\n",
              "      height: 32px;\n",
              "      padding: 0 0 0 0;\n",
              "      width: 32px;\n",
              "    }\n",
              "\n",
              "    .colab-df-convert:hover {\n",
              "      background-color: #E2EBFA;\n",
              "      box-shadow: 0px 1px 2px rgba(60, 64, 67, 0.3), 0px 1px 3px 1px rgba(60, 64, 67, 0.15);\n",
              "      fill: #174EA6;\n",
              "    }\n",
              "\n",
              "    [theme=dark] .colab-df-convert {\n",
              "      background-color: #3B4455;\n",
              "      fill: #D2E3FC;\n",
              "    }\n",
              "\n",
              "    [theme=dark] .colab-df-convert:hover {\n",
              "      background-color: #434B5C;\n",
              "      box-shadow: 0px 1px 3px 1px rgba(0, 0, 0, 0.15);\n",
              "      filter: drop-shadow(0px 1px 2px rgba(0, 0, 0, 0.3));\n",
              "      fill: #FFFFFF;\n",
              "    }\n",
              "  </style>\n",
              "\n",
              "      <script>\n",
              "        const buttonEl =\n",
              "          document.querySelector('#df-fcb3965d-f95b-431d-9c02-89c35e98cd85 button.colab-df-convert');\n",
              "        buttonEl.style.display =\n",
              "          google.colab.kernel.accessAllowed ? 'block' : 'none';\n",
              "\n",
              "        async function convertToInteractive(key) {\n",
              "          const element = document.querySelector('#df-fcb3965d-f95b-431d-9c02-89c35e98cd85');\n",
              "          const dataTable =\n",
              "            await google.colab.kernel.invokeFunction('convertToInteractive',\n",
              "                                                     [key], {});\n",
              "          if (!dataTable) return;\n",
              "\n",
              "          const docLinkHtml = 'Like what you see? Visit the ' +\n",
              "            '<a target=\"_blank\" href=https://colab.research.google.com/notebooks/data_table.ipynb>data table notebook</a>'\n",
              "            + ' to learn more about interactive tables.';\n",
              "          element.innerHTML = '';\n",
              "          dataTable['output_type'] = 'display_data';\n",
              "          await google.colab.output.renderOutput(dataTable, element);\n",
              "          const docLink = document.createElement('div');\n",
              "          docLink.innerHTML = docLinkHtml;\n",
              "          element.appendChild(docLink);\n",
              "        }\n",
              "      </script>\n",
              "    </div>\n",
              "  </div>\n",
              "  "
            ],
            "text/plain": [
              "                     Team     salary\n",
              "0    Arizona Diamondbacks   8500.000\n",
              "1          Atlanta Braves  15000.000\n",
              "2       Baltimore Orioles  12000.000\n",
              "3          Boston Red Sox  18700.000\n",
              "4            Chicago Cubs  19000.000\n",
              "5       Chicago White Sox  15000.000\n",
              "6         Cincinnati Reds  12500.000\n",
              "7       Cleveland Indians  11500.000\n",
              "8        Colorado Rockies  17775.000\n",
              "9          Detroit Tigers  20000.000\n",
              "10        Florida Marlins  10000.000\n",
              "11         Houston Astros  19000.000\n",
              "12     Kansas City Royals  12400.000\n",
              "13    Los Angeles Angeles  18500.000\n",
              "14    Los Angeles Dodgers  18695.006\n",
              "15      Milwaukee Brewers  12750.000\n",
              "16        Minnesota Twins  15000.000\n",
              "17          New York Mets  20144.707\n",
              "18       New York Yankees  33000.000\n",
              "19      Oakland Athletics  12500.000\n",
              "20  Philadelphia Phillies  19000.000\n",
              "21     Pittsburgh Pirates   5000.000\n",
              "22       San Diego Padres   6375.000\n",
              "23   San Francisco Giants  18500.000\n",
              "24       Seattle Mariners  18000.000\n",
              "25    St. Louis Cardinals  16333.327\n",
              "26         Tampa Bay Rays  10125.000\n",
              "27          Texas Rangers  13174.974\n",
              "28      Toronto Blue Jays  15687.500\n",
              "29   Washington Nationals  12000.000"
            ]
          },
          "metadata": {},
          "execution_count": 154
        }
      ]
    },
    {
      "cell_type": "code",
      "source": [
        "print(g[['Team', 'salary']][g.salary == g['salary'].max()])\n",
        "#The team with the highest earning player was the New York Yankees."
      ],
      "metadata": {
        "colab": {
          "base_uri": "https://localhost:8080/"
        },
        "id": "GrURLDCnhTw_",
        "outputId": "70572ad1-0cf0-4cbc-ff76-ac50aff51c3d"
      },
      "execution_count": null,
      "outputs": [
        {
          "output_type": "stream",
          "name": "stdout",
          "text": [
            "                Team   salary\n",
            "18  New York Yankees  33000.0\n"
          ]
        }
      ]
    }
  ]
}