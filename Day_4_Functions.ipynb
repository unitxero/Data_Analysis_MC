{
  "nbformat": 4,
  "nbformat_minor": 0,
  "metadata": {
    "colab": {
      "name": "Day 4 Functions.ipynb",
      "provenance": [],
      "authorship_tag": "ABX9TyNpcRRE4wm5KB15wVi34+Fk",
      "include_colab_link": true
    },
    "kernelspec": {
      "name": "python3",
      "display_name": "Python 3"
    },
    "language_info": {
      "name": "python"
    }
  },
  "cells": [
    {
      "cell_type": "markdown",
      "metadata": {
        "id": "view-in-github",
        "colab_type": "text"
      },
      "source": [
        "<a href=\"https://colab.research.google.com/github/unitxero/Data_Analysis_MC/blob/main/Day_4_Functions.ipynb\" target=\"_parent\"><img src=\"https://colab.research.google.com/assets/colab-badge.svg\" alt=\"Open In Colab\"/></a>"
      ]
    },
    {
      "cell_type": "markdown",
      "source": [
        "# Functions"
      ],
      "metadata": {
        "id": "N8FLpWUWxp4X"
      }
    },
    {
      "cell_type": "markdown",
      "source": [
        "So what is a function?\n",
        "\n",
        "Formally, a function is a useful device that groups together a set of statements so they can be run more than once. They can also let us specify parameters that can serve as inputs to the functions.\n",
        "\n",
        "On a more fundamental level, functions allow us to not have to repeatedly write the same code again and again. If you remember back to the lessons on strings and lists, remember that we used a function len() to get the length of a string. Since checking the length of a sequence is a common task you would want to write a function that can do this repeatedly at command.\n",
        "\n",
        "Functions will be one of most basic levels of reusing code in Python, and it will also allow us to start thinking of program design (we will dive much deeper into the ideas of design when we learn about Object Oriented Programming)."
      ],
      "metadata": {
        "id": "EYAVmopP0Bxq"
      }
    },
    {
      "cell_type": "markdown",
      "source": [
        "# def Statements"
      ],
      "metadata": {
        "id": "_LjTKGCP0Vbf"
      }
    },
    {
      "cell_type": "markdown",
      "source": [
        "Let's see how to build out a function syntax in Python. It has the following form:"
      ],
      "metadata": {
        "id": "BbaQBA6d0Y-K"
      }
    },
    {
      "cell_type": "code",
      "source": [
        "def name_of_function(arg1, arg2):\n",
        "  ''' \n",
        "  This is where the functions Document String(doc-string) goes\n",
        "  '''\n",
        "\n",
        "  # Do stuff here\n",
        "  # return desired result"
      ],
      "metadata": {
        "id": "ileD_bGS0c4h"
      },
      "execution_count": null,
      "outputs": []
    },
    {
      "cell_type": "code",
      "source": [
        ""
      ],
      "metadata": {
        "id": "-dlEvEXP0lvZ"
      },
      "execution_count": null,
      "outputs": []
    },
    {
      "cell_type": "markdown",
      "source": [
        "Writing variables python methods (best practices):\n",
        "\n",
        "camelCase - lowercase then uppercase for words\n",
        "\n",
        "PascalCase - uppercase for each word\n",
        "\n",
        "_variable - underscore start for word\n",
        "\n",
        "name_of_function - using underscores as a seperator\n",
        "\n",
        "\n",
        "cars = ['oranges', 'bananas'] - this is allowed but not very readable. why would oranges and bananas be under a variable named cars?\n",
        "\n",
        "temp_conv() - naming a method what it does, and not being ambigious "
      ],
      "metadata": {
        "id": "5iq4Ie0z1nkf"
      }
    },
    {
      "cell_type": "code",
      "source": [
        "def greeting():\n",
        "  '''\n",
        "  This function displays a greeting\n",
        "  '''\n",
        "  print('Hello World')\n"
      ],
      "metadata": {
        "id": "l02NmVLF29oi"
      },
      "execution_count": 1,
      "outputs": []
    },
    {
      "cell_type": "code",
      "source": [
        "greeting()"
      ],
      "metadata": {
        "colab": {
          "base_uri": "https://localhost:8080/"
        },
        "id": "BfHoRKCh3UGh",
        "outputId": "3c260844-536e-4cbe-db98-695f34d74180"
      },
      "execution_count": 2,
      "outputs": [
        {
          "output_type": "stream",
          "name": "stdout",
          "text": [
            "Hello World\n"
          ]
        }
      ]
    },
    {
      "cell_type": "code",
      "source": [
        "# A method of how to create a function\n",
        "\n",
        "def function_example():\n",
        "  '''\n",
        "  Author : who made this function\n",
        "  Input: What arguments the function takes\n",
        "  Output: What output this function returns\n",
        "  '''\n"
      ],
      "metadata": {
        "id": "q32AEoSm3yGJ"
      },
      "execution_count": null,
      "outputs": []
    },
    {
      "cell_type": "code",
      "source": [
        "def my_greeting():\n",
        "  '''\n",
        "  Author: Kevin Camacho\n",
        "  Input: This function takes no arguments\n",
        "  Output: Returns a printed message greeting the reader\n",
        "          and informing them the date and weather condition \n",
        "  '''\n",
        "  print('Hello World, when this function was created it was Thursday')\n",
        "  print('the 6th of January and it was')\n",
        "  print('64 degrees fahrenheit and sunny outside.')"
      ],
      "metadata": {
        "id": "rWWIYIMO4YPI"
      },
      "execution_count": 6,
      "outputs": []
    },
    {
      "cell_type": "code",
      "source": [
        "my_greeting()"
      ],
      "metadata": {
        "colab": {
          "base_uri": "https://localhost:8080/"
        },
        "id": "yo2EDhcK5XYr",
        "outputId": "c65559ac-552b-499e-f8a3-438698e5b3cb"
      },
      "execution_count": 7,
      "outputs": [
        {
          "output_type": "stream",
          "name": "stdout",
          "text": [
            "Hello World, when this function was created it was Thursday\n",
            "the 6th of January and it was\n",
            "64 degrees fahrenheit and sunny outside.\n"
          ]
        }
      ]
    },
    {
      "cell_type": "code",
      "source": [
        "# the arguments don't have to be num1, num2, they can be named what you like\n",
        "def add_num(num1, num2):\n",
        "  ''' \n",
        "  adds num 1, and num 2, and returns the sum\n",
        "  '''\n",
        "  return num1+num2"
      ],
      "metadata": {
        "id": "k9FmRcvl8adO"
      },
      "execution_count": 10,
      "outputs": []
    },
    {
      "cell_type": "code",
      "source": [
        "# we send 3 and 6 as arguments to the function and it returns the result 9\n",
        "add_num(3,6)"
      ],
      "metadata": {
        "colab": {
          "base_uri": "https://localhost:8080/"
        },
        "id": "BckVUwZk823b",
        "outputId": "f164d458-d4b2-4f69-cedb-141de0477455"
      },
      "execution_count": 14,
      "outputs": [
        {
          "output_type": "execute_result",
          "data": {
            "text/plain": [
              "9"
            ]
          },
          "metadata": {},
          "execution_count": 14
        }
      ]
    },
    {
      "cell_type": "code",
      "source": [
        "# we send two strings, and it concats the two strings together\n",
        "add_num('d', 'g')"
      ],
      "metadata": {
        "colab": {
          "base_uri": "https://localhost:8080/",
          "height": 37
        },
        "id": "bVsxr9fp9FPK",
        "outputId": "7f0f9e4e-a1ba-4865-807f-0b96eda61704"
      },
      "execution_count": 15,
      "outputs": [
        {
          "output_type": "execute_result",
          "data": {
            "application/vnd.google.colaboratory.intrinsic+json": {
              "type": "string"
            },
            "text/plain": [
              "'dg'"
            ]
          },
          "metadata": {},
          "execution_count": 15
        }
      ]
    },
    {
      "cell_type": "code",
      "source": [
        "def sub_num(num1, num2):\n",
        "  '''\n",
        "  subtracts two numbers from one another\n",
        "  in this case, num2 is taken away from num1\n",
        "  '''\n",
        "  return num1-num2\n",
        "\n",
        "sub_num(5,1)"
      ],
      "metadata": {
        "colab": {
          "base_uri": "https://localhost:8080/"
        },
        "id": "k5RE4xah9V_a",
        "outputId": "e6ce1e6e-b5db-4354-ec6d-1be21c90cb00"
      },
      "execution_count": 18,
      "outputs": [
        {
          "output_type": "execute_result",
          "data": {
            "text/plain": [
              "4"
            ]
          },
          "metadata": {},
          "execution_count": 18
        }
      ]
    },
    {
      "cell_type": "code",
      "source": [
        "# Simple Calculator\n",
        "\n",
        "def add(x, y): \n",
        "   return x + y\n",
        " \n",
        "def subtract(x, y):\n",
        "   return x - y\n",
        " \n",
        "def multiply(x, y):\n",
        "   return x * y\n",
        " \n",
        "def divide(x, y):\n",
        "   return x / y\n",
        " \n",
        "# Take input from the user\n",
        "\n",
        "print(\"Select operation \")\n",
        "print(\"1: Add\")\n",
        "print(\"2: Subtract\")\n",
        "print(\"3: Multiply\")\n",
        "print(\"4: Divide\")\n",
        " \n",
        "choice = input(\"Enter choice(1/2/3/4):\")\n",
        " \n",
        "num1 = int(input(\"Enter first number: \"))\n",
        "num2 = int(input(\"Enter second number: \"))\n",
        " \n",
        "if choice == '1':\n",
        "   print(num1,\"+\",num2,\"=\", add(num1,num2))\n",
        " \n",
        "elif choice == '2':\n",
        "   print(num1,\"-\",num2,\"=\", subtract(num1,num2))\n",
        " \n",
        "elif choice == '3':\n",
        "   print(num1,\"*\",num2,\"=\", multiply(num1,num2))\n",
        " \n",
        "elif choice == '4':\n",
        "   print(num1,\"/\",num2,\"=\", divide(num1,num2))\n",
        "else:\n",
        "   print(\"Invalid input\")"
      ],
      "metadata": {
        "id": "-rkj9Ecedh9z"
      },
      "execution_count": null,
      "outputs": []
    },
    {
      "cell_type": "code",
      "source": [
        "# Positional arguments\n",
        "\n",
        "def my_greeting(fname, lname, age):\n",
        "  '''\n",
        "  Author: Kevin Camacho\n",
        "  Input: Takes 3 inputs, first name, last name and age\n",
        "  Output: prints a greeting with the all 3 inputs included in the sentence\n",
        "  '''\n",
        "  print(f'Well hello there {fname}, {lname}... You are {age} years old')"
      ],
      "metadata": {
        "id": "NUNmmPJod5b4"
      },
      "execution_count": 23,
      "outputs": []
    },
    {
      "cell_type": "code",
      "source": [
        "my_greeting('General', 'Grievous', 53)"
      ],
      "metadata": {
        "colab": {
          "base_uri": "https://localhost:8080/"
        },
        "id": "mJQoBMcuePkM",
        "outputId": "5ebbff7f-7439-44ee-9b12-084378b2cec1"
      },
      "execution_count": 24,
      "outputs": [
        {
          "output_type": "stream",
          "name": "stdout",
          "text": [
            "Well hello there General, Grievous... You are 53 years old\n"
          ]
        }
      ]
    },
    {
      "cell_type": "code",
      "source": [
        "# We can also have pre-defined arguments\n",
        "\n",
        "def greeting_3(name='Kenobi'):\n",
        "\n",
        "  print(f'Well hello there General {name}')"
      ],
      "metadata": {
        "id": "9nGRqY9nfURd"
      },
      "execution_count": 29,
      "outputs": []
    },
    {
      "cell_type": "code",
      "source": [
        "# even though we do not pass an argument\n",
        "# there is a default argument with a value\n",
        "# so the function works without us passing it through\n",
        "greeting_3()"
      ],
      "metadata": {
        "colab": {
          "base_uri": "https://localhost:8080/"
        },
        "id": "N3Ip4LKkfvug",
        "outputId": "bb1b91dd-659d-459d-c634-11dcfcbbc4c5"
      },
      "execution_count": 30,
      "outputs": [
        {
          "output_type": "stream",
          "name": "stdout",
          "text": [
            "Well hello there General Kenobi\n"
          ]
        }
      ]
    }
  ]
}