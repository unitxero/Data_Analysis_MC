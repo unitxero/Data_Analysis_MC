{
  "nbformat": 4,
  "nbformat_minor": 0,
  "metadata": {
    "colab": {
      "name": "Group work of COVID19_DATA_ANALYSIS.ipynb",
      "provenance": [],
      "collapsed_sections": [],
      "include_colab_link": true
    },
    "kernelspec": {
      "name": "python3",
      "display_name": "Python 3"
    }
  },
  "cells": [
    {
      "cell_type": "markdown",
      "metadata": {
        "id": "view-in-github",
        "colab_type": "text"
      },
      "source": [
        "<a href=\"https://colab.research.google.com/github/unitxero/Data_Analysis_MC/blob/main/Group_work_of_COVID19_DATA_ANALYSIS.ipynb\" target=\"_parent\"><img src=\"https://colab.research.google.com/assets/colab-badge.svg\" alt=\"Open In Colab\"/></a>"
      ]
    },
    {
      "cell_type": "markdown",
      "metadata": {
        "id": "9jvXpX2bbIFF"
      },
      "source": [
        "# COVID 19 Data Analysis"
      ]
    },
    {
      "cell_type": "markdown",
      "metadata": {
        "id": "RSvGZmxBa_Gk"
      },
      "source": [
        "**Description:** This script will read the latest data from the New York Times' county-level COVID-19 database at https://github.com/nytimes/covid-19-data/blob/master/us-counties.csv, filter the data for a chosen county in a chosen state, calculate the daily count of new cases and new deaths, print the most recent 28 days' worth of data for the selected county, and save the county's data for all dates to a comma-separated value (.csv) file on your computer. The printed data can be copied and pasted directly into a spreadsheet for further analysis and visualization.\n",
        "\n",
        "**Note:** For information about the data, see https://github.com/nytimes/covid-19-data.\n",
        "\n",
        "**Note:** After you have run the script one time in a given Anaconda environment, you may reduce the script's execution time by adding a `#` in front of `pip install pandas`. For example, `#pip install pandas` instead of `pip install pandas`. The `#` will tell Python to skip the code without running it."
      ]
    },
    {
      "cell_type": "markdown",
      "metadata": {
        "id": "ji_HknaobZJh"
      },
      "source": [
        "# Task 1 : Environment Set up"
      ]
    },
    {
      "cell_type": "markdown",
      "metadata": {
        "id": "q2y0bY0XbhNZ"
      },
      "source": [
        "Import all required libraries that are needed for data analysis"
      ]
    },
    {
      "cell_type": "code",
      "metadata": {
        "id": "k2f9bX3aiTDP"
      },
      "source": [
        "import pandas as pd\n",
        "import numpy as np\n",
        "import matplotlib.pyplot as plt\n",
        "from matplotlib import style\n",
        "\n",
        "import seaborn as sns\n",
        "import plotly.express as px\n",
        "import plotly.graph_objects as go"
      ],
      "execution_count": null,
      "outputs": []
    },
    {
      "cell_type": "markdown",
      "metadata": {
        "id": "vgt8s61dbueM"
      },
      "source": [
        "# Task 2 :  Data Collection"
      ]
    },
    {
      "cell_type": "markdown",
      "metadata": {
        "id": "CEc5pqrkbxcX"
      },
      "source": [
        "Use nytimes github repository as a data source to collect the covid 19 data in real time and ingest it into colab notebook for data anlysis purpose"
      ]
    },
    {
      "cell_type": "code",
      "metadata": {
        "id": "vgw9nO9Hm_SB"
      },
      "source": [
        "df = pd.read_csv('https://raw.githubusercontent.com/nytimes/covid-19-data/master/us-states.csv')"
      ],
      "execution_count": null,
      "outputs": []
    },
    {
      "cell_type": "code",
      "metadata": {
        "id": "FEG9n2sI0Yxu",
        "colab": {
          "base_uri": "https://localhost:8080/",
          "height": 221
        },
        "outputId": "99acc9df-b2ff-45d7-9fc9-9392bb7f44e6"
      },
      "source": [
        "df.head()"
      ],
      "execution_count": null,
      "outputs": [
        {
          "output_type": "execute_result",
          "data": {
            "text/html": [
              "\n",
              "  <div id=\"df-ff68cee5-35a0-4af7-a893-380762dbf3c1\">\n",
              "    <div class=\"colab-df-container\">\n",
              "      <div>\n",
              "<style scoped>\n",
              "    .dataframe tbody tr th:only-of-type {\n",
              "        vertical-align: middle;\n",
              "    }\n",
              "\n",
              "    .dataframe tbody tr th {\n",
              "        vertical-align: top;\n",
              "    }\n",
              "\n",
              "    .dataframe thead th {\n",
              "        text-align: right;\n",
              "    }\n",
              "</style>\n",
              "<table border=\"1\" class=\"dataframe\">\n",
              "  <thead>\n",
              "    <tr style=\"text-align: right;\">\n",
              "      <th></th>\n",
              "      <th>date</th>\n",
              "      <th>state</th>\n",
              "      <th>fips</th>\n",
              "      <th>cases</th>\n",
              "      <th>deaths</th>\n",
              "    </tr>\n",
              "  </thead>\n",
              "  <tbody>\n",
              "    <tr>\n",
              "      <th>0</th>\n",
              "      <td>2020-01-21</td>\n",
              "      <td>Washington</td>\n",
              "      <td>53</td>\n",
              "      <td>1</td>\n",
              "      <td>0</td>\n",
              "    </tr>\n",
              "    <tr>\n",
              "      <th>1</th>\n",
              "      <td>2020-01-22</td>\n",
              "      <td>Washington</td>\n",
              "      <td>53</td>\n",
              "      <td>1</td>\n",
              "      <td>0</td>\n",
              "    </tr>\n",
              "    <tr>\n",
              "      <th>2</th>\n",
              "      <td>2020-01-23</td>\n",
              "      <td>Washington</td>\n",
              "      <td>53</td>\n",
              "      <td>1</td>\n",
              "      <td>0</td>\n",
              "    </tr>\n",
              "    <tr>\n",
              "      <th>3</th>\n",
              "      <td>2020-01-24</td>\n",
              "      <td>Illinois</td>\n",
              "      <td>17</td>\n",
              "      <td>1</td>\n",
              "      <td>0</td>\n",
              "    </tr>\n",
              "    <tr>\n",
              "      <th>4</th>\n",
              "      <td>2020-01-24</td>\n",
              "      <td>Washington</td>\n",
              "      <td>53</td>\n",
              "      <td>1</td>\n",
              "      <td>0</td>\n",
              "    </tr>\n",
              "  </tbody>\n",
              "</table>\n",
              "</div>\n",
              "      <button class=\"colab-df-convert\" onclick=\"convertToInteractive('df-ff68cee5-35a0-4af7-a893-380762dbf3c1')\"\n",
              "              title=\"Convert this dataframe to an interactive table.\"\n",
              "              style=\"display:none;\">\n",
              "        \n",
              "  <svg xmlns=\"http://www.w3.org/2000/svg\" height=\"24px\"viewBox=\"0 0 24 24\"\n",
              "       width=\"24px\">\n",
              "    <path d=\"M0 0h24v24H0V0z\" fill=\"none\"/>\n",
              "    <path d=\"M18.56 5.44l.94 2.06.94-2.06 2.06-.94-2.06-.94-.94-2.06-.94 2.06-2.06.94zm-11 1L8.5 8.5l.94-2.06 2.06-.94-2.06-.94L8.5 2.5l-.94 2.06-2.06.94zm10 10l.94 2.06.94-2.06 2.06-.94-2.06-.94-.94-2.06-.94 2.06-2.06.94z\"/><path d=\"M17.41 7.96l-1.37-1.37c-.4-.4-.92-.59-1.43-.59-.52 0-1.04.2-1.43.59L10.3 9.45l-7.72 7.72c-.78.78-.78 2.05 0 2.83L4 21.41c.39.39.9.59 1.41.59.51 0 1.02-.2 1.41-.59l7.78-7.78 2.81-2.81c.8-.78.8-2.07 0-2.86zM5.41 20L4 18.59l7.72-7.72 1.47 1.35L5.41 20z\"/>\n",
              "  </svg>\n",
              "      </button>\n",
              "      \n",
              "  <style>\n",
              "    .colab-df-container {\n",
              "      display:flex;\n",
              "      flex-wrap:wrap;\n",
              "      gap: 12px;\n",
              "    }\n",
              "\n",
              "    .colab-df-convert {\n",
              "      background-color: #E8F0FE;\n",
              "      border: none;\n",
              "      border-radius: 50%;\n",
              "      cursor: pointer;\n",
              "      display: none;\n",
              "      fill: #1967D2;\n",
              "      height: 32px;\n",
              "      padding: 0 0 0 0;\n",
              "      width: 32px;\n",
              "    }\n",
              "\n",
              "    .colab-df-convert:hover {\n",
              "      background-color: #E2EBFA;\n",
              "      box-shadow: 0px 1px 2px rgba(60, 64, 67, 0.3), 0px 1px 3px 1px rgba(60, 64, 67, 0.15);\n",
              "      fill: #174EA6;\n",
              "    }\n",
              "\n",
              "    [theme=dark] .colab-df-convert {\n",
              "      background-color: #3B4455;\n",
              "      fill: #D2E3FC;\n",
              "    }\n",
              "\n",
              "    [theme=dark] .colab-df-convert:hover {\n",
              "      background-color: #434B5C;\n",
              "      box-shadow: 0px 1px 3px 1px rgba(0, 0, 0, 0.15);\n",
              "      filter: drop-shadow(0px 1px 2px rgba(0, 0, 0, 0.3));\n",
              "      fill: #FFFFFF;\n",
              "    }\n",
              "  </style>\n",
              "\n",
              "      <script>\n",
              "        const buttonEl =\n",
              "          document.querySelector('#df-ff68cee5-35a0-4af7-a893-380762dbf3c1 button.colab-df-convert');\n",
              "        buttonEl.style.display =\n",
              "          google.colab.kernel.accessAllowed ? 'block' : 'none';\n",
              "\n",
              "        async function convertToInteractive(key) {\n",
              "          const element = document.querySelector('#df-ff68cee5-35a0-4af7-a893-380762dbf3c1');\n",
              "          const dataTable =\n",
              "            await google.colab.kernel.invokeFunction('convertToInteractive',\n",
              "                                                     [key], {});\n",
              "          if (!dataTable) return;\n",
              "\n",
              "          const docLinkHtml = 'Like what you see? Visit the ' +\n",
              "            '<a target=\"_blank\" href=https://colab.research.google.com/notebooks/data_table.ipynb>data table notebook</a>'\n",
              "            + ' to learn more about interactive tables.';\n",
              "          element.innerHTML = '';\n",
              "          dataTable['output_type'] = 'display_data';\n",
              "          await google.colab.output.renderOutput(dataTable, element);\n",
              "          const docLink = document.createElement('div');\n",
              "          docLink.innerHTML = docLinkHtml;\n",
              "          element.appendChild(docLink);\n",
              "        }\n",
              "      </script>\n",
              "    </div>\n",
              "  </div>\n",
              "  "
            ],
            "text/plain": [
              "         date       state  fips  cases  deaths\n",
              "0  2020-01-21  Washington    53      1       0\n",
              "1  2020-01-22  Washington    53      1       0\n",
              "2  2020-01-23  Washington    53      1       0\n",
              "3  2020-01-24    Illinois    17      1       0\n",
              "4  2020-01-24  Washington    53      1       0"
            ]
          },
          "metadata": {},
          "execution_count": 114
        }
      ]
    },
    {
      "cell_type": "code",
      "metadata": {
        "id": "ap0owuu30bLe",
        "colab": {
          "base_uri": "https://localhost:8080/"
        },
        "outputId": "5df7889f-546a-4abc-d13e-bda53108d70a"
      },
      "source": [
        "df.shape"
      ],
      "execution_count": null,
      "outputs": [
        {
          "output_type": "execute_result",
          "data": {
            "text/plain": [
              "(37638, 5)"
            ]
          },
          "metadata": {},
          "execution_count": 115
        }
      ]
    },
    {
      "cell_type": "code",
      "metadata": {
        "id": "zZdaTiUk0fqE",
        "colab": {
          "base_uri": "https://localhost:8080/"
        },
        "outputId": "bcf3cd53-d1de-4444-fbe7-e00f270c0ef2"
      },
      "source": [
        "df.columns"
      ],
      "execution_count": null,
      "outputs": [
        {
          "output_type": "execute_result",
          "data": {
            "text/plain": [
              "Index(['date', 'state', 'fips', 'cases', 'deaths'], dtype='object')"
            ]
          },
          "metadata": {},
          "execution_count": 116
        }
      ]
    },
    {
      "cell_type": "markdown",
      "metadata": {
        "id": "dXToiyPccf4h"
      },
      "source": [
        "# Task 3 : Data Wrangling and EDA (Exploratory Data Analysis)"
      ]
    },
    {
      "cell_type": "markdown",
      "metadata": {
        "id": "XrywUhma1LD6"
      },
      "source": [
        "Analyzing New York state data for Covid 19"
      ]
    },
    {
      "cell_type": "code",
      "metadata": {
        "id": "-IXvRlig1Qjq"
      },
      "source": [
        "# creating the var ny_df\n",
        "# which will contain rows only if they match\n",
        "# the state column having 'New York'\n",
        "ny_df = df[df['state']=='New York']"
      ],
      "execution_count": null,
      "outputs": []
    },
    {
      "cell_type": "code",
      "metadata": {
        "id": "vAPsO4Yq1yAj",
        "colab": {
          "base_uri": "https://localhost:8080/",
          "height": 221
        },
        "outputId": "ab1a2132-8d03-4ed4-93e3-57800a6c397d"
      },
      "source": [
        "# preview of the data \n",
        "# showing us the date\n",
        "# the state of new york being the focus\n",
        "# the fips\n",
        "# cases\n",
        "# deaths\n",
        "ny_df.head()"
      ],
      "execution_count": null,
      "outputs": [
        {
          "output_type": "execute_result",
          "data": {
            "text/html": [
              "\n",
              "  <div id=\"df-4da7ae41-7bf6-43c0-a5a8-7fc6158e74ce\">\n",
              "    <div class=\"colab-df-container\">\n",
              "      <div>\n",
              "<style scoped>\n",
              "    .dataframe tbody tr th:only-of-type {\n",
              "        vertical-align: middle;\n",
              "    }\n",
              "\n",
              "    .dataframe tbody tr th {\n",
              "        vertical-align: top;\n",
              "    }\n",
              "\n",
              "    .dataframe thead th {\n",
              "        text-align: right;\n",
              "    }\n",
              "</style>\n",
              "<table border=\"1\" class=\"dataframe\">\n",
              "  <thead>\n",
              "    <tr style=\"text-align: right;\">\n",
              "      <th></th>\n",
              "      <th>date</th>\n",
              "      <th>state</th>\n",
              "      <th>fips</th>\n",
              "      <th>cases</th>\n",
              "      <th>deaths</th>\n",
              "    </tr>\n",
              "  </thead>\n",
              "  <tbody>\n",
              "    <tr>\n",
              "      <th>246</th>\n",
              "      <td>2020-03-01</td>\n",
              "      <td>New York</td>\n",
              "      <td>36</td>\n",
              "      <td>1</td>\n",
              "      <td>0</td>\n",
              "    </tr>\n",
              "    <tr>\n",
              "      <th>261</th>\n",
              "      <td>2020-03-02</td>\n",
              "      <td>New York</td>\n",
              "      <td>36</td>\n",
              "      <td>1</td>\n",
              "      <td>0</td>\n",
              "    </tr>\n",
              "    <tr>\n",
              "      <th>276</th>\n",
              "      <td>2020-03-03</td>\n",
              "      <td>New York</td>\n",
              "      <td>36</td>\n",
              "      <td>2</td>\n",
              "      <td>0</td>\n",
              "    </tr>\n",
              "    <tr>\n",
              "      <th>293</th>\n",
              "      <td>2020-03-04</td>\n",
              "      <td>New York</td>\n",
              "      <td>36</td>\n",
              "      <td>11</td>\n",
              "      <td>0</td>\n",
              "    </tr>\n",
              "    <tr>\n",
              "      <th>313</th>\n",
              "      <td>2020-03-05</td>\n",
              "      <td>New York</td>\n",
              "      <td>36</td>\n",
              "      <td>22</td>\n",
              "      <td>0</td>\n",
              "    </tr>\n",
              "  </tbody>\n",
              "</table>\n",
              "</div>\n",
              "      <button class=\"colab-df-convert\" onclick=\"convertToInteractive('df-4da7ae41-7bf6-43c0-a5a8-7fc6158e74ce')\"\n",
              "              title=\"Convert this dataframe to an interactive table.\"\n",
              "              style=\"display:none;\">\n",
              "        \n",
              "  <svg xmlns=\"http://www.w3.org/2000/svg\" height=\"24px\"viewBox=\"0 0 24 24\"\n",
              "       width=\"24px\">\n",
              "    <path d=\"M0 0h24v24H0V0z\" fill=\"none\"/>\n",
              "    <path d=\"M18.56 5.44l.94 2.06.94-2.06 2.06-.94-2.06-.94-.94-2.06-.94 2.06-2.06.94zm-11 1L8.5 8.5l.94-2.06 2.06-.94-2.06-.94L8.5 2.5l-.94 2.06-2.06.94zm10 10l.94 2.06.94-2.06 2.06-.94-2.06-.94-.94-2.06-.94 2.06-2.06.94z\"/><path d=\"M17.41 7.96l-1.37-1.37c-.4-.4-.92-.59-1.43-.59-.52 0-1.04.2-1.43.59L10.3 9.45l-7.72 7.72c-.78.78-.78 2.05 0 2.83L4 21.41c.39.39.9.59 1.41.59.51 0 1.02-.2 1.41-.59l7.78-7.78 2.81-2.81c.8-.78.8-2.07 0-2.86zM5.41 20L4 18.59l7.72-7.72 1.47 1.35L5.41 20z\"/>\n",
              "  </svg>\n",
              "      </button>\n",
              "      \n",
              "  <style>\n",
              "    .colab-df-container {\n",
              "      display:flex;\n",
              "      flex-wrap:wrap;\n",
              "      gap: 12px;\n",
              "    }\n",
              "\n",
              "    .colab-df-convert {\n",
              "      background-color: #E8F0FE;\n",
              "      border: none;\n",
              "      border-radius: 50%;\n",
              "      cursor: pointer;\n",
              "      display: none;\n",
              "      fill: #1967D2;\n",
              "      height: 32px;\n",
              "      padding: 0 0 0 0;\n",
              "      width: 32px;\n",
              "    }\n",
              "\n",
              "    .colab-df-convert:hover {\n",
              "      background-color: #E2EBFA;\n",
              "      box-shadow: 0px 1px 2px rgba(60, 64, 67, 0.3), 0px 1px 3px 1px rgba(60, 64, 67, 0.15);\n",
              "      fill: #174EA6;\n",
              "    }\n",
              "\n",
              "    [theme=dark] .colab-df-convert {\n",
              "      background-color: #3B4455;\n",
              "      fill: #D2E3FC;\n",
              "    }\n",
              "\n",
              "    [theme=dark] .colab-df-convert:hover {\n",
              "      background-color: #434B5C;\n",
              "      box-shadow: 0px 1px 3px 1px rgba(0, 0, 0, 0.15);\n",
              "      filter: drop-shadow(0px 1px 2px rgba(0, 0, 0, 0.3));\n",
              "      fill: #FFFFFF;\n",
              "    }\n",
              "  </style>\n",
              "\n",
              "      <script>\n",
              "        const buttonEl =\n",
              "          document.querySelector('#df-4da7ae41-7bf6-43c0-a5a8-7fc6158e74ce button.colab-df-convert');\n",
              "        buttonEl.style.display =\n",
              "          google.colab.kernel.accessAllowed ? 'block' : 'none';\n",
              "\n",
              "        async function convertToInteractive(key) {\n",
              "          const element = document.querySelector('#df-4da7ae41-7bf6-43c0-a5a8-7fc6158e74ce');\n",
              "          const dataTable =\n",
              "            await google.colab.kernel.invokeFunction('convertToInteractive',\n",
              "                                                     [key], {});\n",
              "          if (!dataTable) return;\n",
              "\n",
              "          const docLinkHtml = 'Like what you see? Visit the ' +\n",
              "            '<a target=\"_blank\" href=https://colab.research.google.com/notebooks/data_table.ipynb>data table notebook</a>'\n",
              "            + ' to learn more about interactive tables.';\n",
              "          element.innerHTML = '';\n",
              "          dataTable['output_type'] = 'display_data';\n",
              "          await google.colab.output.renderOutput(dataTable, element);\n",
              "          const docLink = document.createElement('div');\n",
              "          docLink.innerHTML = docLinkHtml;\n",
              "          element.appendChild(docLink);\n",
              "        }\n",
              "      </script>\n",
              "    </div>\n",
              "  </div>\n",
              "  "
            ],
            "text/plain": [
              "           date     state  fips  cases  deaths\n",
              "246  2020-03-01  New York    36      1       0\n",
              "261  2020-03-02  New York    36      1       0\n",
              "276  2020-03-03  New York    36      2       0\n",
              "293  2020-03-04  New York    36     11       0\n",
              "313  2020-03-05  New York    36     22       0"
            ]
          },
          "metadata": {},
          "execution_count": 118
        }
      ]
    },
    {
      "cell_type": "code",
      "metadata": {
        "id": "XNuZqUlI1096",
        "colab": {
          "base_uri": "https://localhost:8080/"
        },
        "outputId": "782e2de3-33d9-4db4-9090-8df08ce52add"
      },
      "source": [
        "# the shape is 683 rows and 5 columns\n",
        "# columns are date, state, fips, cases, deaths\n",
        "ny_df.shape"
      ],
      "execution_count": null,
      "outputs": [
        {
          "output_type": "execute_result",
          "data": {
            "text/plain": [
              "(684, 5)"
            ]
          },
          "metadata": {},
          "execution_count": 119
        }
      ]
    },
    {
      "cell_type": "code",
      "metadata": {
        "id": "z7sGUFdO2CAo",
        "colab": {
          "base_uri": "https://localhost:8080/",
          "height": 221
        },
        "outputId": "460858c4-ebf8-47eb-cb8f-011abb9ac992"
      },
      "source": [
        "# the tail of the data is shown\n",
        "# showing us the date\n",
        "# the state of new york being the focus\n",
        "# the fips\n",
        "# cases\n",
        "# deaths\n",
        "ny_df.tail()"
      ],
      "execution_count": null,
      "outputs": [
        {
          "output_type": "execute_result",
          "data": {
            "text/html": [
              "\n",
              "  <div id=\"df-1e31e68f-9dfa-4501-9908-ffbea3554aa6\">\n",
              "    <div class=\"colab-df-container\">\n",
              "      <div>\n",
              "<style scoped>\n",
              "    .dataframe tbody tr th:only-of-type {\n",
              "        vertical-align: middle;\n",
              "    }\n",
              "\n",
              "    .dataframe tbody tr th {\n",
              "        vertical-align: top;\n",
              "    }\n",
              "\n",
              "    .dataframe thead th {\n",
              "        text-align: right;\n",
              "    }\n",
              "</style>\n",
              "<table border=\"1\" class=\"dataframe\">\n",
              "  <thead>\n",
              "    <tr style=\"text-align: right;\">\n",
              "      <th></th>\n",
              "      <th>date</th>\n",
              "      <th>state</th>\n",
              "      <th>fips</th>\n",
              "      <th>cases</th>\n",
              "      <th>deaths</th>\n",
              "    </tr>\n",
              "  </thead>\n",
              "  <tbody>\n",
              "    <tr>\n",
              "      <th>37392</th>\n",
              "      <td>2022-01-09</td>\n",
              "      <td>New York</td>\n",
              "      <td>36</td>\n",
              "      <td>4136861</td>\n",
              "      <td>60083</td>\n",
              "    </tr>\n",
              "    <tr>\n",
              "      <th>37448</th>\n",
              "      <td>2022-01-10</td>\n",
              "      <td>New York</td>\n",
              "      <td>36</td>\n",
              "      <td>4194745</td>\n",
              "      <td>60162</td>\n",
              "    </tr>\n",
              "    <tr>\n",
              "      <th>37504</th>\n",
              "      <td>2022-01-11</td>\n",
              "      <td>New York</td>\n",
              "      <td>36</td>\n",
              "      <td>4244155</td>\n",
              "      <td>60428</td>\n",
              "    </tr>\n",
              "    <tr>\n",
              "      <th>37560</th>\n",
              "      <td>2022-01-12</td>\n",
              "      <td>New York</td>\n",
              "      <td>36</td>\n",
              "      <td>4299066</td>\n",
              "      <td>60638</td>\n",
              "    </tr>\n",
              "    <tr>\n",
              "      <th>37616</th>\n",
              "      <td>2022-01-13</td>\n",
              "      <td>New York</td>\n",
              "      <td>36</td>\n",
              "      <td>4361115</td>\n",
              "      <td>60876</td>\n",
              "    </tr>\n",
              "  </tbody>\n",
              "</table>\n",
              "</div>\n",
              "      <button class=\"colab-df-convert\" onclick=\"convertToInteractive('df-1e31e68f-9dfa-4501-9908-ffbea3554aa6')\"\n",
              "              title=\"Convert this dataframe to an interactive table.\"\n",
              "              style=\"display:none;\">\n",
              "        \n",
              "  <svg xmlns=\"http://www.w3.org/2000/svg\" height=\"24px\"viewBox=\"0 0 24 24\"\n",
              "       width=\"24px\">\n",
              "    <path d=\"M0 0h24v24H0V0z\" fill=\"none\"/>\n",
              "    <path d=\"M18.56 5.44l.94 2.06.94-2.06 2.06-.94-2.06-.94-.94-2.06-.94 2.06-2.06.94zm-11 1L8.5 8.5l.94-2.06 2.06-.94-2.06-.94L8.5 2.5l-.94 2.06-2.06.94zm10 10l.94 2.06.94-2.06 2.06-.94-2.06-.94-.94-2.06-.94 2.06-2.06.94z\"/><path d=\"M17.41 7.96l-1.37-1.37c-.4-.4-.92-.59-1.43-.59-.52 0-1.04.2-1.43.59L10.3 9.45l-7.72 7.72c-.78.78-.78 2.05 0 2.83L4 21.41c.39.39.9.59 1.41.59.51 0 1.02-.2 1.41-.59l7.78-7.78 2.81-2.81c.8-.78.8-2.07 0-2.86zM5.41 20L4 18.59l7.72-7.72 1.47 1.35L5.41 20z\"/>\n",
              "  </svg>\n",
              "      </button>\n",
              "      \n",
              "  <style>\n",
              "    .colab-df-container {\n",
              "      display:flex;\n",
              "      flex-wrap:wrap;\n",
              "      gap: 12px;\n",
              "    }\n",
              "\n",
              "    .colab-df-convert {\n",
              "      background-color: #E8F0FE;\n",
              "      border: none;\n",
              "      border-radius: 50%;\n",
              "      cursor: pointer;\n",
              "      display: none;\n",
              "      fill: #1967D2;\n",
              "      height: 32px;\n",
              "      padding: 0 0 0 0;\n",
              "      width: 32px;\n",
              "    }\n",
              "\n",
              "    .colab-df-convert:hover {\n",
              "      background-color: #E2EBFA;\n",
              "      box-shadow: 0px 1px 2px rgba(60, 64, 67, 0.3), 0px 1px 3px 1px rgba(60, 64, 67, 0.15);\n",
              "      fill: #174EA6;\n",
              "    }\n",
              "\n",
              "    [theme=dark] .colab-df-convert {\n",
              "      background-color: #3B4455;\n",
              "      fill: #D2E3FC;\n",
              "    }\n",
              "\n",
              "    [theme=dark] .colab-df-convert:hover {\n",
              "      background-color: #434B5C;\n",
              "      box-shadow: 0px 1px 3px 1px rgba(0, 0, 0, 0.15);\n",
              "      filter: drop-shadow(0px 1px 2px rgba(0, 0, 0, 0.3));\n",
              "      fill: #FFFFFF;\n",
              "    }\n",
              "  </style>\n",
              "\n",
              "      <script>\n",
              "        const buttonEl =\n",
              "          document.querySelector('#df-1e31e68f-9dfa-4501-9908-ffbea3554aa6 button.colab-df-convert');\n",
              "        buttonEl.style.display =\n",
              "          google.colab.kernel.accessAllowed ? 'block' : 'none';\n",
              "\n",
              "        async function convertToInteractive(key) {\n",
              "          const element = document.querySelector('#df-1e31e68f-9dfa-4501-9908-ffbea3554aa6');\n",
              "          const dataTable =\n",
              "            await google.colab.kernel.invokeFunction('convertToInteractive',\n",
              "                                                     [key], {});\n",
              "          if (!dataTable) return;\n",
              "\n",
              "          const docLinkHtml = 'Like what you see? Visit the ' +\n",
              "            '<a target=\"_blank\" href=https://colab.research.google.com/notebooks/data_table.ipynb>data table notebook</a>'\n",
              "            + ' to learn more about interactive tables.';\n",
              "          element.innerHTML = '';\n",
              "          dataTable['output_type'] = 'display_data';\n",
              "          await google.colab.output.renderOutput(dataTable, element);\n",
              "          const docLink = document.createElement('div');\n",
              "          docLink.innerHTML = docLinkHtml;\n",
              "          element.appendChild(docLink);\n",
              "        }\n",
              "      </script>\n",
              "    </div>\n",
              "  </div>\n",
              "  "
            ],
            "text/plain": [
              "             date     state  fips    cases  deaths\n",
              "37392  2022-01-09  New York    36  4136861   60083\n",
              "37448  2022-01-10  New York    36  4194745   60162\n",
              "37504  2022-01-11  New York    36  4244155   60428\n",
              "37560  2022-01-12  New York    36  4299066   60638\n",
              "37616  2022-01-13  New York    36  4361115   60876"
            ]
          },
          "metadata": {},
          "execution_count": 120
        }
      ]
    },
    {
      "cell_type": "code",
      "metadata": {
        "id": "FQxfk_yn2KIW",
        "colab": {
          "base_uri": "https://localhost:8080/",
          "height": 221
        },
        "outputId": "f897b8e3-898a-4ee7-e080-3f9291217a2f"
      },
      "source": [
        "#first death in NY\n",
        "# first_ny_death dataframe shows us where deaths are not equal to 0\n",
        "# so every row here will contain of at least 1 death\n",
        "first_ny_death = ny_df[ny_df['deaths']!=0]\n",
        "first_ny_death.head()"
      ],
      "execution_count": null,
      "outputs": [
        {
          "output_type": "execute_result",
          "data": {
            "text/html": [
              "\n",
              "  <div id=\"df-c347da7e-2c2f-4506-8ba1-56503fd1a6d9\">\n",
              "    <div class=\"colab-df-container\">\n",
              "      <div>\n",
              "<style scoped>\n",
              "    .dataframe tbody tr th:only-of-type {\n",
              "        vertical-align: middle;\n",
              "    }\n",
              "\n",
              "    .dataframe tbody tr th {\n",
              "        vertical-align: top;\n",
              "    }\n",
              "\n",
              "    .dataframe thead th {\n",
              "        text-align: right;\n",
              "    }\n",
              "</style>\n",
              "<table border=\"1\" class=\"dataframe\">\n",
              "  <thead>\n",
              "    <tr style=\"text-align: right;\">\n",
              "      <th></th>\n",
              "      <th>date</th>\n",
              "      <th>state</th>\n",
              "      <th>fips</th>\n",
              "      <th>cases</th>\n",
              "      <th>deaths</th>\n",
              "    </tr>\n",
              "  </thead>\n",
              "  <tbody>\n",
              "    <tr>\n",
              "      <th>669</th>\n",
              "      <td>2020-03-14</td>\n",
              "      <td>New York</td>\n",
              "      <td>36</td>\n",
              "      <td>610</td>\n",
              "      <td>2</td>\n",
              "    </tr>\n",
              "    <tr>\n",
              "      <th>722</th>\n",
              "      <td>2020-03-15</td>\n",
              "      <td>New York</td>\n",
              "      <td>36</td>\n",
              "      <td>732</td>\n",
              "      <td>6</td>\n",
              "    </tr>\n",
              "    <tr>\n",
              "      <th>775</th>\n",
              "      <td>2020-03-16</td>\n",
              "      <td>New York</td>\n",
              "      <td>36</td>\n",
              "      <td>950</td>\n",
              "      <td>10</td>\n",
              "    </tr>\n",
              "    <tr>\n",
              "      <th>828</th>\n",
              "      <td>2020-03-17</td>\n",
              "      <td>New York</td>\n",
              "      <td>36</td>\n",
              "      <td>1375</td>\n",
              "      <td>18</td>\n",
              "    </tr>\n",
              "    <tr>\n",
              "      <th>882</th>\n",
              "      <td>2020-03-18</td>\n",
              "      <td>New York</td>\n",
              "      <td>36</td>\n",
              "      <td>2387</td>\n",
              "      <td>32</td>\n",
              "    </tr>\n",
              "  </tbody>\n",
              "</table>\n",
              "</div>\n",
              "      <button class=\"colab-df-convert\" onclick=\"convertToInteractive('df-c347da7e-2c2f-4506-8ba1-56503fd1a6d9')\"\n",
              "              title=\"Convert this dataframe to an interactive table.\"\n",
              "              style=\"display:none;\">\n",
              "        \n",
              "  <svg xmlns=\"http://www.w3.org/2000/svg\" height=\"24px\"viewBox=\"0 0 24 24\"\n",
              "       width=\"24px\">\n",
              "    <path d=\"M0 0h24v24H0V0z\" fill=\"none\"/>\n",
              "    <path d=\"M18.56 5.44l.94 2.06.94-2.06 2.06-.94-2.06-.94-.94-2.06-.94 2.06-2.06.94zm-11 1L8.5 8.5l.94-2.06 2.06-.94-2.06-.94L8.5 2.5l-.94 2.06-2.06.94zm10 10l.94 2.06.94-2.06 2.06-.94-2.06-.94-.94-2.06-.94 2.06-2.06.94z\"/><path d=\"M17.41 7.96l-1.37-1.37c-.4-.4-.92-.59-1.43-.59-.52 0-1.04.2-1.43.59L10.3 9.45l-7.72 7.72c-.78.78-.78 2.05 0 2.83L4 21.41c.39.39.9.59 1.41.59.51 0 1.02-.2 1.41-.59l7.78-7.78 2.81-2.81c.8-.78.8-2.07 0-2.86zM5.41 20L4 18.59l7.72-7.72 1.47 1.35L5.41 20z\"/>\n",
              "  </svg>\n",
              "      </button>\n",
              "      \n",
              "  <style>\n",
              "    .colab-df-container {\n",
              "      display:flex;\n",
              "      flex-wrap:wrap;\n",
              "      gap: 12px;\n",
              "    }\n",
              "\n",
              "    .colab-df-convert {\n",
              "      background-color: #E8F0FE;\n",
              "      border: none;\n",
              "      border-radius: 50%;\n",
              "      cursor: pointer;\n",
              "      display: none;\n",
              "      fill: #1967D2;\n",
              "      height: 32px;\n",
              "      padding: 0 0 0 0;\n",
              "      width: 32px;\n",
              "    }\n",
              "\n",
              "    .colab-df-convert:hover {\n",
              "      background-color: #E2EBFA;\n",
              "      box-shadow: 0px 1px 2px rgba(60, 64, 67, 0.3), 0px 1px 3px 1px rgba(60, 64, 67, 0.15);\n",
              "      fill: #174EA6;\n",
              "    }\n",
              "\n",
              "    [theme=dark] .colab-df-convert {\n",
              "      background-color: #3B4455;\n",
              "      fill: #D2E3FC;\n",
              "    }\n",
              "\n",
              "    [theme=dark] .colab-df-convert:hover {\n",
              "      background-color: #434B5C;\n",
              "      box-shadow: 0px 1px 3px 1px rgba(0, 0, 0, 0.15);\n",
              "      filter: drop-shadow(0px 1px 2px rgba(0, 0, 0, 0.3));\n",
              "      fill: #FFFFFF;\n",
              "    }\n",
              "  </style>\n",
              "\n",
              "      <script>\n",
              "        const buttonEl =\n",
              "          document.querySelector('#df-c347da7e-2c2f-4506-8ba1-56503fd1a6d9 button.colab-df-convert');\n",
              "        buttonEl.style.display =\n",
              "          google.colab.kernel.accessAllowed ? 'block' : 'none';\n",
              "\n",
              "        async function convertToInteractive(key) {\n",
              "          const element = document.querySelector('#df-c347da7e-2c2f-4506-8ba1-56503fd1a6d9');\n",
              "          const dataTable =\n",
              "            await google.colab.kernel.invokeFunction('convertToInteractive',\n",
              "                                                     [key], {});\n",
              "          if (!dataTable) return;\n",
              "\n",
              "          const docLinkHtml = 'Like what you see? Visit the ' +\n",
              "            '<a target=\"_blank\" href=https://colab.research.google.com/notebooks/data_table.ipynb>data table notebook</a>'\n",
              "            + ' to learn more about interactive tables.';\n",
              "          element.innerHTML = '';\n",
              "          dataTable['output_type'] = 'display_data';\n",
              "          await google.colab.output.renderOutput(dataTable, element);\n",
              "          const docLink = document.createElement('div');\n",
              "          docLink.innerHTML = docLinkHtml;\n",
              "          element.appendChild(docLink);\n",
              "        }\n",
              "      </script>\n",
              "    </div>\n",
              "  </div>\n",
              "  "
            ],
            "text/plain": [
              "           date     state  fips  cases  deaths\n",
              "669  2020-03-14  New York    36    610       2\n",
              "722  2020-03-15  New York    36    732       6\n",
              "775  2020-03-16  New York    36    950      10\n",
              "828  2020-03-17  New York    36   1375      18\n",
              "882  2020-03-18  New York    36   2387      32"
            ]
          },
          "metadata": {},
          "execution_count": 121
        }
      ]
    },
    {
      "cell_type": "code",
      "metadata": {
        "id": "dQ-Qbk0e3vUj",
        "colab": {
          "base_uri": "https://localhost:8080/"
        },
        "outputId": "4ca30de0-4d5a-4071-fcd3-1f3648443560"
      },
      "source": [
        "# total  hight number of cases\n",
        "ny_df['cases'].max()"
      ],
      "execution_count": null,
      "outputs": [
        {
          "output_type": "execute_result",
          "data": {
            "text/plain": [
              "4361115"
            ]
          },
          "metadata": {},
          "execution_count": 122
        }
      ]
    },
    {
      "cell_type": "code",
      "metadata": {
        "id": "TNYs0GNm4K5O",
        "colab": {
          "base_uri": "https://localhost:8080/"
        },
        "outputId": "f782e388-d58b-4105-bf6f-7bbf49ebb6a5"
      },
      "source": [
        " '''not my comments, this was already here' -Kevin '''\n",
        "# not a correct way of calculating total count bcoz data is cumulative\n",
        "ny_df['cases'].sum()"
      ],
      "execution_count": null,
      "outputs": [
        {
          "output_type": "execute_result",
          "data": {
            "text/plain": [
              "953601238"
            ]
          },
          "metadata": {},
          "execution_count": 123
        }
      ]
    },
    {
      "cell_type": "markdown",
      "metadata": {
        "id": "vUbZP5tccvEp"
      },
      "source": [
        "Finding new covid 19 cases on daily basis (new cases added everyday)"
      ]
    },
    {
      "cell_type": "code",
      "metadata": {
        "id": "g-isLW6s4XaJ"
      },
      "source": [
        "#new cases for NY\n",
        "# type(ny_df['cases'])\n",
        "\n",
        "newcase = []\n",
        "previous_case = 0\n",
        "for index, row in ny_df.iterrows():\n",
        "  current_case = row['cases']\n",
        "  newcase_count = current_case - previous_case\n",
        "  previous_case = current_case\n",
        "  newcase.append(newcase_count)\n",
        "  # print(newcase_count)"
      ],
      "execution_count": null,
      "outputs": []
    },
    {
      "cell_type": "code",
      "metadata": {
        "id": "yKryzOu25uDi",
        "colab": {
          "base_uri": "https://localhost:8080/"
        },
        "outputId": "8990dc50-08d3-4f8d-ab0e-0845d80759af"
      },
      "source": [
        "ny_df['new_cases'] = newcase"
      ],
      "execution_count": null,
      "outputs": [
        {
          "output_type": "stream",
          "name": "stderr",
          "text": [
            "/usr/local/lib/python3.7/dist-packages/ipykernel_launcher.py:1: SettingWithCopyWarning:\n",
            "\n",
            "\n",
            "A value is trying to be set on a copy of a slice from a DataFrame.\n",
            "Try using .loc[row_indexer,col_indexer] = value instead\n",
            "\n",
            "See the caveats in the documentation: https://pandas.pydata.org/pandas-docs/stable/user_guide/indexing.html#returning-a-view-versus-a-copy\n",
            "\n"
          ]
        }
      ]
    },
    {
      "cell_type": "code",
      "metadata": {
        "id": "xSjQW7Gm8_cO",
        "colab": {
          "base_uri": "https://localhost:8080/",
          "height": 221
        },
        "outputId": "c09d14ab-c20b-4d4a-b4a1-b80e242de140"
      },
      "source": [
        "ny_df.head()"
      ],
      "execution_count": null,
      "outputs": [
        {
          "output_type": "execute_result",
          "data": {
            "text/html": [
              "\n",
              "  <div id=\"df-beb0407e-9b07-40e7-8037-89aa135124bc\">\n",
              "    <div class=\"colab-df-container\">\n",
              "      <div>\n",
              "<style scoped>\n",
              "    .dataframe tbody tr th:only-of-type {\n",
              "        vertical-align: middle;\n",
              "    }\n",
              "\n",
              "    .dataframe tbody tr th {\n",
              "        vertical-align: top;\n",
              "    }\n",
              "\n",
              "    .dataframe thead th {\n",
              "        text-align: right;\n",
              "    }\n",
              "</style>\n",
              "<table border=\"1\" class=\"dataframe\">\n",
              "  <thead>\n",
              "    <tr style=\"text-align: right;\">\n",
              "      <th></th>\n",
              "      <th>date</th>\n",
              "      <th>state</th>\n",
              "      <th>fips</th>\n",
              "      <th>cases</th>\n",
              "      <th>deaths</th>\n",
              "      <th>new_cases</th>\n",
              "    </tr>\n",
              "  </thead>\n",
              "  <tbody>\n",
              "    <tr>\n",
              "      <th>246</th>\n",
              "      <td>2020-03-01</td>\n",
              "      <td>New York</td>\n",
              "      <td>36</td>\n",
              "      <td>1</td>\n",
              "      <td>0</td>\n",
              "      <td>1</td>\n",
              "    </tr>\n",
              "    <tr>\n",
              "      <th>261</th>\n",
              "      <td>2020-03-02</td>\n",
              "      <td>New York</td>\n",
              "      <td>36</td>\n",
              "      <td>1</td>\n",
              "      <td>0</td>\n",
              "      <td>0</td>\n",
              "    </tr>\n",
              "    <tr>\n",
              "      <th>276</th>\n",
              "      <td>2020-03-03</td>\n",
              "      <td>New York</td>\n",
              "      <td>36</td>\n",
              "      <td>2</td>\n",
              "      <td>0</td>\n",
              "      <td>1</td>\n",
              "    </tr>\n",
              "    <tr>\n",
              "      <th>293</th>\n",
              "      <td>2020-03-04</td>\n",
              "      <td>New York</td>\n",
              "      <td>36</td>\n",
              "      <td>11</td>\n",
              "      <td>0</td>\n",
              "      <td>9</td>\n",
              "    </tr>\n",
              "    <tr>\n",
              "      <th>313</th>\n",
              "      <td>2020-03-05</td>\n",
              "      <td>New York</td>\n",
              "      <td>36</td>\n",
              "      <td>22</td>\n",
              "      <td>0</td>\n",
              "      <td>11</td>\n",
              "    </tr>\n",
              "  </tbody>\n",
              "</table>\n",
              "</div>\n",
              "      <button class=\"colab-df-convert\" onclick=\"convertToInteractive('df-beb0407e-9b07-40e7-8037-89aa135124bc')\"\n",
              "              title=\"Convert this dataframe to an interactive table.\"\n",
              "              style=\"display:none;\">\n",
              "        \n",
              "  <svg xmlns=\"http://www.w3.org/2000/svg\" height=\"24px\"viewBox=\"0 0 24 24\"\n",
              "       width=\"24px\">\n",
              "    <path d=\"M0 0h24v24H0V0z\" fill=\"none\"/>\n",
              "    <path d=\"M18.56 5.44l.94 2.06.94-2.06 2.06-.94-2.06-.94-.94-2.06-.94 2.06-2.06.94zm-11 1L8.5 8.5l.94-2.06 2.06-.94-2.06-.94L8.5 2.5l-.94 2.06-2.06.94zm10 10l.94 2.06.94-2.06 2.06-.94-2.06-.94-.94-2.06-.94 2.06-2.06.94z\"/><path d=\"M17.41 7.96l-1.37-1.37c-.4-.4-.92-.59-1.43-.59-.52 0-1.04.2-1.43.59L10.3 9.45l-7.72 7.72c-.78.78-.78 2.05 0 2.83L4 21.41c.39.39.9.59 1.41.59.51 0 1.02-.2 1.41-.59l7.78-7.78 2.81-2.81c.8-.78.8-2.07 0-2.86zM5.41 20L4 18.59l7.72-7.72 1.47 1.35L5.41 20z\"/>\n",
              "  </svg>\n",
              "      </button>\n",
              "      \n",
              "  <style>\n",
              "    .colab-df-container {\n",
              "      display:flex;\n",
              "      flex-wrap:wrap;\n",
              "      gap: 12px;\n",
              "    }\n",
              "\n",
              "    .colab-df-convert {\n",
              "      background-color: #E8F0FE;\n",
              "      border: none;\n",
              "      border-radius: 50%;\n",
              "      cursor: pointer;\n",
              "      display: none;\n",
              "      fill: #1967D2;\n",
              "      height: 32px;\n",
              "      padding: 0 0 0 0;\n",
              "      width: 32px;\n",
              "    }\n",
              "\n",
              "    .colab-df-convert:hover {\n",
              "      background-color: #E2EBFA;\n",
              "      box-shadow: 0px 1px 2px rgba(60, 64, 67, 0.3), 0px 1px 3px 1px rgba(60, 64, 67, 0.15);\n",
              "      fill: #174EA6;\n",
              "    }\n",
              "\n",
              "    [theme=dark] .colab-df-convert {\n",
              "      background-color: #3B4455;\n",
              "      fill: #D2E3FC;\n",
              "    }\n",
              "\n",
              "    [theme=dark] .colab-df-convert:hover {\n",
              "      background-color: #434B5C;\n",
              "      box-shadow: 0px 1px 3px 1px rgba(0, 0, 0, 0.15);\n",
              "      filter: drop-shadow(0px 1px 2px rgba(0, 0, 0, 0.3));\n",
              "      fill: #FFFFFF;\n",
              "    }\n",
              "  </style>\n",
              "\n",
              "      <script>\n",
              "        const buttonEl =\n",
              "          document.querySelector('#df-beb0407e-9b07-40e7-8037-89aa135124bc button.colab-df-convert');\n",
              "        buttonEl.style.display =\n",
              "          google.colab.kernel.accessAllowed ? 'block' : 'none';\n",
              "\n",
              "        async function convertToInteractive(key) {\n",
              "          const element = document.querySelector('#df-beb0407e-9b07-40e7-8037-89aa135124bc');\n",
              "          const dataTable =\n",
              "            await google.colab.kernel.invokeFunction('convertToInteractive',\n",
              "                                                     [key], {});\n",
              "          if (!dataTable) return;\n",
              "\n",
              "          const docLinkHtml = 'Like what you see? Visit the ' +\n",
              "            '<a target=\"_blank\" href=https://colab.research.google.com/notebooks/data_table.ipynb>data table notebook</a>'\n",
              "            + ' to learn more about interactive tables.';\n",
              "          element.innerHTML = '';\n",
              "          dataTable['output_type'] = 'display_data';\n",
              "          await google.colab.output.renderOutput(dataTable, element);\n",
              "          const docLink = document.createElement('div');\n",
              "          docLink.innerHTML = docLinkHtml;\n",
              "          element.appendChild(docLink);\n",
              "        }\n",
              "      </script>\n",
              "    </div>\n",
              "  </div>\n",
              "  "
            ],
            "text/plain": [
              "           date     state  fips  cases  deaths  new_cases\n",
              "246  2020-03-01  New York    36      1       0          1\n",
              "261  2020-03-02  New York    36      1       0          0\n",
              "276  2020-03-03  New York    36      2       0          1\n",
              "293  2020-03-04  New York    36     11       0          9\n",
              "313  2020-03-05  New York    36     22       0         11"
            ]
          },
          "metadata": {},
          "execution_count": 126
        }
      ]
    },
    {
      "cell_type": "code",
      "source": [
        "ny_df.tail()"
      ],
      "metadata": {
        "id": "JeBjgqzfZS0N",
        "outputId": "01094d9d-388a-4b12-80f5-d8843a030d09",
        "colab": {
          "base_uri": "https://localhost:8080/",
          "height": 221
        }
      },
      "execution_count": null,
      "outputs": [
        {
          "output_type": "execute_result",
          "data": {
            "text/html": [
              "\n",
              "  <div id=\"df-182d9eb2-5d37-4252-964f-80a84e28b732\">\n",
              "    <div class=\"colab-df-container\">\n",
              "      <div>\n",
              "<style scoped>\n",
              "    .dataframe tbody tr th:only-of-type {\n",
              "        vertical-align: middle;\n",
              "    }\n",
              "\n",
              "    .dataframe tbody tr th {\n",
              "        vertical-align: top;\n",
              "    }\n",
              "\n",
              "    .dataframe thead th {\n",
              "        text-align: right;\n",
              "    }\n",
              "</style>\n",
              "<table border=\"1\" class=\"dataframe\">\n",
              "  <thead>\n",
              "    <tr style=\"text-align: right;\">\n",
              "      <th></th>\n",
              "      <th>date</th>\n",
              "      <th>state</th>\n",
              "      <th>fips</th>\n",
              "      <th>cases</th>\n",
              "      <th>deaths</th>\n",
              "      <th>new_cases</th>\n",
              "    </tr>\n",
              "  </thead>\n",
              "  <tbody>\n",
              "    <tr>\n",
              "      <th>37392</th>\n",
              "      <td>2022-01-09</td>\n",
              "      <td>New York</td>\n",
              "      <td>36</td>\n",
              "      <td>4136861</td>\n",
              "      <td>60083</td>\n",
              "      <td>79777</td>\n",
              "    </tr>\n",
              "    <tr>\n",
              "      <th>37448</th>\n",
              "      <td>2022-01-10</td>\n",
              "      <td>New York</td>\n",
              "      <td>36</td>\n",
              "      <td>4194745</td>\n",
              "      <td>60162</td>\n",
              "      <td>57884</td>\n",
              "    </tr>\n",
              "    <tr>\n",
              "      <th>37504</th>\n",
              "      <td>2022-01-11</td>\n",
              "      <td>New York</td>\n",
              "      <td>36</td>\n",
              "      <td>4244155</td>\n",
              "      <td>60428</td>\n",
              "      <td>49410</td>\n",
              "    </tr>\n",
              "    <tr>\n",
              "      <th>37560</th>\n",
              "      <td>2022-01-12</td>\n",
              "      <td>New York</td>\n",
              "      <td>36</td>\n",
              "      <td>4299066</td>\n",
              "      <td>60638</td>\n",
              "      <td>54911</td>\n",
              "    </tr>\n",
              "    <tr>\n",
              "      <th>37616</th>\n",
              "      <td>2022-01-13</td>\n",
              "      <td>New York</td>\n",
              "      <td>36</td>\n",
              "      <td>4361115</td>\n",
              "      <td>60876</td>\n",
              "      <td>62049</td>\n",
              "    </tr>\n",
              "  </tbody>\n",
              "</table>\n",
              "</div>\n",
              "      <button class=\"colab-df-convert\" onclick=\"convertToInteractive('df-182d9eb2-5d37-4252-964f-80a84e28b732')\"\n",
              "              title=\"Convert this dataframe to an interactive table.\"\n",
              "              style=\"display:none;\">\n",
              "        \n",
              "  <svg xmlns=\"http://www.w3.org/2000/svg\" height=\"24px\"viewBox=\"0 0 24 24\"\n",
              "       width=\"24px\">\n",
              "    <path d=\"M0 0h24v24H0V0z\" fill=\"none\"/>\n",
              "    <path d=\"M18.56 5.44l.94 2.06.94-2.06 2.06-.94-2.06-.94-.94-2.06-.94 2.06-2.06.94zm-11 1L8.5 8.5l.94-2.06 2.06-.94-2.06-.94L8.5 2.5l-.94 2.06-2.06.94zm10 10l.94 2.06.94-2.06 2.06-.94-2.06-.94-.94-2.06-.94 2.06-2.06.94z\"/><path d=\"M17.41 7.96l-1.37-1.37c-.4-.4-.92-.59-1.43-.59-.52 0-1.04.2-1.43.59L10.3 9.45l-7.72 7.72c-.78.78-.78 2.05 0 2.83L4 21.41c.39.39.9.59 1.41.59.51 0 1.02-.2 1.41-.59l7.78-7.78 2.81-2.81c.8-.78.8-2.07 0-2.86zM5.41 20L4 18.59l7.72-7.72 1.47 1.35L5.41 20z\"/>\n",
              "  </svg>\n",
              "      </button>\n",
              "      \n",
              "  <style>\n",
              "    .colab-df-container {\n",
              "      display:flex;\n",
              "      flex-wrap:wrap;\n",
              "      gap: 12px;\n",
              "    }\n",
              "\n",
              "    .colab-df-convert {\n",
              "      background-color: #E8F0FE;\n",
              "      border: none;\n",
              "      border-radius: 50%;\n",
              "      cursor: pointer;\n",
              "      display: none;\n",
              "      fill: #1967D2;\n",
              "      height: 32px;\n",
              "      padding: 0 0 0 0;\n",
              "      width: 32px;\n",
              "    }\n",
              "\n",
              "    .colab-df-convert:hover {\n",
              "      background-color: #E2EBFA;\n",
              "      box-shadow: 0px 1px 2px rgba(60, 64, 67, 0.3), 0px 1px 3px 1px rgba(60, 64, 67, 0.15);\n",
              "      fill: #174EA6;\n",
              "    }\n",
              "\n",
              "    [theme=dark] .colab-df-convert {\n",
              "      background-color: #3B4455;\n",
              "      fill: #D2E3FC;\n",
              "    }\n",
              "\n",
              "    [theme=dark] .colab-df-convert:hover {\n",
              "      background-color: #434B5C;\n",
              "      box-shadow: 0px 1px 3px 1px rgba(0, 0, 0, 0.15);\n",
              "      filter: drop-shadow(0px 1px 2px rgba(0, 0, 0, 0.3));\n",
              "      fill: #FFFFFF;\n",
              "    }\n",
              "  </style>\n",
              "\n",
              "      <script>\n",
              "        const buttonEl =\n",
              "          document.querySelector('#df-182d9eb2-5d37-4252-964f-80a84e28b732 button.colab-df-convert');\n",
              "        buttonEl.style.display =\n",
              "          google.colab.kernel.accessAllowed ? 'block' : 'none';\n",
              "\n",
              "        async function convertToInteractive(key) {\n",
              "          const element = document.querySelector('#df-182d9eb2-5d37-4252-964f-80a84e28b732');\n",
              "          const dataTable =\n",
              "            await google.colab.kernel.invokeFunction('convertToInteractive',\n",
              "                                                     [key], {});\n",
              "          if (!dataTable) return;\n",
              "\n",
              "          const docLinkHtml = 'Like what you see? Visit the ' +\n",
              "            '<a target=\"_blank\" href=https://colab.research.google.com/notebooks/data_table.ipynb>data table notebook</a>'\n",
              "            + ' to learn more about interactive tables.';\n",
              "          element.innerHTML = '';\n",
              "          dataTable['output_type'] = 'display_data';\n",
              "          await google.colab.output.renderOutput(dataTable, element);\n",
              "          const docLink = document.createElement('div');\n",
              "          docLink.innerHTML = docLinkHtml;\n",
              "          element.appendChild(docLink);\n",
              "        }\n",
              "      </script>\n",
              "    </div>\n",
              "  </div>\n",
              "  "
            ],
            "text/plain": [
              "             date     state  fips    cases  deaths  new_cases\n",
              "37392  2022-01-09  New York    36  4136861   60083      79777\n",
              "37448  2022-01-10  New York    36  4194745   60162      57884\n",
              "37504  2022-01-11  New York    36  4244155   60428      49410\n",
              "37560  2022-01-12  New York    36  4299066   60638      54911\n",
              "37616  2022-01-13  New York    36  4361115   60876      62049"
            ]
          },
          "metadata": {},
          "execution_count": 127
        }
      ]
    },
    {
      "cell_type": "code",
      "source": [
        "ny_df"
      ],
      "metadata": {
        "colab": {
          "base_uri": "https://localhost:8080/",
          "height": 433
        },
        "id": "mgsO1iflpgOr",
        "outputId": "b953da4a-98c1-4f47-b63d-ebffeec91c7b"
      },
      "execution_count": null,
      "outputs": [
        {
          "output_type": "execute_result",
          "data": {
            "text/html": [
              "\n",
              "  <div id=\"df-97c3d661-97e4-46cb-badb-8472b026681d\">\n",
              "    <div class=\"colab-df-container\">\n",
              "      <div>\n",
              "<style scoped>\n",
              "    .dataframe tbody tr th:only-of-type {\n",
              "        vertical-align: middle;\n",
              "    }\n",
              "\n",
              "    .dataframe tbody tr th {\n",
              "        vertical-align: top;\n",
              "    }\n",
              "\n",
              "    .dataframe thead th {\n",
              "        text-align: right;\n",
              "    }\n",
              "</style>\n",
              "<table border=\"1\" class=\"dataframe\">\n",
              "  <thead>\n",
              "    <tr style=\"text-align: right;\">\n",
              "      <th></th>\n",
              "      <th>date</th>\n",
              "      <th>state</th>\n",
              "      <th>fips</th>\n",
              "      <th>cases</th>\n",
              "      <th>deaths</th>\n",
              "      <th>new_cases</th>\n",
              "    </tr>\n",
              "  </thead>\n",
              "  <tbody>\n",
              "    <tr>\n",
              "      <th>246</th>\n",
              "      <td>2020-03-01</td>\n",
              "      <td>New York</td>\n",
              "      <td>36</td>\n",
              "      <td>1</td>\n",
              "      <td>0</td>\n",
              "      <td>1</td>\n",
              "    </tr>\n",
              "    <tr>\n",
              "      <th>261</th>\n",
              "      <td>2020-03-02</td>\n",
              "      <td>New York</td>\n",
              "      <td>36</td>\n",
              "      <td>1</td>\n",
              "      <td>0</td>\n",
              "      <td>0</td>\n",
              "    </tr>\n",
              "    <tr>\n",
              "      <th>276</th>\n",
              "      <td>2020-03-03</td>\n",
              "      <td>New York</td>\n",
              "      <td>36</td>\n",
              "      <td>2</td>\n",
              "      <td>0</td>\n",
              "      <td>1</td>\n",
              "    </tr>\n",
              "    <tr>\n",
              "      <th>293</th>\n",
              "      <td>2020-03-04</td>\n",
              "      <td>New York</td>\n",
              "      <td>36</td>\n",
              "      <td>11</td>\n",
              "      <td>0</td>\n",
              "      <td>9</td>\n",
              "    </tr>\n",
              "    <tr>\n",
              "      <th>313</th>\n",
              "      <td>2020-03-05</td>\n",
              "      <td>New York</td>\n",
              "      <td>36</td>\n",
              "      <td>22</td>\n",
              "      <td>0</td>\n",
              "      <td>11</td>\n",
              "    </tr>\n",
              "    <tr>\n",
              "      <th>...</th>\n",
              "      <td>...</td>\n",
              "      <td>...</td>\n",
              "      <td>...</td>\n",
              "      <td>...</td>\n",
              "      <td>...</td>\n",
              "      <td>...</td>\n",
              "    </tr>\n",
              "    <tr>\n",
              "      <th>37392</th>\n",
              "      <td>2022-01-09</td>\n",
              "      <td>New York</td>\n",
              "      <td>36</td>\n",
              "      <td>4136861</td>\n",
              "      <td>60083</td>\n",
              "      <td>79777</td>\n",
              "    </tr>\n",
              "    <tr>\n",
              "      <th>37448</th>\n",
              "      <td>2022-01-10</td>\n",
              "      <td>New York</td>\n",
              "      <td>36</td>\n",
              "      <td>4194745</td>\n",
              "      <td>60162</td>\n",
              "      <td>57884</td>\n",
              "    </tr>\n",
              "    <tr>\n",
              "      <th>37504</th>\n",
              "      <td>2022-01-11</td>\n",
              "      <td>New York</td>\n",
              "      <td>36</td>\n",
              "      <td>4244155</td>\n",
              "      <td>60428</td>\n",
              "      <td>49410</td>\n",
              "    </tr>\n",
              "    <tr>\n",
              "      <th>37560</th>\n",
              "      <td>2022-01-12</td>\n",
              "      <td>New York</td>\n",
              "      <td>36</td>\n",
              "      <td>4299066</td>\n",
              "      <td>60638</td>\n",
              "      <td>54911</td>\n",
              "    </tr>\n",
              "    <tr>\n",
              "      <th>37616</th>\n",
              "      <td>2022-01-13</td>\n",
              "      <td>New York</td>\n",
              "      <td>36</td>\n",
              "      <td>4361115</td>\n",
              "      <td>60876</td>\n",
              "      <td>62049</td>\n",
              "    </tr>\n",
              "  </tbody>\n",
              "</table>\n",
              "<p>684 rows × 6 columns</p>\n",
              "</div>\n",
              "      <button class=\"colab-df-convert\" onclick=\"convertToInteractive('df-97c3d661-97e4-46cb-badb-8472b026681d')\"\n",
              "              title=\"Convert this dataframe to an interactive table.\"\n",
              "              style=\"display:none;\">\n",
              "        \n",
              "  <svg xmlns=\"http://www.w3.org/2000/svg\" height=\"24px\"viewBox=\"0 0 24 24\"\n",
              "       width=\"24px\">\n",
              "    <path d=\"M0 0h24v24H0V0z\" fill=\"none\"/>\n",
              "    <path d=\"M18.56 5.44l.94 2.06.94-2.06 2.06-.94-2.06-.94-.94-2.06-.94 2.06-2.06.94zm-11 1L8.5 8.5l.94-2.06 2.06-.94-2.06-.94L8.5 2.5l-.94 2.06-2.06.94zm10 10l.94 2.06.94-2.06 2.06-.94-2.06-.94-.94-2.06-.94 2.06-2.06.94z\"/><path d=\"M17.41 7.96l-1.37-1.37c-.4-.4-.92-.59-1.43-.59-.52 0-1.04.2-1.43.59L10.3 9.45l-7.72 7.72c-.78.78-.78 2.05 0 2.83L4 21.41c.39.39.9.59 1.41.59.51 0 1.02-.2 1.41-.59l7.78-7.78 2.81-2.81c.8-.78.8-2.07 0-2.86zM5.41 20L4 18.59l7.72-7.72 1.47 1.35L5.41 20z\"/>\n",
              "  </svg>\n",
              "      </button>\n",
              "      \n",
              "  <style>\n",
              "    .colab-df-container {\n",
              "      display:flex;\n",
              "      flex-wrap:wrap;\n",
              "      gap: 12px;\n",
              "    }\n",
              "\n",
              "    .colab-df-convert {\n",
              "      background-color: #E8F0FE;\n",
              "      border: none;\n",
              "      border-radius: 50%;\n",
              "      cursor: pointer;\n",
              "      display: none;\n",
              "      fill: #1967D2;\n",
              "      height: 32px;\n",
              "      padding: 0 0 0 0;\n",
              "      width: 32px;\n",
              "    }\n",
              "\n",
              "    .colab-df-convert:hover {\n",
              "      background-color: #E2EBFA;\n",
              "      box-shadow: 0px 1px 2px rgba(60, 64, 67, 0.3), 0px 1px 3px 1px rgba(60, 64, 67, 0.15);\n",
              "      fill: #174EA6;\n",
              "    }\n",
              "\n",
              "    [theme=dark] .colab-df-convert {\n",
              "      background-color: #3B4455;\n",
              "      fill: #D2E3FC;\n",
              "    }\n",
              "\n",
              "    [theme=dark] .colab-df-convert:hover {\n",
              "      background-color: #434B5C;\n",
              "      box-shadow: 0px 1px 3px 1px rgba(0, 0, 0, 0.15);\n",
              "      filter: drop-shadow(0px 1px 2px rgba(0, 0, 0, 0.3));\n",
              "      fill: #FFFFFF;\n",
              "    }\n",
              "  </style>\n",
              "\n",
              "      <script>\n",
              "        const buttonEl =\n",
              "          document.querySelector('#df-97c3d661-97e4-46cb-badb-8472b026681d button.colab-df-convert');\n",
              "        buttonEl.style.display =\n",
              "          google.colab.kernel.accessAllowed ? 'block' : 'none';\n",
              "\n",
              "        async function convertToInteractive(key) {\n",
              "          const element = document.querySelector('#df-97c3d661-97e4-46cb-badb-8472b026681d');\n",
              "          const dataTable =\n",
              "            await google.colab.kernel.invokeFunction('convertToInteractive',\n",
              "                                                     [key], {});\n",
              "          if (!dataTable) return;\n",
              "\n",
              "          const docLinkHtml = 'Like what you see? Visit the ' +\n",
              "            '<a target=\"_blank\" href=https://colab.research.google.com/notebooks/data_table.ipynb>data table notebook</a>'\n",
              "            + ' to learn more about interactive tables.';\n",
              "          element.innerHTML = '';\n",
              "          dataTable['output_type'] = 'display_data';\n",
              "          await google.colab.output.renderOutput(dataTable, element);\n",
              "          const docLink = document.createElement('div');\n",
              "          docLink.innerHTML = docLinkHtml;\n",
              "          element.appendChild(docLink);\n",
              "        }\n",
              "      </script>\n",
              "    </div>\n",
              "  </div>\n",
              "  "
            ],
            "text/plain": [
              "             date     state  fips    cases  deaths  new_cases\n",
              "246    2020-03-01  New York    36        1       0          1\n",
              "261    2020-03-02  New York    36        1       0          0\n",
              "276    2020-03-03  New York    36        2       0          1\n",
              "293    2020-03-04  New York    36       11       0          9\n",
              "313    2020-03-05  New York    36       22       0         11\n",
              "...           ...       ...   ...      ...     ...        ...\n",
              "37392  2022-01-09  New York    36  4136861   60083      79777\n",
              "37448  2022-01-10  New York    36  4194745   60162      57884\n",
              "37504  2022-01-11  New York    36  4244155   60428      49410\n",
              "37560  2022-01-12  New York    36  4299066   60638      54911\n",
              "37616  2022-01-13  New York    36  4361115   60876      62049\n",
              "\n",
              "[684 rows x 6 columns]"
            ]
          },
          "metadata": {},
          "execution_count": 159
        }
      ]
    },
    {
      "cell_type": "code",
      "metadata": {
        "id": "PK0Tq2qs-JTJ",
        "colab": {
          "base_uri": "https://localhost:8080/"
        },
        "outputId": "7ce61b2c-e097-4454-f20d-3dfe075809ca"
      },
      "source": [
        "# count total cases\n",
        "ny_df['new_cases'].sum()"
      ],
      "execution_count": null,
      "outputs": [
        {
          "output_type": "execute_result",
          "data": {
            "text/plain": [
              "4361115"
            ]
          },
          "metadata": {},
          "execution_count": 128
        }
      ]
    },
    {
      "cell_type": "code",
      "metadata": {
        "id": "CvPTpg6T-p15"
      },
      "source": [
        "ny_cases = ny_df['cases']\n",
        "ny_deaths = ny_df['deaths']\n",
        "ny_dates = ny_df['date']\n",
        "ny_new_cases = ny_df['new_cases']"
      ],
      "execution_count": null,
      "outputs": []
    },
    {
      "cell_type": "code",
      "metadata": {
        "id": "g14xWA8g_6nZ",
        "colab": {
          "base_uri": "https://localhost:8080/"
        },
        "outputId": "868de1d3-f204-4ece-8b36-124c73a97ab5"
      },
      "source": [
        "type(ny_new_cases)"
      ],
      "execution_count": null,
      "outputs": [
        {
          "output_type": "execute_result",
          "data": {
            "text/plain": [
              "pandas.core.series.Series"
            ]
          },
          "metadata": {},
          "execution_count": 130
        }
      ]
    },
    {
      "cell_type": "code",
      "source": [
        "\n",
        "\n",
        "# passing the .Figure function from plotly \n",
        "\n",
        "fig = go.Figure()\n",
        "\n",
        "# assigning the x-axis and y-axis for deaths in the ny dataframe\n",
        "# this will be the graph in the 'back' showing the cumulative deaths\n",
        "# in blue\n",
        "fig.add_trace(go.Bar( x = ny_df['date'],\n",
        "                      y = ny_df['deaths'],\n",
        "                     name = 'deaths'\n",
        "                     ))\n",
        "\n",
        "# assigning the x-axis and the y-axis for new cases of infection, from the \n",
        "# previous day\n",
        "# this will be the graph in the 'front' showing the new cases\n",
        "\n",
        "fig.add_trace(go.Bar(x = ny_df['date'],\n",
        "                     y = ny_df['new_cases'],\n",
        "                     name = 'new cases'\n",
        "                     ))\n",
        "\n",
        "# the title is named here, and the size of the chart is set to 1920x1080\n",
        "# font size is set to 30\n",
        "fig.update_layout(title = \"Deaths to New Cases\",\n",
        "               barmode = \"overlay\",\n",
        "               title_font_size = 30,\n",
        "               width = 1920,\n",
        "               height = 1080)\n",
        "# X axis is updated to Date\n",
        "fig.update_xaxes(\n",
        "                title_text = 'Date'\n",
        ")\n",
        "# Y axis is updated to 'Count of each'\n",
        "fig.update_yaxes(\n",
        "                title_text = 'Count'\n",
        ")\n",
        "# How does every new case of covid impact the death rate\n",
        "# we see that there is a lag in death with when we see an amount of infections\n",
        "# we can also see the timeline when the vaccine was introduced and the death\n",
        "# rate was minimized "
      ],
      "metadata": {
        "colab": {
          "base_uri": "https://localhost:8080/",
          "height": 1000
        },
        "id": "zjDOPjKfeioS",
        "outputId": "db46ac9b-6997-40fd-ab61-ec140546c9e0"
      },
      "execution_count": null,
      "outputs": [
        {
          "output_type": "display_data",
          "data": {
            "text/html": [
              "<html>\n",
              "<head><meta charset=\"utf-8\" /></head>\n",
              "<body>\n",
              "    <div>\n",
              "            <script src=\"https://cdnjs.cloudflare.com/ajax/libs/mathjax/2.7.5/MathJax.js?config=TeX-AMS-MML_SVG\"></script><script type=\"text/javascript\">if (window.MathJax) {MathJax.Hub.Config({SVG: {font: \"STIX-Web\"}});}</script>\n",
              "                <script type=\"text/javascript\">window.PlotlyConfig = {MathJaxConfig: 'local'};</script>\n",
              "        <script src=\"https://cdn.plot.ly/plotly-latest.min.js\"></script>    \n",
              "            <div id=\"5b9b8192-0e66-4900-a54f-4863205289c1\" class=\"plotly-graph-div\" style=\"height:1080px; width:1920px;\"></div>\n",
              "            <script type=\"text/javascript\">\n",
              "                \n",
              "                    window.PLOTLYENV=window.PLOTLYENV || {};\n",
              "                    \n",
              "                if (document.getElementById(\"5b9b8192-0e66-4900-a54f-4863205289c1\")) {\n",
              "                    Plotly.newPlot(\n",
              "                        '5b9b8192-0e66-4900-a54f-4863205289c1',\n",
              "                        [{\"name\": \"deaths\", \"type\": \"bar\", \"x\": [\"2020-03-01\", \"2020-03-02\", \"2020-03-03\", \"2020-03-04\", \"2020-03-05\", \"2020-03-06\", \"2020-03-07\", \"2020-03-08\", \"2020-03-09\", \"2020-03-10\", \"2020-03-11\", \"2020-03-12\", \"2020-03-13\", \"2020-03-14\", \"2020-03-15\", \"2020-03-16\", \"2020-03-17\", \"2020-03-18\", \"2020-03-19\", \"2020-03-20\", \"2020-03-21\", \"2020-03-22\", \"2020-03-23\", \"2020-03-24\", \"2020-03-25\", \"2020-03-26\", \"2020-03-27\", \"2020-03-28\", \"2020-03-29\", \"2020-03-30\", \"2020-03-31\", \"2020-04-01\", \"2020-04-02\", \"2020-04-03\", \"2020-04-04\", \"2020-04-05\", \"2020-04-06\", \"2020-04-07\", \"2020-04-08\", \"2020-04-09\", \"2020-04-10\", \"2020-04-11\", \"2020-04-12\", \"2020-04-13\", \"2020-04-14\", \"2020-04-15\", \"2020-04-16\", \"2020-04-17\", \"2020-04-18\", \"2020-04-19\", \"2020-04-20\", \"2020-04-21\", \"2020-04-22\", \"2020-04-23\", \"2020-04-24\", \"2020-04-25\", \"2020-04-26\", \"2020-04-27\", \"2020-04-28\", \"2020-04-29\", \"2020-04-30\", \"2020-05-01\", \"2020-05-02\", \"2020-05-03\", \"2020-05-04\", \"2020-05-05\", \"2020-05-06\", \"2020-05-07\", \"2020-05-08\", \"2020-05-09\", \"2020-05-10\", \"2020-05-11\", \"2020-05-12\", \"2020-05-13\", \"2020-05-14\", \"2020-05-15\", \"2020-05-16\", \"2020-05-17\", \"2020-05-18\", \"2020-05-19\", \"2020-05-20\", \"2020-05-21\", \"2020-05-22\", \"2020-05-23\", \"2020-05-24\", \"2020-05-25\", \"2020-05-26\", \"2020-05-27\", \"2020-05-28\", \"2020-05-29\", \"2020-05-30\", \"2020-05-31\", \"2020-06-01\", \"2020-06-02\", \"2020-06-03\", \"2020-06-04\", \"2020-06-05\", \"2020-06-06\", \"2020-06-07\", \"2020-06-08\", \"2020-06-09\", \"2020-06-10\", \"2020-06-11\", \"2020-06-12\", \"2020-06-13\", \"2020-06-14\", \"2020-06-15\", \"2020-06-16\", \"2020-06-17\", \"2020-06-18\", \"2020-06-19\", \"2020-06-20\", \"2020-06-21\", \"2020-06-22\", \"2020-06-23\", \"2020-06-24\", \"2020-06-25\", \"2020-06-26\", \"2020-06-27\", \"2020-06-28\", \"2020-06-29\", \"2020-06-30\", \"2020-07-01\", \"2020-07-02\", \"2020-07-03\", \"2020-07-04\", \"2020-07-05\", \"2020-07-06\", \"2020-07-07\", \"2020-07-08\", \"2020-07-09\", \"2020-07-10\", \"2020-07-11\", \"2020-07-12\", \"2020-07-13\", \"2020-07-14\", \"2020-07-15\", \"2020-07-16\", \"2020-07-17\", \"2020-07-18\", \"2020-07-19\", \"2020-07-20\", \"2020-07-21\", \"2020-07-22\", \"2020-07-23\", \"2020-07-24\", \"2020-07-25\", \"2020-07-26\", \"2020-07-27\", \"2020-07-28\", \"2020-07-29\", \"2020-07-30\", \"2020-07-31\", \"2020-08-01\", \"2020-08-02\", \"2020-08-03\", \"2020-08-04\", \"2020-08-05\", \"2020-08-06\", \"2020-08-07\", \"2020-08-08\", \"2020-08-09\", \"2020-08-10\", \"2020-08-11\", \"2020-08-12\", \"2020-08-13\", \"2020-08-14\", \"2020-08-15\", \"2020-08-16\", \"2020-08-17\", \"2020-08-18\", \"2020-08-19\", \"2020-08-20\", \"2020-08-21\", \"2020-08-22\", \"2020-08-23\", \"2020-08-24\", \"2020-08-25\", \"2020-08-26\", \"2020-08-27\", \"2020-08-28\", \"2020-08-29\", \"2020-08-30\", \"2020-08-31\", \"2020-09-01\", \"2020-09-02\", \"2020-09-03\", \"2020-09-04\", \"2020-09-05\", \"2020-09-06\", \"2020-09-07\", \"2020-09-08\", \"2020-09-09\", \"2020-09-10\", \"2020-09-11\", \"2020-09-12\", \"2020-09-13\", \"2020-09-14\", \"2020-09-15\", \"2020-09-16\", \"2020-09-17\", \"2020-09-18\", \"2020-09-19\", \"2020-09-20\", \"2020-09-21\", \"2020-09-22\", \"2020-09-23\", \"2020-09-24\", \"2020-09-25\", \"2020-09-26\", \"2020-09-27\", \"2020-09-28\", \"2020-09-29\", \"2020-09-30\", \"2020-10-01\", \"2020-10-02\", \"2020-10-03\", \"2020-10-04\", \"2020-10-05\", \"2020-10-06\", \"2020-10-07\", \"2020-10-08\", \"2020-10-09\", \"2020-10-10\", \"2020-10-11\", \"2020-10-12\", \"2020-10-13\", \"2020-10-14\", \"2020-10-15\", \"2020-10-16\", \"2020-10-17\", \"2020-10-18\", \"2020-10-19\", \"2020-10-20\", \"2020-10-21\", \"2020-10-22\", \"2020-10-23\", \"2020-10-24\", \"2020-10-25\", \"2020-10-26\", \"2020-10-27\", \"2020-10-28\", \"2020-10-29\", \"2020-10-30\", \"2020-10-31\", \"2020-11-01\", \"2020-11-02\", \"2020-11-03\", \"2020-11-04\", \"2020-11-05\", \"2020-11-06\", \"2020-11-07\", \"2020-11-08\", \"2020-11-09\", \"2020-11-10\", \"2020-11-11\", \"2020-11-12\", \"2020-11-13\", \"2020-11-14\", \"2020-11-15\", \"2020-11-16\", \"2020-11-17\", \"2020-11-18\", \"2020-11-19\", \"2020-11-20\", \"2020-11-21\", \"2020-11-22\", \"2020-11-23\", \"2020-11-24\", \"2020-11-25\", \"2020-11-26\", \"2020-11-27\", \"2020-11-28\", \"2020-11-29\", \"2020-11-30\", \"2020-12-01\", \"2020-12-02\", \"2020-12-03\", \"2020-12-04\", \"2020-12-05\", \"2020-12-06\", \"2020-12-07\", \"2020-12-08\", \"2020-12-09\", \"2020-12-10\", \"2020-12-11\", \"2020-12-12\", \"2020-12-13\", \"2020-12-14\", \"2020-12-15\", \"2020-12-16\", \"2020-12-17\", \"2020-12-18\", \"2020-12-19\", \"2020-12-20\", \"2020-12-21\", \"2020-12-22\", \"2020-12-23\", \"2020-12-24\", \"2020-12-25\", \"2020-12-26\", \"2020-12-27\", \"2020-12-28\", \"2020-12-29\", \"2020-12-30\", \"2020-12-31\", \"2021-01-01\", \"2021-01-02\", \"2021-01-03\", \"2021-01-04\", \"2021-01-05\", \"2021-01-06\", \"2021-01-07\", \"2021-01-08\", \"2021-01-09\", \"2021-01-10\", \"2021-01-11\", \"2021-01-12\", \"2021-01-13\", \"2021-01-14\", \"2021-01-15\", \"2021-01-16\", \"2021-01-17\", \"2021-01-18\", \"2021-01-19\", \"2021-01-20\", \"2021-01-21\", \"2021-01-22\", \"2021-01-23\", \"2021-01-24\", \"2021-01-25\", \"2021-01-26\", \"2021-01-27\", \"2021-01-28\", \"2021-01-29\", \"2021-01-30\", \"2021-01-31\", \"2021-02-01\", \"2021-02-02\", \"2021-02-03\", \"2021-02-04\", \"2021-02-05\", \"2021-02-06\", \"2021-02-07\", \"2021-02-08\", \"2021-02-09\", \"2021-02-10\", \"2021-02-11\", \"2021-02-12\", \"2021-02-13\", \"2021-02-14\", \"2021-02-15\", \"2021-02-16\", \"2021-02-17\", \"2021-02-18\", \"2021-02-19\", \"2021-02-20\", \"2021-02-21\", \"2021-02-22\", \"2021-02-23\", \"2021-02-24\", \"2021-02-25\", \"2021-02-26\", \"2021-02-27\", \"2021-02-28\", \"2021-03-01\", \"2021-03-02\", \"2021-03-03\", \"2021-03-04\", \"2021-03-05\", \"2021-03-06\", \"2021-03-07\", \"2021-03-08\", \"2021-03-09\", \"2021-03-10\", \"2021-03-11\", \"2021-03-12\", \"2021-03-13\", \"2021-03-14\", \"2021-03-15\", \"2021-03-16\", \"2021-03-17\", \"2021-03-18\", \"2021-03-19\", \"2021-03-20\", \"2021-03-21\", \"2021-03-22\", \"2021-03-23\", \"2021-03-24\", \"2021-03-25\", \"2021-03-26\", \"2021-03-27\", \"2021-03-28\", \"2021-03-29\", \"2021-03-30\", \"2021-03-31\", \"2021-04-01\", \"2021-04-02\", \"2021-04-03\", \"2021-04-04\", \"2021-04-05\", \"2021-04-06\", \"2021-04-07\", \"2021-04-08\", \"2021-04-09\", \"2021-04-10\", \"2021-04-11\", \"2021-04-12\", \"2021-04-13\", \"2021-04-14\", \"2021-04-15\", \"2021-04-16\", \"2021-04-17\", \"2021-04-18\", \"2021-04-19\", \"2021-04-20\", \"2021-04-21\", \"2021-04-22\", \"2021-04-23\", \"2021-04-24\", \"2021-04-25\", \"2021-04-26\", \"2021-04-27\", \"2021-04-28\", \"2021-04-29\", \"2021-04-30\", \"2021-05-01\", \"2021-05-02\", \"2021-05-03\", \"2021-05-04\", \"2021-05-05\", \"2021-05-06\", \"2021-05-07\", \"2021-05-08\", \"2021-05-09\", \"2021-05-10\", \"2021-05-11\", \"2021-05-12\", \"2021-05-13\", \"2021-05-14\", \"2021-05-15\", \"2021-05-16\", \"2021-05-17\", \"2021-05-18\", \"2021-05-19\", \"2021-05-20\", \"2021-05-21\", \"2021-05-22\", \"2021-05-23\", \"2021-05-24\", \"2021-05-25\", \"2021-05-26\", \"2021-05-27\", \"2021-05-28\", \"2021-05-29\", \"2021-05-30\", \"2021-05-31\", \"2021-06-01\", \"2021-06-02\", \"2021-06-03\", \"2021-06-04\", \"2021-06-05\", \"2021-06-06\", \"2021-06-07\", \"2021-06-08\", \"2021-06-09\", \"2021-06-10\", \"2021-06-11\", \"2021-06-12\", \"2021-06-13\", \"2021-06-14\", \"2021-06-15\", \"2021-06-16\", \"2021-06-17\", \"2021-06-18\", \"2021-06-19\", \"2021-06-20\", \"2021-06-21\", \"2021-06-22\", \"2021-06-23\", \"2021-06-24\", \"2021-06-25\", \"2021-06-26\", \"2021-06-27\", \"2021-06-28\", \"2021-06-29\", \"2021-06-30\", \"2021-07-01\", \"2021-07-02\", \"2021-07-03\", \"2021-07-04\", \"2021-07-05\", \"2021-07-06\", \"2021-07-07\", \"2021-07-08\", \"2021-07-09\", \"2021-07-10\", \"2021-07-11\", \"2021-07-12\", \"2021-07-13\", \"2021-07-14\", \"2021-07-15\", \"2021-07-16\", \"2021-07-17\", \"2021-07-18\", \"2021-07-19\", \"2021-07-20\", \"2021-07-21\", \"2021-07-22\", \"2021-07-23\", \"2021-07-24\", \"2021-07-25\", \"2021-07-26\", \"2021-07-27\", \"2021-07-28\", \"2021-07-29\", \"2021-07-30\", \"2021-07-31\", \"2021-08-01\", \"2021-08-02\", \"2021-08-03\", \"2021-08-04\", \"2021-08-05\", \"2021-08-06\", \"2021-08-07\", \"2021-08-08\", \"2021-08-09\", \"2021-08-10\", \"2021-08-11\", \"2021-08-12\", \"2021-08-13\", \"2021-08-14\", \"2021-08-15\", \"2021-08-16\", \"2021-08-17\", \"2021-08-18\", \"2021-08-19\", \"2021-08-20\", \"2021-08-21\", \"2021-08-22\", \"2021-08-23\", \"2021-08-24\", \"2021-08-25\", \"2021-08-26\", \"2021-08-27\", \"2021-08-28\", \"2021-08-29\", \"2021-08-30\", \"2021-08-31\", \"2021-09-01\", \"2021-09-02\", \"2021-09-03\", \"2021-09-04\", \"2021-09-05\", \"2021-09-06\", \"2021-09-07\", \"2021-09-08\", \"2021-09-09\", \"2021-09-10\", \"2021-09-11\", \"2021-09-12\", \"2021-09-13\", \"2021-09-14\", \"2021-09-15\", \"2021-09-16\", \"2021-09-17\", \"2021-09-18\", \"2021-09-19\", \"2021-09-20\", \"2021-09-21\", \"2021-09-22\", \"2021-09-23\", \"2021-09-24\", \"2021-09-25\", \"2021-09-26\", \"2021-09-27\", \"2021-09-28\", \"2021-09-29\", \"2021-09-30\", \"2021-10-01\", \"2021-10-02\", \"2021-10-03\", \"2021-10-04\", \"2021-10-05\", \"2021-10-06\", \"2021-10-07\", \"2021-10-08\", \"2021-10-09\", \"2021-10-10\", \"2021-10-11\", \"2021-10-12\", \"2021-10-13\", \"2021-10-14\", \"2021-10-15\", \"2021-10-16\", \"2021-10-17\", \"2021-10-18\", \"2021-10-19\", \"2021-10-20\", \"2021-10-21\", \"2021-10-22\", \"2021-10-23\", \"2021-10-24\", \"2021-10-25\", \"2021-10-26\", \"2021-10-27\", \"2021-10-28\", \"2021-10-29\", \"2021-10-30\", \"2021-10-31\", \"2021-11-01\", \"2021-11-02\", \"2021-11-03\", \"2021-11-04\", \"2021-11-05\", \"2021-11-06\", \"2021-11-07\", \"2021-11-08\", \"2021-11-09\", \"2021-11-10\", \"2021-11-11\", \"2021-11-12\", \"2021-11-13\", \"2021-11-14\", \"2021-11-15\", \"2021-11-16\", \"2021-11-17\", \"2021-11-18\", \"2021-11-19\", \"2021-11-20\", \"2021-11-21\", \"2021-11-22\", \"2021-11-23\", \"2021-11-24\", \"2021-11-25\", \"2021-11-26\", \"2021-11-27\", \"2021-11-28\", \"2021-11-29\", \"2021-11-30\", \"2021-12-01\", \"2021-12-02\", \"2021-12-03\", \"2021-12-04\", \"2021-12-05\", \"2021-12-06\", \"2021-12-07\", \"2021-12-08\", \"2021-12-09\", \"2021-12-10\", \"2021-12-11\", \"2021-12-12\", \"2021-12-13\", \"2021-12-14\", \"2021-12-15\", \"2021-12-16\", \"2021-12-17\", \"2021-12-18\", \"2021-12-19\", \"2021-12-20\", \"2021-12-21\", \"2021-12-22\", \"2021-12-23\", \"2021-12-24\", \"2021-12-25\", \"2021-12-26\", \"2021-12-27\", \"2021-12-28\", \"2021-12-29\", \"2021-12-30\", \"2021-12-31\", \"2022-01-01\", \"2022-01-02\", \"2022-01-03\", \"2022-01-04\", \"2022-01-05\", \"2022-01-06\", \"2022-01-07\", \"2022-01-08\", \"2022-01-09\", \"2022-01-10\", \"2022-01-11\", \"2022-01-12\", \"2022-01-13\"], \"y\": [0, 0, 0, 0, 0, 0, 0, 0, 0, 0, 0, 0, 0, 2, 6, 10, 18, 32, 39, 68, 95, 142, 183, 264, 381, 502, 645, 935, 1180, 1512, 1929, 2415, 2963, 3716, 4535, 5335, 6149, 7185, 8138, 9166, 10162, 11159, 12116, 12998, 14001, 14937, 15669, 16473, 17141, 17793, 18412, 19040, 19647, 20212, 20759, 21326, 21804, 22267, 22777, 23287, 23616, 23841, 24035, 24576, 24788, 25028, 25956, 26206, 26358, 26584, 26798, 27003, 27282, 27448, 27617, 27755, 27953, 28168, 28302, 28437, 28540, 28663, 28802, 28900, 29046, 29138, 29241, 29339, 29438, 29535, 29612, 29699, 29766, 29847, 29918, 30011, 30066, 30123, 30183, 30239, 30309, 30376, 30431, 30511, 30565, 30605, 30645, 30683, 30722, 30767, 30816, 30839, 30884, 30934, 30970, 31001, 31029, 31075, 31105, 31137, 31143, 31776, 31791, 31814, 31836, 31860, 31895, 31911, 31934, 31945, 31979, 32004, 32019, 32029, 32075, 32092, 32115, 32133, 32147, 32167, 32187, 32203, 32218, 32228, 32270, 32278, 32295, 32305, 32322, 32333, 32342, 32362, 32372, 32390, 32401, 32413, 32422, 32431, 32329, 32336, 32345, 32354, 32361, 32372, 32384, 32399, 32407, 32414, 32424, 32435, 32446, 32451, 32451, 32456, 32464, 32482, 32489, 32495, 32499, 32507, 32515, 32522, 32534, 32541, 32551, 32559, 32567, 32573, 32579, 32585, 32600, 32612, 32611, 32618, 32619, 32625, 32629, 32639, 32655, 32662, 32669, 32682, 32679, 32686, 32691, 32690, 32691, 32696, 32708, 32713, 32722, 32737, 32743, 32757, 32768, 32789, 32794, 32813, 32827, 32836, 32850, 32859, 32867, 32875, 32879, 32896, 32905, 32916, 32935, 32944, 32959, 32972, 32990, 32998, 33005, 33022, 33038, 33049, 33059, 33073, 33092, 33107, 33128, 33143, 33152, 33174, 33187, 33198, 33222, 33247, 33267, 33287, 33314, 33343, 33373, 33398, 33424, 33452, 33477, 33508, 33540, 33576, 33607, 33648, 33696, 33737, 33767, 33804, 33847, 33890, 33959, 34004, 34049, 34101, 34150, 34222, 34286, 34346, 34409, 34488, 34552, 34637, 34723, 34799, 34884, 34983, 35074, 35198, 35288, 35425, 35522, 35647, 35775, 35897, 36017, 36147, 36300, 36454, 36604, 36739, 36870, 37000, 37118, 37256, 37412, 37557, 37733, 37854, 38001, 38167, 38315, 38486, 38683, 38846, 39041, 39208, 39404, 39588, 39760, 39997, 40203, 40376, 40570, 40753, 40933, 41148, 41348, 41530, 41694, 41889, 42090, 42273, 42434, 42639, 42825, 42996, 43178, 43354, 43524, 43687, 43842, 44012, 44210, 44387, 44512, 44683, 44851, 44992, 45138, 45295, 45431, 45552, 45683, 45807, 45957, 46119, 46233, 46346, 46454, 46562, 46680, 46790, 46914, 47025, 47143, 47247, 47345, 47464, 47565, 47672, 47767, 47857, 47921, 48000, 48092, 48208, 48277, 48370, 48475, 48537, 48624, 48686, 48773, 48848, 48916, 48942, 48959, 48977, 49231, 49305, 49363, 49446, 49537, 49648, 49696, 49790, 49872, 49946, 50042, 50124, 50195, 50239, 50332, 50388, 50465, 50527, 50610, 50693, 50745, 50839, 50912, 50965, 51034, 51077, 51122, 51183, 51228, 51299, 51361, 51419, 51471, 51511, 51587, 51608, 51677, 51728, 51791, 51830, 51889, 51949, 52005, 52038, 52077, 52118, 52155, 52192, 52234, 52291, 52332, 52366, 52377, 52417, 52449, 52480, 52505, 52531, 52555, 52572, 52591, 52621, 52638, 52664, 52685, 52710, 52724, 52740, 52758, 52784, 52793, 52811, 52840, 52852, 52885, 52895, 52906, 52914, 52927, 52942, 52958, 52968, 52977, 52993, 52995, 53009, 53017, 53024, 53026, 53034, 53048, 53056, 53052, 53060, 53066, 53081, 53089, 53093, 53095, 53107, 53109, 53109, 53118, 53122, 53127, 53134, 53138, 53142, 53149, 53151, 53153, 53159, 53170, 53175, 53176, 53181, 53191, 53195, 53200, 53207, 53214, 53216, 53219, 53228, 53235, 53236, 53248, 53250, 53257, 53266, 53274, 53281, 53294, 53301, 53315, 53318, 53331, 53346, 53352, 53360, 53400, 53429, 53439, 53454, 53476, 53486, 53519, 53532, 53548, 53564, 53601, 53620, 53646, 53662, 53691, 53722, 53745, 53769, 53792, 53823, 53847, 53875, 53925, 53949, 53965, 54007, 54037, 54069, 54088, 54156, 54174, 54211, 54230, 54271, 54317, 54350, 54395, 54424, 54441, 54479, 54502, 54559, 54602, 54641, 54702, 54718, 54769, 54785, 54822, 54886, 54933, 54976, 54993, 55016, 55057, 55090, 55131, 55150, 55203, 55229, 55253, 55304, 55347, 55402, 55447, 55465, 55484, 55514, 55557, 55588, 55625, 55664, 55702, 55732, 55756, 55806, 55840, 55879, 55902, 55942, 55969, 55995, 56044, 56067, 56114, 56144, 56191, 56225, 56245, 56280, 56323, 56360, 56400, 56439, 56454, 56475, 56508, 56551, 56584, 56619, 56663, 56681, 56714, 56741, 56775, 56816, 56840, 56861, 56917, 56944, 56993, 57049, 57107, 57158, 57211, 57241, 57273, 57332, 57396, 57449, 57507, 57572, 57622, 57671, 57724, 57788, 57867, 57911, 57989, 58037, 58097, 58147, 58221, 58292, 58373, 58422, 58422, 58465, 58604, 58650, 58820, 58917, 58993, 59072, 59152, 59240, 59339, 59485, 59631, 59827, 59913, 60083, 60162, 60428, 60638, 60876]}, {\"name\": \"new cases\", \"type\": \"bar\", \"x\": [\"2020-03-01\", \"2020-03-02\", \"2020-03-03\", \"2020-03-04\", \"2020-03-05\", \"2020-03-06\", \"2020-03-07\", \"2020-03-08\", \"2020-03-09\", \"2020-03-10\", \"2020-03-11\", \"2020-03-12\", \"2020-03-13\", \"2020-03-14\", \"2020-03-15\", \"2020-03-16\", \"2020-03-17\", \"2020-03-18\", \"2020-03-19\", \"2020-03-20\", \"2020-03-21\", \"2020-03-22\", \"2020-03-23\", \"2020-03-24\", \"2020-03-25\", \"2020-03-26\", \"2020-03-27\", \"2020-03-28\", \"2020-03-29\", \"2020-03-30\", \"2020-03-31\", \"2020-04-01\", \"2020-04-02\", \"2020-04-03\", \"2020-04-04\", \"2020-04-05\", \"2020-04-06\", \"2020-04-07\", \"2020-04-08\", \"2020-04-09\", \"2020-04-10\", \"2020-04-11\", \"2020-04-12\", \"2020-04-13\", \"2020-04-14\", \"2020-04-15\", \"2020-04-16\", \"2020-04-17\", \"2020-04-18\", \"2020-04-19\", \"2020-04-20\", \"2020-04-21\", \"2020-04-22\", \"2020-04-23\", \"2020-04-24\", \"2020-04-25\", \"2020-04-26\", \"2020-04-27\", \"2020-04-28\", \"2020-04-29\", \"2020-04-30\", \"2020-05-01\", \"2020-05-02\", \"2020-05-03\", \"2020-05-04\", \"2020-05-05\", \"2020-05-06\", \"2020-05-07\", \"2020-05-08\", \"2020-05-09\", \"2020-05-10\", \"2020-05-11\", \"2020-05-12\", \"2020-05-13\", \"2020-05-14\", \"2020-05-15\", \"2020-05-16\", \"2020-05-17\", \"2020-05-18\", \"2020-05-19\", \"2020-05-20\", \"2020-05-21\", \"2020-05-22\", \"2020-05-23\", \"2020-05-24\", \"2020-05-25\", \"2020-05-26\", \"2020-05-27\", \"2020-05-28\", \"2020-05-29\", \"2020-05-30\", \"2020-05-31\", \"2020-06-01\", \"2020-06-02\", \"2020-06-03\", \"2020-06-04\", \"2020-06-05\", \"2020-06-06\", \"2020-06-07\", \"2020-06-08\", \"2020-06-09\", \"2020-06-10\", \"2020-06-11\", \"2020-06-12\", \"2020-06-13\", \"2020-06-14\", \"2020-06-15\", \"2020-06-16\", \"2020-06-17\", \"2020-06-18\", \"2020-06-19\", \"2020-06-20\", \"2020-06-21\", \"2020-06-22\", \"2020-06-23\", \"2020-06-24\", \"2020-06-25\", \"2020-06-26\", \"2020-06-27\", \"2020-06-28\", \"2020-06-29\", \"2020-06-30\", \"2020-07-01\", \"2020-07-02\", \"2020-07-03\", \"2020-07-04\", \"2020-07-05\", \"2020-07-06\", \"2020-07-07\", \"2020-07-08\", \"2020-07-09\", \"2020-07-10\", \"2020-07-11\", \"2020-07-12\", \"2020-07-13\", \"2020-07-14\", \"2020-07-15\", \"2020-07-16\", \"2020-07-17\", \"2020-07-18\", \"2020-07-19\", \"2020-07-20\", \"2020-07-21\", \"2020-07-22\", \"2020-07-23\", \"2020-07-24\", \"2020-07-25\", \"2020-07-26\", \"2020-07-27\", \"2020-07-28\", \"2020-07-29\", \"2020-07-30\", \"2020-07-31\", \"2020-08-01\", \"2020-08-02\", \"2020-08-03\", \"2020-08-04\", \"2020-08-05\", \"2020-08-06\", \"2020-08-07\", \"2020-08-08\", \"2020-08-09\", \"2020-08-10\", \"2020-08-11\", \"2020-08-12\", \"2020-08-13\", \"2020-08-14\", \"2020-08-15\", \"2020-08-16\", \"2020-08-17\", \"2020-08-18\", \"2020-08-19\", \"2020-08-20\", \"2020-08-21\", \"2020-08-22\", \"2020-08-23\", \"2020-08-24\", \"2020-08-25\", \"2020-08-26\", \"2020-08-27\", \"2020-08-28\", \"2020-08-29\", \"2020-08-30\", \"2020-08-31\", \"2020-09-01\", \"2020-09-02\", \"2020-09-03\", \"2020-09-04\", \"2020-09-05\", \"2020-09-06\", \"2020-09-07\", \"2020-09-08\", \"2020-09-09\", \"2020-09-10\", \"2020-09-11\", \"2020-09-12\", \"2020-09-13\", \"2020-09-14\", \"2020-09-15\", \"2020-09-16\", \"2020-09-17\", \"2020-09-18\", \"2020-09-19\", \"2020-09-20\", \"2020-09-21\", \"2020-09-22\", \"2020-09-23\", \"2020-09-24\", \"2020-09-25\", \"2020-09-26\", \"2020-09-27\", \"2020-09-28\", \"2020-09-29\", \"2020-09-30\", \"2020-10-01\", \"2020-10-02\", \"2020-10-03\", \"2020-10-04\", \"2020-10-05\", \"2020-10-06\", \"2020-10-07\", \"2020-10-08\", \"2020-10-09\", \"2020-10-10\", \"2020-10-11\", \"2020-10-12\", \"2020-10-13\", \"2020-10-14\", \"2020-10-15\", \"2020-10-16\", \"2020-10-17\", \"2020-10-18\", \"2020-10-19\", \"2020-10-20\", \"2020-10-21\", \"2020-10-22\", \"2020-10-23\", \"2020-10-24\", \"2020-10-25\", \"2020-10-26\", \"2020-10-27\", \"2020-10-28\", \"2020-10-29\", \"2020-10-30\", \"2020-10-31\", \"2020-11-01\", \"2020-11-02\", \"2020-11-03\", \"2020-11-04\", \"2020-11-05\", \"2020-11-06\", \"2020-11-07\", \"2020-11-08\", \"2020-11-09\", \"2020-11-10\", \"2020-11-11\", \"2020-11-12\", \"2020-11-13\", \"2020-11-14\", \"2020-11-15\", \"2020-11-16\", \"2020-11-17\", \"2020-11-18\", \"2020-11-19\", \"2020-11-20\", \"2020-11-21\", \"2020-11-22\", \"2020-11-23\", \"2020-11-24\", \"2020-11-25\", \"2020-11-26\", \"2020-11-27\", \"2020-11-28\", \"2020-11-29\", \"2020-11-30\", \"2020-12-01\", \"2020-12-02\", \"2020-12-03\", \"2020-12-04\", \"2020-12-05\", \"2020-12-06\", \"2020-12-07\", \"2020-12-08\", \"2020-12-09\", \"2020-12-10\", \"2020-12-11\", \"2020-12-12\", \"2020-12-13\", \"2020-12-14\", \"2020-12-15\", \"2020-12-16\", \"2020-12-17\", \"2020-12-18\", \"2020-12-19\", \"2020-12-20\", \"2020-12-21\", \"2020-12-22\", \"2020-12-23\", \"2020-12-24\", \"2020-12-25\", \"2020-12-26\", \"2020-12-27\", \"2020-12-28\", \"2020-12-29\", \"2020-12-30\", \"2020-12-31\", \"2021-01-01\", \"2021-01-02\", \"2021-01-03\", \"2021-01-04\", \"2021-01-05\", \"2021-01-06\", \"2021-01-07\", \"2021-01-08\", \"2021-01-09\", \"2021-01-10\", \"2021-01-11\", \"2021-01-12\", \"2021-01-13\", \"2021-01-14\", \"2021-01-15\", \"2021-01-16\", \"2021-01-17\", \"2021-01-18\", \"2021-01-19\", \"2021-01-20\", \"2021-01-21\", \"2021-01-22\", \"2021-01-23\", \"2021-01-24\", \"2021-01-25\", \"2021-01-26\", \"2021-01-27\", \"2021-01-28\", \"2021-01-29\", \"2021-01-30\", \"2021-01-31\", \"2021-02-01\", \"2021-02-02\", \"2021-02-03\", \"2021-02-04\", \"2021-02-05\", \"2021-02-06\", \"2021-02-07\", \"2021-02-08\", \"2021-02-09\", \"2021-02-10\", \"2021-02-11\", \"2021-02-12\", \"2021-02-13\", \"2021-02-14\", \"2021-02-15\", \"2021-02-16\", \"2021-02-17\", \"2021-02-18\", \"2021-02-19\", \"2021-02-20\", \"2021-02-21\", \"2021-02-22\", \"2021-02-23\", \"2021-02-24\", \"2021-02-25\", \"2021-02-26\", \"2021-02-27\", \"2021-02-28\", \"2021-03-01\", \"2021-03-02\", \"2021-03-03\", \"2021-03-04\", \"2021-03-05\", \"2021-03-06\", \"2021-03-07\", \"2021-03-08\", \"2021-03-09\", \"2021-03-10\", \"2021-03-11\", \"2021-03-12\", \"2021-03-13\", \"2021-03-14\", \"2021-03-15\", \"2021-03-16\", \"2021-03-17\", \"2021-03-18\", \"2021-03-19\", \"2021-03-20\", \"2021-03-21\", \"2021-03-22\", \"2021-03-23\", \"2021-03-24\", \"2021-03-25\", \"2021-03-26\", \"2021-03-27\", \"2021-03-28\", \"2021-03-29\", \"2021-03-30\", \"2021-03-31\", \"2021-04-01\", \"2021-04-02\", \"2021-04-03\", \"2021-04-04\", \"2021-04-05\", \"2021-04-06\", \"2021-04-07\", \"2021-04-08\", \"2021-04-09\", \"2021-04-10\", \"2021-04-11\", \"2021-04-12\", \"2021-04-13\", \"2021-04-14\", \"2021-04-15\", \"2021-04-16\", \"2021-04-17\", \"2021-04-18\", \"2021-04-19\", \"2021-04-20\", \"2021-04-21\", \"2021-04-22\", \"2021-04-23\", \"2021-04-24\", \"2021-04-25\", \"2021-04-26\", \"2021-04-27\", \"2021-04-28\", \"2021-04-29\", \"2021-04-30\", \"2021-05-01\", \"2021-05-02\", \"2021-05-03\", \"2021-05-04\", \"2021-05-05\", \"2021-05-06\", \"2021-05-07\", \"2021-05-08\", \"2021-05-09\", \"2021-05-10\", \"2021-05-11\", \"2021-05-12\", \"2021-05-13\", \"2021-05-14\", \"2021-05-15\", \"2021-05-16\", \"2021-05-17\", \"2021-05-18\", \"2021-05-19\", \"2021-05-20\", \"2021-05-21\", \"2021-05-22\", \"2021-05-23\", \"2021-05-24\", \"2021-05-25\", \"2021-05-26\", \"2021-05-27\", \"2021-05-28\", \"2021-05-29\", \"2021-05-30\", \"2021-05-31\", \"2021-06-01\", \"2021-06-02\", \"2021-06-03\", \"2021-06-04\", \"2021-06-05\", \"2021-06-06\", \"2021-06-07\", \"2021-06-08\", \"2021-06-09\", \"2021-06-10\", \"2021-06-11\", \"2021-06-12\", \"2021-06-13\", \"2021-06-14\", \"2021-06-15\", \"2021-06-16\", \"2021-06-17\", \"2021-06-18\", \"2021-06-19\", \"2021-06-20\", \"2021-06-21\", \"2021-06-22\", \"2021-06-23\", \"2021-06-24\", \"2021-06-25\", \"2021-06-26\", \"2021-06-27\", \"2021-06-28\", \"2021-06-29\", \"2021-06-30\", \"2021-07-01\", \"2021-07-02\", \"2021-07-03\", \"2021-07-04\", \"2021-07-05\", \"2021-07-06\", \"2021-07-07\", \"2021-07-08\", \"2021-07-09\", \"2021-07-10\", \"2021-07-11\", \"2021-07-12\", \"2021-07-13\", \"2021-07-14\", \"2021-07-15\", \"2021-07-16\", \"2021-07-17\", \"2021-07-18\", \"2021-07-19\", \"2021-07-20\", \"2021-07-21\", \"2021-07-22\", \"2021-07-23\", \"2021-07-24\", \"2021-07-25\", \"2021-07-26\", \"2021-07-27\", \"2021-07-28\", \"2021-07-29\", \"2021-07-30\", \"2021-07-31\", \"2021-08-01\", \"2021-08-02\", \"2021-08-03\", \"2021-08-04\", \"2021-08-05\", \"2021-08-06\", \"2021-08-07\", \"2021-08-08\", \"2021-08-09\", \"2021-08-10\", \"2021-08-11\", \"2021-08-12\", \"2021-08-13\", \"2021-08-14\", \"2021-08-15\", \"2021-08-16\", \"2021-08-17\", \"2021-08-18\", \"2021-08-19\", \"2021-08-20\", \"2021-08-21\", \"2021-08-22\", \"2021-08-23\", \"2021-08-24\", \"2021-08-25\", \"2021-08-26\", \"2021-08-27\", \"2021-08-28\", \"2021-08-29\", \"2021-08-30\", \"2021-08-31\", \"2021-09-01\", \"2021-09-02\", \"2021-09-03\", \"2021-09-04\", \"2021-09-05\", \"2021-09-06\", \"2021-09-07\", \"2021-09-08\", \"2021-09-09\", \"2021-09-10\", \"2021-09-11\", \"2021-09-12\", \"2021-09-13\", \"2021-09-14\", \"2021-09-15\", \"2021-09-16\", \"2021-09-17\", \"2021-09-18\", \"2021-09-19\", \"2021-09-20\", \"2021-09-21\", \"2021-09-22\", \"2021-09-23\", \"2021-09-24\", \"2021-09-25\", \"2021-09-26\", \"2021-09-27\", \"2021-09-28\", \"2021-09-29\", \"2021-09-30\", \"2021-10-01\", \"2021-10-02\", \"2021-10-03\", \"2021-10-04\", \"2021-10-05\", \"2021-10-06\", \"2021-10-07\", \"2021-10-08\", \"2021-10-09\", \"2021-10-10\", \"2021-10-11\", \"2021-10-12\", \"2021-10-13\", \"2021-10-14\", \"2021-10-15\", \"2021-10-16\", \"2021-10-17\", \"2021-10-18\", \"2021-10-19\", \"2021-10-20\", \"2021-10-21\", \"2021-10-22\", \"2021-10-23\", \"2021-10-24\", \"2021-10-25\", \"2021-10-26\", \"2021-10-27\", \"2021-10-28\", \"2021-10-29\", \"2021-10-30\", \"2021-10-31\", \"2021-11-01\", \"2021-11-02\", \"2021-11-03\", \"2021-11-04\", \"2021-11-05\", \"2021-11-06\", \"2021-11-07\", \"2021-11-08\", \"2021-11-09\", \"2021-11-10\", \"2021-11-11\", \"2021-11-12\", \"2021-11-13\", \"2021-11-14\", \"2021-11-15\", \"2021-11-16\", \"2021-11-17\", \"2021-11-18\", \"2021-11-19\", \"2021-11-20\", \"2021-11-21\", \"2021-11-22\", \"2021-11-23\", \"2021-11-24\", \"2021-11-25\", \"2021-11-26\", \"2021-11-27\", \"2021-11-28\", \"2021-11-29\", \"2021-11-30\", \"2021-12-01\", \"2021-12-02\", \"2021-12-03\", \"2021-12-04\", \"2021-12-05\", \"2021-12-06\", \"2021-12-07\", \"2021-12-08\", \"2021-12-09\", \"2021-12-10\", \"2021-12-11\", \"2021-12-12\", \"2021-12-13\", \"2021-12-14\", \"2021-12-15\", \"2021-12-16\", \"2021-12-17\", \"2021-12-18\", \"2021-12-19\", \"2021-12-20\", \"2021-12-21\", \"2021-12-22\", \"2021-12-23\", \"2021-12-24\", \"2021-12-25\", \"2021-12-26\", \"2021-12-27\", \"2021-12-28\", \"2021-12-29\", \"2021-12-30\", \"2021-12-31\", \"2022-01-01\", \"2022-01-02\", \"2022-01-03\", \"2022-01-04\", \"2022-01-05\", \"2022-01-06\", \"2022-01-07\", \"2022-01-08\", \"2022-01-09\", \"2022-01-10\", \"2022-01-11\", \"2022-01-12\", \"2022-01-13\"], \"y\": [1, 0, 1, 9, 11, 22, 45, 17, 36, 31, 44, 109, 95, 189, 122, 218, 425, 1012, 1774, 2952, 3258, 4817, 5711, 4805, 7413, 5941, 5688, 8771, 6266, 7721, 8707, 8153, 8996, 10329, 12274, 8122, 9304, 8314, 9568, 10765, 10794, 10160, 8435, 6548, 7402, 11755, 8631, 7532, 7249, 6199, 4867, 4324, 5659, 6341, 8286, 10683, 6013, 4077, 3285, 4718, 4702, 3879, 4559, 3699, 2524, 2302, 2746, 3526, 2873, 2715, 2138, 1610, 1438, 2123, 2364, 2759, 2185, 1901, 1241, 1479, 1478, 2078, 1678, 1754, 1601, 1279, 1044, 1132, 1758, 1549, 1363, 1104, 945, 1361, 1043, 1053, 1042, 1083, 777, 712, 690, 664, 724, 821, 912, 694, 623, 630, 561, 626, 794, 707, 665, 555, 598, 575, 738, 804, 697, 624, 391, 458, 628, 872, 919, 725, 536, 516, 590, 691, 588, 790, 727, 679, 559, 913, 834, 767, 778, 752, 509, 519, 855, 706, 810, 758, 748, 532, 613, 535, 711, 779, 642, 754, 531, 542, 746, 639, 694, 720, 706, 513, 478, 667, 706, 736, 724, 738, 609, 410, 662, 626, 599, 707, 651, 581, 404, 629, 568, 789, 635, 635, 709, 649, 757, 710, 888, 863, 799, 729, 525, 557, 573, 756, 861, 849, 725, 586, 767, 653, 893, 793, 983, 865, 575, 751, 666, 953, 909, 1006, 868, 836, 1188, 1005, 1383, 1601, 1728, 1226, 937, 1394, 1356, 1835, 1593, 1448, 1143, 1032, 1391, 1235, 1464, 1703, 1788, 1390, 999, 1201, 2029, 1629, 1636, 2058, 1633, 1192, 1994, 2029, 2497, 2258, 2052, 2259, 1632, 2317, 2126, 3002, 3208, 3587, 3430, 3149, 3964, 4821, 4798, 5401, 5391, 3644, 3498, 5094, 5282, 5302, 5477, 5976, 5386, 5911, 4878, 6267, 6938, 8179, 6060, 6732, 6816, 7293, 8975, 9853, 11274, 10759, 9710, 8379, 9019, 10937, 10257, 10561, 11039, 10027, 8984, 9736, 9378, 10498, 12606, 9913, 9454, 9456, 10299, 11740, 13347, 12881, 11048, 8205, 10334, 12020, 12917, 15393, 17033, 15849, 12232, 11242, 13142, 16016, 17588, 19560, 17839, 16308, 14179, 14791, 14704, 14187, 19469, 15945, 13694, 13410, 12721, 11119, 13908, 15684, 13909, 12383, 11972, 11040, 10365, 13783, 12951, 12892, 11209, 8932, 7949, 7154, 6970, 7897, 11492, 9923, 8972, 8279, 6584, 10011, 8715, 8755, 8330, 6538, 6709, 5925, 9582, 8573, 8238, 6237, 6297, 6923, 6139, 8893, 8074, 8042, 7827, 6436, 6381, 6564, 7468, 8151, 8126, 7658, 5440, 6833, 6106, 7169, 8444, 6033, 6687, 7119, 6711, 6582, 5515, 5077, 6667, 3735, 4908, 6801, 20184, 8683, 8003, 8733, 8852, 8972, 5750, 7683, 9173, 8055, 7711, 7607, 6717, 6106, 6450, 8731, 8558, 7529, 6577, 5758, 5043, 6000, 6984, 6290, 6387, 5605, 5177, 4659, 4255, 5277, 4850, 4163, 4050, 3018, 3343, 3000, 3862, 3792, 3852, 2853, 2440, 2234, 2374, 2632, 2465, 3028, 2403, 1661, 1449, 2044, 2204, 2039, 1761, 1888, 1379, 1549, 1323, 1647, 1595, 1313, 1074, 964, 945, 882, 1145, 930, 866, 848, 524, 478, 403, 489, 757, 852, 491, 519, 459, 426, 549, 686, 430, 363, 377, 337, 286, 443, 415, 389, 287, 277, 266, 250, 383, 343, 345, 374, 321, 244, 275, 397, 474, 279, 312, 376, 307, 341, 637, 754, 730, 811, 642, 668, 725, 929, 629, 1421, 1143, 941, 1112, 1092, 1611, 1698, 1868, 2032, 1526, 1648, 1800, 2644, 2615, 3136, 2590, 2208, 3062, 2834, 3442, 3760, 4537, 3637, 1681, 1722, 7224, 4870, 4634, 4675, 4038, 4208, 3528, 4508, 5070, 3906, 6175, 4593, 3836, 3494, 3731, 5371, 6364, 5583, 2636, 5972, 3894, 4126, 5289, 5919, 3374, 6501, 3689, 3256, 2455, 6454, 5883, 6060, 3735, 5408, 4113, 4808, 6730, 6038, 3286, 7724, 3757, 5331, 4534, 5037, 6145, 3798, 6788, 2826, 5248, 5016, 4979, 5818, 3336, 3396, 6260, 3924, 6275, 5602, 5833, 3539, 2077, 7882, 3253, 4524, 4514, 6342, 4018, 3149, 5389, 3294, 4777, 4365, 3700, 3464, 2152, 5021, 2496, 4141, 3199, 5734, 3127, 2794, 5695, 2911, 4014, 4631, 4859, 3851, 3715, 5754, 4211, 5039, 6683, 6256, 5095, 4196, 7152, 5061, 6028, 8115, 7592, 5556, 8805, 5316, 5619, 7013, 6762, 8200, 3247, 4506, 8156, 6644, 9320, 11331, 11242, 7642, 7830, 11529, 8537, 9251, 11680, 11314, 7872, 7284, 15069, 8931, 12383, 17520, 20563, 10319, 28260, 20439, 26456, 28460, 33855, 32591, 0, 86162, 30441, 48836, 60359, 71078, 78804, 81077, 62542, 60453, 51289, 75149, 80378, 82094, 90132, 79777, 57884, 49410, 54911, 62049]}],\n",
              "                        {\"barmode\": \"overlay\", \"height\": 1080, \"template\": {\"data\": {\"bar\": [{\"error_x\": {\"color\": \"#2a3f5f\"}, \"error_y\": {\"color\": \"#2a3f5f\"}, \"marker\": {\"line\": {\"color\": \"#E5ECF6\", \"width\": 0.5}}, \"type\": \"bar\"}], \"barpolar\": [{\"marker\": {\"line\": {\"color\": \"#E5ECF6\", \"width\": 0.5}}, \"type\": \"barpolar\"}], \"carpet\": [{\"aaxis\": {\"endlinecolor\": \"#2a3f5f\", \"gridcolor\": \"white\", \"linecolor\": \"white\", \"minorgridcolor\": \"white\", \"startlinecolor\": \"#2a3f5f\"}, \"baxis\": {\"endlinecolor\": \"#2a3f5f\", \"gridcolor\": \"white\", \"linecolor\": \"white\", \"minorgridcolor\": \"white\", \"startlinecolor\": \"#2a3f5f\"}, \"type\": \"carpet\"}], \"choropleth\": [{\"colorbar\": {\"outlinewidth\": 0, \"ticks\": \"\"}, \"type\": \"choropleth\"}], \"contour\": [{\"colorbar\": {\"outlinewidth\": 0, \"ticks\": \"\"}, \"colorscale\": [[0.0, \"#0d0887\"], [0.1111111111111111, \"#46039f\"], [0.2222222222222222, \"#7201a8\"], [0.3333333333333333, \"#9c179e\"], [0.4444444444444444, \"#bd3786\"], [0.5555555555555556, \"#d8576b\"], [0.6666666666666666, \"#ed7953\"], [0.7777777777777778, \"#fb9f3a\"], [0.8888888888888888, \"#fdca26\"], [1.0, \"#f0f921\"]], \"type\": \"contour\"}], \"contourcarpet\": [{\"colorbar\": {\"outlinewidth\": 0, \"ticks\": \"\"}, \"type\": \"contourcarpet\"}], \"heatmap\": [{\"colorbar\": {\"outlinewidth\": 0, \"ticks\": \"\"}, \"colorscale\": [[0.0, \"#0d0887\"], [0.1111111111111111, \"#46039f\"], [0.2222222222222222, \"#7201a8\"], [0.3333333333333333, \"#9c179e\"], [0.4444444444444444, \"#bd3786\"], [0.5555555555555556, \"#d8576b\"], [0.6666666666666666, \"#ed7953\"], [0.7777777777777778, \"#fb9f3a\"], [0.8888888888888888, \"#fdca26\"], [1.0, \"#f0f921\"]], \"type\": \"heatmap\"}], \"heatmapgl\": [{\"colorbar\": {\"outlinewidth\": 0, \"ticks\": \"\"}, \"colorscale\": [[0.0, \"#0d0887\"], [0.1111111111111111, \"#46039f\"], [0.2222222222222222, \"#7201a8\"], [0.3333333333333333, \"#9c179e\"], [0.4444444444444444, \"#bd3786\"], [0.5555555555555556, \"#d8576b\"], [0.6666666666666666, \"#ed7953\"], [0.7777777777777778, \"#fb9f3a\"], [0.8888888888888888, \"#fdca26\"], [1.0, \"#f0f921\"]], \"type\": \"heatmapgl\"}], \"histogram\": [{\"marker\": {\"colorbar\": {\"outlinewidth\": 0, \"ticks\": \"\"}}, \"type\": \"histogram\"}], \"histogram2d\": [{\"colorbar\": {\"outlinewidth\": 0, \"ticks\": \"\"}, \"colorscale\": [[0.0, \"#0d0887\"], [0.1111111111111111, \"#46039f\"], [0.2222222222222222, \"#7201a8\"], [0.3333333333333333, \"#9c179e\"], [0.4444444444444444, \"#bd3786\"], [0.5555555555555556, \"#d8576b\"], [0.6666666666666666, \"#ed7953\"], [0.7777777777777778, \"#fb9f3a\"], [0.8888888888888888, \"#fdca26\"], [1.0, \"#f0f921\"]], \"type\": \"histogram2d\"}], \"histogram2dcontour\": [{\"colorbar\": {\"outlinewidth\": 0, \"ticks\": \"\"}, \"colorscale\": [[0.0, \"#0d0887\"], [0.1111111111111111, \"#46039f\"], [0.2222222222222222, \"#7201a8\"], [0.3333333333333333, \"#9c179e\"], [0.4444444444444444, \"#bd3786\"], [0.5555555555555556, \"#d8576b\"], [0.6666666666666666, \"#ed7953\"], [0.7777777777777778, \"#fb9f3a\"], [0.8888888888888888, \"#fdca26\"], [1.0, \"#f0f921\"]], \"type\": \"histogram2dcontour\"}], \"mesh3d\": [{\"colorbar\": {\"outlinewidth\": 0, \"ticks\": \"\"}, \"type\": \"mesh3d\"}], \"parcoords\": [{\"line\": {\"colorbar\": {\"outlinewidth\": 0, \"ticks\": \"\"}}, \"type\": \"parcoords\"}], \"pie\": [{\"automargin\": true, \"type\": \"pie\"}], \"scatter\": [{\"marker\": {\"colorbar\": {\"outlinewidth\": 0, \"ticks\": \"\"}}, \"type\": \"scatter\"}], \"scatter3d\": [{\"line\": {\"colorbar\": {\"outlinewidth\": 0, \"ticks\": \"\"}}, \"marker\": {\"colorbar\": {\"outlinewidth\": 0, \"ticks\": \"\"}}, \"type\": \"scatter3d\"}], \"scattercarpet\": [{\"marker\": {\"colorbar\": {\"outlinewidth\": 0, \"ticks\": \"\"}}, \"type\": \"scattercarpet\"}], \"scattergeo\": [{\"marker\": {\"colorbar\": {\"outlinewidth\": 0, \"ticks\": \"\"}}, \"type\": \"scattergeo\"}], \"scattergl\": [{\"marker\": {\"colorbar\": {\"outlinewidth\": 0, \"ticks\": \"\"}}, \"type\": \"scattergl\"}], \"scattermapbox\": [{\"marker\": {\"colorbar\": {\"outlinewidth\": 0, \"ticks\": \"\"}}, \"type\": \"scattermapbox\"}], \"scatterpolar\": [{\"marker\": {\"colorbar\": {\"outlinewidth\": 0, \"ticks\": \"\"}}, \"type\": \"scatterpolar\"}], \"scatterpolargl\": [{\"marker\": {\"colorbar\": {\"outlinewidth\": 0, \"ticks\": \"\"}}, \"type\": \"scatterpolargl\"}], \"scatterternary\": [{\"marker\": {\"colorbar\": {\"outlinewidth\": 0, \"ticks\": \"\"}}, \"type\": \"scatterternary\"}], \"surface\": [{\"colorbar\": {\"outlinewidth\": 0, \"ticks\": \"\"}, \"colorscale\": [[0.0, \"#0d0887\"], [0.1111111111111111, \"#46039f\"], [0.2222222222222222, \"#7201a8\"], [0.3333333333333333, \"#9c179e\"], [0.4444444444444444, \"#bd3786\"], [0.5555555555555556, \"#d8576b\"], [0.6666666666666666, \"#ed7953\"], [0.7777777777777778, \"#fb9f3a\"], [0.8888888888888888, \"#fdca26\"], [1.0, \"#f0f921\"]], \"type\": \"surface\"}], \"table\": [{\"cells\": {\"fill\": {\"color\": \"#EBF0F8\"}, \"line\": {\"color\": \"white\"}}, \"header\": {\"fill\": {\"color\": \"#C8D4E3\"}, \"line\": {\"color\": \"white\"}}, \"type\": \"table\"}]}, \"layout\": {\"annotationdefaults\": {\"arrowcolor\": \"#2a3f5f\", \"arrowhead\": 0, \"arrowwidth\": 1}, \"coloraxis\": {\"colorbar\": {\"outlinewidth\": 0, \"ticks\": \"\"}}, \"colorscale\": {\"diverging\": [[0, \"#8e0152\"], [0.1, \"#c51b7d\"], [0.2, \"#de77ae\"], [0.3, \"#f1b6da\"], [0.4, \"#fde0ef\"], [0.5, \"#f7f7f7\"], [0.6, \"#e6f5d0\"], [0.7, \"#b8e186\"], [0.8, \"#7fbc41\"], [0.9, \"#4d9221\"], [1, \"#276419\"]], \"sequential\": [[0.0, \"#0d0887\"], [0.1111111111111111, \"#46039f\"], [0.2222222222222222, \"#7201a8\"], [0.3333333333333333, \"#9c179e\"], [0.4444444444444444, \"#bd3786\"], [0.5555555555555556, \"#d8576b\"], [0.6666666666666666, \"#ed7953\"], [0.7777777777777778, \"#fb9f3a\"], [0.8888888888888888, \"#fdca26\"], [1.0, \"#f0f921\"]], \"sequentialminus\": [[0.0, \"#0d0887\"], [0.1111111111111111, \"#46039f\"], [0.2222222222222222, \"#7201a8\"], [0.3333333333333333, \"#9c179e\"], [0.4444444444444444, \"#bd3786\"], [0.5555555555555556, \"#d8576b\"], [0.6666666666666666, \"#ed7953\"], [0.7777777777777778, \"#fb9f3a\"], [0.8888888888888888, \"#fdca26\"], [1.0, \"#f0f921\"]]}, \"colorway\": [\"#636efa\", \"#EF553B\", \"#00cc96\", \"#ab63fa\", \"#FFA15A\", \"#19d3f3\", \"#FF6692\", \"#B6E880\", \"#FF97FF\", \"#FECB52\"], \"font\": {\"color\": \"#2a3f5f\"}, \"geo\": {\"bgcolor\": \"white\", \"lakecolor\": \"white\", \"landcolor\": \"#E5ECF6\", \"showlakes\": true, \"showland\": true, \"subunitcolor\": \"white\"}, \"hoverlabel\": {\"align\": \"left\"}, \"hovermode\": \"closest\", \"mapbox\": {\"style\": \"light\"}, \"paper_bgcolor\": \"white\", \"plot_bgcolor\": \"#E5ECF6\", \"polar\": {\"angularaxis\": {\"gridcolor\": \"white\", \"linecolor\": \"white\", \"ticks\": \"\"}, \"bgcolor\": \"#E5ECF6\", \"radialaxis\": {\"gridcolor\": \"white\", \"linecolor\": \"white\", \"ticks\": \"\"}}, \"scene\": {\"xaxis\": {\"backgroundcolor\": \"#E5ECF6\", \"gridcolor\": \"white\", \"gridwidth\": 2, \"linecolor\": \"white\", \"showbackground\": true, \"ticks\": \"\", \"zerolinecolor\": \"white\"}, \"yaxis\": {\"backgroundcolor\": \"#E5ECF6\", \"gridcolor\": \"white\", \"gridwidth\": 2, \"linecolor\": \"white\", \"showbackground\": true, \"ticks\": \"\", \"zerolinecolor\": \"white\"}, \"zaxis\": {\"backgroundcolor\": \"#E5ECF6\", \"gridcolor\": \"white\", \"gridwidth\": 2, \"linecolor\": \"white\", \"showbackground\": true, \"ticks\": \"\", \"zerolinecolor\": \"white\"}}, \"shapedefaults\": {\"line\": {\"color\": \"#2a3f5f\"}}, \"ternary\": {\"aaxis\": {\"gridcolor\": \"white\", \"linecolor\": \"white\", \"ticks\": \"\"}, \"baxis\": {\"gridcolor\": \"white\", \"linecolor\": \"white\", \"ticks\": \"\"}, \"bgcolor\": \"#E5ECF6\", \"caxis\": {\"gridcolor\": \"white\", \"linecolor\": \"white\", \"ticks\": \"\"}}, \"title\": {\"x\": 0.05}, \"xaxis\": {\"automargin\": true, \"gridcolor\": \"white\", \"linecolor\": \"white\", \"ticks\": \"\", \"title\": {\"standoff\": 15}, \"zerolinecolor\": \"white\", \"zerolinewidth\": 2}, \"yaxis\": {\"automargin\": true, \"gridcolor\": \"white\", \"linecolor\": \"white\", \"ticks\": \"\", \"title\": {\"standoff\": 15}, \"zerolinecolor\": \"white\", \"zerolinewidth\": 2}}}, \"title\": {\"font\": {\"size\": 30}, \"text\": \"Deaths to New Cases\"}, \"width\": 1920, \"xaxis\": {\"title\": {\"text\": \"Date\"}}, \"yaxis\": {\"title\": {\"text\": \"Count\"}}},\n",
              "                        {\"responsive\": true}\n",
              "                    ).then(function(){\n",
              "                            \n",
              "var gd = document.getElementById('5b9b8192-0e66-4900-a54f-4863205289c1');\n",
              "var x = new MutationObserver(function (mutations, observer) {{\n",
              "        var display = window.getComputedStyle(gd).display;\n",
              "        if (!display || display === 'none') {{\n",
              "            console.log([gd, 'removed!']);\n",
              "            Plotly.purge(gd);\n",
              "            observer.disconnect();\n",
              "        }}\n",
              "}});\n",
              "\n",
              "// Listen for the removal of the full notebook cells\n",
              "var notebookContainer = gd.closest('#notebook-container');\n",
              "if (notebookContainer) {{\n",
              "    x.observe(notebookContainer, {childList: true});\n",
              "}}\n",
              "\n",
              "// Listen for the clearing of the current output cell\n",
              "var outputEl = gd.closest('.output');\n",
              "if (outputEl) {{\n",
              "    x.observe(outputEl, {childList: true});\n",
              "}}\n",
              "\n",
              "                        })\n",
              "                };\n",
              "                \n",
              "            </script>\n",
              "        </div>\n",
              "</body>\n",
              "</html>"
            ]
          },
          "metadata": {}
        }
      ]
    },
    {
      "cell_type": "code",
      "source": [
        "# creating a subplot, and assigning the figure size\n",
        "fig, ax = plt.subplots(figsize=(30,12))\n",
        "\n",
        "# creating stacked bar charts\n",
        "# the deaths bar chart will be marked in grey to show the total deaths so far\n",
        "# the red bar is the second bar chart to overlap the grey bar to show the\n",
        "# disparty between new cases\n",
        "ax = sns.barplot(x = 'date', y = 'deaths', data=ny_df, color ='grey')\n",
        "ax = sns.barplot(x = 'date', y = 'new_cases', data=ny_df, color = 'red')\n",
        "\n",
        "\n",
        "plt.show()\n"
      ],
      "metadata": {
        "colab": {
          "base_uri": "https://localhost:8080/",
          "height": 694
        },
        "id": "9Ff5MvrigHgg",
        "outputId": "67e1aebf-d890-477c-c48a-b382fbc511f5"
      },
      "execution_count": null,
      "outputs": [
        {
          "output_type": "display_data",
          "data": {
            "image/png": "[encoded data removed]",
            "text/plain": [
              "<Figure size 2160x864 with 1 Axes>"
            ]
          },
          "metadata": {
            "needs_background": "light"
          }
        }
      ]
    },
    {
      "cell_type": "code",
      "metadata": {
        "id": "QDc2omEP_-qS",
        "colab": {
          "base_uri": "https://localhost:8080/",
          "height": 335
        },
        "outputId": "d22e5e75-5507-473d-b630-f453e4790885"
      },
      "source": [
        "# adjustments using proper columns for the x-axis\n",
        "# may be time series bar chart\n",
        "ny_df.plot(kind='bar')"
      ],
      "execution_count": null,
      "outputs": [
        {
          "output_type": "execute_result",
          "data": {
            "text/plain": [
              "<matplotlib.axes._subplots.AxesSubplot at 0x7fc922dcca10>"
            ]
          },
          "metadata": {},
          "execution_count": 131
        },
        {
          "output_type": "display_data",
          "data": {
            "image/png": "[encoded data removed]",
            "text/plain": [
              "<Figure size 432x288 with 1 Axes>"
            ]
          },
          "metadata": {
            "needs_background": "light"
          }
        }
      ]
    },
    {
      "cell_type": "code",
      "source": [
        "fig = px.area(ny_df,x='date', y='cases', facet_col=\"state\", facet_col_wrap=2)\n",
        "fig.show()"
      ],
      "metadata": {
        "id": "uj5FDXtFaHz8",
        "colab": {
          "base_uri": "https://localhost:8080/",
          "height": 542
        },
        "outputId": "7de3aa58-2d34-4675-ba62-27943c73b918"
      },
      "execution_count": null,
      "outputs": [
        {
          "output_type": "display_data",
          "data": {
            "text/html": [
              "<html>\n",
              "<head><meta charset=\"utf-8\" /></head>\n",
              "<body>\n",
              "    <div>\n",
              "            <script src=\"https://cdnjs.cloudflare.com/ajax/libs/mathjax/2.7.5/MathJax.js?config=TeX-AMS-MML_SVG\"></script><script type=\"text/javascript\">if (window.MathJax) {MathJax.Hub.Config({SVG: {font: \"STIX-Web\"}});}</script>\n",
              "                <script type=\"text/javascript\">window.PlotlyConfig = {MathJaxConfig: 'local'};</script>\n",
              "        <script src=\"https://cdn.plot.ly/plotly-latest.min.js\"></script>    \n",
              "            <div id=\"f5daa81a-7725-41de-bf05-0ac9899cd8be\" class=\"plotly-graph-div\" style=\"height:525px; width:100%;\"></div>\n",
              "            <script type=\"text/javascript\">\n",
              "                \n",
              "                    window.PLOTLYENV=window.PLOTLYENV || {};\n",
              "                    \n",
              "                if (document.getElementById(\"f5daa81a-7725-41de-bf05-0ac9899cd8be\")) {\n",
              "                    Plotly.newPlot(\n",
              "                        'f5daa81a-7725-41de-bf05-0ac9899cd8be',\n",
              "                        [{\"hoverlabel\": {\"namelength\": 0}, \"hovertemplate\": \"state=New York<br>date=%{x}<br>cases=%{y}\", \"legendgroup\": \"\", \"line\": {\"color\": \"#636efa\"}, \"mode\": \"lines\", \"name\": \"\", \"orientation\": \"v\", \"showlegend\": false, \"stackgroup\": \"1\", \"type\": \"scatter\", \"x\": [\"2020-03-01\", \"2020-03-02\", \"2020-03-03\", \"2020-03-04\", \"2020-03-05\", \"2020-03-06\", \"2020-03-07\", \"2020-03-08\", \"2020-03-09\", \"2020-03-10\", \"2020-03-11\", \"2020-03-12\", \"2020-03-13\", \"2020-03-14\", \"2020-03-15\", \"2020-03-16\", \"2020-03-17\", \"2020-03-18\", \"2020-03-19\", \"2020-03-20\", \"2020-03-21\", \"2020-03-22\", \"2020-03-23\", \"2020-03-24\", \"2020-03-25\", \"2020-03-26\", \"2020-03-27\", \"2020-03-28\", \"2020-03-29\", \"2020-03-30\", \"2020-03-31\", \"2020-04-01\", \"2020-04-02\", \"2020-04-03\", \"2020-04-04\", \"2020-04-05\", \"2020-04-06\", \"2020-04-07\", \"2020-04-08\", \"2020-04-09\", \"2020-04-10\", \"2020-04-11\", \"2020-04-12\", \"2020-04-13\", \"2020-04-14\", \"2020-04-15\", \"2020-04-16\", \"2020-04-17\", \"2020-04-18\", \"2020-04-19\", \"2020-04-20\", \"2020-04-21\", \"2020-04-22\", \"2020-04-23\", \"2020-04-24\", \"2020-04-25\", \"2020-04-26\", \"2020-04-27\", \"2020-04-28\", \"2020-04-29\", \"2020-04-30\", \"2020-05-01\", \"2020-05-02\", \"2020-05-03\", \"2020-05-04\", \"2020-05-05\", \"2020-05-06\", \"2020-05-07\", \"2020-05-08\", \"2020-05-09\", \"2020-05-10\", \"2020-05-11\", \"2020-05-12\", \"2020-05-13\", \"2020-05-14\", \"2020-05-15\", \"2020-05-16\", \"2020-05-17\", \"2020-05-18\", \"2020-05-19\", \"2020-05-20\", \"2020-05-21\", \"2020-05-22\", \"2020-05-23\", \"2020-05-24\", \"2020-05-25\", \"2020-05-26\", \"2020-05-27\", \"2020-05-28\", \"2020-05-29\", \"2020-05-30\", \"2020-05-31\", \"2020-06-01\", \"2020-06-02\", \"2020-06-03\", \"2020-06-04\", \"2020-06-05\", \"2020-06-06\", \"2020-06-07\", \"2020-06-08\", \"2020-06-09\", \"2020-06-10\", \"2020-06-11\", \"2020-06-12\", \"2020-06-13\", \"2020-06-14\", \"2020-06-15\", \"2020-06-16\", \"2020-06-17\", \"2020-06-18\", \"2020-06-19\", \"2020-06-20\", \"2020-06-21\", \"2020-06-22\", \"2020-06-23\", \"2020-06-24\", \"2020-06-25\", \"2020-06-26\", \"2020-06-27\", \"2020-06-28\", \"2020-06-29\", \"2020-06-30\", \"2020-07-01\", \"2020-07-02\", \"2020-07-03\", \"2020-07-04\", \"2020-07-05\", \"2020-07-06\", \"2020-07-07\", \"2020-07-08\", \"2020-07-09\", \"2020-07-10\", \"2020-07-11\", \"2020-07-12\", \"2020-07-13\", \"2020-07-14\", \"2020-07-15\", \"2020-07-16\", \"2020-07-17\", \"2020-07-18\", \"2020-07-19\", \"2020-07-20\", \"2020-07-21\", \"2020-07-22\", \"2020-07-23\", \"2020-07-24\", \"2020-07-25\", \"2020-07-26\", \"2020-07-27\", \"2020-07-28\", \"2020-07-29\", \"2020-07-30\", \"2020-07-31\", \"2020-08-01\", \"2020-08-02\", \"2020-08-03\", \"2020-08-04\", \"2020-08-05\", \"2020-08-06\", \"2020-08-07\", \"2020-08-08\", \"2020-08-09\", \"2020-08-10\", \"2020-08-11\", \"2020-08-12\", \"2020-08-13\", \"2020-08-14\", \"2020-08-15\", \"2020-08-16\", \"2020-08-17\", \"2020-08-18\", \"2020-08-19\", \"2020-08-20\", \"2020-08-21\", \"2020-08-22\", \"2020-08-23\", \"2020-08-24\", \"2020-08-25\", \"2020-08-26\", \"2020-08-27\", \"2020-08-28\", \"2020-08-29\", \"2020-08-30\", \"2020-08-31\", \"2020-09-01\", \"2020-09-02\", \"2020-09-03\", \"2020-09-04\", \"2020-09-05\", \"2020-09-06\", \"2020-09-07\", \"2020-09-08\", \"2020-09-09\", \"2020-09-10\", \"2020-09-11\", \"2020-09-12\", \"2020-09-13\", \"2020-09-14\", \"2020-09-15\", \"2020-09-16\", \"2020-09-17\", \"2020-09-18\", \"2020-09-19\", \"2020-09-20\", \"2020-09-21\", \"2020-09-22\", \"2020-09-23\", \"2020-09-24\", \"2020-09-25\", \"2020-09-26\", \"2020-09-27\", \"2020-09-28\", \"2020-09-29\", \"2020-09-30\", \"2020-10-01\", \"2020-10-02\", \"2020-10-03\", \"2020-10-04\", \"2020-10-05\", \"2020-10-06\", \"2020-10-07\", \"2020-10-08\", \"2020-10-09\", \"2020-10-10\", \"2020-10-11\", \"2020-10-12\", \"2020-10-13\", \"2020-10-14\", \"2020-10-15\", \"2020-10-16\", \"2020-10-17\", \"2020-10-18\", \"2020-10-19\", \"2020-10-20\", \"2020-10-21\", \"2020-10-22\", \"2020-10-23\", \"2020-10-24\", \"2020-10-25\", \"2020-10-26\", \"2020-10-27\", \"2020-10-28\", \"2020-10-29\", \"2020-10-30\", \"2020-10-31\", \"2020-11-01\", \"2020-11-02\", \"2020-11-03\", \"2020-11-04\", \"2020-11-05\", \"2020-11-06\", \"2020-11-07\", \"2020-11-08\", \"2020-11-09\", \"2020-11-10\", \"2020-11-11\", \"2020-11-12\", \"2020-11-13\", \"2020-11-14\", \"2020-11-15\", \"2020-11-16\", \"2020-11-17\", \"2020-11-18\", \"2020-11-19\", \"2020-11-20\", \"2020-11-21\", \"2020-11-22\", \"2020-11-23\", \"2020-11-24\", \"2020-11-25\", \"2020-11-26\", \"2020-11-27\", \"2020-11-28\", \"2020-11-29\", \"2020-11-30\", \"2020-12-01\", \"2020-12-02\", \"2020-12-03\", \"2020-12-04\", \"2020-12-05\", \"2020-12-06\", \"2020-12-07\", \"2020-12-08\", \"2020-12-09\", \"2020-12-10\", \"2020-12-11\", \"2020-12-12\", \"2020-12-13\", \"2020-12-14\", \"2020-12-15\", \"2020-12-16\", \"2020-12-17\", \"2020-12-18\", \"2020-12-19\", \"2020-12-20\", \"2020-12-21\", \"2020-12-22\", \"2020-12-23\", \"2020-12-24\", \"2020-12-25\", \"2020-12-26\", \"2020-12-27\", \"2020-12-28\", \"2020-12-29\", \"2020-12-30\", \"2020-12-31\", \"2021-01-01\", \"2021-01-02\", \"2021-01-03\", \"2021-01-04\", \"2021-01-05\", \"2021-01-06\", \"2021-01-07\", \"2021-01-08\", \"2021-01-09\", \"2021-01-10\", \"2021-01-11\", \"2021-01-12\", \"2021-01-13\", \"2021-01-14\", \"2021-01-15\", \"2021-01-16\", \"2021-01-17\", \"2021-01-18\", \"2021-01-19\", \"2021-01-20\", \"2021-01-21\", \"2021-01-22\", \"2021-01-23\", \"2021-01-24\", \"2021-01-25\", \"2021-01-26\", \"2021-01-27\", \"2021-01-28\", \"2021-01-29\", \"2021-01-30\", \"2021-01-31\", \"2021-02-01\", \"2021-02-02\", \"2021-02-03\", \"2021-02-04\", \"2021-02-05\", \"2021-02-06\", \"2021-02-07\", \"2021-02-08\", \"2021-02-09\", \"2021-02-10\", \"2021-02-11\", \"2021-02-12\", \"2021-02-13\", \"2021-02-14\", \"2021-02-15\", \"2021-02-16\", \"2021-02-17\", \"2021-02-18\", \"2021-02-19\", \"2021-02-20\", \"2021-02-21\", \"2021-02-22\", \"2021-02-23\", \"2021-02-24\", \"2021-02-25\", \"2021-02-26\", \"2021-02-27\", \"2021-02-28\", \"2021-03-01\", \"2021-03-02\", \"2021-03-03\", \"2021-03-04\", \"2021-03-05\", \"2021-03-06\", \"2021-03-07\", \"2021-03-08\", \"2021-03-09\", \"2021-03-10\", \"2021-03-11\", \"2021-03-12\", \"2021-03-13\", \"2021-03-14\", \"2021-03-15\", \"2021-03-16\", \"2021-03-17\", \"2021-03-18\", \"2021-03-19\", \"2021-03-20\", \"2021-03-21\", \"2021-03-22\", \"2021-03-23\", \"2021-03-24\", \"2021-03-25\", \"2021-03-26\", \"2021-03-27\", \"2021-03-28\", \"2021-03-29\", \"2021-03-30\", \"2021-03-31\", \"2021-04-01\", \"2021-04-02\", \"2021-04-03\", \"2021-04-04\", \"2021-04-05\", \"2021-04-06\", \"2021-04-07\", \"2021-04-08\", \"2021-04-09\", \"2021-04-10\", \"2021-04-11\", \"2021-04-12\", \"2021-04-13\", \"2021-04-14\", \"2021-04-15\", \"2021-04-16\", \"2021-04-17\", \"2021-04-18\", \"2021-04-19\", \"2021-04-20\", \"2021-04-21\", \"2021-04-22\", \"2021-04-23\", \"2021-04-24\", \"2021-04-25\", \"2021-04-26\", \"2021-04-27\", \"2021-04-28\", \"2021-04-29\", \"2021-04-30\", \"2021-05-01\", \"2021-05-02\", \"2021-05-03\", \"2021-05-04\", \"2021-05-05\", \"2021-05-06\", \"2021-05-07\", \"2021-05-08\", \"2021-05-09\", \"2021-05-10\", \"2021-05-11\", \"2021-05-12\", \"2021-05-13\", \"2021-05-14\", \"2021-05-15\", \"2021-05-16\", \"2021-05-17\", \"2021-05-18\", \"2021-05-19\", \"2021-05-20\", \"2021-05-21\", \"2021-05-22\", \"2021-05-23\", \"2021-05-24\", \"2021-05-25\", \"2021-05-26\", \"2021-05-27\", \"2021-05-28\", \"2021-05-29\", \"2021-05-30\", \"2021-05-31\", \"2021-06-01\", \"2021-06-02\", \"2021-06-03\", \"2021-06-04\", \"2021-06-05\", \"2021-06-06\", \"2021-06-07\", \"2021-06-08\", \"2021-06-09\", \"2021-06-10\", \"2021-06-11\", \"2021-06-12\", \"2021-06-13\", \"2021-06-14\", \"2021-06-15\", \"2021-06-16\", \"2021-06-17\", \"2021-06-18\", \"2021-06-19\", \"2021-06-20\", \"2021-06-21\", \"2021-06-22\", \"2021-06-23\", \"2021-06-24\", \"2021-06-25\", \"2021-06-26\", \"2021-06-27\", \"2021-06-28\", \"2021-06-29\", \"2021-06-30\", \"2021-07-01\", \"2021-07-02\", \"2021-07-03\", \"2021-07-04\", \"2021-07-05\", \"2021-07-06\", \"2021-07-07\", \"2021-07-08\", \"2021-07-09\", \"2021-07-10\", \"2021-07-11\", \"2021-07-12\", \"2021-07-13\", \"2021-07-14\", \"2021-07-15\", \"2021-07-16\", \"2021-07-17\", \"2021-07-18\", \"2021-07-19\", \"2021-07-20\", \"2021-07-21\", \"2021-07-22\", \"2021-07-23\", \"2021-07-24\", \"2021-07-25\", \"2021-07-26\", \"2021-07-27\", \"2021-07-28\", \"2021-07-29\", \"2021-07-30\", \"2021-07-31\", \"2021-08-01\", \"2021-08-02\", \"2021-08-03\", \"2021-08-04\", \"2021-08-05\", \"2021-08-06\", \"2021-08-07\", \"2021-08-08\", \"2021-08-09\", \"2021-08-10\", \"2021-08-11\", \"2021-08-12\", \"2021-08-13\", \"2021-08-14\", \"2021-08-15\", \"2021-08-16\", \"2021-08-17\", \"2021-08-18\", \"2021-08-19\", \"2021-08-20\", \"2021-08-21\", \"2021-08-22\", \"2021-08-23\", \"2021-08-24\", \"2021-08-25\", \"2021-08-26\", \"2021-08-27\", \"2021-08-28\", \"2021-08-29\", \"2021-08-30\", \"2021-08-31\", \"2021-09-01\", \"2021-09-02\", \"2021-09-03\", \"2021-09-04\", \"2021-09-05\", \"2021-09-06\", \"2021-09-07\", \"2021-09-08\", \"2021-09-09\", \"2021-09-10\", \"2021-09-11\", \"2021-09-12\", \"2021-09-13\", \"2021-09-14\", \"2021-09-15\", \"2021-09-16\", \"2021-09-17\", \"2021-09-18\", \"2021-09-19\", \"2021-09-20\", \"2021-09-21\", \"2021-09-22\", \"2021-09-23\", \"2021-09-24\", \"2021-09-25\", \"2021-09-26\", \"2021-09-27\", \"2021-09-28\", \"2021-09-29\", \"2021-09-30\", \"2021-10-01\", \"2021-10-02\", \"2021-10-03\", \"2021-10-04\", \"2021-10-05\", \"2021-10-06\", \"2021-10-07\", \"2021-10-08\", \"2021-10-09\", \"2021-10-10\", \"2021-10-11\", \"2021-10-12\", \"2021-10-13\", \"2021-10-14\", \"2021-10-15\", \"2021-10-16\", \"2021-10-17\", \"2021-10-18\", \"2021-10-19\", \"2021-10-20\", \"2021-10-21\", \"2021-10-22\", \"2021-10-23\", \"2021-10-24\", \"2021-10-25\", \"2021-10-26\", \"2021-10-27\", \"2021-10-28\", \"2021-10-29\", \"2021-10-30\", \"2021-10-31\", \"2021-11-01\", \"2021-11-02\", \"2021-11-03\", \"2021-11-04\", \"2021-11-05\", \"2021-11-06\", \"2021-11-07\", \"2021-11-08\", \"2021-11-09\", \"2021-11-10\", \"2021-11-11\", \"2021-11-12\", \"2021-11-13\", \"2021-11-14\", \"2021-11-15\", \"2021-11-16\", \"2021-11-17\", \"2021-11-18\", \"2021-11-19\", \"2021-11-20\", \"2021-11-21\", \"2021-11-22\", \"2021-11-23\", \"2021-11-24\", \"2021-11-25\", \"2021-11-26\", \"2021-11-27\", \"2021-11-28\", \"2021-11-29\", \"2021-11-30\", \"2021-12-01\", \"2021-12-02\", \"2021-12-03\", \"2021-12-04\", \"2021-12-05\", \"2021-12-06\", \"2021-12-07\", \"2021-12-08\", \"2021-12-09\", \"2021-12-10\", \"2021-12-11\", \"2021-12-12\", \"2021-12-13\", \"2021-12-14\", \"2021-12-15\", \"2021-12-16\", \"2021-12-17\", \"2021-12-18\", \"2021-12-19\", \"2021-12-20\", \"2021-12-21\", \"2021-12-22\", \"2021-12-23\", \"2021-12-24\", \"2021-12-25\", \"2021-12-26\", \"2021-12-27\", \"2021-12-28\", \"2021-12-29\", \"2021-12-30\", \"2021-12-31\", \"2022-01-01\", \"2022-01-02\", \"2022-01-03\", \"2022-01-04\", \"2022-01-05\", \"2022-01-06\", \"2022-01-07\", \"2022-01-08\", \"2022-01-09\", \"2022-01-10\", \"2022-01-11\", \"2022-01-12\", \"2022-01-13\"], \"xaxis\": \"x\", \"y\": [1, 1, 2, 11, 22, 44, 89, 106, 142, 173, 217, 326, 421, 610, 732, 950, 1375, 2387, 4161, 7113, 10371, 15188, 20899, 25704, 33117, 39058, 44746, 53517, 59783, 67504, 76211, 84364, 93360, 103689, 115963, 124085, 133389, 141703, 151271, 162036, 172830, 182990, 191425, 197973, 205375, 217130, 225761, 233293, 240542, 246741, 251608, 255932, 261591, 267932, 276218, 286901, 292914, 296991, 300276, 304994, 309696, 313575, 318134, 321833, 324357, 326659, 329405, 332931, 335804, 338519, 340657, 342267, 343705, 345828, 348192, 350951, 353136, 355037, 356278, 357757, 359235, 361313, 362991, 364745, 366346, 367625, 368669, 369801, 371559, 373108, 374471, 375575, 376520, 377881, 378924, 379977, 381019, 382102, 382879, 383591, 384281, 384945, 385669, 386490, 387402, 388096, 388719, 389349, 389910, 390536, 391330, 392037, 392702, 393257, 393855, 394430, 395168, 395972, 396669, 397293, 397684, 398142, 398770, 399642, 400561, 401286, 401822, 402338, 402928, 403619, 404207, 404997, 405724, 406403, 406962, 407875, 408709, 409476, 410254, 411006, 411515, 412034, 412889, 413595, 414405, 415163, 415911, 416443, 417056, 417591, 418302, 419081, 419723, 420477, 421008, 421550, 422296, 422935, 423629, 424349, 425055, 425568, 426046, 426713, 427419, 428155, 428879, 429617, 430226, 430636, 431298, 431924, 432523, 433230, 433881, 434462, 434866, 435495, 436063, 436852, 437487, 438122, 438831, 439480, 440237, 440947, 441835, 442698, 443497, 444226, 444751, 445308, 445881, 446637, 447498, 448347, 449072, 449658, 450425, 451078, 451971, 452764, 453747, 454612, 455187, 455938, 456604, 457557, 458466, 459472, 460340, 461176, 462364, 463369, 464752, 466353, 468081, 469307, 470244, 471638, 472994, 474829, 476422, 477870, 479013, 480045, 481436, 482671, 484135, 485838, 487626, 489016, 490015, 491216, 493245, 494874, 496510, 498568, 500201, 501393, 503387, 505416, 507913, 510171, 512223, 514482, 516114, 518431, 520557, 523559, 526767, 530354, 533784, 536933, 540897, 545718, 550516, 555917, 561308, 564952, 568450, 573544, 578826, 584128, 589605, 595581, 600967, 606878, 611756, 618023, 624961, 633140, 639200, 645932, 652748, 660041, 669016, 678869, 690143, 700902, 710612, 718991, 728010, 738947, 749204, 759765, 770804, 780831, 789815, 799551, 808929, 819427, 832033, 841946, 851400, 860856, 871155, 882895, 896242, 909123, 920171, 928376, 938710, 950730, 963647, 979040, 996073, 1011922, 1024154, 1035396, 1048538, 1064554, 1082142, 1101702, 1119541, 1135849, 1150028, 1164819, 1179523, 1193710, 1213179, 1229124, 1242818, 1256228, 1268949, 1280068, 1293976, 1309660, 1323569, 1335952, 1347924, 1358964, 1369329, 1383112, 1396063, 1408955, 1420164, 1429096, 1437045, 1444199, 1451169, 1459066, 1470558, 1480481, 1489453, 1497732, 1504316, 1514327, 1523042, 1531797, 1540127, 1546665, 1553374, 1559299, 1568881, 1577454, 1585692, 1591929, 1598226, 1605149, 1611288, 1620181, 1628255, 1636297, 1644124, 1650560, 1656941, 1663505, 1670973, 1679124, 1687250, 1694908, 1700348, 1707181, 1713287, 1720456, 1728900, 1734933, 1741620, 1748739, 1755450, 1762032, 1767547, 1772624, 1779291, 1783026, 1787934, 1794735, 1814919, 1823602, 1831605, 1840338, 1849190, 1858162, 1863912, 1871595, 1880768, 1888823, 1896534, 1904141, 1910858, 1916964, 1923414, 1932145, 1940703, 1948232, 1954809, 1960567, 1965610, 1971610, 1978594, 1984884, 1991271, 1996876, 2002053, 2006712, 2010967, 2016244, 2021094, 2025257, 2029307, 2032325, 2035668, 2038668, 2042530, 2046322, 2050174, 2053027, 2055467, 2057701, 2060075, 2062707, 2065172, 2068200, 2070603, 2072264, 2073713, 2075757, 2077961, 2080000, 2081761, 2083649, 2085028, 2086577, 2087900, 2089547, 2091142, 2092455, 2093529, 2094493, 2095438, 2096320, 2097465, 2098395, 2099261, 2100109, 2100633, 2101111, 2101514, 2102003, 2102760, 2103612, 2104103, 2104622, 2105081, 2105507, 2106056, 2106742, 2107172, 2107535, 2107912, 2108249, 2108535, 2108978, 2109393, 2109782, 2110069, 2110346, 2110612, 2110862, 2111245, 2111588, 2111933, 2112307, 2112628, 2112872, 2113147, 2113544, 2114018, 2114297, 2114609, 2114985, 2115292, 2115633, 2116270, 2117024, 2117754, 2118565, 2119207, 2119875, 2120600, 2121529, 2122158, 2123579, 2124722, 2125663, 2126775, 2127867, 2129478, 2131176, 2133044, 2135076, 2136602, 2138250, 2140050, 2142694, 2145309, 2148445, 2151035, 2153243, 2156305, 2159139, 2162581, 2166341, 2170878, 2174515, 2176196, 2177918, 2185142, 2190012, 2194646, 2199321, 2203359, 2207567, 2211095, 2215603, 2220673, 2224579, 2230754, 2235347, 2239183, 2242677, 2246408, 2251779, 2258143, 2263726, 2266362, 2272334, 2276228, 2280354, 2285643, 2291562, 2294936, 2301437, 2305126, 2308382, 2310837, 2317291, 2323174, 2329234, 2332969, 2338377, 2342490, 2347298, 2354028, 2360066, 2363352, 2371076, 2374833, 2380164, 2384698, 2389735, 2395880, 2399678, 2406466, 2409292, 2414540, 2419556, 2424535, 2430353, 2433689, 2437085, 2443345, 2447269, 2453544, 2459146, 2464979, 2468518, 2470595, 2478477, 2481730, 2486254, 2490768, 2497110, 2501128, 2504277, 2509666, 2512960, 2517737, 2522102, 2525802, 2529266, 2531418, 2536439, 2538935, 2543076, 2546275, 2552009, 2555136, 2557930, 2563625, 2566536, 2570550, 2575181, 2580040, 2583891, 2587606, 2593360, 2597571, 2602610, 2609293, 2615549, 2620644, 2624840, 2631992, 2637053, 2643081, 2651196, 2658788, 2664344, 2673149, 2678465, 2684084, 2691097, 2697859, 2706059, 2709306, 2713812, 2721968, 2728612, 2737932, 2749263, 2760505, 2768147, 2775977, 2787506, 2796043, 2805294, 2816974, 2828288, 2836160, 2843444, 2858513, 2867444, 2879827, 2897347, 2917910, 2928229, 2956489, 2976928, 3003384, 3031844, 3065699, 3098290, 3098290, 3184452, 3214893, 3263729, 3324088, 3395166, 3473970, 3555047, 3617589, 3678042, 3729331, 3804480, 3884858, 3966952, 4057084, 4136861, 4194745, 4244155, 4299066, 4361115], \"yaxis\": \"y\"}],\n",
              "                        {\"annotations\": [{\"font\": {}, \"showarrow\": false, \"text\": \"state=New York\", \"x\": 0.5, \"xanchor\": \"center\", \"xref\": \"paper\", \"y\": 1.0, \"yanchor\": \"bottom\", \"yref\": \"paper\"}], \"legend\": {\"tracegroupgap\": 0}, \"margin\": {\"t\": 60}, \"template\": {\"data\": {\"bar\": [{\"error_x\": {\"color\": \"#2a3f5f\"}, \"error_y\": {\"color\": \"#2a3f5f\"}, \"marker\": {\"line\": {\"color\": \"#E5ECF6\", \"width\": 0.5}}, \"type\": \"bar\"}], \"barpolar\": [{\"marker\": {\"line\": {\"color\": \"#E5ECF6\", \"width\": 0.5}}, \"type\": \"barpolar\"}], \"carpet\": [{\"aaxis\": {\"endlinecolor\": \"#2a3f5f\", \"gridcolor\": \"white\", \"linecolor\": \"white\", \"minorgridcolor\": \"white\", \"startlinecolor\": \"#2a3f5f\"}, \"baxis\": {\"endlinecolor\": \"#2a3f5f\", \"gridcolor\": \"white\", \"linecolor\": \"white\", \"minorgridcolor\": \"white\", \"startlinecolor\": \"#2a3f5f\"}, \"type\": \"carpet\"}], \"choropleth\": [{\"colorbar\": {\"outlinewidth\": 0, \"ticks\": \"\"}, \"type\": \"choropleth\"}], \"contour\": [{\"colorbar\": {\"outlinewidth\": 0, \"ticks\": \"\"}, \"colorscale\": [[0.0, \"#0d0887\"], [0.1111111111111111, \"#46039f\"], [0.2222222222222222, \"#7201a8\"], [0.3333333333333333, \"#9c179e\"], [0.4444444444444444, \"#bd3786\"], [0.5555555555555556, \"#d8576b\"], [0.6666666666666666, \"#ed7953\"], [0.7777777777777778, \"#fb9f3a\"], [0.8888888888888888, \"#fdca26\"], [1.0, \"#f0f921\"]], \"type\": \"contour\"}], \"contourcarpet\": [{\"colorbar\": {\"outlinewidth\": 0, \"ticks\": \"\"}, \"type\": \"contourcarpet\"}], \"heatmap\": [{\"colorbar\": {\"outlinewidth\": 0, \"ticks\": \"\"}, \"colorscale\": [[0.0, \"#0d0887\"], [0.1111111111111111, \"#46039f\"], [0.2222222222222222, \"#7201a8\"], [0.3333333333333333, \"#9c179e\"], [0.4444444444444444, \"#bd3786\"], [0.5555555555555556, \"#d8576b\"], [0.6666666666666666, \"#ed7953\"], [0.7777777777777778, \"#fb9f3a\"], [0.8888888888888888, \"#fdca26\"], [1.0, \"#f0f921\"]], \"type\": \"heatmap\"}], \"heatmapgl\": [{\"colorbar\": {\"outlinewidth\": 0, \"ticks\": \"\"}, \"colorscale\": [[0.0, \"#0d0887\"], [0.1111111111111111, \"#46039f\"], [0.2222222222222222, \"#7201a8\"], [0.3333333333333333, \"#9c179e\"], [0.4444444444444444, \"#bd3786\"], [0.5555555555555556, \"#d8576b\"], [0.6666666666666666, \"#ed7953\"], [0.7777777777777778, \"#fb9f3a\"], [0.8888888888888888, \"#fdca26\"], [1.0, \"#f0f921\"]], \"type\": \"heatmapgl\"}], \"histogram\": [{\"marker\": {\"colorbar\": {\"outlinewidth\": 0, \"ticks\": \"\"}}, \"type\": \"histogram\"}], \"histogram2d\": [{\"colorbar\": {\"outlinewidth\": 0, \"ticks\": \"\"}, \"colorscale\": [[0.0, \"#0d0887\"], [0.1111111111111111, \"#46039f\"], [0.2222222222222222, \"#7201a8\"], [0.3333333333333333, \"#9c179e\"], [0.4444444444444444, \"#bd3786\"], [0.5555555555555556, \"#d8576b\"], [0.6666666666666666, \"#ed7953\"], [0.7777777777777778, \"#fb9f3a\"], [0.8888888888888888, \"#fdca26\"], [1.0, \"#f0f921\"]], \"type\": \"histogram2d\"}], \"histogram2dcontour\": [{\"colorbar\": {\"outlinewidth\": 0, \"ticks\": \"\"}, \"colorscale\": [[0.0, \"#0d0887\"], [0.1111111111111111, \"#46039f\"], [0.2222222222222222, \"#7201a8\"], [0.3333333333333333, \"#9c179e\"], [0.4444444444444444, \"#bd3786\"], [0.5555555555555556, \"#d8576b\"], [0.6666666666666666, \"#ed7953\"], [0.7777777777777778, \"#fb9f3a\"], [0.8888888888888888, \"#fdca26\"], [1.0, \"#f0f921\"]], \"type\": \"histogram2dcontour\"}], \"mesh3d\": [{\"colorbar\": {\"outlinewidth\": 0, \"ticks\": \"\"}, \"type\": \"mesh3d\"}], \"parcoords\": [{\"line\": {\"colorbar\": {\"outlinewidth\": 0, \"ticks\": \"\"}}, \"type\": \"parcoords\"}], \"pie\": [{\"automargin\": true, \"type\": \"pie\"}], \"scatter\": [{\"marker\": {\"colorbar\": {\"outlinewidth\": 0, \"ticks\": \"\"}}, \"type\": \"scatter\"}], \"scatter3d\": [{\"line\": {\"colorbar\": {\"outlinewidth\": 0, \"ticks\": \"\"}}, \"marker\": {\"colorbar\": {\"outlinewidth\": 0, \"ticks\": \"\"}}, \"type\": \"scatter3d\"}], \"scattercarpet\": [{\"marker\": {\"colorbar\": {\"outlinewidth\": 0, \"ticks\": \"\"}}, \"type\": \"scattercarpet\"}], \"scattergeo\": [{\"marker\": {\"colorbar\": {\"outlinewidth\": 0, \"ticks\": \"\"}}, \"type\": \"scattergeo\"}], \"scattergl\": [{\"marker\": {\"colorbar\": {\"outlinewidth\": 0, \"ticks\": \"\"}}, \"type\": \"scattergl\"}], \"scattermapbox\": [{\"marker\": {\"colorbar\": {\"outlinewidth\": 0, \"ticks\": \"\"}}, \"type\": \"scattermapbox\"}], \"scatterpolar\": [{\"marker\": {\"colorbar\": {\"outlinewidth\": 0, \"ticks\": \"\"}}, \"type\": \"scatterpolar\"}], \"scatterpolargl\": [{\"marker\": {\"colorbar\": {\"outlinewidth\": 0, \"ticks\": \"\"}}, \"type\": \"scatterpolargl\"}], \"scatterternary\": [{\"marker\": {\"colorbar\": {\"outlinewidth\": 0, \"ticks\": \"\"}}, \"type\": \"scatterternary\"}], \"surface\": [{\"colorbar\": {\"outlinewidth\": 0, \"ticks\": \"\"}, \"colorscale\": [[0.0, \"#0d0887\"], [0.1111111111111111, \"#46039f\"], [0.2222222222222222, \"#7201a8\"], [0.3333333333333333, \"#9c179e\"], [0.4444444444444444, \"#bd3786\"], [0.5555555555555556, \"#d8576b\"], [0.6666666666666666, \"#ed7953\"], [0.7777777777777778, \"#fb9f3a\"], [0.8888888888888888, \"#fdca26\"], [1.0, \"#f0f921\"]], \"type\": \"surface\"}], \"table\": [{\"cells\": {\"fill\": {\"color\": \"#EBF0F8\"}, \"line\": {\"color\": \"white\"}}, \"header\": {\"fill\": {\"color\": \"#C8D4E3\"}, \"line\": {\"color\": \"white\"}}, \"type\": \"table\"}]}, \"layout\": {\"annotationdefaults\": {\"arrowcolor\": \"#2a3f5f\", \"arrowhead\": 0, \"arrowwidth\": 1}, \"coloraxis\": {\"colorbar\": {\"outlinewidth\": 0, \"ticks\": \"\"}}, \"colorscale\": {\"diverging\": [[0, \"#8e0152\"], [0.1, \"#c51b7d\"], [0.2, \"#de77ae\"], [0.3, \"#f1b6da\"], [0.4, \"#fde0ef\"], [0.5, \"#f7f7f7\"], [0.6, \"#e6f5d0\"], [0.7, \"#b8e186\"], [0.8, \"#7fbc41\"], [0.9, \"#4d9221\"], [1, \"#276419\"]], \"sequential\": [[0.0, \"#0d0887\"], [0.1111111111111111, \"#46039f\"], [0.2222222222222222, \"#7201a8\"], [0.3333333333333333, \"#9c179e\"], [0.4444444444444444, \"#bd3786\"], [0.5555555555555556, \"#d8576b\"], [0.6666666666666666, \"#ed7953\"], [0.7777777777777778, \"#fb9f3a\"], [0.8888888888888888, \"#fdca26\"], [1.0, \"#f0f921\"]], \"sequentialminus\": [[0.0, \"#0d0887\"], [0.1111111111111111, \"#46039f\"], [0.2222222222222222, \"#7201a8\"], [0.3333333333333333, \"#9c179e\"], [0.4444444444444444, \"#bd3786\"], [0.5555555555555556, \"#d8576b\"], [0.6666666666666666, \"#ed7953\"], [0.7777777777777778, \"#fb9f3a\"], [0.8888888888888888, \"#fdca26\"], [1.0, \"#f0f921\"]]}, \"colorway\": [\"#636efa\", \"#EF553B\", \"#00cc96\", \"#ab63fa\", \"#FFA15A\", \"#19d3f3\", \"#FF6692\", \"#B6E880\", \"#FF97FF\", \"#FECB52\"], \"font\": {\"color\": \"#2a3f5f\"}, \"geo\": {\"bgcolor\": \"white\", \"lakecolor\": \"white\", \"landcolor\": \"#E5ECF6\", \"showlakes\": true, \"showland\": true, \"subunitcolor\": \"white\"}, \"hoverlabel\": {\"align\": \"left\"}, \"hovermode\": \"closest\", \"mapbox\": {\"style\": \"light\"}, \"paper_bgcolor\": \"white\", \"plot_bgcolor\": \"#E5ECF6\", \"polar\": {\"angularaxis\": {\"gridcolor\": \"white\", \"linecolor\": \"white\", \"ticks\": \"\"}, \"bgcolor\": \"#E5ECF6\", \"radialaxis\": {\"gridcolor\": \"white\", \"linecolor\": \"white\", \"ticks\": \"\"}}, \"scene\": {\"xaxis\": {\"backgroundcolor\": \"#E5ECF6\", \"gridcolor\": \"white\", \"gridwidth\": 2, \"linecolor\": \"white\", \"showbackground\": true, \"ticks\": \"\", \"zerolinecolor\": \"white\"}, \"yaxis\": {\"backgroundcolor\": \"#E5ECF6\", \"gridcolor\": \"white\", \"gridwidth\": 2, \"linecolor\": \"white\", \"showbackground\": true, \"ticks\": \"\", \"zerolinecolor\": \"white\"}, \"zaxis\": {\"backgroundcolor\": \"#E5ECF6\", \"gridcolor\": \"white\", \"gridwidth\": 2, \"linecolor\": \"white\", \"showbackground\": true, \"ticks\": \"\", \"zerolinecolor\": \"white\"}}, \"shapedefaults\": {\"line\": {\"color\": \"#2a3f5f\"}}, \"ternary\": {\"aaxis\": {\"gridcolor\": \"white\", \"linecolor\": \"white\", \"ticks\": \"\"}, \"baxis\": {\"gridcolor\": \"white\", \"linecolor\": \"white\", \"ticks\": \"\"}, \"bgcolor\": \"#E5ECF6\", \"caxis\": {\"gridcolor\": \"white\", \"linecolor\": \"white\", \"ticks\": \"\"}}, \"title\": {\"x\": 0.05}, \"xaxis\": {\"automargin\": true, \"gridcolor\": \"white\", \"linecolor\": \"white\", \"ticks\": \"\", \"title\": {\"standoff\": 15}, \"zerolinecolor\": \"white\", \"zerolinewidth\": 2}, \"yaxis\": {\"automargin\": true, \"gridcolor\": \"white\", \"linecolor\": \"white\", \"ticks\": \"\", \"title\": {\"standoff\": 15}, \"zerolinecolor\": \"white\", \"zerolinewidth\": 2}}}, \"xaxis\": {\"anchor\": \"y\", \"domain\": [0.0, 1.0], \"title\": {\"text\": \"date\"}}, \"yaxis\": {\"anchor\": \"x\", \"domain\": [0.0, 1.0], \"title\": {\"text\": \"cases\"}}},\n",
              "                        {\"responsive\": true}\n",
              "                    ).then(function(){\n",
              "                            \n",
              "var gd = document.getElementById('f5daa81a-7725-41de-bf05-0ac9899cd8be');\n",
              "var x = new MutationObserver(function (mutations, observer) {{\n",
              "        var display = window.getComputedStyle(gd).display;\n",
              "        if (!display || display === 'none') {{\n",
              "            console.log([gd, 'removed!']);\n",
              "            Plotly.purge(gd);\n",
              "            observer.disconnect();\n",
              "        }}\n",
              "}});\n",
              "\n",
              "// Listen for the removal of the full notebook cells\n",
              "var notebookContainer = gd.closest('#notebook-container');\n",
              "if (notebookContainer) {{\n",
              "    x.observe(notebookContainer, {childList: true});\n",
              "}}\n",
              "\n",
              "// Listen for the clearing of the current output cell\n",
              "var outputEl = gd.closest('.output');\n",
              "if (outputEl) {{\n",
              "    x.observe(outputEl, {childList: true});\n",
              "}}\n",
              "\n",
              "                        })\n",
              "                };\n",
              "                \n",
              "            </script>\n",
              "        </div>\n",
              "</body>\n",
              "</html>"
            ]
          },
          "metadata": {}
        }
      ]
    },
    {
      "cell_type": "code",
      "metadata": {
        "id": "-PtteplsAWT-",
        "colab": {
          "base_uri": "https://localhost:8080/",
          "height": 498
        },
        "outputId": "ad9a57da-84db-4e41-dcfb-7a972cc310a0"
      },
      "source": [
        "# time series chart\n",
        "# height might be the y-axis and we are just plotting the new cases in new york\n",
        "\n",
        "plt.figure(figsize=(15,7))\n",
        "plt.bar(x=ny_dates, height=ny_new_cases, color='red')\n",
        "plt.xticks(rotation=90)\n",
        "plt.show()"
      ],
      "execution_count": null,
      "outputs": [
        {
          "output_type": "display_data",
          "data": {
            "image/png": "[encoded data removed]",
            "text/plain": [
              "<Figure size 1080x504 with 1 Axes>"
            ]
          },
          "metadata": {
            "needs_background": "light"
          }
        }
      ]
    },
    {
      "cell_type": "code",
      "source": [
        "# setting the width variable with anchos to 0.5\n",
        "\n",
        "#anchos = 0.5\n",
        "\n",
        "# passing the .Figure function from plotly \n",
        "\n",
        "fig = go.Figure()\n",
        "\n",
        "# assigning the x-axis and the y-axis for 'Total Ballot Count (Estimated)'\n",
        "# this will be the graph in the 'front' showing the estimated ballot count\n",
        "# an offset is introduced here, to make it more apparent\n",
        "fig.add_trace(go.Bar(x = ny_df['date'],\n",
        "                     y = ny_df['new_cases'],\n",
        "                     offset = 0.0005,\n",
        "                     #width = 0.5,\n",
        "                     name = 'new cases'\n",
        "                     ))\n",
        "\n",
        "# the title is named here, and the size of the chart is set to 1280x1024\n",
        "# font size is set to 30\n",
        "fig.update_layout(title = \"New Cases\",\n",
        "               barmode = \"overlay\",\n",
        "               title_font_size = 30,\n",
        "               width = 1280,\n",
        "               height = 1024)\n",
        "# X axis is updated to State\n",
        "fig.update_xaxes(\n",
        "                title_text = 'Date'\n",
        ")\n",
        "# Y axis is updated to 'Voter Eligible Population to Ballots Cast'\n",
        "fig.update_yaxes(\n",
        "                title_text = 'Count of new cases'\n",
        ")\n",
        "# How does the eligible population compare to the ballot count of each state?\n",
        "# Thus, we can see which state had the greatest turnout rate as well. "
      ],
      "metadata": {
        "colab": {
          "base_uri": "https://localhost:8080/",
          "height": 1000
        },
        "id": "jgQoeLwPrIVS",
        "outputId": "f9965353-8537-46a6-c70b-e585b3285037"
      },
      "execution_count": null,
      "outputs": [
        {
          "output_type": "display_data",
          "data": {
            "text/html": [
              "<html>\n",
              "<head><meta charset=\"utf-8\" /></head>\n",
              "<body>\n",
              "    <div>\n",
              "            <script src=\"https://cdnjs.cloudflare.com/ajax/libs/mathjax/2.7.5/MathJax.js?config=TeX-AMS-MML_SVG\"></script><script type=\"text/javascript\">if (window.MathJax) {MathJax.Hub.Config({SVG: {font: \"STIX-Web\"}});}</script>\n",
              "                <script type=\"text/javascript\">window.PlotlyConfig = {MathJaxConfig: 'local'};</script>\n",
              "        <script src=\"https://cdn.plot.ly/plotly-latest.min.js\"></script>    \n",
              "            <div id=\"b7b2c854-69d5-4e61-b169-d19d71dd9b9e\" class=\"plotly-graph-div\" style=\"height:1024px; width:1280px;\"></div>\n",
              "            <script type=\"text/javascript\">\n",
              "                \n",
              "                    window.PLOTLYENV=window.PLOTLYENV || {};\n",
              "                    \n",
              "                if (document.getElementById(\"b7b2c854-69d5-4e61-b169-d19d71dd9b9e\")) {\n",
              "                    Plotly.newPlot(\n",
              "                        'b7b2c854-69d5-4e61-b169-d19d71dd9b9e',\n",
              "                        [{\"name\": \"new cases\", \"offset\": 0.0005, \"type\": \"bar\", \"x\": [\"2020-03-01\", \"2020-03-02\", \"2020-03-03\", \"2020-03-04\", \"2020-03-05\", \"2020-03-06\", \"2020-03-07\", \"2020-03-08\", \"2020-03-09\", \"2020-03-10\", \"2020-03-11\", \"2020-03-12\", \"2020-03-13\", \"2020-03-14\", \"2020-03-15\", \"2020-03-16\", \"2020-03-17\", \"2020-03-18\", \"2020-03-19\", \"2020-03-20\", \"2020-03-21\", \"2020-03-22\", \"2020-03-23\", \"2020-03-24\", \"2020-03-25\", \"2020-03-26\", \"2020-03-27\", \"2020-03-28\", \"2020-03-29\", \"2020-03-30\", \"2020-03-31\", \"2020-04-01\", \"2020-04-02\", \"2020-04-03\", \"2020-04-04\", \"2020-04-05\", \"2020-04-06\", \"2020-04-07\", \"2020-04-08\", \"2020-04-09\", \"2020-04-10\", \"2020-04-11\", \"2020-04-12\", \"2020-04-13\", \"2020-04-14\", \"2020-04-15\", \"2020-04-16\", \"2020-04-17\", \"2020-04-18\", \"2020-04-19\", \"2020-04-20\", \"2020-04-21\", \"2020-04-22\", \"2020-04-23\", \"2020-04-24\", \"2020-04-25\", \"2020-04-26\", \"2020-04-27\", \"2020-04-28\", \"2020-04-29\", \"2020-04-30\", \"2020-05-01\", \"2020-05-02\", \"2020-05-03\", \"2020-05-04\", \"2020-05-05\", \"2020-05-06\", \"2020-05-07\", \"2020-05-08\", \"2020-05-09\", \"2020-05-10\", \"2020-05-11\", \"2020-05-12\", \"2020-05-13\", \"2020-05-14\", \"2020-05-15\", \"2020-05-16\", \"2020-05-17\", \"2020-05-18\", \"2020-05-19\", \"2020-05-20\", \"2020-05-21\", \"2020-05-22\", \"2020-05-23\", \"2020-05-24\", \"2020-05-25\", \"2020-05-26\", \"2020-05-27\", \"2020-05-28\", \"2020-05-29\", \"2020-05-30\", \"2020-05-31\", \"2020-06-01\", \"2020-06-02\", \"2020-06-03\", \"2020-06-04\", \"2020-06-05\", \"2020-06-06\", \"2020-06-07\", \"2020-06-08\", \"2020-06-09\", \"2020-06-10\", \"2020-06-11\", \"2020-06-12\", \"2020-06-13\", \"2020-06-14\", \"2020-06-15\", \"2020-06-16\", \"2020-06-17\", \"2020-06-18\", \"2020-06-19\", \"2020-06-20\", \"2020-06-21\", \"2020-06-22\", \"2020-06-23\", \"2020-06-24\", \"2020-06-25\", \"2020-06-26\", \"2020-06-27\", \"2020-06-28\", \"2020-06-29\", \"2020-06-30\", \"2020-07-01\", \"2020-07-02\", \"2020-07-03\", \"2020-07-04\", \"2020-07-05\", \"2020-07-06\", \"2020-07-07\", \"2020-07-08\", \"2020-07-09\", \"2020-07-10\", \"2020-07-11\", \"2020-07-12\", \"2020-07-13\", \"2020-07-14\", \"2020-07-15\", \"2020-07-16\", \"2020-07-17\", \"2020-07-18\", \"2020-07-19\", \"2020-07-20\", \"2020-07-21\", \"2020-07-22\", \"2020-07-23\", \"2020-07-24\", \"2020-07-25\", \"2020-07-26\", \"2020-07-27\", \"2020-07-28\", \"2020-07-29\", \"2020-07-30\", \"2020-07-31\", \"2020-08-01\", \"2020-08-02\", \"2020-08-03\", \"2020-08-04\", \"2020-08-05\", \"2020-08-06\", \"2020-08-07\", \"2020-08-08\", \"2020-08-09\", \"2020-08-10\", \"2020-08-11\", \"2020-08-12\", \"2020-08-13\", \"2020-08-14\", \"2020-08-15\", \"2020-08-16\", \"2020-08-17\", \"2020-08-18\", \"2020-08-19\", \"2020-08-20\", \"2020-08-21\", \"2020-08-22\", \"2020-08-23\", \"2020-08-24\", \"2020-08-25\", \"2020-08-26\", \"2020-08-27\", \"2020-08-28\", \"2020-08-29\", \"2020-08-30\", \"2020-08-31\", \"2020-09-01\", \"2020-09-02\", \"2020-09-03\", \"2020-09-04\", \"2020-09-05\", \"2020-09-06\", \"2020-09-07\", \"2020-09-08\", \"2020-09-09\", \"2020-09-10\", \"2020-09-11\", \"2020-09-12\", \"2020-09-13\", \"2020-09-14\", \"2020-09-15\", \"2020-09-16\", \"2020-09-17\", \"2020-09-18\", \"2020-09-19\", \"2020-09-20\", \"2020-09-21\", \"2020-09-22\", \"2020-09-23\", \"2020-09-24\", \"2020-09-25\", \"2020-09-26\", \"2020-09-27\", \"2020-09-28\", \"2020-09-29\", \"2020-09-30\", \"2020-10-01\", \"2020-10-02\", \"2020-10-03\", \"2020-10-04\", \"2020-10-05\", \"2020-10-06\", \"2020-10-07\", \"2020-10-08\", \"2020-10-09\", \"2020-10-10\", \"2020-10-11\", \"2020-10-12\", \"2020-10-13\", \"2020-10-14\", \"2020-10-15\", \"2020-10-16\", \"2020-10-17\", \"2020-10-18\", \"2020-10-19\", \"2020-10-20\", \"2020-10-21\", \"2020-10-22\", \"2020-10-23\", \"2020-10-24\", \"2020-10-25\", \"2020-10-26\", \"2020-10-27\", \"2020-10-28\", \"2020-10-29\", \"2020-10-30\", \"2020-10-31\", \"2020-11-01\", \"2020-11-02\", \"2020-11-03\", \"2020-11-04\", \"2020-11-05\", \"2020-11-06\", \"2020-11-07\", \"2020-11-08\", \"2020-11-09\", \"2020-11-10\", \"2020-11-11\", \"2020-11-12\", \"2020-11-13\", \"2020-11-14\", \"2020-11-15\", \"2020-11-16\", \"2020-11-17\", \"2020-11-18\", \"2020-11-19\", \"2020-11-20\", \"2020-11-21\", \"2020-11-22\", \"2020-11-23\", \"2020-11-24\", \"2020-11-25\", \"2020-11-26\", \"2020-11-27\", \"2020-11-28\", \"2020-11-29\", \"2020-11-30\", \"2020-12-01\", \"2020-12-02\", \"2020-12-03\", \"2020-12-04\", \"2020-12-05\", \"2020-12-06\", \"2020-12-07\", \"2020-12-08\", \"2020-12-09\", \"2020-12-10\", \"2020-12-11\", \"2020-12-12\", \"2020-12-13\", \"2020-12-14\", \"2020-12-15\", \"2020-12-16\", \"2020-12-17\", \"2020-12-18\", \"2020-12-19\", \"2020-12-20\", \"2020-12-21\", \"2020-12-22\", \"2020-12-23\", \"2020-12-24\", \"2020-12-25\", \"2020-12-26\", \"2020-12-27\", \"2020-12-28\", \"2020-12-29\", \"2020-12-30\", \"2020-12-31\", \"2021-01-01\", \"2021-01-02\", \"2021-01-03\", \"2021-01-04\", \"2021-01-05\", \"2021-01-06\", \"2021-01-07\", \"2021-01-08\", \"2021-01-09\", \"2021-01-10\", \"2021-01-11\", \"2021-01-12\", \"2021-01-13\", \"2021-01-14\", \"2021-01-15\", \"2021-01-16\", \"2021-01-17\", \"2021-01-18\", \"2021-01-19\", \"2021-01-20\", \"2021-01-21\", \"2021-01-22\", \"2021-01-23\", \"2021-01-24\", \"2021-01-25\", \"2021-01-26\", \"2021-01-27\", \"2021-01-28\", \"2021-01-29\", \"2021-01-30\", \"2021-01-31\", \"2021-02-01\", \"2021-02-02\", \"2021-02-03\", \"2021-02-04\", \"2021-02-05\", \"2021-02-06\", \"2021-02-07\", \"2021-02-08\", \"2021-02-09\", \"2021-02-10\", \"2021-02-11\", \"2021-02-12\", \"2021-02-13\", \"2021-02-14\", \"2021-02-15\", \"2021-02-16\", \"2021-02-17\", \"2021-02-18\", \"2021-02-19\", \"2021-02-20\", \"2021-02-21\", \"2021-02-22\", \"2021-02-23\", \"2021-02-24\", \"2021-02-25\", \"2021-02-26\", \"2021-02-27\", \"2021-02-28\", \"2021-03-01\", \"2021-03-02\", \"2021-03-03\", \"2021-03-04\", \"2021-03-05\", \"2021-03-06\", \"2021-03-07\", \"2021-03-08\", \"2021-03-09\", \"2021-03-10\", \"2021-03-11\", \"2021-03-12\", \"2021-03-13\", \"2021-03-14\", \"2021-03-15\", \"2021-03-16\", \"2021-03-17\", \"2021-03-18\", \"2021-03-19\", \"2021-03-20\", \"2021-03-21\", \"2021-03-22\", \"2021-03-23\", \"2021-03-24\", \"2021-03-25\", \"2021-03-26\", \"2021-03-27\", \"2021-03-28\", \"2021-03-29\", \"2021-03-30\", \"2021-03-31\", \"2021-04-01\", \"2021-04-02\", \"2021-04-03\", \"2021-04-04\", \"2021-04-05\", \"2021-04-06\", \"2021-04-07\", \"2021-04-08\", \"2021-04-09\", \"2021-04-10\", \"2021-04-11\", \"2021-04-12\", \"2021-04-13\", \"2021-04-14\", \"2021-04-15\", \"2021-04-16\", \"2021-04-17\", \"2021-04-18\", \"2021-04-19\", \"2021-04-20\", \"2021-04-21\", \"2021-04-22\", \"2021-04-23\", \"2021-04-24\", \"2021-04-25\", \"2021-04-26\", \"2021-04-27\", \"2021-04-28\", \"2021-04-29\", \"2021-04-30\", \"2021-05-01\", \"2021-05-02\", \"2021-05-03\", \"2021-05-04\", \"2021-05-05\", \"2021-05-06\", \"2021-05-07\", \"2021-05-08\", \"2021-05-09\", \"2021-05-10\", \"2021-05-11\", \"2021-05-12\", \"2021-05-13\", \"2021-05-14\", \"2021-05-15\", \"2021-05-16\", \"2021-05-17\", \"2021-05-18\", \"2021-05-19\", \"2021-05-20\", \"2021-05-21\", \"2021-05-22\", \"2021-05-23\", \"2021-05-24\", \"2021-05-25\", \"2021-05-26\", \"2021-05-27\", \"2021-05-28\", \"2021-05-29\", \"2021-05-30\", \"2021-05-31\", \"2021-06-01\", \"2021-06-02\", \"2021-06-03\", \"2021-06-04\", \"2021-06-05\", \"2021-06-06\", \"2021-06-07\", \"2021-06-08\", \"2021-06-09\", \"2021-06-10\", \"2021-06-11\", \"2021-06-12\", \"2021-06-13\", \"2021-06-14\", \"2021-06-15\", \"2021-06-16\", \"2021-06-17\", \"2021-06-18\", \"2021-06-19\", \"2021-06-20\", \"2021-06-21\", \"2021-06-22\", \"2021-06-23\", \"2021-06-24\", \"2021-06-25\", \"2021-06-26\", \"2021-06-27\", \"2021-06-28\", \"2021-06-29\", \"2021-06-30\", \"2021-07-01\", \"2021-07-02\", \"2021-07-03\", \"2021-07-04\", \"2021-07-05\", \"2021-07-06\", \"2021-07-07\", \"2021-07-08\", \"2021-07-09\", \"2021-07-10\", \"2021-07-11\", \"2021-07-12\", \"2021-07-13\", \"2021-07-14\", \"2021-07-15\", \"2021-07-16\", \"2021-07-17\", \"2021-07-18\", \"2021-07-19\", \"2021-07-20\", \"2021-07-21\", \"2021-07-22\", \"2021-07-23\", \"2021-07-24\", \"2021-07-25\", \"2021-07-26\", \"2021-07-27\", \"2021-07-28\", \"2021-07-29\", \"2021-07-30\", \"2021-07-31\", \"2021-08-01\", \"2021-08-02\", \"2021-08-03\", \"2021-08-04\", \"2021-08-05\", \"2021-08-06\", \"2021-08-07\", \"2021-08-08\", \"2021-08-09\", \"2021-08-10\", \"2021-08-11\", \"2021-08-12\", \"2021-08-13\", \"2021-08-14\", \"2021-08-15\", \"2021-08-16\", \"2021-08-17\", \"2021-08-18\", \"2021-08-19\", \"2021-08-20\", \"2021-08-21\", \"2021-08-22\", \"2021-08-23\", \"2021-08-24\", \"2021-08-25\", \"2021-08-26\", \"2021-08-27\", \"2021-08-28\", \"2021-08-29\", \"2021-08-30\", \"2021-08-31\", \"2021-09-01\", \"2021-09-02\", \"2021-09-03\", \"2021-09-04\", \"2021-09-05\", \"2021-09-06\", \"2021-09-07\", \"2021-09-08\", \"2021-09-09\", \"2021-09-10\", \"2021-09-11\", \"2021-09-12\", \"2021-09-13\", \"2021-09-14\", \"2021-09-15\", \"2021-09-16\", \"2021-09-17\", \"2021-09-18\", \"2021-09-19\", \"2021-09-20\", \"2021-09-21\", \"2021-09-22\", \"2021-09-23\", \"2021-09-24\", \"2021-09-25\", \"2021-09-26\", \"2021-09-27\", \"2021-09-28\", \"2021-09-29\", \"2021-09-30\", \"2021-10-01\", \"2021-10-02\", \"2021-10-03\", \"2021-10-04\", \"2021-10-05\", \"2021-10-06\", \"2021-10-07\", \"2021-10-08\", \"2021-10-09\", \"2021-10-10\", \"2021-10-11\", \"2021-10-12\", \"2021-10-13\", \"2021-10-14\", \"2021-10-15\", \"2021-10-16\", \"2021-10-17\", \"2021-10-18\", \"2021-10-19\", \"2021-10-20\", \"2021-10-21\", \"2021-10-22\", \"2021-10-23\", \"2021-10-24\", \"2021-10-25\", \"2021-10-26\", \"2021-10-27\", \"2021-10-28\", \"2021-10-29\", \"2021-10-30\", \"2021-10-31\", \"2021-11-01\", \"2021-11-02\", \"2021-11-03\", \"2021-11-04\", \"2021-11-05\", \"2021-11-06\", \"2021-11-07\", \"2021-11-08\", \"2021-11-09\", \"2021-11-10\", \"2021-11-11\", \"2021-11-12\", \"2021-11-13\", \"2021-11-14\", \"2021-11-15\", \"2021-11-16\", \"2021-11-17\", \"2021-11-18\", \"2021-11-19\", \"2021-11-20\", \"2021-11-21\", \"2021-11-22\", \"2021-11-23\", \"2021-11-24\", \"2021-11-25\", \"2021-11-26\", \"2021-11-27\", \"2021-11-28\", \"2021-11-29\", \"2021-11-30\", \"2021-12-01\", \"2021-12-02\", \"2021-12-03\", \"2021-12-04\", \"2021-12-05\", \"2021-12-06\", \"2021-12-07\", \"2021-12-08\", \"2021-12-09\", \"2021-12-10\", \"2021-12-11\", \"2021-12-12\", \"2021-12-13\", \"2021-12-14\", \"2021-12-15\", \"2021-12-16\", \"2021-12-17\", \"2021-12-18\", \"2021-12-19\", \"2021-12-20\", \"2021-12-21\", \"2021-12-22\", \"2021-12-23\", \"2021-12-24\", \"2021-12-25\", \"2021-12-26\", \"2021-12-27\", \"2021-12-28\", \"2021-12-29\", \"2021-12-30\", \"2021-12-31\", \"2022-01-01\", \"2022-01-02\", \"2022-01-03\", \"2022-01-04\", \"2022-01-05\", \"2022-01-06\", \"2022-01-07\", \"2022-01-08\", \"2022-01-09\", \"2022-01-10\", \"2022-01-11\", \"2022-01-12\", \"2022-01-13\"], \"y\": [1, 0, 1, 9, 11, 22, 45, 17, 36, 31, 44, 109, 95, 189, 122, 218, 425, 1012, 1774, 2952, 3258, 4817, 5711, 4805, 7413, 5941, 5688, 8771, 6266, 7721, 8707, 8153, 8996, 10329, 12274, 8122, 9304, 8314, 9568, 10765, 10794, 10160, 8435, 6548, 7402, 11755, 8631, 7532, 7249, 6199, 4867, 4324, 5659, 6341, 8286, 10683, 6013, 4077, 3285, 4718, 4702, 3879, 4559, 3699, 2524, 2302, 2746, 3526, 2873, 2715, 2138, 1610, 1438, 2123, 2364, 2759, 2185, 1901, 1241, 1479, 1478, 2078, 1678, 1754, 1601, 1279, 1044, 1132, 1758, 1549, 1363, 1104, 945, 1361, 1043, 1053, 1042, 1083, 777, 712, 690, 664, 724, 821, 912, 694, 623, 630, 561, 626, 794, 707, 665, 555, 598, 575, 738, 804, 697, 624, 391, 458, 628, 872, 919, 725, 536, 516, 590, 691, 588, 790, 727, 679, 559, 913, 834, 767, 778, 752, 509, 519, 855, 706, 810, 758, 748, 532, 613, 535, 711, 779, 642, 754, 531, 542, 746, 639, 694, 720, 706, 513, 478, 667, 706, 736, 724, 738, 609, 410, 662, 626, 599, 707, 651, 581, 404, 629, 568, 789, 635, 635, 709, 649, 757, 710, 888, 863, 799, 729, 525, 557, 573, 756, 861, 849, 725, 586, 767, 653, 893, 793, 983, 865, 575, 751, 666, 953, 909, 1006, 868, 836, 1188, 1005, 1383, 1601, 1728, 1226, 937, 1394, 1356, 1835, 1593, 1448, 1143, 1032, 1391, 1235, 1464, 1703, 1788, 1390, 999, 1201, 2029, 1629, 1636, 2058, 1633, 1192, 1994, 2029, 2497, 2258, 2052, 2259, 1632, 2317, 2126, 3002, 3208, 3587, 3430, 3149, 3964, 4821, 4798, 5401, 5391, 3644, 3498, 5094, 5282, 5302, 5477, 5976, 5386, 5911, 4878, 6267, 6938, 8179, 6060, 6732, 6816, 7293, 8975, 9853, 11274, 10759, 9710, 8379, 9019, 10937, 10257, 10561, 11039, 10027, 8984, 9736, 9378, 10498, 12606, 9913, 9454, 9456, 10299, 11740, 13347, 12881, 11048, 8205, 10334, 12020, 12917, 15393, 17033, 15849, 12232, 11242, 13142, 16016, 17588, 19560, 17839, 16308, 14179, 14791, 14704, 14187, 19469, 15945, 13694, 13410, 12721, 11119, 13908, 15684, 13909, 12383, 11972, 11040, 10365, 13783, 12951, 12892, 11209, 8932, 7949, 7154, 6970, 7897, 11492, 9923, 8972, 8279, 6584, 10011, 8715, 8755, 8330, 6538, 6709, 5925, 9582, 8573, 8238, 6237, 6297, 6923, 6139, 8893, 8074, 8042, 7827, 6436, 6381, 6564, 7468, 8151, 8126, 7658, 5440, 6833, 6106, 7169, 8444, 6033, 6687, 7119, 6711, 6582, 5515, 5077, 6667, 3735, 4908, 6801, 20184, 8683, 8003, 8733, 8852, 8972, 5750, 7683, 9173, 8055, 7711, 7607, 6717, 6106, 6450, 8731, 8558, 7529, 6577, 5758, 5043, 6000, 6984, 6290, 6387, 5605, 5177, 4659, 4255, 5277, 4850, 4163, 4050, 3018, 3343, 3000, 3862, 3792, 3852, 2853, 2440, 2234, 2374, 2632, 2465, 3028, 2403, 1661, 1449, 2044, 2204, 2039, 1761, 1888, 1379, 1549, 1323, 1647, 1595, 1313, 1074, 964, 945, 882, 1145, 930, 866, 848, 524, 478, 403, 489, 757, 852, 491, 519, 459, 426, 549, 686, 430, 363, 377, 337, 286, 443, 415, 389, 287, 277, 266, 250, 383, 343, 345, 374, 321, 244, 275, 397, 474, 279, 312, 376, 307, 341, 637, 754, 730, 811, 642, 668, 725, 929, 629, 1421, 1143, 941, 1112, 1092, 1611, 1698, 1868, 2032, 1526, 1648, 1800, 2644, 2615, 3136, 2590, 2208, 3062, 2834, 3442, 3760, 4537, 3637, 1681, 1722, 7224, 4870, 4634, 4675, 4038, 4208, 3528, 4508, 5070, 3906, 6175, 4593, 3836, 3494, 3731, 5371, 6364, 5583, 2636, 5972, 3894, 4126, 5289, 5919, 3374, 6501, 3689, 3256, 2455, 6454, 5883, 6060, 3735, 5408, 4113, 4808, 6730, 6038, 3286, 7724, 3757, 5331, 4534, 5037, 6145, 3798, 6788, 2826, 5248, 5016, 4979, 5818, 3336, 3396, 6260, 3924, 6275, 5602, 5833, 3539, 2077, 7882, 3253, 4524, 4514, 6342, 4018, 3149, 5389, 3294, 4777, 4365, 3700, 3464, 2152, 5021, 2496, 4141, 3199, 5734, 3127, 2794, 5695, 2911, 4014, 4631, 4859, 3851, 3715, 5754, 4211, 5039, 6683, 6256, 5095, 4196, 7152, 5061, 6028, 8115, 7592, 5556, 8805, 5316, 5619, 7013, 6762, 8200, 3247, 4506, 8156, 6644, 9320, 11331, 11242, 7642, 7830, 11529, 8537, 9251, 11680, 11314, 7872, 7284, 15069, 8931, 12383, 17520, 20563, 10319, 28260, 20439, 26456, 28460, 33855, 32591, 0, 86162, 30441, 48836, 60359, 71078, 78804, 81077, 62542, 60453, 51289, 75149, 80378, 82094, 90132, 79777, 57884, 49410, 54911, 62049]}],\n",
              "                        {\"barmode\": \"overlay\", \"height\": 1024, \"template\": {\"data\": {\"bar\": [{\"error_x\": {\"color\": \"#2a3f5f\"}, \"error_y\": {\"color\": \"#2a3f5f\"}, \"marker\": {\"line\": {\"color\": \"#E5ECF6\", \"width\": 0.5}}, \"type\": \"bar\"}], \"barpolar\": [{\"marker\": {\"line\": {\"color\": \"#E5ECF6\", \"width\": 0.5}}, \"type\": \"barpolar\"}], \"carpet\": [{\"aaxis\": {\"endlinecolor\": \"#2a3f5f\", \"gridcolor\": \"white\", \"linecolor\": \"white\", \"minorgridcolor\": \"white\", \"startlinecolor\": \"#2a3f5f\"}, \"baxis\": {\"endlinecolor\": \"#2a3f5f\", \"gridcolor\": \"white\", \"linecolor\": \"white\", \"minorgridcolor\": \"white\", \"startlinecolor\": \"#2a3f5f\"}, \"type\": \"carpet\"}], \"choropleth\": [{\"colorbar\": {\"outlinewidth\": 0, \"ticks\": \"\"}, \"type\": \"choropleth\"}], \"contour\": [{\"colorbar\": {\"outlinewidth\": 0, \"ticks\": \"\"}, \"colorscale\": [[0.0, \"#0d0887\"], [0.1111111111111111, \"#46039f\"], [0.2222222222222222, \"#7201a8\"], [0.3333333333333333, \"#9c179e\"], [0.4444444444444444, \"#bd3786\"], [0.5555555555555556, \"#d8576b\"], [0.6666666666666666, \"#ed7953\"], [0.7777777777777778, \"#fb9f3a\"], [0.8888888888888888, \"#fdca26\"], [1.0, \"#f0f921\"]], \"type\": \"contour\"}], \"contourcarpet\": [{\"colorbar\": {\"outlinewidth\": 0, \"ticks\": \"\"}, \"type\": \"contourcarpet\"}], \"heatmap\": [{\"colorbar\": {\"outlinewidth\": 0, \"ticks\": \"\"}, \"colorscale\": [[0.0, \"#0d0887\"], [0.1111111111111111, \"#46039f\"], [0.2222222222222222, \"#7201a8\"], [0.3333333333333333, \"#9c179e\"], [0.4444444444444444, \"#bd3786\"], [0.5555555555555556, \"#d8576b\"], [0.6666666666666666, \"#ed7953\"], [0.7777777777777778, \"#fb9f3a\"], [0.8888888888888888, \"#fdca26\"], [1.0, \"#f0f921\"]], \"type\": \"heatmap\"}], \"heatmapgl\": [{\"colorbar\": {\"outlinewidth\": 0, \"ticks\": \"\"}, \"colorscale\": [[0.0, \"#0d0887\"], [0.1111111111111111, \"#46039f\"], [0.2222222222222222, \"#7201a8\"], [0.3333333333333333, \"#9c179e\"], [0.4444444444444444, \"#bd3786\"], [0.5555555555555556, \"#d8576b\"], [0.6666666666666666, \"#ed7953\"], [0.7777777777777778, \"#fb9f3a\"], [0.8888888888888888, \"#fdca26\"], [1.0, \"#f0f921\"]], \"type\": \"heatmapgl\"}], \"histogram\": [{\"marker\": {\"colorbar\": {\"outlinewidth\": 0, \"ticks\": \"\"}}, \"type\": \"histogram\"}], \"histogram2d\": [{\"colorbar\": {\"outlinewidth\": 0, \"ticks\": \"\"}, \"colorscale\": [[0.0, \"#0d0887\"], [0.1111111111111111, \"#46039f\"], [0.2222222222222222, \"#7201a8\"], [0.3333333333333333, \"#9c179e\"], [0.4444444444444444, \"#bd3786\"], [0.5555555555555556, \"#d8576b\"], [0.6666666666666666, \"#ed7953\"], [0.7777777777777778, \"#fb9f3a\"], [0.8888888888888888, \"#fdca26\"], [1.0, \"#f0f921\"]], \"type\": \"histogram2d\"}], \"histogram2dcontour\": [{\"colorbar\": {\"outlinewidth\": 0, \"ticks\": \"\"}, \"colorscale\": [[0.0, \"#0d0887\"], [0.1111111111111111, \"#46039f\"], [0.2222222222222222, \"#7201a8\"], [0.3333333333333333, \"#9c179e\"], [0.4444444444444444, \"#bd3786\"], [0.5555555555555556, \"#d8576b\"], [0.6666666666666666, \"#ed7953\"], [0.7777777777777778, \"#fb9f3a\"], [0.8888888888888888, \"#fdca26\"], [1.0, \"#f0f921\"]], \"type\": \"histogram2dcontour\"}], \"mesh3d\": [{\"colorbar\": {\"outlinewidth\": 0, \"ticks\": \"\"}, \"type\": \"mesh3d\"}], \"parcoords\": [{\"line\": {\"colorbar\": {\"outlinewidth\": 0, \"ticks\": \"\"}}, \"type\": \"parcoords\"}], \"pie\": [{\"automargin\": true, \"type\": \"pie\"}], \"scatter\": [{\"marker\": {\"colorbar\": {\"outlinewidth\": 0, \"ticks\": \"\"}}, \"type\": \"scatter\"}], \"scatter3d\": [{\"line\": {\"colorbar\": {\"outlinewidth\": 0, \"ticks\": \"\"}}, \"marker\": {\"colorbar\": {\"outlinewidth\": 0, \"ticks\": \"\"}}, \"type\": \"scatter3d\"}], \"scattercarpet\": [{\"marker\": {\"colorbar\": {\"outlinewidth\": 0, \"ticks\": \"\"}}, \"type\": \"scattercarpet\"}], \"scattergeo\": [{\"marker\": {\"colorbar\": {\"outlinewidth\": 0, \"ticks\": \"\"}}, \"type\": \"scattergeo\"}], \"scattergl\": [{\"marker\": {\"colorbar\": {\"outlinewidth\": 0, \"ticks\": \"\"}}, \"type\": \"scattergl\"}], \"scattermapbox\": [{\"marker\": {\"colorbar\": {\"outlinewidth\": 0, \"ticks\": \"\"}}, \"type\": \"scattermapbox\"}], \"scatterpolar\": [{\"marker\": {\"colorbar\": {\"outlinewidth\": 0, \"ticks\": \"\"}}, \"type\": \"scatterpolar\"}], \"scatterpolargl\": [{\"marker\": {\"colorbar\": {\"outlinewidth\": 0, \"ticks\": \"\"}}, \"type\": \"scatterpolargl\"}], \"scatterternary\": [{\"marker\": {\"colorbar\": {\"outlinewidth\": 0, \"ticks\": \"\"}}, \"type\": \"scatterternary\"}], \"surface\": [{\"colorbar\": {\"outlinewidth\": 0, \"ticks\": \"\"}, \"colorscale\": [[0.0, \"#0d0887\"], [0.1111111111111111, \"#46039f\"], [0.2222222222222222, \"#7201a8\"], [0.3333333333333333, \"#9c179e\"], [0.4444444444444444, \"#bd3786\"], [0.5555555555555556, \"#d8576b\"], [0.6666666666666666, \"#ed7953\"], [0.7777777777777778, \"#fb9f3a\"], [0.8888888888888888, \"#fdca26\"], [1.0, \"#f0f921\"]], \"type\": \"surface\"}], \"table\": [{\"cells\": {\"fill\": {\"color\": \"#EBF0F8\"}, \"line\": {\"color\": \"white\"}}, \"header\": {\"fill\": {\"color\": \"#C8D4E3\"}, \"line\": {\"color\": \"white\"}}, \"type\": \"table\"}]}, \"layout\": {\"annotationdefaults\": {\"arrowcolor\": \"#2a3f5f\", \"arrowhead\": 0, \"arrowwidth\": 1}, \"coloraxis\": {\"colorbar\": {\"outlinewidth\": 0, \"ticks\": \"\"}}, \"colorscale\": {\"diverging\": [[0, \"#8e0152\"], [0.1, \"#c51b7d\"], [0.2, \"#de77ae\"], [0.3, \"#f1b6da\"], [0.4, \"#fde0ef\"], [0.5, \"#f7f7f7\"], [0.6, \"#e6f5d0\"], [0.7, \"#b8e186\"], [0.8, \"#7fbc41\"], [0.9, \"#4d9221\"], [1, \"#276419\"]], \"sequential\": [[0.0, \"#0d0887\"], [0.1111111111111111, \"#46039f\"], [0.2222222222222222, \"#7201a8\"], [0.3333333333333333, \"#9c179e\"], [0.4444444444444444, \"#bd3786\"], [0.5555555555555556, \"#d8576b\"], [0.6666666666666666, \"#ed7953\"], [0.7777777777777778, \"#fb9f3a\"], [0.8888888888888888, \"#fdca26\"], [1.0, \"#f0f921\"]], \"sequentialminus\": [[0.0, \"#0d0887\"], [0.1111111111111111, \"#46039f\"], [0.2222222222222222, \"#7201a8\"], [0.3333333333333333, \"#9c179e\"], [0.4444444444444444, \"#bd3786\"], [0.5555555555555556, \"#d8576b\"], [0.6666666666666666, \"#ed7953\"], [0.7777777777777778, \"#fb9f3a\"], [0.8888888888888888, \"#fdca26\"], [1.0, \"#f0f921\"]]}, \"colorway\": [\"#636efa\", \"#EF553B\", \"#00cc96\", \"#ab63fa\", \"#FFA15A\", \"#19d3f3\", \"#FF6692\", \"#B6E880\", \"#FF97FF\", \"#FECB52\"], \"font\": {\"color\": \"#2a3f5f\"}, \"geo\": {\"bgcolor\": \"white\", \"lakecolor\": \"white\", \"landcolor\": \"#E5ECF6\", \"showlakes\": true, \"showland\": true, \"subunitcolor\": \"white\"}, \"hoverlabel\": {\"align\": \"left\"}, \"hovermode\": \"closest\", \"mapbox\": {\"style\": \"light\"}, \"paper_bgcolor\": \"white\", \"plot_bgcolor\": \"#E5ECF6\", \"polar\": {\"angularaxis\": {\"gridcolor\": \"white\", \"linecolor\": \"white\", \"ticks\": \"\"}, \"bgcolor\": \"#E5ECF6\", \"radialaxis\": {\"gridcolor\": \"white\", \"linecolor\": \"white\", \"ticks\": \"\"}}, \"scene\": {\"xaxis\": {\"backgroundcolor\": \"#E5ECF6\", \"gridcolor\": \"white\", \"gridwidth\": 2, \"linecolor\": \"white\", \"showbackground\": true, \"ticks\": \"\", \"zerolinecolor\": \"white\"}, \"yaxis\": {\"backgroundcolor\": \"#E5ECF6\", \"gridcolor\": \"white\", \"gridwidth\": 2, \"linecolor\": \"white\", \"showbackground\": true, \"ticks\": \"\", \"zerolinecolor\": \"white\"}, \"zaxis\": {\"backgroundcolor\": \"#E5ECF6\", \"gridcolor\": \"white\", \"gridwidth\": 2, \"linecolor\": \"white\", \"showbackground\": true, \"ticks\": \"\", \"zerolinecolor\": \"white\"}}, \"shapedefaults\": {\"line\": {\"color\": \"#2a3f5f\"}}, \"ternary\": {\"aaxis\": {\"gridcolor\": \"white\", \"linecolor\": \"white\", \"ticks\": \"\"}, \"baxis\": {\"gridcolor\": \"white\", \"linecolor\": \"white\", \"ticks\": \"\"}, \"bgcolor\": \"#E5ECF6\", \"caxis\": {\"gridcolor\": \"white\", \"linecolor\": \"white\", \"ticks\": \"\"}}, \"title\": {\"x\": 0.05}, \"xaxis\": {\"automargin\": true, \"gridcolor\": \"white\", \"linecolor\": \"white\", \"ticks\": \"\", \"title\": {\"standoff\": 15}, \"zerolinecolor\": \"white\", \"zerolinewidth\": 2}, \"yaxis\": {\"automargin\": true, \"gridcolor\": \"white\", \"linecolor\": \"white\", \"ticks\": \"\", \"title\": {\"standoff\": 15}, \"zerolinecolor\": \"white\", \"zerolinewidth\": 2}}}, \"title\": {\"font\": {\"size\": 30}, \"text\": \"New Cases\"}, \"width\": 1280, \"xaxis\": {\"title\": {\"text\": \"Date\"}}, \"yaxis\": {\"title\": {\"text\": \"Count of new cases\"}}},\n",
              "                        {\"responsive\": true}\n",
              "                    ).then(function(){\n",
              "                            \n",
              "var gd = document.getElementById('b7b2c854-69d5-4e61-b169-d19d71dd9b9e');\n",
              "var x = new MutationObserver(function (mutations, observer) {{\n",
              "        var display = window.getComputedStyle(gd).display;\n",
              "        if (!display || display === 'none') {{\n",
              "            console.log([gd, 'removed!']);\n",
              "            Plotly.purge(gd);\n",
              "            observer.disconnect();\n",
              "        }}\n",
              "}});\n",
              "\n",
              "// Listen for the removal of the full notebook cells\n",
              "var notebookContainer = gd.closest('#notebook-container');\n",
              "if (notebookContainer) {{\n",
              "    x.observe(notebookContainer, {childList: true});\n",
              "}}\n",
              "\n",
              "// Listen for the clearing of the current output cell\n",
              "var outputEl = gd.closest('.output');\n",
              "if (outputEl) {{\n",
              "    x.observe(outputEl, {childList: true});\n",
              "}}\n",
              "\n",
              "                        })\n",
              "                };\n",
              "                \n",
              "            </script>\n",
              "        </div>\n",
              "</body>\n",
              "</html>"
            ]
          },
          "metadata": {}
        }
      ]
    },
    {
      "cell_type": "markdown",
      "metadata": {
        "id": "IKuLfv3SF27O"
      },
      "source": [
        "# Task4: Understand NY covid 19 data in last 30 days"
      ]
    },
    {
      "cell_type": "code",
      "metadata": {
        "id": "280y4sHrAyuk"
      },
      "source": [
        "ny_cases_30 = ny_df['cases'][-31:-1]\n",
        "ny_deaths_30 = ny_df['deaths'] [-31:-1]\n",
        "ny_dates_30 = ny_df['date'][-31:-1]\n",
        "ny_new_cases_30 = ny_df['new_cases'][-31:-1]"
      ],
      "execution_count": null,
      "outputs": []
    },
    {
      "cell_type": "code",
      "metadata": {
        "id": "BUDcyVRwHY6F"
      },
      "source": [
        "# ny_dates_30"
      ],
      "execution_count": null,
      "outputs": []
    },
    {
      "cell_type": "code",
      "metadata": {
        "id": "MrRo6IcSHa6F",
        "colab": {
          "base_uri": "https://localhost:8080/",
          "height": 498
        },
        "outputId": "6096c0e4-0913-4e9f-fcae-76c934320fc8"
      },
      "source": [
        "#Creates a graph of cases in NY from 12/12-1/11\n",
        "#Specifies the width as 15 and heigt as 7 inches\n",
        "#Rotates x-axis labels by 90 degrees\n",
        "plt.figure(figsize=(15,7))\n",
        "plt.bar(x=ny_dates_30, height=ny_new_cases_30, color='red')\n",
        "plt.xticks(rotation=90)\n",
        "plt.show()"
      ],
      "execution_count": null,
      "outputs": [
        {
          "output_type": "display_data",
          "data": {
            "image/png": "[encoded data removed]",
            "text/plain": [
              "<Figure size 1080x504 with 1 Axes>"
            ]
          },
          "metadata": {
            "needs_background": "light"
          }
        }
      ]
    },
    {
      "cell_type": "code",
      "source": [
        "# plt.figure(figsize = (15, 7))\n",
        "fig = px.bar(x = ny_dates_30, y = ny_new_cases_30,\n",
        "            labels = dict(x = \"NY New Cases from 12/14/2021 through 1/11/2022,\",\n",
        "                           y = \"Amount of New Cases\"))\n",
        "fig.update_xaxes(range=[\"2021-12-14\", \"2022-01-11\"])\n",
        "fig.update_yaxes(range=[0, 90000])\n",
        "\n",
        "fig.show()\n",
        "\n",
        "# Number of new cases in NY from Dec 14 - Jan 11"
      ],
      "metadata": {
        "colab": {
          "base_uri": "https://localhost:8080/",
          "height": 562
        },
        "id": "CKOPOeqKM5AA",
        "outputId": "b50aed60-f625-47f8-9b66-c8422cdd8993"
      },
      "execution_count": null,
      "outputs": [
        {
          "output_type": "display_data",
          "data": {
            "text/html": [
              "<html>\n",
              "<head><meta charset=\"utf-8\" /></head>\n",
              "<body>\n",
              "    <div>\n",
              "            <script src=\"https://cdnjs.cloudflare.com/ajax/libs/mathjax/2.7.5/MathJax.js?config=TeX-AMS-MML_SVG\"></script><script type=\"text/javascript\">if (window.MathJax) {MathJax.Hub.Config({SVG: {font: \"STIX-Web\"}});}</script>\n",
              "                <script type=\"text/javascript\">window.PlotlyConfig = {MathJaxConfig: 'local'};</script>\n",
              "        <script src=\"https://cdn.plot.ly/plotly-latest.min.js\"></script>    \n",
              "            <div id=\"044b5087-1b40-4d5d-9a5c-c94d8961ef5a\" class=\"plotly-graph-div\" style=\"height:525px; width:100%;\"></div>\n",
              "            <script type=\"text/javascript\">\n",
              "                \n",
              "                    window.PLOTLYENV=window.PLOTLYENV || {};\n",
              "                    \n",
              "                if (document.getElementById(\"044b5087-1b40-4d5d-9a5c-c94d8961ef5a\")) {\n",
              "                    Plotly.newPlot(\n",
              "                        '044b5087-1b40-4d5d-9a5c-c94d8961ef5a',\n",
              "                        [{\"alignmentgroup\": \"True\", \"hoverlabel\": {\"namelength\": 0}, \"hovertemplate\": \"NY New Cases from 12/14/2021 through 1/11/2022,=%{x}<br>Amount of New Cases=%{y}\", \"legendgroup\": \"\", \"marker\": {\"color\": \"#636efa\"}, \"name\": \"\", \"offsetgroup\": \"\", \"orientation\": \"v\", \"showlegend\": false, \"textposition\": \"auto\", \"type\": \"bar\", \"x\": [\"2021-12-14\", \"2021-12-15\", \"2021-12-16\", \"2021-12-17\", \"2021-12-18\", \"2021-12-19\", \"2021-12-20\", \"2021-12-21\", \"2021-12-22\", \"2021-12-23\", \"2021-12-24\", \"2021-12-25\", \"2021-12-26\", \"2021-12-27\", \"2021-12-28\", \"2021-12-29\", \"2021-12-30\", \"2021-12-31\", \"2022-01-01\", \"2022-01-02\", \"2022-01-03\", \"2022-01-04\", \"2022-01-05\", \"2022-01-06\", \"2022-01-07\", \"2022-01-08\", \"2022-01-09\", \"2022-01-10\", \"2022-01-11\", \"2022-01-12\"], \"xaxis\": \"x\", \"y\": [8931, 12383, 17520, 20563, 10319, 28260, 20439, 26456, 28460, 33855, 32591, 0, 86162, 30441, 48836, 60359, 71078, 78804, 81077, 62542, 60453, 51289, 75149, 80378, 82094, 90132, 79777, 57884, 49410, 54911], \"yaxis\": \"y\"}],\n",
              "                        {\"barmode\": \"relative\", \"legend\": {\"tracegroupgap\": 0}, \"margin\": {\"t\": 60}, \"template\": {\"data\": {\"bar\": [{\"error_x\": {\"color\": \"#2a3f5f\"}, \"error_y\": {\"color\": \"#2a3f5f\"}, \"marker\": {\"line\": {\"color\": \"#E5ECF6\", \"width\": 0.5}}, \"type\": \"bar\"}], \"barpolar\": [{\"marker\": {\"line\": {\"color\": \"#E5ECF6\", \"width\": 0.5}}, \"type\": \"barpolar\"}], \"carpet\": [{\"aaxis\": {\"endlinecolor\": \"#2a3f5f\", \"gridcolor\": \"white\", \"linecolor\": \"white\", \"minorgridcolor\": \"white\", \"startlinecolor\": \"#2a3f5f\"}, \"baxis\": {\"endlinecolor\": \"#2a3f5f\", \"gridcolor\": \"white\", \"linecolor\": \"white\", \"minorgridcolor\": \"white\", \"startlinecolor\": \"#2a3f5f\"}, \"type\": \"carpet\"}], \"choropleth\": [{\"colorbar\": {\"outlinewidth\": 0, \"ticks\": \"\"}, \"type\": \"choropleth\"}], \"contour\": [{\"colorbar\": {\"outlinewidth\": 0, \"ticks\": \"\"}, \"colorscale\": [[0.0, \"#0d0887\"], [0.1111111111111111, \"#46039f\"], [0.2222222222222222, \"#7201a8\"], [0.3333333333333333, \"#9c179e\"], [0.4444444444444444, \"#bd3786\"], [0.5555555555555556, \"#d8576b\"], [0.6666666666666666, \"#ed7953\"], [0.7777777777777778, \"#fb9f3a\"], [0.8888888888888888, \"#fdca26\"], [1.0, \"#f0f921\"]], \"type\": \"contour\"}], \"contourcarpet\": [{\"colorbar\": {\"outlinewidth\": 0, \"ticks\": \"\"}, \"type\": \"contourcarpet\"}], \"heatmap\": [{\"colorbar\": {\"outlinewidth\": 0, \"ticks\": \"\"}, \"colorscale\": [[0.0, \"#0d0887\"], [0.1111111111111111, \"#46039f\"], [0.2222222222222222, \"#7201a8\"], [0.3333333333333333, \"#9c179e\"], [0.4444444444444444, \"#bd3786\"], [0.5555555555555556, \"#d8576b\"], [0.6666666666666666, \"#ed7953\"], [0.7777777777777778, \"#fb9f3a\"], [0.8888888888888888, \"#fdca26\"], [1.0, \"#f0f921\"]], \"type\": \"heatmap\"}], \"heatmapgl\": [{\"colorbar\": {\"outlinewidth\": 0, \"ticks\": \"\"}, \"colorscale\": [[0.0, \"#0d0887\"], [0.1111111111111111, \"#46039f\"], [0.2222222222222222, \"#7201a8\"], [0.3333333333333333, \"#9c179e\"], [0.4444444444444444, \"#bd3786\"], [0.5555555555555556, \"#d8576b\"], [0.6666666666666666, \"#ed7953\"], [0.7777777777777778, \"#fb9f3a\"], [0.8888888888888888, \"#fdca26\"], [1.0, \"#f0f921\"]], \"type\": \"heatmapgl\"}], \"histogram\": [{\"marker\": {\"colorbar\": {\"outlinewidth\": 0, \"ticks\": \"\"}}, \"type\": \"histogram\"}], \"histogram2d\": [{\"colorbar\": {\"outlinewidth\": 0, \"ticks\": \"\"}, \"colorscale\": [[0.0, \"#0d0887\"], [0.1111111111111111, \"#46039f\"], [0.2222222222222222, \"#7201a8\"], [0.3333333333333333, \"#9c179e\"], [0.4444444444444444, \"#bd3786\"], [0.5555555555555556, \"#d8576b\"], [0.6666666666666666, \"#ed7953\"], [0.7777777777777778, \"#fb9f3a\"], [0.8888888888888888, \"#fdca26\"], [1.0, \"#f0f921\"]], \"type\": \"histogram2d\"}], \"histogram2dcontour\": [{\"colorbar\": {\"outlinewidth\": 0, \"ticks\": \"\"}, \"colorscale\": [[0.0, \"#0d0887\"], [0.1111111111111111, \"#46039f\"], [0.2222222222222222, \"#7201a8\"], [0.3333333333333333, \"#9c179e\"], [0.4444444444444444, \"#bd3786\"], [0.5555555555555556, \"#d8576b\"], [0.6666666666666666, \"#ed7953\"], [0.7777777777777778, \"#fb9f3a\"], [0.8888888888888888, \"#fdca26\"], [1.0, \"#f0f921\"]], \"type\": \"histogram2dcontour\"}], \"mesh3d\": [{\"colorbar\": {\"outlinewidth\": 0, \"ticks\": \"\"}, \"type\": \"mesh3d\"}], \"parcoords\": [{\"line\": {\"colorbar\": {\"outlinewidth\": 0, \"ticks\": \"\"}}, \"type\": \"parcoords\"}], \"pie\": [{\"automargin\": true, \"type\": \"pie\"}], \"scatter\": [{\"marker\": {\"colorbar\": {\"outlinewidth\": 0, \"ticks\": \"\"}}, \"type\": \"scatter\"}], \"scatter3d\": [{\"line\": {\"colorbar\": {\"outlinewidth\": 0, \"ticks\": \"\"}}, \"marker\": {\"colorbar\": {\"outlinewidth\": 0, \"ticks\": \"\"}}, \"type\": \"scatter3d\"}], \"scattercarpet\": [{\"marker\": {\"colorbar\": {\"outlinewidth\": 0, \"ticks\": \"\"}}, \"type\": \"scattercarpet\"}], \"scattergeo\": [{\"marker\": {\"colorbar\": {\"outlinewidth\": 0, \"ticks\": \"\"}}, \"type\": \"scattergeo\"}], \"scattergl\": [{\"marker\": {\"colorbar\": {\"outlinewidth\": 0, \"ticks\": \"\"}}, \"type\": \"scattergl\"}], \"scattermapbox\": [{\"marker\": {\"colorbar\": {\"outlinewidth\": 0, \"ticks\": \"\"}}, \"type\": \"scattermapbox\"}], \"scatterpolar\": [{\"marker\": {\"colorbar\": {\"outlinewidth\": 0, \"ticks\": \"\"}}, \"type\": \"scatterpolar\"}], \"scatterpolargl\": [{\"marker\": {\"colorbar\": {\"outlinewidth\": 0, \"ticks\": \"\"}}, \"type\": \"scatterpolargl\"}], \"scatterternary\": [{\"marker\": {\"colorbar\": {\"outlinewidth\": 0, \"ticks\": \"\"}}, \"type\": \"scatterternary\"}], \"surface\": [{\"colorbar\": {\"outlinewidth\": 0, \"ticks\": \"\"}, \"colorscale\": [[0.0, \"#0d0887\"], [0.1111111111111111, \"#46039f\"], [0.2222222222222222, \"#7201a8\"], [0.3333333333333333, \"#9c179e\"], [0.4444444444444444, \"#bd3786\"], [0.5555555555555556, \"#d8576b\"], [0.6666666666666666, \"#ed7953\"], [0.7777777777777778, \"#fb9f3a\"], [0.8888888888888888, \"#fdca26\"], [1.0, \"#f0f921\"]], \"type\": \"surface\"}], \"table\": [{\"cells\": {\"fill\": {\"color\": \"#EBF0F8\"}, \"line\": {\"color\": \"white\"}}, \"header\": {\"fill\": {\"color\": \"#C8D4E3\"}, \"line\": {\"color\": \"white\"}}, \"type\": \"table\"}]}, \"layout\": {\"annotationdefaults\": {\"arrowcolor\": \"#2a3f5f\", \"arrowhead\": 0, \"arrowwidth\": 1}, \"coloraxis\": {\"colorbar\": {\"outlinewidth\": 0, \"ticks\": \"\"}}, \"colorscale\": {\"diverging\": [[0, \"#8e0152\"], [0.1, \"#c51b7d\"], [0.2, \"#de77ae\"], [0.3, \"#f1b6da\"], [0.4, \"#fde0ef\"], [0.5, \"#f7f7f7\"], [0.6, \"#e6f5d0\"], [0.7, \"#b8e186\"], [0.8, \"#7fbc41\"], [0.9, \"#4d9221\"], [1, \"#276419\"]], \"sequential\": [[0.0, \"#0d0887\"], [0.1111111111111111, \"#46039f\"], [0.2222222222222222, \"#7201a8\"], [0.3333333333333333, \"#9c179e\"], [0.4444444444444444, \"#bd3786\"], [0.5555555555555556, \"#d8576b\"], [0.6666666666666666, \"#ed7953\"], [0.7777777777777778, \"#fb9f3a\"], [0.8888888888888888, \"#fdca26\"], [1.0, \"#f0f921\"]], \"sequentialminus\": [[0.0, \"#0d0887\"], [0.1111111111111111, \"#46039f\"], [0.2222222222222222, \"#7201a8\"], [0.3333333333333333, \"#9c179e\"], [0.4444444444444444, \"#bd3786\"], [0.5555555555555556, \"#d8576b\"], [0.6666666666666666, \"#ed7953\"], [0.7777777777777778, \"#fb9f3a\"], [0.8888888888888888, \"#fdca26\"], [1.0, \"#f0f921\"]]}, \"colorway\": [\"#636efa\", \"#EF553B\", \"#00cc96\", \"#ab63fa\", \"#FFA15A\", \"#19d3f3\", \"#FF6692\", \"#B6E880\", \"#FF97FF\", \"#FECB52\"], \"font\": {\"color\": \"#2a3f5f\"}, \"geo\": {\"bgcolor\": \"white\", \"lakecolor\": \"white\", \"landcolor\": \"#E5ECF6\", \"showlakes\": true, \"showland\": true, \"subunitcolor\": \"white\"}, \"hoverlabel\": {\"align\": \"left\"}, \"hovermode\": \"closest\", \"mapbox\": {\"style\": \"light\"}, \"paper_bgcolor\": \"white\", \"plot_bgcolor\": \"#E5ECF6\", \"polar\": {\"angularaxis\": {\"gridcolor\": \"white\", \"linecolor\": \"white\", \"ticks\": \"\"}, \"bgcolor\": \"#E5ECF6\", \"radialaxis\": {\"gridcolor\": \"white\", \"linecolor\": \"white\", \"ticks\": \"\"}}, \"scene\": {\"xaxis\": {\"backgroundcolor\": \"#E5ECF6\", \"gridcolor\": \"white\", \"gridwidth\": 2, \"linecolor\": \"white\", \"showbackground\": true, \"ticks\": \"\", \"zerolinecolor\": \"white\"}, \"yaxis\": {\"backgroundcolor\": \"#E5ECF6\", \"gridcolor\": \"white\", \"gridwidth\": 2, \"linecolor\": \"white\", \"showbackground\": true, \"ticks\": \"\", \"zerolinecolor\": \"white\"}, \"zaxis\": {\"backgroundcolor\": \"#E5ECF6\", \"gridcolor\": \"white\", \"gridwidth\": 2, \"linecolor\": \"white\", \"showbackground\": true, \"ticks\": \"\", \"zerolinecolor\": \"white\"}}, \"shapedefaults\": {\"line\": {\"color\": \"#2a3f5f\"}}, \"ternary\": {\"aaxis\": {\"gridcolor\": \"white\", \"linecolor\": \"white\", \"ticks\": \"\"}, \"baxis\": {\"gridcolor\": \"white\", \"linecolor\": \"white\", \"ticks\": \"\"}, \"bgcolor\": \"#E5ECF6\", \"caxis\": {\"gridcolor\": \"white\", \"linecolor\": \"white\", \"ticks\": \"\"}}, \"title\": {\"x\": 0.05}, \"xaxis\": {\"automargin\": true, \"gridcolor\": \"white\", \"linecolor\": \"white\", \"ticks\": \"\", \"title\": {\"standoff\": 15}, \"zerolinecolor\": \"white\", \"zerolinewidth\": 2}, \"yaxis\": {\"automargin\": true, \"gridcolor\": \"white\", \"linecolor\": \"white\", \"ticks\": \"\", \"title\": {\"standoff\": 15}, \"zerolinecolor\": \"white\", \"zerolinewidth\": 2}}}, \"xaxis\": {\"anchor\": \"y\", \"domain\": [0.0, 1.0], \"range\": [\"2021-12-14\", \"2022-01-11\"], \"title\": {\"text\": \"NY New Cases from 12/14/2021 through 1/11/2022,\"}}, \"yaxis\": {\"anchor\": \"x\", \"domain\": [0.0, 1.0], \"range\": [0, 90000], \"title\": {\"text\": \"Amount of New Cases\"}}},\n",
              "                        {\"responsive\": true}\n",
              "                    ).then(function(){\n",
              "                            \n",
              "var gd = document.getElementById('044b5087-1b40-4d5d-9a5c-c94d8961ef5a');\n",
              "var x = new MutationObserver(function (mutations, observer) {{\n",
              "        var display = window.getComputedStyle(gd).display;\n",
              "        if (!display || display === 'none') {{\n",
              "            console.log([gd, 'removed!']);\n",
              "            Plotly.purge(gd);\n",
              "            observer.disconnect();\n",
              "        }}\n",
              "}});\n",
              "\n",
              "// Listen for the removal of the full notebook cells\n",
              "var notebookContainer = gd.closest('#notebook-container');\n",
              "if (notebookContainer) {{\n",
              "    x.observe(notebookContainer, {childList: true});\n",
              "}}\n",
              "\n",
              "// Listen for the clearing of the current output cell\n",
              "var outputEl = gd.closest('.output');\n",
              "if (outputEl) {{\n",
              "    x.observe(outputEl, {childList: true});\n",
              "}}\n",
              "\n",
              "                        })\n",
              "                };\n",
              "                \n",
              "            </script>\n",
              "        </div>\n",
              "</body>\n",
              "</html>"
            ]
          },
          "metadata": {}
        }
      ]
    },
    {
      "cell_type": "code",
      "metadata": {
        "colab": {
          "base_uri": "https://localhost:8080/",
          "height": 498
        },
        "id": "TG0hPnVKm0E0",
        "outputId": "a7f70a29-5f61-4b8b-b9e2-547c7f9d8d85"
      },
      "source": [
        "#Creates a graph of deaths in NY from 12/12-1/11\n",
        "#Specifies the width as 15 and height as 7 inches\n",
        "#Rotates x-axis labels by 90 degrees\n",
        "# change the scale of the y axis to exaggerate the increases in deaths\n",
        "plt.figure(figsize=(15,7))\n",
        "plt.bar(x=ny_dates_30, height=ny_deaths_30, color='blue')\n",
        "plt.xticks(rotation=90)\n",
        "\n",
        "plt.show()"
      ],
      "execution_count": null,
      "outputs": [
        {
          "output_type": "display_data",
          "data": {
            "image/png": "[encoded data removed]",
            "text/plain": [
              "<Figure size 1080x504 with 1 Axes>"
            ]
          },
          "metadata": {
            "needs_background": "light"
          }
        }
      ]
    },
    {
      "cell_type": "code",
      "source": [
        "# plt.figure(figsize = (15, 7))\n",
        "fig = px.bar(x = ny_dates_30, y = ny_deaths_30,\n",
        "             labels = dict(x = \"NY Deaths from 12/12/2021 through 1/12/2022,\",\n",
        "                           y = \"Cumulative Deaths\"))\n",
        "fig.update_yaxes(range=[55000, 62000])\n",
        "fig.update_xaxes(range=[\"2021-12-14\", \"2022-01-12\"])\n",
        "\n",
        "fig.show()\n",
        "\n",
        "# this graph is showing NY days in a 30 day period in a cumulative format\n",
        "# please note, the y axis is not starting from 0 and the range is adjusted\n",
        "# to visually exaggerate the increase for the viewer\n",
        "# but the actual change in terms of percentage is smaller than you may perceive"
      ],
      "metadata": {
        "colab": {
          "base_uri": "https://localhost:8080/",
          "height": 562
        },
        "id": "Cr3rIpBzJmEM",
        "outputId": "e1ed23bb-c214-4c75-9580-b9c68093d7a1"
      },
      "execution_count": null,
      "outputs": [
        {
          "output_type": "display_data",
          "data": {
            "text/html": [
              "<html>\n",
              "<head><meta charset=\"utf-8\" /></head>\n",
              "<body>\n",
              "    <div>\n",
              "            <script src=\"https://cdnjs.cloudflare.com/ajax/libs/mathjax/2.7.5/MathJax.js?config=TeX-AMS-MML_SVG\"></script><script type=\"text/javascript\">if (window.MathJax) {MathJax.Hub.Config({SVG: {font: \"STIX-Web\"}});}</script>\n",
              "                <script type=\"text/javascript\">window.PlotlyConfig = {MathJaxConfig: 'local'};</script>\n",
              "        <script src=\"https://cdn.plot.ly/plotly-latest.min.js\"></script>    \n",
              "            <div id=\"271b0b04-9801-4117-a0f0-0a9ea7e24a7a\" class=\"plotly-graph-div\" style=\"height:525px; width:100%;\"></div>\n",
              "            <script type=\"text/javascript\">\n",
              "                \n",
              "                    window.PLOTLYENV=window.PLOTLYENV || {};\n",
              "                    \n",
              "                if (document.getElementById(\"271b0b04-9801-4117-a0f0-0a9ea7e24a7a\")) {\n",
              "                    Plotly.newPlot(\n",
              "                        '271b0b04-9801-4117-a0f0-0a9ea7e24a7a',\n",
              "                        [{\"alignmentgroup\": \"True\", \"hoverlabel\": {\"namelength\": 0}, \"hovertemplate\": \"NY Deaths from 12/12/2021 through 1/12/2022,=%{x}<br>Cumulative Deaths=%{y}\", \"legendgroup\": \"\", \"marker\": {\"color\": \"#636efa\"}, \"name\": \"\", \"offsetgroup\": \"\", \"orientation\": \"v\", \"showlegend\": false, \"textposition\": \"auto\", \"type\": \"bar\", \"x\": [\"2021-12-14\", \"2021-12-15\", \"2021-12-16\", \"2021-12-17\", \"2021-12-18\", \"2021-12-19\", \"2021-12-20\", \"2021-12-21\", \"2021-12-22\", \"2021-12-23\", \"2021-12-24\", \"2021-12-25\", \"2021-12-26\", \"2021-12-27\", \"2021-12-28\", \"2021-12-29\", \"2021-12-30\", \"2021-12-31\", \"2022-01-01\", \"2022-01-02\", \"2022-01-03\", \"2022-01-04\", \"2022-01-05\", \"2022-01-06\", \"2022-01-07\", \"2022-01-08\", \"2022-01-09\", \"2022-01-10\", \"2022-01-11\", \"2022-01-12\"], \"xaxis\": \"x\", \"y\": [57788, 57867, 57911, 57989, 58037, 58097, 58147, 58221, 58292, 58373, 58422, 58422, 58465, 58604, 58650, 58820, 58917, 58993, 59072, 59152, 59240, 59339, 59485, 59631, 59827, 59913, 60083, 60162, 60428, 60638], \"yaxis\": \"y\"}],\n",
              "                        {\"barmode\": \"relative\", \"legend\": {\"tracegroupgap\": 0}, \"margin\": {\"t\": 60}, \"template\": {\"data\": {\"bar\": [{\"error_x\": {\"color\": \"#2a3f5f\"}, \"error_y\": {\"color\": \"#2a3f5f\"}, \"marker\": {\"line\": {\"color\": \"#E5ECF6\", \"width\": 0.5}}, \"type\": \"bar\"}], \"barpolar\": [{\"marker\": {\"line\": {\"color\": \"#E5ECF6\", \"width\": 0.5}}, \"type\": \"barpolar\"}], \"carpet\": [{\"aaxis\": {\"endlinecolor\": \"#2a3f5f\", \"gridcolor\": \"white\", \"linecolor\": \"white\", \"minorgridcolor\": \"white\", \"startlinecolor\": \"#2a3f5f\"}, \"baxis\": {\"endlinecolor\": \"#2a3f5f\", \"gridcolor\": \"white\", \"linecolor\": \"white\", \"minorgridcolor\": \"white\", \"startlinecolor\": \"#2a3f5f\"}, \"type\": \"carpet\"}], \"choropleth\": [{\"colorbar\": {\"outlinewidth\": 0, \"ticks\": \"\"}, \"type\": \"choropleth\"}], \"contour\": [{\"colorbar\": {\"outlinewidth\": 0, \"ticks\": \"\"}, \"colorscale\": [[0.0, \"#0d0887\"], [0.1111111111111111, \"#46039f\"], [0.2222222222222222, \"#7201a8\"], [0.3333333333333333, \"#9c179e\"], [0.4444444444444444, \"#bd3786\"], [0.5555555555555556, \"#d8576b\"], [0.6666666666666666, \"#ed7953\"], [0.7777777777777778, \"#fb9f3a\"], [0.8888888888888888, \"#fdca26\"], [1.0, \"#f0f921\"]], \"type\": \"contour\"}], \"contourcarpet\": [{\"colorbar\": {\"outlinewidth\": 0, \"ticks\": \"\"}, \"type\": \"contourcarpet\"}], \"heatmap\": [{\"colorbar\": {\"outlinewidth\": 0, \"ticks\": \"\"}, \"colorscale\": [[0.0, \"#0d0887\"], [0.1111111111111111, \"#46039f\"], [0.2222222222222222, \"#7201a8\"], [0.3333333333333333, \"#9c179e\"], [0.4444444444444444, \"#bd3786\"], [0.5555555555555556, \"#d8576b\"], [0.6666666666666666, \"#ed7953\"], [0.7777777777777778, \"#fb9f3a\"], [0.8888888888888888, \"#fdca26\"], [1.0, \"#f0f921\"]], \"type\": \"heatmap\"}], \"heatmapgl\": [{\"colorbar\": {\"outlinewidth\": 0, \"ticks\": \"\"}, \"colorscale\": [[0.0, \"#0d0887\"], [0.1111111111111111, \"#46039f\"], [0.2222222222222222, \"#7201a8\"], [0.3333333333333333, \"#9c179e\"], [0.4444444444444444, \"#bd3786\"], [0.5555555555555556, \"#d8576b\"], [0.6666666666666666, \"#ed7953\"], [0.7777777777777778, \"#fb9f3a\"], [0.8888888888888888, \"#fdca26\"], [1.0, \"#f0f921\"]], \"type\": \"heatmapgl\"}], \"histogram\": [{\"marker\": {\"colorbar\": {\"outlinewidth\": 0, \"ticks\": \"\"}}, \"type\": \"histogram\"}], \"histogram2d\": [{\"colorbar\": {\"outlinewidth\": 0, \"ticks\": \"\"}, \"colorscale\": [[0.0, \"#0d0887\"], [0.1111111111111111, \"#46039f\"], [0.2222222222222222, \"#7201a8\"], [0.3333333333333333, \"#9c179e\"], [0.4444444444444444, \"#bd3786\"], [0.5555555555555556, \"#d8576b\"], [0.6666666666666666, \"#ed7953\"], [0.7777777777777778, \"#fb9f3a\"], [0.8888888888888888, \"#fdca26\"], [1.0, \"#f0f921\"]], \"type\": \"histogram2d\"}], \"histogram2dcontour\": [{\"colorbar\": {\"outlinewidth\": 0, \"ticks\": \"\"}, \"colorscale\": [[0.0, \"#0d0887\"], [0.1111111111111111, \"#46039f\"], [0.2222222222222222, \"#7201a8\"], [0.3333333333333333, \"#9c179e\"], [0.4444444444444444, \"#bd3786\"], [0.5555555555555556, \"#d8576b\"], [0.6666666666666666, \"#ed7953\"], [0.7777777777777778, \"#fb9f3a\"], [0.8888888888888888, \"#fdca26\"], [1.0, \"#f0f921\"]], \"type\": \"histogram2dcontour\"}], \"mesh3d\": [{\"colorbar\": {\"outlinewidth\": 0, \"ticks\": \"\"}, \"type\": \"mesh3d\"}], \"parcoords\": [{\"line\": {\"colorbar\": {\"outlinewidth\": 0, \"ticks\": \"\"}}, \"type\": \"parcoords\"}], \"pie\": [{\"automargin\": true, \"type\": \"pie\"}], \"scatter\": [{\"marker\": {\"colorbar\": {\"outlinewidth\": 0, \"ticks\": \"\"}}, \"type\": \"scatter\"}], \"scatter3d\": [{\"line\": {\"colorbar\": {\"outlinewidth\": 0, \"ticks\": \"\"}}, \"marker\": {\"colorbar\": {\"outlinewidth\": 0, \"ticks\": \"\"}}, \"type\": \"scatter3d\"}], \"scattercarpet\": [{\"marker\": {\"colorbar\": {\"outlinewidth\": 0, \"ticks\": \"\"}}, \"type\": \"scattercarpet\"}], \"scattergeo\": [{\"marker\": {\"colorbar\": {\"outlinewidth\": 0, \"ticks\": \"\"}}, \"type\": \"scattergeo\"}], \"scattergl\": [{\"marker\": {\"colorbar\": {\"outlinewidth\": 0, \"ticks\": \"\"}}, \"type\": \"scattergl\"}], \"scattermapbox\": [{\"marker\": {\"colorbar\": {\"outlinewidth\": 0, \"ticks\": \"\"}}, \"type\": \"scattermapbox\"}], \"scatterpolar\": [{\"marker\": {\"colorbar\": {\"outlinewidth\": 0, \"ticks\": \"\"}}, \"type\": \"scatterpolar\"}], \"scatterpolargl\": [{\"marker\": {\"colorbar\": {\"outlinewidth\": 0, \"ticks\": \"\"}}, \"type\": \"scatterpolargl\"}], \"scatterternary\": [{\"marker\": {\"colorbar\": {\"outlinewidth\": 0, \"ticks\": \"\"}}, \"type\": \"scatterternary\"}], \"surface\": [{\"colorbar\": {\"outlinewidth\": 0, \"ticks\": \"\"}, \"colorscale\": [[0.0, \"#0d0887\"], [0.1111111111111111, \"#46039f\"], [0.2222222222222222, \"#7201a8\"], [0.3333333333333333, \"#9c179e\"], [0.4444444444444444, \"#bd3786\"], [0.5555555555555556, \"#d8576b\"], [0.6666666666666666, \"#ed7953\"], [0.7777777777777778, \"#fb9f3a\"], [0.8888888888888888, \"#fdca26\"], [1.0, \"#f0f921\"]], \"type\": \"surface\"}], \"table\": [{\"cells\": {\"fill\": {\"color\": \"#EBF0F8\"}, \"line\": {\"color\": \"white\"}}, \"header\": {\"fill\": {\"color\": \"#C8D4E3\"}, \"line\": {\"color\": \"white\"}}, \"type\": \"table\"}]}, \"layout\": {\"annotationdefaults\": {\"arrowcolor\": \"#2a3f5f\", \"arrowhead\": 0, \"arrowwidth\": 1}, \"coloraxis\": {\"colorbar\": {\"outlinewidth\": 0, \"ticks\": \"\"}}, \"colorscale\": {\"diverging\": [[0, \"#8e0152\"], [0.1, \"#c51b7d\"], [0.2, \"#de77ae\"], [0.3, \"#f1b6da\"], [0.4, \"#fde0ef\"], [0.5, \"#f7f7f7\"], [0.6, \"#e6f5d0\"], [0.7, \"#b8e186\"], [0.8, \"#7fbc41\"], [0.9, \"#4d9221\"], [1, \"#276419\"]], \"sequential\": [[0.0, \"#0d0887\"], [0.1111111111111111, \"#46039f\"], [0.2222222222222222, \"#7201a8\"], [0.3333333333333333, \"#9c179e\"], [0.4444444444444444, \"#bd3786\"], [0.5555555555555556, \"#d8576b\"], [0.6666666666666666, \"#ed7953\"], [0.7777777777777778, \"#fb9f3a\"], [0.8888888888888888, \"#fdca26\"], [1.0, \"#f0f921\"]], \"sequentialminus\": [[0.0, \"#0d0887\"], [0.1111111111111111, \"#46039f\"], [0.2222222222222222, \"#7201a8\"], [0.3333333333333333, \"#9c179e\"], [0.4444444444444444, \"#bd3786\"], [0.5555555555555556, \"#d8576b\"], [0.6666666666666666, \"#ed7953\"], [0.7777777777777778, \"#fb9f3a\"], [0.8888888888888888, \"#fdca26\"], [1.0, \"#f0f921\"]]}, \"colorway\": [\"#636efa\", \"#EF553B\", \"#00cc96\", \"#ab63fa\", \"#FFA15A\", \"#19d3f3\", \"#FF6692\", \"#B6E880\", \"#FF97FF\", \"#FECB52\"], \"font\": {\"color\": \"#2a3f5f\"}, \"geo\": {\"bgcolor\": \"white\", \"lakecolor\": \"white\", \"landcolor\": \"#E5ECF6\", \"showlakes\": true, \"showland\": true, \"subunitcolor\": \"white\"}, \"hoverlabel\": {\"align\": \"left\"}, \"hovermode\": \"closest\", \"mapbox\": {\"style\": \"light\"}, \"paper_bgcolor\": \"white\", \"plot_bgcolor\": \"#E5ECF6\", \"polar\": {\"angularaxis\": {\"gridcolor\": \"white\", \"linecolor\": \"white\", \"ticks\": \"\"}, \"bgcolor\": \"#E5ECF6\", \"radialaxis\": {\"gridcolor\": \"white\", \"linecolor\": \"white\", \"ticks\": \"\"}}, \"scene\": {\"xaxis\": {\"backgroundcolor\": \"#E5ECF6\", \"gridcolor\": \"white\", \"gridwidth\": 2, \"linecolor\": \"white\", \"showbackground\": true, \"ticks\": \"\", \"zerolinecolor\": \"white\"}, \"yaxis\": {\"backgroundcolor\": \"#E5ECF6\", \"gridcolor\": \"white\", \"gridwidth\": 2, \"linecolor\": \"white\", \"showbackground\": true, \"ticks\": \"\", \"zerolinecolor\": \"white\"}, \"zaxis\": {\"backgroundcolor\": \"#E5ECF6\", \"gridcolor\": \"white\", \"gridwidth\": 2, \"linecolor\": \"white\", \"showbackground\": true, \"ticks\": \"\", \"zerolinecolor\": \"white\"}}, \"shapedefaults\": {\"line\": {\"color\": \"#2a3f5f\"}}, \"ternary\": {\"aaxis\": {\"gridcolor\": \"white\", \"linecolor\": \"white\", \"ticks\": \"\"}, \"baxis\": {\"gridcolor\": \"white\", \"linecolor\": \"white\", \"ticks\": \"\"}, \"bgcolor\": \"#E5ECF6\", \"caxis\": {\"gridcolor\": \"white\", \"linecolor\": \"white\", \"ticks\": \"\"}}, \"title\": {\"x\": 0.05}, \"xaxis\": {\"automargin\": true, \"gridcolor\": \"white\", \"linecolor\": \"white\", \"ticks\": \"\", \"title\": {\"standoff\": 15}, \"zerolinecolor\": \"white\", \"zerolinewidth\": 2}, \"yaxis\": {\"automargin\": true, \"gridcolor\": \"white\", \"linecolor\": \"white\", \"ticks\": \"\", \"title\": {\"standoff\": 15}, \"zerolinecolor\": \"white\", \"zerolinewidth\": 2}}}, \"xaxis\": {\"anchor\": \"y\", \"domain\": [0.0, 1.0], \"range\": [\"2021-12-14\", \"2022-01-12\"], \"title\": {\"text\": \"NY Deaths from 12/12/2021 through 1/12/2022,\"}}, \"yaxis\": {\"anchor\": \"x\", \"domain\": [0.0, 1.0], \"range\": [55000, 62000], \"title\": {\"text\": \"Cumulative Deaths\"}}},\n",
              "                        {\"responsive\": true}\n",
              "                    ).then(function(){\n",
              "                            \n",
              "var gd = document.getElementById('271b0b04-9801-4117-a0f0-0a9ea7e24a7a');\n",
              "var x = new MutationObserver(function (mutations, observer) {{\n",
              "        var display = window.getComputedStyle(gd).display;\n",
              "        if (!display || display === 'none') {{\n",
              "            console.log([gd, 'removed!']);\n",
              "            Plotly.purge(gd);\n",
              "            observer.disconnect();\n",
              "        }}\n",
              "}});\n",
              "\n",
              "// Listen for the removal of the full notebook cells\n",
              "var notebookContainer = gd.closest('#notebook-container');\n",
              "if (notebookContainer) {{\n",
              "    x.observe(notebookContainer, {childList: true});\n",
              "}}\n",
              "\n",
              "// Listen for the clearing of the current output cell\n",
              "var outputEl = gd.closest('.output');\n",
              "if (outputEl) {{\n",
              "    x.observe(outputEl, {childList: true});\n",
              "}}\n",
              "\n",
              "                        })\n",
              "                };\n",
              "                \n",
              "            </script>\n",
              "        </div>\n",
              "</body>\n",
              "</html>"
            ]
          },
          "metadata": {}
        }
      ]
    },
    {
      "cell_type": "markdown",
      "metadata": {
        "id": "PtjNZZmOdAhy"
      },
      "source": [
        "# Comparing Covid 19 data with different states"
      ]
    },
    {
      "cell_type": "markdown",
      "metadata": {
        "id": "HInHQMh0dHvu"
      },
      "source": [
        "Let's compare the Covid 19 cases after July for states: New York, California, Florida, Texas, Arizona"
      ]
    },
    {
      "cell_type": "code",
      "metadata": {
        "id": "vu_eV2RmHvyO"
      },
      "source": [
        "#States the states that are used for comparison\n",
        "states = ['New York', 'California','Florida', 'Texas','Arizona']"
      ],
      "execution_count": null,
      "outputs": []
    },
    {
      "cell_type": "code",
      "source": [
        "# create the time series plot\n",
        "'''\n",
        "sns.lineplot(x = \"Date\", y = \"Col_1\", data = df)\n",
        "sns.lineplot(x = \"Date\", y = \"Col_2\", data = df)\n",
        "plt.ylabel(\"Col_1 and Col_2\")\n",
        "plt.xticks(rotation = 25)\n",
        "'''"
      ],
      "metadata": {
        "id": "ViYB0WQ98dNq"
      },
      "execution_count": null,
      "outputs": []
    },
    {
      "cell_type": "code",
      "metadata": {
        "id": "2xVCN1IBInu0",
        "colab": {
          "base_uri": "https://localhost:8080/",
          "height": 508
        },
        "outputId": "1d4b3ae1-ce0b-4371-e55d-b58e2bf69146"
      },
      "source": [
        "plt.figure(figsize=(15,7))\n",
        "for state in states:\n",
        "  df_st = df[(df['state']==state) & (df['date']>='2020-11-01')]\n",
        "  plt.plot(df_st['date'],\n",
        "           df_st['cases'],\n",
        "           linewidth=2\n",
        "           )\n",
        "  plt.xticks(rotation=90)\n",
        "plt.legend(states)\n",
        "plt.show()\n",
        "\n",
        "#Change the start date from November to July\n",
        "#Change the graph"
      ],
      "execution_count": null,
      "outputs": [
        {
          "output_type": "display_data",
          "data": {
            "image/png": "[encoded data removed]",
            "text/plain": [
              "<Figure size 1080x504 with 1 Axes>"
            ]
          },
          "metadata": {
            "needs_background": "light"
          }
        }
      ]
    },
    {
      "cell_type": "code",
      "source": [
        "df_july = df[df.state.isin(states) & (df['date']>='2020-07-01')]"
      ],
      "metadata": {
        "id": "3PU_OQsQFGnD"
      },
      "execution_count": null,
      "outputs": []
    },
    {
      "cell_type": "code",
      "source": [
        "df_july"
      ],
      "metadata": {
        "colab": {
          "base_uri": "https://localhost:8080/",
          "height": 433
        },
        "id": "Btm5RVZ7HjD_",
        "outputId": "54506429-2705-4891-b03a-7385323473fb"
      },
      "execution_count": null,
      "outputs": [
        {
          "output_type": "execute_result",
          "data": {
            "text/html": [
              "\n",
              "  <div id=\"df-090c3761-a147-454b-a8cb-aa2eb8eb5c7a\">\n",
              "    <div class=\"colab-df-container\">\n",
              "      <div>\n",
              "<style scoped>\n",
              "    .dataframe tbody tr th:only-of-type {\n",
              "        vertical-align: middle;\n",
              "    }\n",
              "\n",
              "    .dataframe tbody tr th {\n",
              "        vertical-align: top;\n",
              "    }\n",
              "\n",
              "    .dataframe thead th {\n",
              "        text-align: right;\n",
              "    }\n",
              "</style>\n",
              "<table border=\"1\" class=\"dataframe\">\n",
              "  <thead>\n",
              "    <tr style=\"text-align: right;\">\n",
              "      <th></th>\n",
              "      <th>date</th>\n",
              "      <th>state</th>\n",
              "      <th>fips</th>\n",
              "      <th>cases</th>\n",
              "      <th>deaths</th>\n",
              "    </tr>\n",
              "  </thead>\n",
              "  <tbody>\n",
              "    <tr>\n",
              "      <th>6616</th>\n",
              "      <td>2020-07-01</td>\n",
              "      <td>Arizona</td>\n",
              "      <td>4</td>\n",
              "      <td>84152</td>\n",
              "      <td>1726</td>\n",
              "    </tr>\n",
              "    <tr>\n",
              "      <th>6618</th>\n",
              "      <td>2020-07-01</td>\n",
              "      <td>California</td>\n",
              "      <td>6</td>\n",
              "      <td>239764</td>\n",
              "      <td>6168</td>\n",
              "    </tr>\n",
              "    <tr>\n",
              "      <th>6623</th>\n",
              "      <td>2020-07-01</td>\n",
              "      <td>Florida</td>\n",
              "      <td>12</td>\n",
              "      <td>158989</td>\n",
              "      <td>3549</td>\n",
              "    </tr>\n",
              "    <tr>\n",
              "      <th>6647</th>\n",
              "      <td>2020-07-01</td>\n",
              "      <td>New York</td>\n",
              "      <td>36</td>\n",
              "      <td>398770</td>\n",
              "      <td>31791</td>\n",
              "    </tr>\n",
              "    <tr>\n",
              "      <th>6660</th>\n",
              "      <td>2020-07-01</td>\n",
              "      <td>Texas</td>\n",
              "      <td>48</td>\n",
              "      <td>174826</td>\n",
              "      <td>2518</td>\n",
              "    </tr>\n",
              "    <tr>\n",
              "      <th>...</th>\n",
              "      <td>...</td>\n",
              "      <td>...</td>\n",
              "      <td>...</td>\n",
              "      <td>...</td>\n",
              "      <td>...</td>\n",
              "    </tr>\n",
              "    <tr>\n",
              "      <th>37585</th>\n",
              "      <td>2022-01-13</td>\n",
              "      <td>Arizona</td>\n",
              "      <td>4</td>\n",
              "      <td>1542936</td>\n",
              "      <td>25002</td>\n",
              "    </tr>\n",
              "    <tr>\n",
              "      <th>37587</th>\n",
              "      <td>2022-01-13</td>\n",
              "      <td>California</td>\n",
              "      <td>6</td>\n",
              "      <td>6716565</td>\n",
              "      <td>77839</td>\n",
              "    </tr>\n",
              "    <tr>\n",
              "      <th>37592</th>\n",
              "      <td>2022-01-13</td>\n",
              "      <td>Florida</td>\n",
              "      <td>12</td>\n",
              "      <td>4933518</td>\n",
              "      <td>63081</td>\n",
              "    </tr>\n",
              "    <tr>\n",
              "      <th>37616</th>\n",
              "      <td>2022-01-13</td>\n",
              "      <td>New York</td>\n",
              "      <td>36</td>\n",
              "      <td>4361115</td>\n",
              "      <td>60876</td>\n",
              "    </tr>\n",
              "    <tr>\n",
              "      <th>37629</th>\n",
              "      <td>2022-01-13</td>\n",
              "      <td>Texas</td>\n",
              "      <td>48</td>\n",
              "      <td>5287761</td>\n",
              "      <td>77212</td>\n",
              "    </tr>\n",
              "  </tbody>\n",
              "</table>\n",
              "<p>2810 rows × 5 columns</p>\n",
              "</div>\n",
              "      <button class=\"colab-df-convert\" onclick=\"convertToInteractive('df-090c3761-a147-454b-a8cb-aa2eb8eb5c7a')\"\n",
              "              title=\"Convert this dataframe to an interactive table.\"\n",
              "              style=\"display:none;\">\n",
              "        \n",
              "  <svg xmlns=\"http://www.w3.org/2000/svg\" height=\"24px\"viewBox=\"0 0 24 24\"\n",
              "       width=\"24px\">\n",
              "    <path d=\"M0 0h24v24H0V0z\" fill=\"none\"/>\n",
              "    <path d=\"M18.56 5.44l.94 2.06.94-2.06 2.06-.94-2.06-.94-.94-2.06-.94 2.06-2.06.94zm-11 1L8.5 8.5l.94-2.06 2.06-.94-2.06-.94L8.5 2.5l-.94 2.06-2.06.94zm10 10l.94 2.06.94-2.06 2.06-.94-2.06-.94-.94-2.06-.94 2.06-2.06.94z\"/><path d=\"M17.41 7.96l-1.37-1.37c-.4-.4-.92-.59-1.43-.59-.52 0-1.04.2-1.43.59L10.3 9.45l-7.72 7.72c-.78.78-.78 2.05 0 2.83L4 21.41c.39.39.9.59 1.41.59.51 0 1.02-.2 1.41-.59l7.78-7.78 2.81-2.81c.8-.78.8-2.07 0-2.86zM5.41 20L4 18.59l7.72-7.72 1.47 1.35L5.41 20z\"/>\n",
              "  </svg>\n",
              "      </button>\n",
              "      \n",
              "  <style>\n",
              "    .colab-df-container {\n",
              "      display:flex;\n",
              "      flex-wrap:wrap;\n",
              "      gap: 12px;\n",
              "    }\n",
              "\n",
              "    .colab-df-convert {\n",
              "      background-color: #E8F0FE;\n",
              "      border: none;\n",
              "      border-radius: 50%;\n",
              "      cursor: pointer;\n",
              "      display: none;\n",
              "      fill: #1967D2;\n",
              "      height: 32px;\n",
              "      padding: 0 0 0 0;\n",
              "      width: 32px;\n",
              "    }\n",
              "\n",
              "    .colab-df-convert:hover {\n",
              "      background-color: #E2EBFA;\n",
              "      box-shadow: 0px 1px 2px rgba(60, 64, 67, 0.3), 0px 1px 3px 1px rgba(60, 64, 67, 0.15);\n",
              "      fill: #174EA6;\n",
              "    }\n",
              "\n",
              "    [theme=dark] .colab-df-convert {\n",
              "      background-color: #3B4455;\n",
              "      fill: #D2E3FC;\n",
              "    }\n",
              "\n",
              "    [theme=dark] .colab-df-convert:hover {\n",
              "      background-color: #434B5C;\n",
              "      box-shadow: 0px 1px 3px 1px rgba(0, 0, 0, 0.15);\n",
              "      filter: drop-shadow(0px 1px 2px rgba(0, 0, 0, 0.3));\n",
              "      fill: #FFFFFF;\n",
              "    }\n",
              "  </style>\n",
              "\n",
              "      <script>\n",
              "        const buttonEl =\n",
              "          document.querySelector('#df-090c3761-a147-454b-a8cb-aa2eb8eb5c7a button.colab-df-convert');\n",
              "        buttonEl.style.display =\n",
              "          google.colab.kernel.accessAllowed ? 'block' : 'none';\n",
              "\n",
              "        async function convertToInteractive(key) {\n",
              "          const element = document.querySelector('#df-090c3761-a147-454b-a8cb-aa2eb8eb5c7a');\n",
              "          const dataTable =\n",
              "            await google.colab.kernel.invokeFunction('convertToInteractive',\n",
              "                                                     [key], {});\n",
              "          if (!dataTable) return;\n",
              "\n",
              "          const docLinkHtml = 'Like what you see? Visit the ' +\n",
              "            '<a target=\"_blank\" href=https://colab.research.google.com/notebooks/data_table.ipynb>data table notebook</a>'\n",
              "            + ' to learn more about interactive tables.';\n",
              "          element.innerHTML = '';\n",
              "          dataTable['output_type'] = 'display_data';\n",
              "          await google.colab.output.renderOutput(dataTable, element);\n",
              "          const docLink = document.createElement('div');\n",
              "          docLink.innerHTML = docLinkHtml;\n",
              "          element.appendChild(docLink);\n",
              "        }\n",
              "      </script>\n",
              "    </div>\n",
              "  </div>\n",
              "  "
            ],
            "text/plain": [
              "             date       state  fips    cases  deaths\n",
              "6616   2020-07-01     Arizona     4    84152    1726\n",
              "6618   2020-07-01  California     6   239764    6168\n",
              "6623   2020-07-01     Florida    12   158989    3549\n",
              "6647   2020-07-01    New York    36   398770   31791\n",
              "6660   2020-07-01       Texas    48   174826    2518\n",
              "...           ...         ...   ...      ...     ...\n",
              "37585  2022-01-13     Arizona     4  1542936   25002\n",
              "37587  2022-01-13  California     6  6716565   77839\n",
              "37592  2022-01-13     Florida    12  4933518   63081\n",
              "37616  2022-01-13    New York    36  4361115   60876\n",
              "37629  2022-01-13       Texas    48  5287761   77212\n",
              "\n",
              "[2810 rows x 5 columns]"
            ]
          },
          "metadata": {},
          "execution_count": 143
        }
      ]
    },
    {
      "cell_type": "code",
      "source": [
        "# Date is from july 2020 to Jan 2022\n",
        "# Comparing 5 states \n",
        "# Arizona has less cases than California and Texas, Arizona has less people living there\n",
        "# Even though California has more people than new york\n",
        "# the slope is similar in New York with California and Texas\n",
        "# \n",
        "\n",
        "# \n",
        "fig = px.area(df_july,\n",
        "              x = 'date',\n",
        "              y = 'cases',\n",
        "              facet_col=\"state\",\n",
        "              facet_col_wrap=3)\n",
        "fig.show()"
      ],
      "metadata": {
        "colab": {
          "base_uri": "https://localhost:8080/",
          "height": 562
        },
        "id": "ldp2g920TMtw",
        "outputId": "5dd000e6-3ffb-4b15-9fd4-506ce8837c30"
      },
      "execution_count": null,
      "outputs": [
        {
          "output_type": "display_data",
          "data": {
            "text/html": [
              "<html>\n",
              "<head><meta charset=\"utf-8\" /></head>\n",
              "<body>\n",
              "    <div>\n",
              "            <script src=\"https://cdnjs.cloudflare.com/ajax/libs/mathjax/2.7.5/MathJax.js?config=TeX-AMS-MML_SVG\"></script><script type=\"text/javascript\">if (window.MathJax) {MathJax.Hub.Config({SVG: {font: \"STIX-Web\"}});}</script>\n",
              "                <script type=\"text/javascript\">window.PlotlyConfig = {MathJaxConfig: 'local'};</script>\n",
              "        <script src=\"https://cdn.plot.ly/plotly-latest.min.js\"></script>    \n",
              "            <div id=\"0baab5bd-b428-4491-869f-8c8b1c59931f\" class=\"plotly-graph-div\" style=\"height:525px; width:100%;\"></div>\n",
              "            <script type=\"text/javascript\">\n",
              "                \n",
              "                    window.PLOTLYENV=window.PLOTLYENV || {};\n",
              "                    \n",
              "                if (document.getElementById(\"0baab5bd-b428-4491-869f-8c8b1c59931f\")) {\n",
              "                    Plotly.newPlot(\n",
              "                        '0baab5bd-b428-4491-869f-8c8b1c59931f',\n",
              "                        [{\"hoverlabel\": {\"namelength\": 0}, \"hovertemplate\": \"state=Arizona<br>date=%{x}<br>cases=%{y}\", \"legendgroup\": \"\", \"line\": {\"color\": \"#636efa\"}, \"mode\": \"lines\", \"name\": \"\", \"orientation\": \"v\", \"showlegend\": false, \"stackgroup\": \"1\", \"type\": \"scatter\", \"x\": [\"2020-07-01\", \"2020-07-02\", \"2020-07-03\", \"2020-07-04\", \"2020-07-05\", \"2020-07-06\", \"2020-07-07\", \"2020-07-08\", \"2020-07-09\", \"2020-07-10\", \"2020-07-11\", \"2020-07-12\", \"2020-07-13\", \"2020-07-14\", \"2020-07-15\", \"2020-07-16\", \"2020-07-17\", \"2020-07-18\", \"2020-07-19\", \"2020-07-20\", \"2020-07-21\", \"2020-07-22\", \"2020-07-23\", \"2020-07-24\", \"2020-07-25\", \"2020-07-26\", \"2020-07-27\", \"2020-07-28\", \"2020-07-29\", \"2020-07-30\", \"2020-07-31\", \"2020-08-01\", \"2020-08-02\", \"2020-08-03\", \"2020-08-04\", \"2020-08-05\", \"2020-08-06\", \"2020-08-07\", \"2020-08-08\", \"2020-08-09\", \"2020-08-10\", \"2020-08-11\", \"2020-08-12\", \"2020-08-13\", \"2020-08-14\", \"2020-08-15\", \"2020-08-16\", \"2020-08-17\", \"2020-08-18\", \"2020-08-19\", \"2020-08-20\", \"2020-08-21\", \"2020-08-22\", \"2020-08-23\", \"2020-08-24\", \"2020-08-25\", \"2020-08-26\", \"2020-08-27\", \"2020-08-28\", \"2020-08-29\", \"2020-08-30\", \"2020-08-31\", \"2020-09-01\", \"2020-09-02\", \"2020-09-03\", \"2020-09-04\", \"2020-09-05\", \"2020-09-06\", \"2020-09-07\", \"2020-09-08\", \"2020-09-09\", \"2020-09-10\", \"2020-09-11\", \"2020-09-12\", \"2020-09-13\", \"2020-09-14\", \"2020-09-15\", \"2020-09-16\", \"2020-09-17\", \"2020-09-18\", \"2020-09-19\", \"2020-09-20\", \"2020-09-21\", \"2020-09-22\", \"2020-09-23\", \"2020-09-24\", \"2020-09-25\", \"2020-09-26\", \"2020-09-27\", \"2020-09-28\", \"2020-09-29\", \"2020-09-30\", \"2020-10-01\", \"2020-10-02\", \"2020-10-03\", \"2020-10-04\", \"2020-10-05\", \"2020-10-06\", \"2020-10-07\", \"2020-10-08\", \"2020-10-09\", \"2020-10-10\", \"2020-10-11\", \"2020-10-12\", \"2020-10-13\", \"2020-10-14\", \"2020-10-15\", \"2020-10-16\", \"2020-10-17\", \"2020-10-18\", \"2020-10-19\", \"2020-10-20\", \"2020-10-21\", \"2020-10-22\", \"2020-10-23\", \"2020-10-24\", \"2020-10-25\", \"2020-10-26\", \"2020-10-27\", \"2020-10-28\", \"2020-10-29\", \"2020-10-30\", \"2020-10-31\", \"2020-11-01\", \"2020-11-02\", \"2020-11-03\", \"2020-11-04\", \"2020-11-05\", \"2020-11-06\", \"2020-11-07\", \"2020-11-08\", \"2020-11-09\", \"2020-11-10\", \"2020-11-11\", \"2020-11-12\", \"2020-11-13\", \"2020-11-14\", \"2020-11-15\", \"2020-11-16\", \"2020-11-17\", \"2020-11-18\", \"2020-11-19\", \"2020-11-20\", \"2020-11-21\", \"2020-11-22\", \"2020-11-23\", \"2020-11-24\", \"2020-11-25\", \"2020-11-26\", \"2020-11-27\", \"2020-11-28\", \"2020-11-29\", \"2020-11-30\", \"2020-12-01\", \"2020-12-02\", \"2020-12-03\", \"2020-12-04\", \"2020-12-05\", \"2020-12-06\", \"2020-12-07\", \"2020-12-08\", \"2020-12-09\", \"2020-12-10\", \"2020-12-11\", \"2020-12-12\", \"2020-12-13\", \"2020-12-14\", \"2020-12-15\", \"2020-12-16\", \"2020-12-17\", \"2020-12-18\", \"2020-12-19\", \"2020-12-20\", \"2020-12-21\", \"2020-12-22\", \"2020-12-23\", \"2020-12-24\", \"2020-12-25\", \"2020-12-26\", \"2020-12-27\", \"2020-12-28\", \"2020-12-29\", \"2020-12-30\", \"2020-12-31\", \"2021-01-01\", \"2021-01-02\", \"2021-01-03\", \"2021-01-04\", \"2021-01-05\", \"2021-01-06\", \"2021-01-07\", \"2021-01-08\", \"2021-01-09\", \"2021-01-10\", \"2021-01-11\", \"2021-01-12\", \"2021-01-13\", \"2021-01-14\", \"2021-01-15\", \"2021-01-16\", \"2021-01-17\", \"2021-01-18\", \"2021-01-19\", \"2021-01-20\", \"2021-01-21\", \"2021-01-22\", \"2021-01-23\", \"2021-01-24\", \"2021-01-25\", \"2021-01-26\", \"2021-01-27\", \"2021-01-28\", \"2021-01-29\", \"2021-01-30\", \"2021-01-31\", \"2021-02-01\", \"2021-02-02\", \"2021-02-03\", \"2021-02-04\", \"2021-02-05\", \"2021-02-06\", \"2021-02-07\", \"2021-02-08\", \"2021-02-09\", \"2021-02-10\", \"2021-02-11\", \"2021-02-12\", \"2021-02-13\", \"2021-02-14\", \"2021-02-15\", \"2021-02-16\", \"2021-02-17\", \"2021-02-18\", \"2021-02-19\", \"2021-02-20\", \"2021-02-21\", \"2021-02-22\", \"2021-02-23\", \"2021-02-24\", \"2021-02-25\", \"2021-02-26\", \"2021-02-27\", \"2021-02-28\", \"2021-03-01\", \"2021-03-02\", \"2021-03-03\", \"2021-03-04\", \"2021-03-05\", \"2021-03-06\", \"2021-03-07\", \"2021-03-08\", \"2021-03-09\", \"2021-03-10\", \"2021-03-11\", \"2021-03-12\", \"2021-03-13\", \"2021-03-14\", \"2021-03-15\", \"2021-03-16\", \"2021-03-17\", \"2021-03-18\", \"2021-03-19\", \"2021-03-20\", \"2021-03-21\", \"2021-03-22\", \"2021-03-23\", \"2021-03-24\", \"2021-03-25\", \"2021-03-26\", \"2021-03-27\", \"2021-03-28\", \"2021-03-29\", \"2021-03-30\", \"2021-03-31\", \"2021-04-01\", \"2021-04-02\", \"2021-04-03\", \"2021-04-04\", \"2021-04-05\", \"2021-04-06\", \"2021-04-07\", \"2021-04-08\", \"2021-04-09\", \"2021-04-10\", \"2021-04-11\", \"2021-04-12\", \"2021-04-13\", \"2021-04-14\", \"2021-04-15\", \"2021-04-16\", \"2021-04-17\", \"2021-04-18\", \"2021-04-19\", \"2021-04-20\", \"2021-04-21\", \"2021-04-22\", \"2021-04-23\", \"2021-04-24\", \"2021-04-25\", \"2021-04-26\", \"2021-04-27\", \"2021-04-28\", \"2021-04-29\", \"2021-04-30\", \"2021-05-01\", \"2021-05-02\", \"2021-05-03\", \"2021-05-04\", \"2021-05-05\", \"2021-05-06\", \"2021-05-07\", \"2021-05-08\", \"2021-05-09\", \"2021-05-10\", \"2021-05-11\", \"2021-05-12\", \"2021-05-13\", \"2021-05-14\", \"2021-05-15\", \"2021-05-16\", \"2021-05-17\", \"2021-05-18\", \"2021-05-19\", \"2021-05-20\", \"2021-05-21\", \"2021-05-22\", \"2021-05-23\", \"2021-05-24\", \"2021-05-25\", \"2021-05-26\", \"2021-05-27\", \"2021-05-28\", \"2021-05-29\", \"2021-05-30\", \"2021-05-31\", \"2021-06-01\", \"2021-06-02\", \"2021-06-03\", \"2021-06-04\", \"2021-06-05\", \"2021-06-06\", \"2021-06-07\", \"2021-06-08\", \"2021-06-09\", \"2021-06-10\", \"2021-06-11\", \"2021-06-12\", \"2021-06-13\", \"2021-06-14\", \"2021-06-15\", \"2021-06-16\", \"2021-06-17\", \"2021-06-18\", \"2021-06-19\", \"2021-06-20\", \"2021-06-21\", \"2021-06-22\", \"2021-06-23\", \"2021-06-24\", \"2021-06-25\", \"2021-06-26\", \"2021-06-27\", \"2021-06-28\", \"2021-06-29\", \"2021-06-30\", \"2021-07-01\", \"2021-07-02\", \"2021-07-03\", \"2021-07-04\", \"2021-07-05\", \"2021-07-06\", \"2021-07-07\", \"2021-07-08\", \"2021-07-09\", \"2021-07-10\", \"2021-07-11\", \"2021-07-12\", \"2021-07-13\", \"2021-07-14\", \"2021-07-15\", \"2021-07-16\", \"2021-07-17\", \"2021-07-18\", \"2021-07-19\", \"2021-07-20\", \"2021-07-21\", \"2021-07-22\", \"2021-07-23\", \"2021-07-24\", \"2021-07-25\", \"2021-07-26\", \"2021-07-27\", \"2021-07-28\", \"2021-07-29\", \"2021-07-30\", \"2021-07-31\", \"2021-08-01\", \"2021-08-02\", \"2021-08-03\", \"2021-08-04\", \"2021-08-05\", \"2021-08-06\", \"2021-08-07\", \"2021-08-08\", \"2021-08-09\", \"2021-08-10\", \"2021-08-11\", \"2021-08-12\", \"2021-08-13\", \"2021-08-14\", \"2021-08-15\", \"2021-08-16\", \"2021-08-17\", \"2021-08-18\", \"2021-08-19\", \"2021-08-20\", \"2021-08-21\", \"2021-08-22\", \"2021-08-23\", \"2021-08-24\", \"2021-08-25\", \"2021-08-26\", \"2021-08-27\", \"2021-08-28\", \"2021-08-29\", \"2021-08-30\", \"2021-08-31\", \"2021-09-01\", \"2021-09-02\", \"2021-09-03\", \"2021-09-04\", \"2021-09-05\", \"2021-09-06\", \"2021-09-07\", \"2021-09-08\", \"2021-09-09\", \"2021-09-10\", \"2021-09-11\", \"2021-09-12\", \"2021-09-13\", \"2021-09-14\", \"2021-09-15\", \"2021-09-16\", \"2021-09-17\", \"2021-09-18\", \"2021-09-19\", \"2021-09-20\", \"2021-09-21\", \"2021-09-22\", \"2021-09-23\", \"2021-09-24\", \"2021-09-25\", \"2021-09-26\", \"2021-09-27\", \"2021-09-28\", \"2021-09-29\", \"2021-09-30\", \"2021-10-01\", \"2021-10-02\", \"2021-10-03\", \"2021-10-04\", \"2021-10-05\", \"2021-10-06\", \"2021-10-07\", \"2021-10-08\", \"2021-10-09\", \"2021-10-10\", \"2021-10-11\", \"2021-10-12\", \"2021-10-13\", \"2021-10-14\", \"2021-10-15\", \"2021-10-16\", \"2021-10-17\", \"2021-10-18\", \"2021-10-19\", \"2021-10-20\", \"2021-10-21\", \"2021-10-22\", \"2021-10-23\", \"2021-10-24\", \"2021-10-25\", \"2021-10-26\", \"2021-10-27\", \"2021-10-28\", \"2021-10-29\", \"2021-10-30\", \"2021-10-31\", \"2021-11-01\", \"2021-11-02\", \"2021-11-03\", \"2021-11-04\", \"2021-11-05\", \"2021-11-06\", \"2021-11-07\", \"2021-11-08\", \"2021-11-09\", \"2021-11-10\", \"2021-11-11\", \"2021-11-12\", \"2021-11-13\", \"2021-11-14\", \"2021-11-15\", \"2021-11-16\", \"2021-11-17\", \"2021-11-18\", \"2021-11-19\", \"2021-11-20\", \"2021-11-21\", \"2021-11-22\", \"2021-11-23\", \"2021-11-24\", \"2021-11-25\", \"2021-11-26\", \"2021-11-27\", \"2021-11-28\", \"2021-11-29\", \"2021-11-30\", \"2021-12-01\", \"2021-12-02\", \"2021-12-03\", \"2021-12-04\", \"2021-12-05\", \"2021-12-06\", \"2021-12-07\", \"2021-12-08\", \"2021-12-09\", \"2021-12-10\", \"2021-12-11\", \"2021-12-12\", \"2021-12-13\", \"2021-12-14\", \"2021-12-15\", \"2021-12-16\", \"2021-12-17\", \"2021-12-18\", \"2021-12-19\", \"2021-12-20\", \"2021-12-21\", \"2021-12-22\", \"2021-12-23\", \"2021-12-24\", \"2021-12-25\", \"2021-12-26\", \"2021-12-27\", \"2021-12-28\", \"2021-12-29\", \"2021-12-30\", \"2021-12-31\", \"2022-01-01\", \"2022-01-02\", \"2022-01-03\", \"2022-01-04\", \"2022-01-05\", \"2022-01-06\", \"2022-01-07\", \"2022-01-08\", \"2022-01-09\", \"2022-01-10\", \"2022-01-11\", \"2022-01-12\", \"2022-01-13\"], \"xaxis\": \"x4\", \"y\": [84152, 87495, 91894, 94616, 98126, 101542, 105159, 108710, 112783, 116947, 119991, 122479, 123917, 128126, 131411, 134730, 138575, 141333, 143644, 145320, 148730, 150659, 153029, 156392, 160055, 162041, 163918, 165994, 168361, 170905, 174108, 177019, 178473, 179506, 180537, 182230, 183744, 185104, 186226, 187086, 187634, 188780, 189522, 190850, 191810, 192670, 193554, 194027, 194931, 195568, 196305, 196925, 197909, 198117, 198421, 199293, 199495, 200172, 200694, 201317, 201695, 201866, 202375, 202898, 203964, 204686, 205518, 205772, 205971, 206048, 206548, 207002, 207525, 208128, 208514, 208726, 209215, 209911, 211663, 213663, 213551, 214018, 214251, 214846, 215284, 215852, 216367, 216826, 217237, 217513, 218185, 218511, 219214, 219778, 220403, 220757, 221091, 221937, 222558, 223407, 224101, 224985, 225575, 226072, 226749, 227660, 228748, 229508, 230412, 231149, 231933, 232939, 233948, 234914, 235910, 236898, 238200, 239193, 240158, 241259, 242510, 244099, 245962, 247484, 248293, 249841, 250853, 252843, 254961, 257384, 259299, 260646, 263445, 265195, 266644, 270596, 273400, 275523, 277179, 281284, 284554, 288807, 292880, 296997, 299698, 303188, 307943, 311727, 314326, 318695, 322774, 325995, 327046, 338254, 342925, 348134, 355054, 361186, 364276, 366364, 379662, 384241, 390047, 398150, 405656, 408646, 420459, 427121, 431330, 438514, 444038, 450807, 453601, 461345, 470351, 475706, 483502, 486993, 493277, 494489, 504616, 510548, 515366, 523829, 530267, 539162, 556384, 561542, 571676, 578623, 588383, 602146, 611900, 618546, 627771, 638739, 643683, 653546, 662597, 670234, 673882, 679282, 686028, 693706, 703249, 710273, 717593, 722574, 728231, 734613, 740599, 745976, 750787, 756027, 758576, 762458, 766445, 769297, 773636, 777038, 780200, 780872, 783229, 788540, 790271, 792695, 794224, 796094, 797537, 798845, 799944, 801741, 803158, 805037, 807163, 808247, 809899, 811560, 812653, 813898, 815345, 816334, 817232, 818268, 819281, 820561, 821474, 823384, 825119, 826454, 827237, 827800, 828630, 830465, 831832, 832094, 832743, 833391, 833883, 834329, 834607, 835056, 835765, 836253, 836737, 837244, 837849, 837987, 838558, 839334, 839888, 840501, 841078, 841811, 842200, 843132, 843838, 844302, 844921, 845488, 846241, 846917, 848217, 849022, 849561, 850246, 850860, 851276, 851737, 852584, 853050, 853761, 854453, 855155, 855804, 856451, 857347, 858076, 858737, 859487, 860169, 860772, 861653, 862497, 863571, 863927, 864579, 865280, 866022, 866623, 867443, 868382, 868830, 869472, 870155, 870624, 871168, 872022, 872496, 872978, 873446, 874065, 874605, 875195, 875766, 876411, 876732, 877182, 877682, 878338, 879102, 879909, 880466, 881089, 881450, 881454, 882369, 882691, 883037, 883314, 883821, 884195, 884609, 885042, 885412, 885834, 886404, 886752, 887146, 887569, 888005, 888337, 888701, 889342, 889727, 890111, 890533, 891023, 891649, 892236, 892711, 893147, 893560, 894106, 894875, 895347, 895873, 896518, 896960, 897010, 897910, 898283, 898908, 899829, 900636, 901439, 901561, 901906, 903851, 904865, 906116, 907268, 908248, 909282, 910436, 911479, 912653, 914132, 915660, 917168, 918609, 920084, 921445, 923204, 925169, 927235, 929541, 931387, 933361, 935647, 937936, 940762, 943415, 946054, 948245, 950827, 952797, 955767, 958992, 962410, 965462, 967862, 970523, 972925, 976471, 979580, 982775, 986082, 988714, 991309, 991309, 998164, 1001871, 1005764, 1007854, 1011101, 1011923, 1016663, 1020133, 1023935, 1027359, 1030430, 1032808, 1034790, 1037012, 1039492, 1042480, 1045835, 1048600, 1050878, 1053487, 1055919, 1058774, 1061604, 1064346, 1066803, 1068823, 1070757, 1072863, 1075876, 1078874, 1081790, 1084369, 1086328, 1087451, 1090839, 1093583, 1097225, 1100167, 1102422, 1104535, 1106789, 1108830, 1111359, 1114061, 1116419, 1118601, 1120361, 1122390, 1124709, 1127095, 1129494, 1131976, 1131976, 1131976, 1137636, 1139627, 1142122, 1145196, 1148341, 1149824, 1149982, 1150432, 1156731, 1159526, 1163217, 1166060, 1168900, 1170990, 1173340, 1175520, 1179072, 1182885, 1186477, 1189708, 1192365, 1195483, 1199277, 1202901, 1207348, 1211333, 1214419, 1217193, 1220433, 1223892, 1228076, 1233146, 1238249, 1241878, 1245127, 1248184, 1252248, 1255597, 1258919, 1262574, 1264848, 1266809, 1269780, 1272943, 1276955, 1282191, 1288234, 1292054, 1295076, 1298091, 1301597, 1305260, 1309184, 1312958, 1316189, 1318580, 1320748, 1323997, 1326908, 1330594, 1334061, 1336806, 1338982, 1341377, 1344183, 1347405, 1351213, 1354708, 1355052, 1362693, 1364669, 1368080, 1373767, 1381488, 1389708, 1390409, 1404601, 1411813, 1419562, 1430241, 1445129, 1461633, 1477483, 1491420, 1505580, 1524363, 1542936], \"yaxis\": \"y4\"}, {\"hoverlabel\": {\"namelength\": 0}, \"hovertemplate\": \"state=California<br>date=%{x}<br>cases=%{y}\", \"legendgroup\": \"\", \"line\": {\"color\": \"#636efa\"}, \"mode\": \"lines\", \"name\": \"\", \"orientation\": \"v\", \"showlegend\": false, \"stackgroup\": \"1\", \"type\": \"scatter\", \"x\": [\"2020-07-01\", \"2020-07-02\", \"2020-07-03\", \"2020-07-04\", \"2020-07-05\", \"2020-07-06\", \"2020-07-07\", \"2020-07-08\", \"2020-07-09\", \"2020-07-10\", \"2020-07-11\", \"2020-07-12\", \"2020-07-13\", \"2020-07-14\", \"2020-07-15\", \"2020-07-16\", \"2020-07-17\", \"2020-07-18\", \"2020-07-19\", \"2020-07-20\", \"2020-07-21\", \"2020-07-22\", \"2020-07-23\", \"2020-07-24\", \"2020-07-25\", \"2020-07-26\", \"2020-07-27\", \"2020-07-28\", \"2020-07-29\", \"2020-07-30\", \"2020-07-31\", \"2020-08-01\", \"2020-08-02\", \"2020-08-03\", \"2020-08-04\", \"2020-08-05\", \"2020-08-06\", \"2020-08-07\", \"2020-08-08\", \"2020-08-09\", \"2020-08-10\", \"2020-08-11\", \"2020-08-12\", \"2020-08-13\", \"2020-08-14\", \"2020-08-15\", \"2020-08-16\", \"2020-08-17\", \"2020-08-18\", \"2020-08-19\", \"2020-08-20\", \"2020-08-21\", \"2020-08-22\", \"2020-08-23\", \"2020-08-24\", \"2020-08-25\", \"2020-08-26\", \"2020-08-27\", \"2020-08-28\", \"2020-08-29\", \"2020-08-30\", \"2020-08-31\", \"2020-09-01\", \"2020-09-02\", \"2020-09-03\", \"2020-09-04\", \"2020-09-05\", \"2020-09-06\", \"2020-09-07\", \"2020-09-08\", \"2020-09-09\", \"2020-09-10\", \"2020-09-11\", \"2020-09-12\", \"2020-09-13\", \"2020-09-14\", \"2020-09-15\", \"2020-09-16\", \"2020-09-17\", \"2020-09-18\", \"2020-09-19\", \"2020-09-20\", \"2020-09-21\", \"2020-09-22\", \"2020-09-23\", \"2020-09-24\", \"2020-09-25\", \"2020-09-26\", \"2020-09-27\", \"2020-09-28\", \"2020-09-29\", \"2020-09-30\", \"2020-10-01\", \"2020-10-02\", \"2020-10-03\", \"2020-10-04\", \"2020-10-05\", \"2020-10-06\", \"2020-10-07\", \"2020-10-08\", \"2020-10-09\", \"2020-10-10\", \"2020-10-11\", \"2020-10-12\", \"2020-10-13\", \"2020-10-14\", \"2020-10-15\", \"2020-10-16\", \"2020-10-17\", \"2020-10-18\", \"2020-10-19\", \"2020-10-20\", \"2020-10-21\", \"2020-10-22\", \"2020-10-23\", \"2020-10-24\", \"2020-10-25\", \"2020-10-26\", \"2020-10-27\", \"2020-10-28\", \"2020-10-29\", \"2020-10-30\", \"2020-10-31\", \"2020-11-01\", \"2020-11-02\", \"2020-11-03\", \"2020-11-04\", \"2020-11-05\", \"2020-11-06\", \"2020-11-07\", \"2020-11-08\", \"2020-11-09\", \"2020-11-10\", \"2020-11-11\", \"2020-11-12\", \"2020-11-13\", \"2020-11-14\", \"2020-11-15\", \"2020-11-16\", \"2020-11-17\", \"2020-11-18\", \"2020-11-19\", \"2020-11-20\", \"2020-11-21\", \"2020-11-22\", \"2020-11-23\", \"2020-11-24\", \"2020-11-25\", \"2020-11-26\", \"2020-11-27\", \"2020-11-28\", \"2020-11-29\", \"2020-11-30\", \"2020-12-01\", \"2020-12-02\", \"2020-12-03\", \"2020-12-04\", \"2020-12-05\", \"2020-12-06\", \"2020-12-07\", \"2020-12-08\", \"2020-12-09\", \"2020-12-10\", \"2020-12-11\", \"2020-12-12\", \"2020-12-13\", \"2020-12-14\", \"2020-12-15\", \"2020-12-16\", \"2020-12-17\", \"2020-12-18\", \"2020-12-19\", \"2020-12-20\", \"2020-12-21\", \"2020-12-22\", \"2020-12-23\", \"2020-12-24\", \"2020-12-25\", \"2020-12-26\", \"2020-12-27\", \"2020-12-28\", \"2020-12-29\", \"2020-12-30\", \"2020-12-31\", \"2021-01-01\", \"2021-01-02\", \"2021-01-03\", \"2021-01-04\", \"2021-01-05\", \"2021-01-06\", \"2021-01-07\", \"2021-01-08\", \"2021-01-09\", \"2021-01-10\", \"2021-01-11\", \"2021-01-12\", \"2021-01-13\", \"2021-01-14\", \"2021-01-15\", \"2021-01-16\", \"2021-01-17\", \"2021-01-18\", \"2021-01-19\", \"2021-01-20\", \"2021-01-21\", \"2021-01-22\", \"2021-01-23\", \"2021-01-24\", \"2021-01-25\", \"2021-01-26\", \"2021-01-27\", \"2021-01-28\", \"2021-01-29\", \"2021-01-30\", \"2021-01-31\", \"2021-02-01\", \"2021-02-02\", \"2021-02-03\", \"2021-02-04\", \"2021-02-05\", \"2021-02-06\", \"2021-02-07\", \"2021-02-08\", \"2021-02-09\", \"2021-02-10\", \"2021-02-11\", \"2021-02-12\", \"2021-02-13\", \"2021-02-14\", \"2021-02-15\", \"2021-02-16\", \"2021-02-17\", \"2021-02-18\", \"2021-02-19\", \"2021-02-20\", \"2021-02-21\", \"2021-02-22\", \"2021-02-23\", \"2021-02-24\", \"2021-02-25\", \"2021-02-26\", \"2021-02-27\", \"2021-02-28\", \"2021-03-01\", \"2021-03-02\", \"2021-03-03\", \"2021-03-04\", \"2021-03-05\", \"2021-03-06\", \"2021-03-07\", \"2021-03-08\", \"2021-03-09\", \"2021-03-10\", \"2021-03-11\", \"2021-03-12\", \"2021-03-13\", \"2021-03-14\", \"2021-03-15\", \"2021-03-16\", \"2021-03-17\", \"2021-03-18\", \"2021-03-19\", \"2021-03-20\", \"2021-03-21\", \"2021-03-22\", \"2021-03-23\", \"2021-03-24\", \"2021-03-25\", \"2021-03-26\", \"2021-03-27\", \"2021-03-28\", \"2021-03-29\", \"2021-03-30\", \"2021-03-31\", \"2021-04-01\", \"2021-04-02\", \"2021-04-03\", \"2021-04-04\", \"2021-04-05\", \"2021-04-06\", \"2021-04-07\", \"2021-04-08\", \"2021-04-09\", \"2021-04-10\", \"2021-04-11\", \"2021-04-12\", \"2021-04-13\", \"2021-04-14\", \"2021-04-15\", \"2021-04-16\", \"2021-04-17\", \"2021-04-18\", \"2021-04-19\", \"2021-04-20\", \"2021-04-21\", \"2021-04-22\", \"2021-04-23\", \"2021-04-24\", \"2021-04-25\", \"2021-04-26\", \"2021-04-27\", \"2021-04-28\", \"2021-04-29\", \"2021-04-30\", \"2021-05-01\", \"2021-05-02\", \"2021-05-03\", \"2021-05-04\", \"2021-05-05\", \"2021-05-06\", \"2021-05-07\", \"2021-05-08\", \"2021-05-09\", \"2021-05-10\", \"2021-05-11\", \"2021-05-12\", \"2021-05-13\", \"2021-05-14\", \"2021-05-15\", \"2021-05-16\", \"2021-05-17\", \"2021-05-18\", \"2021-05-19\", \"2021-05-20\", \"2021-05-21\", \"2021-05-22\", \"2021-05-23\", \"2021-05-24\", \"2021-05-25\", \"2021-05-26\", \"2021-05-27\", \"2021-05-28\", \"2021-05-29\", \"2021-05-30\", \"2021-05-31\", \"2021-06-01\", \"2021-06-02\", \"2021-06-03\", \"2021-06-04\", \"2021-06-05\", \"2021-06-06\", \"2021-06-07\", \"2021-06-08\", \"2021-06-09\", \"2021-06-10\", \"2021-06-11\", \"2021-06-12\", \"2021-06-13\", \"2021-06-14\", \"2021-06-15\", \"2021-06-16\", \"2021-06-17\", \"2021-06-18\", \"2021-06-19\", \"2021-06-20\", \"2021-06-21\", \"2021-06-22\", \"2021-06-23\", \"2021-06-24\", \"2021-06-25\", \"2021-06-26\", \"2021-06-27\", \"2021-06-28\", \"2021-06-29\", \"2021-06-30\", \"2021-07-01\", \"2021-07-02\", \"2021-07-03\", \"2021-07-04\", \"2021-07-05\", \"2021-07-06\", \"2021-07-07\", \"2021-07-08\", \"2021-07-09\", \"2021-07-10\", \"2021-07-11\", \"2021-07-12\", \"2021-07-13\", \"2021-07-14\", \"2021-07-15\", \"2021-07-16\", \"2021-07-17\", \"2021-07-18\", \"2021-07-19\", \"2021-07-20\", \"2021-07-21\", \"2021-07-22\", \"2021-07-23\", \"2021-07-24\", \"2021-07-25\", \"2021-07-26\", \"2021-07-27\", \"2021-07-28\", \"2021-07-29\", \"2021-07-30\", \"2021-07-31\", \"2021-08-01\", \"2021-08-02\", \"2021-08-03\", \"2021-08-04\", \"2021-08-05\", \"2021-08-06\", \"2021-08-07\", \"2021-08-08\", \"2021-08-09\", \"2021-08-10\", \"2021-08-11\", \"2021-08-12\", \"2021-08-13\", \"2021-08-14\", \"2021-08-15\", \"2021-08-16\", \"2021-08-17\", \"2021-08-18\", \"2021-08-19\", \"2021-08-20\", \"2021-08-21\", \"2021-08-22\", \"2021-08-23\", \"2021-08-24\", \"2021-08-25\", \"2021-08-26\", \"2021-08-27\", \"2021-08-28\", \"2021-08-29\", \"2021-08-30\", \"2021-08-31\", \"2021-09-01\", \"2021-09-02\", \"2021-09-03\", \"2021-09-04\", \"2021-09-05\", \"2021-09-06\", \"2021-09-07\", \"2021-09-08\", \"2021-09-09\", \"2021-09-10\", \"2021-09-11\", \"2021-09-12\", \"2021-09-13\", \"2021-09-14\", \"2021-09-15\", \"2021-09-16\", \"2021-09-17\", \"2021-09-18\", \"2021-09-19\", \"2021-09-20\", \"2021-09-21\", \"2021-09-22\", \"2021-09-23\", \"2021-09-24\", \"2021-09-25\", \"2021-09-26\", \"2021-09-27\", \"2021-09-28\", \"2021-09-29\", \"2021-09-30\", \"2021-10-01\", \"2021-10-02\", \"2021-10-03\", \"2021-10-04\", \"2021-10-05\", \"2021-10-06\", \"2021-10-07\", \"2021-10-08\", \"2021-10-09\", \"2021-10-10\", \"2021-10-11\", \"2021-10-12\", \"2021-10-13\", \"2021-10-14\", \"2021-10-15\", \"2021-10-16\", \"2021-10-17\", \"2021-10-18\", \"2021-10-19\", \"2021-10-20\", \"2021-10-21\", \"2021-10-22\", \"2021-10-23\", \"2021-10-24\", \"2021-10-25\", \"2021-10-26\", \"2021-10-27\", \"2021-10-28\", \"2021-10-29\", \"2021-10-30\", \"2021-10-31\", \"2021-11-01\", \"2021-11-02\", \"2021-11-03\", \"2021-11-04\", \"2021-11-05\", \"2021-11-06\", \"2021-11-07\", \"2021-11-08\", \"2021-11-09\", \"2021-11-10\", \"2021-11-11\", \"2021-11-12\", \"2021-11-13\", \"2021-11-14\", \"2021-11-15\", \"2021-11-16\", \"2021-11-17\", \"2021-11-18\", \"2021-11-19\", \"2021-11-20\", \"2021-11-21\", \"2021-11-22\", \"2021-11-23\", \"2021-11-24\", \"2021-11-25\", \"2021-11-26\", \"2021-11-27\", \"2021-11-28\", \"2021-11-29\", \"2021-11-30\", \"2021-12-01\", \"2021-12-02\", \"2021-12-03\", \"2021-12-04\", \"2021-12-05\", \"2021-12-06\", \"2021-12-07\", \"2021-12-08\", \"2021-12-09\", \"2021-12-10\", \"2021-12-11\", \"2021-12-12\", \"2021-12-13\", \"2021-12-14\", \"2021-12-15\", \"2021-12-16\", \"2021-12-17\", \"2021-12-18\", \"2021-12-19\", \"2021-12-20\", \"2021-12-21\", \"2021-12-22\", \"2021-12-23\", \"2021-12-24\", \"2021-12-25\", \"2021-12-26\", \"2021-12-27\", \"2021-12-28\", \"2021-12-29\", \"2021-12-30\", \"2021-12-31\", \"2022-01-01\", \"2022-01-02\", \"2022-01-03\", \"2022-01-04\", \"2022-01-05\", \"2022-01-06\", \"2022-01-07\", \"2022-01-08\", \"2022-01-09\", \"2022-01-10\", \"2022-01-11\", \"2022-01-12\", \"2022-01-13\"], \"xaxis\": \"x5\", \"y\": [239764, 248198, 256298, 265176, 271587, 277869, 287766, 296304, 303516, 311505, 320030, 327676, 336206, 346593, 355497, 364761, 374922, 383194, 391460, 400195, 410366, 422528, 433175, 443096, 453327, 459338, 467103, 474951, 486039, 494269, 502273, 509507, 515937, 522235, 527258, 532776, 541013, 548142, 556158, 563244, 574267, 586078, 595097, 603212, 613243, 621981, 628508, 634991, 640499, 646742, 653401, 659991, 665325, 669944, 676236, 682320, 687612, 692964, 698391, 702500, 706589, 712543, 716630, 722037, 727403, 732693, 737074, 740233, 742689, 746114, 749197, 753019, 757126, 760582, 763390, 767063, 769918, 773319, 776945, 781437, 785077, 788078, 792220, 795080, 798351, 801674, 805736, 809215, 811699, 814797, 817940, 821126, 824307, 828365, 831495, 834636, 837722, 840324, 843734, 847385, 851229, 854303, 857077, 859960, 863614, 867094, 870380, 874102, 876258, 878395, 882666, 887094, 890154, 896427, 902328, 906645, 909345, 913707, 918635, 922685, 926910, 931843, 935262, 938897, 944148, 949390, 954629, 960905, 967618, 972821, 978861, 985623, 994366, 999516, 1009216, 1019080, 1027044, 1036008, 1047390, 1058123, 1069544, 1082705, 1096427, 1109869, 1118673, 1136498, 1153032, 1167176, 1176159, 1193089, 1206296, 1219511, 1237238, 1253905, 1272079, 1293937, 1318188, 1343193, 1371985, 1399239, 1425501, 1457273, 1491132, 1528237, 1554920, 1590726, 1620916, 1655166, 1716108, 1761430, 1809673, 1847031, 1889914, 1933169, 1968541, 2013298, 2048014, 2064763, 2129749, 2167303, 2209024, 2243191, 2275565, 2307860, 2345811, 2398005, 2433916, 2474639, 2511923, 2548830, 2589250, 2640221, 2687450, 2729858, 2770482, 2816366, 2858041, 2898756, 2937860, 2975419, 3006966, 3032359, 3071465, 3090794, 3116369, 3141404, 3164386, 3186036, 3212939, 3234571, 3253201, 3272829, 3292572, 3310100, 3324064, 3341656, 3354544, 3367104, 3381785, 3395797, 3407369, 3417563, 3431179, 3441692, 3450284, 3460901, 3470426, 3479586, 3485533, 3490542, 3499336, 3505610, 3513458, 3521349, 3527411, 3532057, 3537033, 3543293, 3549145, 3554779, 3561681, 3566089, 3569578, 3573775, 3578092, 3582495, 3587750, 3592812, 3597075, 3599828, 3604005, 3608146, 3611614, 3615174, 3617479, 3621217, 3623465, 3626427, 3628489, 3631857, 3635429, 3638641, 3640830, 3642778, 3645684, 3648181, 3650958, 3653449, 3656822, 3658932, 3661102, 3664161, 3666541, 3669048, 3671690, 3675457, 3678343, 3679968, 3683077, 3685338, 3687758, 3690309, 3693923, 3696900, 3700795, 3704295, 3706904, 3709392, 3711717, 3714542, 3716759, 3718367, 3720922, 3723405, 3725355, 3727911, 3730175, 3730549, 3731900, 3734630, 3736753, 3738507, 3739891, 3742224, 3743780, 3745139, 3747389, 3749576, 3751248, 3753796, 3755950, 3757249, 3758303, 3760386, 3761977, 3763580, 3765346, 3766941, 3768252, 3769052, 3770344, 3771421, 3773011, 3774570, 3775904, 3776679, 3777406, 3778839, 3780128, 3781388, 3786674, 3788120, 3788894, 3789496, 3789883, 3791188, 3792111, 3793194, 3794373, 3795202, 3795959, 3797141, 3798225, 3799174, 3800222, 3801205, 3801812, 3802390, 3803495, 3804529, 3805390, 3806400, 3807542, 3808088, 3808733, 3810024, 3811099, 3811979, 3812993, 3814393, 3815178, 3816045, 3817655, 3818311, 3816704, 3866606, 3868398, 3868398, 3868398, 3868398, 3874128, 3875460, 3903528, 3905886, 3906315, 3907428, 3914148, 3918797, 3921906, 3925591, 3930518, 3932295, 3933928, 3945211, 3951134, 3957625, 3966545, 3975402, 3977990, 3980074, 3996383, 4004981, 4012673, 4022880, 4034150, 4037490, 4040811, 4066259, 4073891, 4084002, 4096518, 4111393, 4115522, 4134375, 4147364, 4157038, 4168517, 4179874, 4194890, 4208226, 4219616, 4232845, 4243746, 4259451, 4277523, 4303611, 4316350, 4328308, 4341369, 4352491, 4365584, 4381691, 4396238, 4410353, 4422246, 4437703, 4449186, 4471918, 4486276, 4498298, 4508025, 4518576, 4525630, 4536771, 4545832, 4556885, 4566746, 4575900, 4583292, 4599348, 4608094, 4616854, 4629146, 4639199, 4647462, 4654530, 4663226, 4669895, 4677452, 4687178, 4694673, 4696228, 4697407, 4717357, 4722662, 4729805, 4739046, 4747079, 4748442, 4749498, 4764829, 4769383, 4775779, 4782944, 4789773, 4790968, 4792007, 4805395, 4810715, 4815429, 4821901, 4828318, 4829415, 4830310, 4845060, 4849225, 4853378, 4860797, 4867059, 4868220, 4869133, 4872707, 4890036, 4895127, 4908206, 4915206, 4916614, 4917683, 4933895, 4938058, 4943059, 4951490, 4959010, 4960633, 4961782, 4978363, 4982702, 4987439, 4993930, 4996986, 5006025, 5006960, 5014583, 5019484, 5024415, 5031042, 5037132, 5038985, 5040034, 5051418, 5055959, 5060127, 5060129, 5062119, 5062737, 5063311, 5080522, 5085477, 5090300, 5099788, 5107543, 5109833, 5111469, 5128950, 5135147, 5141243, 5148904, 5155484, 5157293, 5158764, 5173616, 5179298, 5184663, 5192915, 5201644, 5205345, 5208847, 5227931, 5238811, 5251204, 5271267, 5291605, 5291605, 5312399, 5329067, 5378451, 5408613, 5457967, 5515613, 5515613, 5560323, 5606685, 5748437, 5807748, 5892644, 6003256, 6037652, 6083283, 6311255, 6447667, 6554993, 6716565], \"yaxis\": \"y5\"}, {\"hoverlabel\": {\"namelength\": 0}, \"hovertemplate\": \"state=Florida<br>date=%{x}<br>cases=%{y}\", \"legendgroup\": \"\", \"line\": {\"color\": \"#636efa\"}, \"mode\": \"lines\", \"name\": \"\", \"orientation\": \"v\", \"showlegend\": false, \"stackgroup\": \"1\", \"type\": \"scatter\", \"x\": [\"2020-07-01\", \"2020-07-02\", \"2020-07-03\", \"2020-07-04\", \"2020-07-05\", \"2020-07-06\", \"2020-07-07\", \"2020-07-08\", \"2020-07-09\", \"2020-07-10\", \"2020-07-11\", \"2020-07-12\", \"2020-07-13\", \"2020-07-14\", \"2020-07-15\", \"2020-07-16\", \"2020-07-17\", \"2020-07-18\", \"2020-07-19\", \"2020-07-20\", \"2020-07-21\", \"2020-07-22\", \"2020-07-23\", \"2020-07-24\", \"2020-07-25\", \"2020-07-26\", \"2020-07-27\", \"2020-07-28\", \"2020-07-29\", \"2020-07-30\", \"2020-07-31\", \"2020-08-01\", \"2020-08-02\", \"2020-08-03\", \"2020-08-04\", \"2020-08-05\", \"2020-08-06\", \"2020-08-07\", \"2020-08-08\", \"2020-08-09\", \"2020-08-10\", \"2020-08-11\", \"2020-08-12\", \"2020-08-13\", \"2020-08-14\", \"2020-08-15\", \"2020-08-16\", \"2020-08-17\", \"2020-08-18\", \"2020-08-19\", \"2020-08-20\", \"2020-08-21\", \"2020-08-22\", \"2020-08-23\", \"2020-08-24\", \"2020-08-25\", \"2020-08-26\", \"2020-08-27\", \"2020-08-28\", \"2020-08-29\", \"2020-08-30\", \"2020-08-31\", \"2020-09-01\", \"2020-09-02\", \"2020-09-03\", \"2020-09-04\", \"2020-09-05\", \"2020-09-06\", \"2020-09-07\", \"2020-09-08\", \"2020-09-09\", \"2020-09-10\", \"2020-09-11\", \"2020-09-12\", \"2020-09-13\", \"2020-09-14\", \"2020-09-15\", \"2020-09-16\", \"2020-09-17\", \"2020-09-18\", \"2020-09-19\", \"2020-09-20\", \"2020-09-21\", \"2020-09-22\", \"2020-09-23\", \"2020-09-24\", \"2020-09-25\", \"2020-09-26\", \"2020-09-27\", \"2020-09-28\", \"2020-09-29\", \"2020-09-30\", \"2020-10-01\", \"2020-10-02\", \"2020-10-03\", \"2020-10-04\", \"2020-10-05\", \"2020-10-06\", \"2020-10-07\", \"2020-10-08\", \"2020-10-09\", \"2020-10-10\", \"2020-10-11\", \"2020-10-12\", \"2020-10-13\", \"2020-10-14\", \"2020-10-15\", \"2020-10-16\", \"2020-10-17\", \"2020-10-18\", \"2020-10-19\", \"2020-10-20\", \"2020-10-21\", \"2020-10-22\", \"2020-10-23\", \"2020-10-24\", \"2020-10-25\", \"2020-10-26\", \"2020-10-27\", \"2020-10-28\", \"2020-10-29\", \"2020-10-30\", \"2020-10-31\", \"2020-11-01\", \"2020-11-02\", \"2020-11-03\", \"2020-11-04\", \"2020-11-05\", \"2020-11-06\", \"2020-11-07\", \"2020-11-08\", \"2020-11-09\", \"2020-11-10\", \"2020-11-11\", \"2020-11-12\", \"2020-11-13\", \"2020-11-14\", \"2020-11-15\", \"2020-11-16\", \"2020-11-17\", \"2020-11-18\", \"2020-11-19\", \"2020-11-20\", \"2020-11-21\", \"2020-11-22\", \"2020-11-23\", \"2020-11-24\", \"2020-11-25\", \"2020-11-26\", \"2020-11-27\", \"2020-11-28\", \"2020-11-29\", \"2020-11-30\", \"2020-12-01\", \"2020-12-02\", \"2020-12-03\", \"2020-12-04\", \"2020-12-05\", \"2020-12-06\", \"2020-12-07\", \"2020-12-08\", \"2020-12-09\", \"2020-12-10\", \"2020-12-11\", \"2020-12-12\", \"2020-12-13\", \"2020-12-14\", \"2020-12-15\", \"2020-12-16\", \"2020-12-17\", \"2020-12-18\", \"2020-12-19\", \"2020-12-20\", \"2020-12-21\", \"2020-12-22\", \"2020-12-23\", \"2020-12-24\", \"2020-12-25\", \"2020-12-26\", \"2020-12-27\", \"2020-12-28\", \"2020-12-29\", \"2020-12-30\", \"2020-12-31\", \"2021-01-01\", \"2021-01-02\", \"2021-01-03\", \"2021-01-04\", \"2021-01-05\", \"2021-01-06\", \"2021-01-07\", \"2021-01-08\", \"2021-01-09\", \"2021-01-10\", \"2021-01-11\", \"2021-01-12\", \"2021-01-13\", \"2021-01-14\", \"2021-01-15\", \"2021-01-16\", \"2021-01-17\", \"2021-01-18\", \"2021-01-19\", \"2021-01-20\", \"2021-01-21\", \"2021-01-22\", \"2021-01-23\", \"2021-01-24\", \"2021-01-25\", \"2021-01-26\", \"2021-01-27\", \"2021-01-28\", \"2021-01-29\", \"2021-01-30\", \"2021-01-31\", \"2021-02-01\", \"2021-02-02\", \"2021-02-03\", \"2021-02-04\", \"2021-02-05\", \"2021-02-06\", \"2021-02-07\", \"2021-02-08\", \"2021-02-09\", \"2021-02-10\", \"2021-02-11\", \"2021-02-12\", \"2021-02-13\", \"2021-02-14\", \"2021-02-15\", \"2021-02-16\", \"2021-02-17\", \"2021-02-18\", \"2021-02-19\", \"2021-02-20\", \"2021-02-21\", \"2021-02-22\", \"2021-02-23\", \"2021-02-24\", \"2021-02-25\", \"2021-02-26\", \"2021-02-27\", \"2021-02-28\", \"2021-03-01\", \"2021-03-02\", \"2021-03-03\", \"2021-03-04\", \"2021-03-05\", \"2021-03-06\", \"2021-03-07\", \"2021-03-08\", \"2021-03-09\", \"2021-03-10\", \"2021-03-11\", \"2021-03-12\", \"2021-03-13\", \"2021-03-14\", \"2021-03-15\", \"2021-03-16\", \"2021-03-17\", \"2021-03-18\", \"2021-03-19\", \"2021-03-20\", \"2021-03-21\", \"2021-03-22\", \"2021-03-23\", \"2021-03-24\", \"2021-03-25\", \"2021-03-26\", \"2021-03-27\", \"2021-03-28\", \"2021-03-29\", \"2021-03-30\", \"2021-03-31\", \"2021-04-01\", \"2021-04-02\", \"2021-04-03\", \"2021-04-04\", \"2021-04-05\", \"2021-04-06\", \"2021-04-07\", \"2021-04-08\", \"2021-04-09\", \"2021-04-10\", \"2021-04-11\", \"2021-04-12\", \"2021-04-13\", \"2021-04-14\", \"2021-04-15\", \"2021-04-16\", \"2021-04-17\", \"2021-04-18\", \"2021-04-19\", \"2021-04-20\", \"2021-04-21\", \"2021-04-22\", \"2021-04-23\", \"2021-04-24\", \"2021-04-25\", \"2021-04-26\", \"2021-04-27\", \"2021-04-28\", \"2021-04-29\", \"2021-04-30\", \"2021-05-01\", \"2021-05-02\", \"2021-05-03\", \"2021-05-04\", \"2021-05-05\", \"2021-05-06\", \"2021-05-07\", \"2021-05-08\", \"2021-05-09\", \"2021-05-10\", \"2021-05-11\", \"2021-05-12\", \"2021-05-13\", \"2021-05-14\", \"2021-05-15\", \"2021-05-16\", \"2021-05-17\", \"2021-05-18\", \"2021-05-19\", \"2021-05-20\", \"2021-05-21\", \"2021-05-22\", \"2021-05-23\", \"2021-05-24\", \"2021-05-25\", \"2021-05-26\", \"2021-05-27\", \"2021-05-28\", \"2021-05-29\", \"2021-05-30\", \"2021-05-31\", \"2021-06-01\", \"2021-06-02\", \"2021-06-03\", \"2021-06-04\", \"2021-06-05\", \"2021-06-06\", \"2021-06-07\", \"2021-06-08\", \"2021-06-09\", \"2021-06-10\", \"2021-06-11\", \"2021-06-12\", \"2021-06-13\", \"2021-06-14\", \"2021-06-15\", \"2021-06-16\", \"2021-06-17\", \"2021-06-18\", \"2021-06-19\", \"2021-06-20\", \"2021-06-21\", \"2021-06-22\", \"2021-06-23\", \"2021-06-24\", \"2021-06-25\", \"2021-06-26\", \"2021-06-27\", \"2021-06-28\", \"2021-06-29\", \"2021-06-30\", \"2021-07-01\", \"2021-07-02\", \"2021-07-03\", \"2021-07-04\", \"2021-07-05\", \"2021-07-06\", \"2021-07-07\", \"2021-07-08\", \"2021-07-09\", \"2021-07-10\", \"2021-07-11\", \"2021-07-12\", \"2021-07-13\", \"2021-07-14\", \"2021-07-15\", \"2021-07-16\", \"2021-07-17\", \"2021-07-18\", \"2021-07-19\", \"2021-07-20\", \"2021-07-21\", \"2021-07-22\", \"2021-07-23\", \"2021-07-24\", \"2021-07-25\", \"2021-07-26\", \"2021-07-27\", \"2021-07-28\", \"2021-07-29\", \"2021-07-30\", \"2021-07-31\", \"2021-08-01\", \"2021-08-02\", \"2021-08-03\", \"2021-08-04\", \"2021-08-05\", \"2021-08-06\", \"2021-08-07\", \"2021-08-08\", \"2021-08-09\", \"2021-08-10\", \"2021-08-11\", \"2021-08-12\", \"2021-08-13\", \"2021-08-14\", \"2021-08-15\", \"2021-08-16\", \"2021-08-17\", \"2021-08-18\", \"2021-08-19\", \"2021-08-20\", \"2021-08-21\", \"2021-08-22\", \"2021-08-23\", \"2021-08-24\", \"2021-08-25\", \"2021-08-26\", \"2021-08-27\", \"2021-08-28\", \"2021-08-29\", \"2021-08-30\", \"2021-08-31\", \"2021-09-01\", \"2021-09-02\", \"2021-09-03\", \"2021-09-04\", \"2021-09-05\", \"2021-09-06\", \"2021-09-07\", \"2021-09-08\", \"2021-09-09\", \"2021-09-10\", \"2021-09-11\", \"2021-09-12\", \"2021-09-13\", \"2021-09-14\", \"2021-09-15\", \"2021-09-16\", \"2021-09-17\", \"2021-09-18\", \"2021-09-19\", \"2021-09-20\", \"2021-09-21\", \"2021-09-22\", \"2021-09-23\", \"2021-09-24\", \"2021-09-25\", \"2021-09-26\", \"2021-09-27\", \"2021-09-28\", \"2021-09-29\", \"2021-09-30\", \"2021-10-01\", \"2021-10-02\", \"2021-10-03\", \"2021-10-04\", \"2021-10-05\", \"2021-10-06\", \"2021-10-07\", \"2021-10-08\", \"2021-10-09\", \"2021-10-10\", \"2021-10-11\", \"2021-10-12\", \"2021-10-13\", \"2021-10-14\", \"2021-10-15\", \"2021-10-16\", \"2021-10-17\", \"2021-10-18\", \"2021-10-19\", \"2021-10-20\", \"2021-10-21\", \"2021-10-22\", \"2021-10-23\", \"2021-10-24\", \"2021-10-25\", \"2021-10-26\", \"2021-10-27\", \"2021-10-28\", \"2021-10-29\", \"2021-10-30\", \"2021-10-31\", \"2021-11-01\", \"2021-11-02\", \"2021-11-03\", \"2021-11-04\", \"2021-11-05\", \"2021-11-06\", \"2021-11-07\", \"2021-11-08\", \"2021-11-09\", \"2021-11-10\", \"2021-11-11\", \"2021-11-12\", \"2021-11-13\", \"2021-11-14\", \"2021-11-15\", \"2021-11-16\", \"2021-11-17\", \"2021-11-18\", \"2021-11-19\", \"2021-11-20\", \"2021-11-21\", \"2021-11-22\", \"2021-11-23\", \"2021-11-24\", \"2021-11-25\", \"2021-11-26\", \"2021-11-27\", \"2021-11-28\", \"2021-11-29\", \"2021-11-30\", \"2021-12-01\", \"2021-12-02\", \"2021-12-03\", \"2021-12-04\", \"2021-12-05\", \"2021-12-06\", \"2021-12-07\", \"2021-12-08\", \"2021-12-09\", \"2021-12-10\", \"2021-12-11\", \"2021-12-12\", \"2021-12-13\", \"2021-12-14\", \"2021-12-15\", \"2021-12-16\", \"2021-12-17\", \"2021-12-18\", \"2021-12-19\", \"2021-12-20\", \"2021-12-21\", \"2021-12-22\", \"2021-12-23\", \"2021-12-24\", \"2021-12-25\", \"2021-12-26\", \"2021-12-27\", \"2021-12-28\", \"2021-12-29\", \"2021-12-30\", \"2021-12-31\", \"2022-01-01\", \"2022-01-02\", \"2022-01-03\", \"2022-01-04\", \"2022-01-05\", \"2022-01-06\", \"2022-01-07\", \"2022-01-08\", \"2022-01-09\", \"2022-01-10\", \"2022-01-11\", \"2022-01-12\", \"2022-01-13\"], \"xaxis\": \"x6\", \"y\": [158989, 169098, 178586, 190044, 200103, 206439, 213786, 223775, 232710, 244143, 254503, 269803, 282427, 291621, 301802, 315767, 327233, 337561, 350039, 360386, 369826, 379611, 389860, 402304, 414503, 423847, 432739, 441969, 451415, 461371, 470378, 480020, 487124, 491876, 497322, 502731, 510381, 518067, 526569, 532798, 536953, 542784, 550893, 557129, 563277, 569629, 573408, 576086, 579924, 584039, 588594, 593278, 597589, 600563, 602821, 605494, 608714, 611983, 615798, 618995, 621578, 623463, 631032, 633434, 637005, 640203, 643859, 646423, 648261, 650084, 652140, 654723, 658373, 661563, 663986, 665722, 668838, 671193, 674448, 677652, 681225, 683746, 685431, 687901, 690491, 693032, 695879, 698674, 700556, 701294, 704560, 706508, 709136, 711796, 714583, 716451, 717866, 720117, 722699, 726005, 728913, 728913, 734483, 736016, 738741, 741624, 744980, 748429, 752473, 755012, 756719, 760381, 762525, 768083, 771772, 776243, 778628, 782005, 786303, 790418, 794616, 800208, 802539, 807404, 812055, 816692, 821115, 827372, 832617, 837069, 843889, 847813, 852166, 858004, 863611, 870544, 875088, 885193, 889856, 897315, 905240, 914325, 923410, 931819, 938406, 944737, 953292, 961668, 961668, 979012, 985289, 992652, 999311, 1008158, 1018152, 1029022, 1039199, 1049630, 1058066, 1065777, 1073762, 1083354, 1094689, 1106388, 1116965, 1125923, 1134375, 1143786, 1155327, 1168475, 1181475, 1193157, 1201558, 1212573, 1223007, 1234391, 1247538, 1247538, 1264580, 1271971, 1280169, 1292244, 1306115, 1323307, 1323307, 1354825, 1365428, 1376684, 1392115, 1409898, 1429714, 1449244, 1464689, 1477002, 1488578, 1503474, 1517464, 1531184, 1548059, 1560178, 1571271, 1579273, 1589089, 1601003, 1613876, 1627595, 1639906, 1649441, 1658161, 1667755, 1676163, 1687586, 1698562, 1713581, 1721369, 1727099, 1737632, 1744611, 1752322, 1763865, 1771351, 1777975, 1783712, 1790735, 1798272, 1806797, 1814414, 1821929, 1827365, 1830980, 1837277, 1844619, 1849736, 1856419, 1863699, 1868764, 1872915, 1878525, 1885653, 1892293, 1898215, 1903674, 1909213, 1910913, 1918092, 1924106, 1930224, 1936199, 1940889, 1944987, 1948299, 1952725, 1957578, 1962643, 1967857, 1973101, 1976800, 1979626, 1984417, 1989016, 1994109, 1999249, 2004354, 2008341, 2011203, 2016505, 2021648, 2027421, 2033171, 2039054, 2043997, 2047371, 2052433, 2057727, 2064517, 2071007, 2077024, 2081818, 2085298, 2090854, 2096739, 2104678, 2111799, 2118705, 2124225, 2125838, 2134906, 2141678, 2148440, 2155736, 2162059, 2168893, 2173130, 2178775, 2184346, 2191030, 2196494, 2203905, 2208576, 2212089, 2217360, 2222538, 2228204, 2233510, 2238929, 2242770, 2245845, 2249527, 2253921, 2258425, 2262590, 2266567, 2269798, 2272094, 2275357, 2278541, 2282605, 2286195, 2289514, 2291996, 2293972, 2296777, 2299588, 2302481, 2304852, 2308258, 2310327, 2311933, 2313807, 2316134, 2318472, 2320810, 2320810, 2320810, 2320810, 2326747, 2327981, 2329859, 2289332, 2289332, 2289332, 2294049, 2295233, 2296823, 2298549, 2300786, 2300786, 2302684, 2304918, 2305909, 2307628, 2309254, 2310881, 2310881, 2310881, 2314559, 2316238, 2318122, 2320057, 2321929, 2321929, 2321929, 2321929, 2327165, 2329484, 2331916, 2337613, 2337613, 2337613, 2337613, 2337613, 2346819, 2350730, 2361360, 2361360, 2361360, 2361360, 2376643, 2383068, 2390079, 2406809, 2406809, 2406809, 2406809, 2430826, 2439814, 2452461, 2479975, 2479975, 2479975, 2479975, 2518296, 2534334, 2551923, 2590699, 2590699, 2590699, 2590699, 2641696, 2658631, 2678764, 2725450, 2725450, 2725450, 2725450, 2782060, 2806813, 2827469, 2877214, 2877393, 2877393, 2933429, 2955098, 2978433, 2994019, 3027954, 3040590, 3040590, 3082733, 3103941, 3130144, 3151909, 3179714, 3200682, 3200682, 3231846, 3250454, 3269502, 3291225, 3308916, 3308916, 3308916, 3308916, 3364998, 3378772, 3391158, 3409165, 3418160, 3418160, 3442090, 3453390, 3464113, 3473873, 3485163, 3494954, 3494954, 3503976, 3517177, 3527250, 3531465, 3539272, 3546292, 3546292, 3555096, 3560152, 3565971, 3570752, 3576581, 3581027, 3581027, 3586802, 3590400, 3594182, 3597731, 3601755, 3604846, 3604846, 3604846, 3611767, 3614272, 3617649, 3620562, 3623046, 3623046, 3626142, 3628264, 3630835, 3633097, 3635126, 3635126, 3635126, 3639280, 3641304, 3643191, 3645212, 3647277, 3648943, 3648943, 3650637, 3652637, 3654441, 3656010, 3657775, 3659255, 3659255, 3661182, 3662957, 3664403, 3664403, 3668077, 3669489, 3669489, 3671481, 3673033, 3674581, 3676634, 3677968, 3679548, 3679548, 3681204, 3682809, 3684332, 3684332, 3684332, 3684332, 3684999, 3689788, 3691420, 3693516, 3695641, 3697624, 3699624, 3699624, 3702338, 3704013, 3705899, 3708204, 3710624, 3713214, 3713214, 3717079, 3720146, 3724273, 3730654, 3739439, 3748148, 3748148, 3766552, 3779467, 3799661, 3832530, 3864213, 3864213, 3864213, 3936170, 3965229, 4012152, 4090000, 4166392, 4166392, 4166392, 4166392, 4360178, 4419665, 4486276, 4563163, 4633077, 4633077, 4759073, 4806782, 4878524, 4933518], \"yaxis\": \"y6\"}, {\"hoverlabel\": {\"namelength\": 0}, \"hovertemplate\": \"state=New York<br>date=%{x}<br>cases=%{y}\", \"legendgroup\": \"\", \"line\": {\"color\": \"#636efa\"}, \"mode\": \"lines\", \"name\": \"\", \"orientation\": \"v\", \"showlegend\": false, \"stackgroup\": \"1\", \"type\": \"scatter\", \"x\": [\"2020-07-01\", \"2020-07-02\", \"2020-07-03\", \"2020-07-04\", \"2020-07-05\", \"2020-07-06\", \"2020-07-07\", \"2020-07-08\", \"2020-07-09\", \"2020-07-10\", \"2020-07-11\", \"2020-07-12\", \"2020-07-13\", \"2020-07-14\", \"2020-07-15\", \"2020-07-16\", \"2020-07-17\", \"2020-07-18\", \"2020-07-19\", \"2020-07-20\", \"2020-07-21\", \"2020-07-22\", \"2020-07-23\", \"2020-07-24\", \"2020-07-25\", \"2020-07-26\", \"2020-07-27\", \"2020-07-28\", \"2020-07-29\", \"2020-07-30\", \"2020-07-31\", \"2020-08-01\", \"2020-08-02\", \"2020-08-03\", \"2020-08-04\", \"2020-08-05\", \"2020-08-06\", \"2020-08-07\", \"2020-08-08\", \"2020-08-09\", \"2020-08-10\", \"2020-08-11\", \"2020-08-12\", \"2020-08-13\", \"2020-08-14\", \"2020-08-15\", \"2020-08-16\", \"2020-08-17\", \"2020-08-18\", \"2020-08-19\", \"2020-08-20\", \"2020-08-21\", \"2020-08-22\", \"2020-08-23\", \"2020-08-24\", \"2020-08-25\", \"2020-08-26\", \"2020-08-27\", \"2020-08-28\", \"2020-08-29\", \"2020-08-30\", \"2020-08-31\", \"2020-09-01\", \"2020-09-02\", \"2020-09-03\", \"2020-09-04\", \"2020-09-05\", \"2020-09-06\", \"2020-09-07\", \"2020-09-08\", \"2020-09-09\", \"2020-09-10\", \"2020-09-11\", \"2020-09-12\", \"2020-09-13\", \"2020-09-14\", \"2020-09-15\", \"2020-09-16\", \"2020-09-17\", \"2020-09-18\", \"2020-09-19\", \"2020-09-20\", \"2020-09-21\", \"2020-09-22\", \"2020-09-23\", \"2020-09-24\", \"2020-09-25\", \"2020-09-26\", \"2020-09-27\", \"2020-09-28\", \"2020-09-29\", \"2020-09-30\", \"2020-10-01\", \"2020-10-02\", \"2020-10-03\", \"2020-10-04\", \"2020-10-05\", \"2020-10-06\", \"2020-10-07\", \"2020-10-08\", \"2020-10-09\", \"2020-10-10\", \"2020-10-11\", \"2020-10-12\", \"2020-10-13\", \"2020-10-14\", \"2020-10-15\", \"2020-10-16\", \"2020-10-17\", \"2020-10-18\", \"2020-10-19\", \"2020-10-20\", \"2020-10-21\", \"2020-10-22\", \"2020-10-23\", \"2020-10-24\", \"2020-10-25\", \"2020-10-26\", \"2020-10-27\", \"2020-10-28\", \"2020-10-29\", \"2020-10-30\", \"2020-10-31\", \"2020-11-01\", \"2020-11-02\", \"2020-11-03\", \"2020-11-04\", \"2020-11-05\", \"2020-11-06\", \"2020-11-07\", \"2020-11-08\", \"2020-11-09\", \"2020-11-10\", \"2020-11-11\", \"2020-11-12\", \"2020-11-13\", \"2020-11-14\", \"2020-11-15\", \"2020-11-16\", \"2020-11-17\", \"2020-11-18\", \"2020-11-19\", \"2020-11-20\", \"2020-11-21\", \"2020-11-22\", \"2020-11-23\", \"2020-11-24\", \"2020-11-25\", \"2020-11-26\", \"2020-11-27\", \"2020-11-28\", \"2020-11-29\", \"2020-11-30\", \"2020-12-01\", \"2020-12-02\", \"2020-12-03\", \"2020-12-04\", \"2020-12-05\", \"2020-12-06\", \"2020-12-07\", \"2020-12-08\", \"2020-12-09\", \"2020-12-10\", \"2020-12-11\", \"2020-12-12\", \"2020-12-13\", \"2020-12-14\", \"2020-12-15\", \"2020-12-16\", \"2020-12-17\", \"2020-12-18\", \"2020-12-19\", \"2020-12-20\", \"2020-12-21\", \"2020-12-22\", \"2020-12-23\", \"2020-12-24\", \"2020-12-25\", \"2020-12-26\", \"2020-12-27\", \"2020-12-28\", \"2020-12-29\", \"2020-12-30\", \"2020-12-31\", \"2021-01-01\", \"2021-01-02\", \"2021-01-03\", \"2021-01-04\", \"2021-01-05\", \"2021-01-06\", \"2021-01-07\", \"2021-01-08\", \"2021-01-09\", \"2021-01-10\", \"2021-01-11\", \"2021-01-12\", \"2021-01-13\", \"2021-01-14\", \"2021-01-15\", \"2021-01-16\", \"2021-01-17\", \"2021-01-18\", \"2021-01-19\", \"2021-01-20\", \"2021-01-21\", \"2021-01-22\", \"2021-01-23\", \"2021-01-24\", \"2021-01-25\", \"2021-01-26\", \"2021-01-27\", \"2021-01-28\", \"2021-01-29\", \"2021-01-30\", \"2021-01-31\", \"2021-02-01\", \"2021-02-02\", \"2021-02-03\", \"2021-02-04\", \"2021-02-05\", \"2021-02-06\", \"2021-02-07\", \"2021-02-08\", \"2021-02-09\", \"2021-02-10\", \"2021-02-11\", \"2021-02-12\", \"2021-02-13\", \"2021-02-14\", \"2021-02-15\", \"2021-02-16\", \"2021-02-17\", \"2021-02-18\", \"2021-02-19\", \"2021-02-20\", \"2021-02-21\", \"2021-02-22\", \"2021-02-23\", \"2021-02-24\", \"2021-02-25\", \"2021-02-26\", \"2021-02-27\", \"2021-02-28\", \"2021-03-01\", \"2021-03-02\", \"2021-03-03\", \"2021-03-04\", \"2021-03-05\", \"2021-03-06\", \"2021-03-07\", \"2021-03-08\", \"2021-03-09\", \"2021-03-10\", \"2021-03-11\", \"2021-03-12\", \"2021-03-13\", \"2021-03-14\", \"2021-03-15\", \"2021-03-16\", \"2021-03-17\", \"2021-03-18\", \"2021-03-19\", \"2021-03-20\", \"2021-03-21\", \"2021-03-22\", \"2021-03-23\", \"2021-03-24\", \"2021-03-25\", \"2021-03-26\", \"2021-03-27\", \"2021-03-28\", \"2021-03-29\", \"2021-03-30\", \"2021-03-31\", \"2021-04-01\", \"2021-04-02\", \"2021-04-03\", \"2021-04-04\", \"2021-04-05\", \"2021-04-06\", \"2021-04-07\", \"2021-04-08\", \"2021-04-09\", \"2021-04-10\", \"2021-04-11\", \"2021-04-12\", \"2021-04-13\", \"2021-04-14\", \"2021-04-15\", \"2021-04-16\", \"2021-04-17\", \"2021-04-18\", \"2021-04-19\", \"2021-04-20\", \"2021-04-21\", \"2021-04-22\", \"2021-04-23\", \"2021-04-24\", \"2021-04-25\", \"2021-04-26\", \"2021-04-27\", \"2021-04-28\", \"2021-04-29\", \"2021-04-30\", \"2021-05-01\", \"2021-05-02\", \"2021-05-03\", \"2021-05-04\", \"2021-05-05\", \"2021-05-06\", \"2021-05-07\", \"2021-05-08\", \"2021-05-09\", \"2021-05-10\", \"2021-05-11\", \"2021-05-12\", \"2021-05-13\", \"2021-05-14\", \"2021-05-15\", \"2021-05-16\", \"2021-05-17\", \"2021-05-18\", \"2021-05-19\", \"2021-05-20\", \"2021-05-21\", \"2021-05-22\", \"2021-05-23\", \"2021-05-24\", \"2021-05-25\", \"2021-05-26\", \"2021-05-27\", \"2021-05-28\", \"2021-05-29\", \"2021-05-30\", \"2021-05-31\", \"2021-06-01\", \"2021-06-02\", \"2021-06-03\", \"2021-06-04\", \"2021-06-05\", \"2021-06-06\", \"2021-06-07\", \"2021-06-08\", \"2021-06-09\", \"2021-06-10\", \"2021-06-11\", \"2021-06-12\", \"2021-06-13\", \"2021-06-14\", \"2021-06-15\", \"2021-06-16\", \"2021-06-17\", \"2021-06-18\", \"2021-06-19\", \"2021-06-20\", \"2021-06-21\", \"2021-06-22\", \"2021-06-23\", \"2021-06-24\", \"2021-06-25\", \"2021-06-26\", \"2021-06-27\", \"2021-06-28\", \"2021-06-29\", \"2021-06-30\", \"2021-07-01\", \"2021-07-02\", \"2021-07-03\", \"2021-07-04\", \"2021-07-05\", \"2021-07-06\", \"2021-07-07\", \"2021-07-08\", \"2021-07-09\", \"2021-07-10\", \"2021-07-11\", \"2021-07-12\", \"2021-07-13\", \"2021-07-14\", \"2021-07-15\", \"2021-07-16\", \"2021-07-17\", \"2021-07-18\", \"2021-07-19\", \"2021-07-20\", \"2021-07-21\", \"2021-07-22\", \"2021-07-23\", \"2021-07-24\", \"2021-07-25\", \"2021-07-26\", \"2021-07-27\", \"2021-07-28\", \"2021-07-29\", \"2021-07-30\", \"2021-07-31\", \"2021-08-01\", \"2021-08-02\", \"2021-08-03\", \"2021-08-04\", \"2021-08-05\", \"2021-08-06\", \"2021-08-07\", \"2021-08-08\", \"2021-08-09\", \"2021-08-10\", \"2021-08-11\", \"2021-08-12\", \"2021-08-13\", \"2021-08-14\", \"2021-08-15\", \"2021-08-16\", \"2021-08-17\", \"2021-08-18\", \"2021-08-19\", \"2021-08-20\", \"2021-08-21\", \"2021-08-22\", \"2021-08-23\", \"2021-08-24\", \"2021-08-25\", \"2021-08-26\", \"2021-08-27\", \"2021-08-28\", \"2021-08-29\", \"2021-08-30\", \"2021-08-31\", \"2021-09-01\", \"2021-09-02\", \"2021-09-03\", \"2021-09-04\", \"2021-09-05\", \"2021-09-06\", \"2021-09-07\", \"2021-09-08\", \"2021-09-09\", \"2021-09-10\", \"2021-09-11\", \"2021-09-12\", \"2021-09-13\", \"2021-09-14\", \"2021-09-15\", \"2021-09-16\", \"2021-09-17\", \"2021-09-18\", \"2021-09-19\", \"2021-09-20\", \"2021-09-21\", \"2021-09-22\", \"2021-09-23\", \"2021-09-24\", \"2021-09-25\", \"2021-09-26\", \"2021-09-27\", \"2021-09-28\", \"2021-09-29\", \"2021-09-30\", \"2021-10-01\", \"2021-10-02\", \"2021-10-03\", \"2021-10-04\", \"2021-10-05\", \"2021-10-06\", \"2021-10-07\", \"2021-10-08\", \"2021-10-09\", \"2021-10-10\", \"2021-10-11\", \"2021-10-12\", \"2021-10-13\", \"2021-10-14\", \"2021-10-15\", \"2021-10-16\", \"2021-10-17\", \"2021-10-18\", \"2021-10-19\", \"2021-10-20\", \"2021-10-21\", \"2021-10-22\", \"2021-10-23\", \"2021-10-24\", \"2021-10-25\", \"2021-10-26\", \"2021-10-27\", \"2021-10-28\", \"2021-10-29\", \"2021-10-30\", \"2021-10-31\", \"2021-11-01\", \"2021-11-02\", \"2021-11-03\", \"2021-11-04\", \"2021-11-05\", \"2021-11-06\", \"2021-11-07\", \"2021-11-08\", \"2021-11-09\", \"2021-11-10\", \"2021-11-11\", \"2021-11-12\", \"2021-11-13\", \"2021-11-14\", \"2021-11-15\", \"2021-11-16\", \"2021-11-17\", \"2021-11-18\", \"2021-11-19\", \"2021-11-20\", \"2021-11-21\", \"2021-11-22\", \"2021-11-23\", \"2021-11-24\", \"2021-11-25\", \"2021-11-26\", \"2021-11-27\", \"2021-11-28\", \"2021-11-29\", \"2021-11-30\", \"2021-12-01\", \"2021-12-02\", \"2021-12-03\", \"2021-12-04\", \"2021-12-05\", \"2021-12-06\", \"2021-12-07\", \"2021-12-08\", \"2021-12-09\", \"2021-12-10\", \"2021-12-11\", \"2021-12-12\", \"2021-12-13\", \"2021-12-14\", \"2021-12-15\", \"2021-12-16\", \"2021-12-17\", \"2021-12-18\", \"2021-12-19\", \"2021-12-20\", \"2021-12-21\", \"2021-12-22\", \"2021-12-23\", \"2021-12-24\", \"2021-12-25\", \"2021-12-26\", \"2021-12-27\", \"2021-12-28\", \"2021-12-29\", \"2021-12-30\", \"2021-12-31\", \"2022-01-01\", \"2022-01-02\", \"2022-01-03\", \"2022-01-04\", \"2022-01-05\", \"2022-01-06\", \"2022-01-07\", \"2022-01-08\", \"2022-01-09\", \"2022-01-10\", \"2022-01-11\", \"2022-01-12\", \"2022-01-13\"], \"xaxis\": \"x\", \"y\": [398770, 399642, 400561, 401286, 401822, 402338, 402928, 403619, 404207, 404997, 405724, 406403, 406962, 407875, 408709, 409476, 410254, 411006, 411515, 412034, 412889, 413595, 414405, 415163, 415911, 416443, 417056, 417591, 418302, 419081, 419723, 420477, 421008, 421550, 422296, 422935, 423629, 424349, 425055, 425568, 426046, 426713, 427419, 428155, 428879, 429617, 430226, 430636, 431298, 431924, 432523, 433230, 433881, 434462, 434866, 435495, 436063, 436852, 437487, 438122, 438831, 439480, 440237, 440947, 441835, 442698, 443497, 444226, 444751, 445308, 445881, 446637, 447498, 448347, 449072, 449658, 450425, 451078, 451971, 452764, 453747, 454612, 455187, 455938, 456604, 457557, 458466, 459472, 460340, 461176, 462364, 463369, 464752, 466353, 468081, 469307, 470244, 471638, 472994, 474829, 476422, 477870, 479013, 480045, 481436, 482671, 484135, 485838, 487626, 489016, 490015, 491216, 493245, 494874, 496510, 498568, 500201, 501393, 503387, 505416, 507913, 510171, 512223, 514482, 516114, 518431, 520557, 523559, 526767, 530354, 533784, 536933, 540897, 545718, 550516, 555917, 561308, 564952, 568450, 573544, 578826, 584128, 589605, 595581, 600967, 606878, 611756, 618023, 624961, 633140, 639200, 645932, 652748, 660041, 669016, 678869, 690143, 700902, 710612, 718991, 728010, 738947, 749204, 759765, 770804, 780831, 789815, 799551, 808929, 819427, 832033, 841946, 851400, 860856, 871155, 882895, 896242, 909123, 920171, 928376, 938710, 950730, 963647, 979040, 996073, 1011922, 1024154, 1035396, 1048538, 1064554, 1082142, 1101702, 1119541, 1135849, 1150028, 1164819, 1179523, 1193710, 1213179, 1229124, 1242818, 1256228, 1268949, 1280068, 1293976, 1309660, 1323569, 1335952, 1347924, 1358964, 1369329, 1383112, 1396063, 1408955, 1420164, 1429096, 1437045, 1444199, 1451169, 1459066, 1470558, 1480481, 1489453, 1497732, 1504316, 1514327, 1523042, 1531797, 1540127, 1546665, 1553374, 1559299, 1568881, 1577454, 1585692, 1591929, 1598226, 1605149, 1611288, 1620181, 1628255, 1636297, 1644124, 1650560, 1656941, 1663505, 1670973, 1679124, 1687250, 1694908, 1700348, 1707181, 1713287, 1720456, 1728900, 1734933, 1741620, 1748739, 1755450, 1762032, 1767547, 1772624, 1779291, 1783026, 1787934, 1794735, 1814919, 1823602, 1831605, 1840338, 1849190, 1858162, 1863912, 1871595, 1880768, 1888823, 1896534, 1904141, 1910858, 1916964, 1923414, 1932145, 1940703, 1948232, 1954809, 1960567, 1965610, 1971610, 1978594, 1984884, 1991271, 1996876, 2002053, 2006712, 2010967, 2016244, 2021094, 2025257, 2029307, 2032325, 2035668, 2038668, 2042530, 2046322, 2050174, 2053027, 2055467, 2057701, 2060075, 2062707, 2065172, 2068200, 2070603, 2072264, 2073713, 2075757, 2077961, 2080000, 2081761, 2083649, 2085028, 2086577, 2087900, 2089547, 2091142, 2092455, 2093529, 2094493, 2095438, 2096320, 2097465, 2098395, 2099261, 2100109, 2100633, 2101111, 2101514, 2102003, 2102760, 2103612, 2104103, 2104622, 2105081, 2105507, 2106056, 2106742, 2107172, 2107535, 2107912, 2108249, 2108535, 2108978, 2109393, 2109782, 2110069, 2110346, 2110612, 2110862, 2111245, 2111588, 2111933, 2112307, 2112628, 2112872, 2113147, 2113544, 2114018, 2114297, 2114609, 2114985, 2115292, 2115633, 2116270, 2117024, 2117754, 2118565, 2119207, 2119875, 2120600, 2121529, 2122158, 2123579, 2124722, 2125663, 2126775, 2127867, 2129478, 2131176, 2133044, 2135076, 2136602, 2138250, 2140050, 2142694, 2145309, 2148445, 2151035, 2153243, 2156305, 2159139, 2162581, 2166341, 2170878, 2174515, 2176196, 2177918, 2185142, 2190012, 2194646, 2199321, 2203359, 2207567, 2211095, 2215603, 2220673, 2224579, 2230754, 2235347, 2239183, 2242677, 2246408, 2251779, 2258143, 2263726, 2266362, 2272334, 2276228, 2280354, 2285643, 2291562, 2294936, 2301437, 2305126, 2308382, 2310837, 2317291, 2323174, 2329234, 2332969, 2338377, 2342490, 2347298, 2354028, 2360066, 2363352, 2371076, 2374833, 2380164, 2384698, 2389735, 2395880, 2399678, 2406466, 2409292, 2414540, 2419556, 2424535, 2430353, 2433689, 2437085, 2443345, 2447269, 2453544, 2459146, 2464979, 2468518, 2470595, 2478477, 2481730, 2486254, 2490768, 2497110, 2501128, 2504277, 2509666, 2512960, 2517737, 2522102, 2525802, 2529266, 2531418, 2536439, 2538935, 2543076, 2546275, 2552009, 2555136, 2557930, 2563625, 2566536, 2570550, 2575181, 2580040, 2583891, 2587606, 2593360, 2597571, 2602610, 2609293, 2615549, 2620644, 2624840, 2631992, 2637053, 2643081, 2651196, 2658788, 2664344, 2673149, 2678465, 2684084, 2691097, 2697859, 2706059, 2709306, 2713812, 2721968, 2728612, 2737932, 2749263, 2760505, 2768147, 2775977, 2787506, 2796043, 2805294, 2816974, 2828288, 2836160, 2843444, 2858513, 2867444, 2879827, 2897347, 2917910, 2928229, 2956489, 2976928, 3003384, 3031844, 3065699, 3098290, 3098290, 3184452, 3214893, 3263729, 3324088, 3395166, 3473970, 3555047, 3617589, 3678042, 3729331, 3804480, 3884858, 3966952, 4057084, 4136861, 4194745, 4244155, 4299066, 4361115], \"yaxis\": \"y\"}, {\"hoverlabel\": {\"namelength\": 0}, \"hovertemplate\": \"state=Texas<br>date=%{x}<br>cases=%{y}\", \"legendgroup\": \"\", \"line\": {\"color\": \"#636efa\"}, \"mode\": \"lines\", \"name\": \"\", \"orientation\": \"v\", \"showlegend\": false, \"stackgroup\": \"1\", \"type\": \"scatter\", \"x\": [\"2020-07-01\", \"2020-07-02\", \"2020-07-03\", \"2020-07-04\", \"2020-07-05\", \"2020-07-06\", \"2020-07-07\", \"2020-07-08\", \"2020-07-09\", \"2020-07-10\", \"2020-07-11\", \"2020-07-12\", \"2020-07-13\", \"2020-07-14\", \"2020-07-15\", \"2020-07-16\", \"2020-07-17\", \"2020-07-18\", \"2020-07-19\", \"2020-07-20\", \"2020-07-21\", \"2020-07-22\", \"2020-07-23\", \"2020-07-24\", \"2020-07-25\", \"2020-07-26\", \"2020-07-27\", \"2020-07-28\", \"2020-07-29\", \"2020-07-30\", \"2020-07-31\", \"2020-08-01\", \"2020-08-02\", \"2020-08-03\", \"2020-08-04\", \"2020-08-05\", \"2020-08-06\", \"2020-08-07\", \"2020-08-08\", \"2020-08-09\", \"2020-08-10\", \"2020-08-11\", \"2020-08-12\", \"2020-08-13\", \"2020-08-14\", \"2020-08-15\", \"2020-08-16\", \"2020-08-17\", \"2020-08-18\", \"2020-08-19\", \"2020-08-20\", \"2020-08-21\", \"2020-08-22\", \"2020-08-23\", \"2020-08-24\", \"2020-08-25\", \"2020-08-26\", \"2020-08-27\", \"2020-08-28\", \"2020-08-29\", \"2020-08-30\", \"2020-08-31\", \"2020-09-01\", \"2020-09-02\", \"2020-09-03\", \"2020-09-04\", \"2020-09-05\", \"2020-09-06\", \"2020-09-07\", \"2020-09-08\", \"2020-09-09\", \"2020-09-10\", \"2020-09-11\", \"2020-09-12\", \"2020-09-13\", \"2020-09-14\", \"2020-09-15\", \"2020-09-16\", \"2020-09-17\", \"2020-09-18\", \"2020-09-19\", \"2020-09-20\", \"2020-09-21\", \"2020-09-22\", \"2020-09-23\", \"2020-09-24\", \"2020-09-25\", \"2020-09-26\", \"2020-09-27\", \"2020-09-28\", \"2020-09-29\", \"2020-09-30\", \"2020-10-01\", \"2020-10-02\", \"2020-10-03\", \"2020-10-04\", \"2020-10-05\", \"2020-10-06\", \"2020-10-07\", \"2020-10-08\", \"2020-10-09\", \"2020-10-10\", \"2020-10-11\", \"2020-10-12\", \"2020-10-13\", \"2020-10-14\", \"2020-10-15\", \"2020-10-16\", \"2020-10-17\", \"2020-10-18\", \"2020-10-19\", \"2020-10-20\", \"2020-10-21\", \"2020-10-22\", \"2020-10-23\", \"2020-10-24\", \"2020-10-25\", \"2020-10-26\", \"2020-10-27\", \"2020-10-28\", \"2020-10-29\", \"2020-10-30\", \"2020-10-31\", \"2020-11-01\", \"2020-11-02\", \"2020-11-03\", \"2020-11-04\", \"2020-11-05\", \"2020-11-06\", \"2020-11-07\", \"2020-11-08\", \"2020-11-09\", \"2020-11-10\", \"2020-11-11\", \"2020-11-12\", \"2020-11-13\", \"2020-11-14\", \"2020-11-15\", \"2020-11-16\", \"2020-11-17\", \"2020-11-18\", \"2020-11-19\", \"2020-11-20\", \"2020-11-21\", \"2020-11-22\", \"2020-11-23\", \"2020-11-24\", \"2020-11-25\", \"2020-11-26\", \"2020-11-27\", \"2020-11-28\", \"2020-11-29\", \"2020-11-30\", \"2020-12-01\", \"2020-12-02\", \"2020-12-03\", \"2020-12-04\", \"2020-12-05\", \"2020-12-06\", \"2020-12-07\", \"2020-12-08\", \"2020-12-09\", \"2020-12-10\", \"2020-12-11\", \"2020-12-12\", \"2020-12-13\", \"2020-12-14\", \"2020-12-15\", \"2020-12-16\", \"2020-12-17\", \"2020-12-18\", \"2020-12-19\", \"2020-12-20\", \"2020-12-21\", \"2020-12-22\", \"2020-12-23\", \"2020-12-24\", \"2020-12-25\", \"2020-12-26\", \"2020-12-27\", \"2020-12-28\", \"2020-12-29\", \"2020-12-30\", \"2020-12-31\", \"2021-01-01\", \"2021-01-02\", \"2021-01-03\", \"2021-01-04\", \"2021-01-05\", \"2021-01-06\", \"2021-01-07\", \"2021-01-08\", \"2021-01-09\", \"2021-01-10\", \"2021-01-11\", \"2021-01-12\", \"2021-01-13\", \"2021-01-14\", \"2021-01-15\", \"2021-01-16\", \"2021-01-17\", \"2021-01-18\", \"2021-01-19\", \"2021-01-20\", \"2021-01-21\", \"2021-01-22\", \"2021-01-23\", \"2021-01-24\", \"2021-01-25\", \"2021-01-26\", \"2021-01-27\", \"2021-01-28\", \"2021-01-29\", \"2021-01-30\", \"2021-01-31\", \"2021-02-01\", \"2021-02-02\", \"2021-02-03\", \"2021-02-04\", \"2021-02-05\", \"2021-02-06\", \"2021-02-07\", \"2021-02-08\", \"2021-02-09\", \"2021-02-10\", \"2021-02-11\", \"2021-02-12\", \"2021-02-13\", \"2021-02-14\", \"2021-02-15\", \"2021-02-16\", \"2021-02-17\", \"2021-02-18\", \"2021-02-19\", \"2021-02-20\", \"2021-02-21\", \"2021-02-22\", \"2021-02-23\", \"2021-02-24\", \"2021-02-25\", \"2021-02-26\", \"2021-02-27\", \"2021-02-28\", \"2021-03-01\", \"2021-03-02\", \"2021-03-03\", \"2021-03-04\", \"2021-03-05\", \"2021-03-06\", \"2021-03-07\", \"2021-03-08\", \"2021-03-09\", \"2021-03-10\", \"2021-03-11\", \"2021-03-12\", \"2021-03-13\", \"2021-03-14\", \"2021-03-15\", \"2021-03-16\", \"2021-03-17\", \"2021-03-18\", \"2021-03-19\", \"2021-03-20\", \"2021-03-21\", \"2021-03-22\", \"2021-03-23\", \"2021-03-24\", \"2021-03-25\", \"2021-03-26\", \"2021-03-27\", \"2021-03-28\", \"2021-03-29\", \"2021-03-30\", \"2021-03-31\", \"2021-04-01\", \"2021-04-02\", \"2021-04-03\", \"2021-04-04\", \"2021-04-05\", \"2021-04-06\", \"2021-04-07\", \"2021-04-08\", \"2021-04-09\", \"2021-04-10\", \"2021-04-11\", \"2021-04-12\", \"2021-04-13\", \"2021-04-14\", \"2021-04-15\", \"2021-04-16\", \"2021-04-17\", \"2021-04-18\", \"2021-04-19\", \"2021-04-20\", \"2021-04-21\", \"2021-04-22\", \"2021-04-23\", \"2021-04-24\", \"2021-04-25\", \"2021-04-26\", \"2021-04-27\", \"2021-04-28\", \"2021-04-29\", \"2021-04-30\", \"2021-05-01\", \"2021-05-02\", \"2021-05-03\", \"2021-05-04\", \"2021-05-05\", \"2021-05-06\", \"2021-05-07\", \"2021-05-08\", \"2021-05-09\", \"2021-05-10\", \"2021-05-11\", \"2021-05-12\", \"2021-05-13\", \"2021-05-14\", \"2021-05-15\", \"2021-05-16\", \"2021-05-17\", \"2021-05-18\", \"2021-05-19\", \"2021-05-20\", \"2021-05-21\", \"2021-05-22\", \"2021-05-23\", \"2021-05-24\", \"2021-05-25\", \"2021-05-26\", \"2021-05-27\", \"2021-05-28\", \"2021-05-29\", \"2021-05-30\", \"2021-05-31\", \"2021-06-01\", \"2021-06-02\", \"2021-06-03\", \"2021-06-04\", \"2021-06-05\", \"2021-06-06\", \"2021-06-07\", \"2021-06-08\", \"2021-06-09\", \"2021-06-10\", \"2021-06-11\", \"2021-06-12\", \"2021-06-13\", \"2021-06-14\", \"2021-06-15\", \"2021-06-16\", \"2021-06-17\", \"2021-06-18\", \"2021-06-19\", \"2021-06-20\", \"2021-06-21\", \"2021-06-22\", \"2021-06-23\", \"2021-06-24\", \"2021-06-25\", \"2021-06-26\", \"2021-06-27\", \"2021-06-28\", \"2021-06-29\", \"2021-06-30\", \"2021-07-01\", \"2021-07-02\", \"2021-07-03\", \"2021-07-04\", \"2021-07-05\", \"2021-07-06\", \"2021-07-07\", \"2021-07-08\", \"2021-07-09\", \"2021-07-10\", \"2021-07-11\", \"2021-07-12\", \"2021-07-13\", \"2021-07-14\", \"2021-07-15\", \"2021-07-16\", \"2021-07-17\", \"2021-07-18\", \"2021-07-19\", \"2021-07-20\", \"2021-07-21\", \"2021-07-22\", \"2021-07-23\", \"2021-07-24\", \"2021-07-25\", \"2021-07-26\", \"2021-07-27\", \"2021-07-28\", \"2021-07-29\", \"2021-07-30\", \"2021-07-31\", \"2021-08-01\", \"2021-08-02\", \"2021-08-03\", \"2021-08-04\", \"2021-08-05\", \"2021-08-06\", \"2021-08-07\", \"2021-08-08\", \"2021-08-09\", \"2021-08-10\", \"2021-08-11\", \"2021-08-12\", \"2021-08-13\", \"2021-08-14\", \"2021-08-15\", \"2021-08-16\", \"2021-08-17\", \"2021-08-18\", \"2021-08-19\", \"2021-08-20\", \"2021-08-21\", \"2021-08-22\", \"2021-08-23\", \"2021-08-24\", \"2021-08-25\", \"2021-08-26\", \"2021-08-27\", \"2021-08-28\", \"2021-08-29\", \"2021-08-30\", \"2021-08-31\", \"2021-09-01\", \"2021-09-02\", \"2021-09-03\", \"2021-09-04\", \"2021-09-05\", \"2021-09-06\", \"2021-09-07\", \"2021-09-08\", \"2021-09-09\", \"2021-09-10\", \"2021-09-11\", \"2021-09-12\", \"2021-09-13\", \"2021-09-14\", \"2021-09-15\", \"2021-09-16\", \"2021-09-17\", \"2021-09-18\", \"2021-09-19\", \"2021-09-20\", \"2021-09-21\", \"2021-09-22\", \"2021-09-23\", \"2021-09-24\", \"2021-09-25\", \"2021-09-26\", \"2021-09-27\", \"2021-09-28\", \"2021-09-29\", \"2021-09-30\", \"2021-10-01\", \"2021-10-02\", \"2021-10-03\", \"2021-10-04\", \"2021-10-05\", \"2021-10-06\", \"2021-10-07\", \"2021-10-08\", \"2021-10-09\", \"2021-10-10\", \"2021-10-11\", \"2021-10-12\", \"2021-10-13\", \"2021-10-14\", \"2021-10-15\", \"2021-10-16\", \"2021-10-17\", \"2021-10-18\", \"2021-10-19\", \"2021-10-20\", \"2021-10-21\", \"2021-10-22\", \"2021-10-23\", \"2021-10-24\", \"2021-10-25\", \"2021-10-26\", \"2021-10-27\", \"2021-10-28\", \"2021-10-29\", \"2021-10-30\", \"2021-10-31\", \"2021-11-01\", \"2021-11-02\", \"2021-11-03\", \"2021-11-04\", \"2021-11-05\", \"2021-11-06\", \"2021-11-07\", \"2021-11-08\", \"2021-11-09\", \"2021-11-10\", \"2021-11-11\", \"2021-11-12\", \"2021-11-13\", \"2021-11-14\", \"2021-11-15\", \"2021-11-16\", \"2021-11-17\", \"2021-11-18\", \"2021-11-19\", \"2021-11-20\", \"2021-11-21\", \"2021-11-22\", \"2021-11-23\", \"2021-11-24\", \"2021-11-25\", \"2021-11-26\", \"2021-11-27\", \"2021-11-28\", \"2021-11-29\", \"2021-11-30\", \"2021-12-01\", \"2021-12-02\", \"2021-12-03\", \"2021-12-04\", \"2021-12-05\", \"2021-12-06\", \"2021-12-07\", \"2021-12-08\", \"2021-12-09\", \"2021-12-10\", \"2021-12-11\", \"2021-12-12\", \"2021-12-13\", \"2021-12-14\", \"2021-12-15\", \"2021-12-16\", \"2021-12-17\", \"2021-12-18\", \"2021-12-19\", \"2021-12-20\", \"2021-12-21\", \"2021-12-22\", \"2021-12-23\", \"2021-12-24\", \"2021-12-25\", \"2021-12-26\", \"2021-12-27\", \"2021-12-28\", \"2021-12-29\", \"2021-12-30\", \"2021-12-31\", \"2022-01-01\", \"2022-01-02\", \"2022-01-03\", \"2022-01-04\", \"2022-01-05\", \"2022-01-06\", \"2022-01-07\", \"2022-01-08\", \"2022-01-09\", \"2022-01-10\", \"2022-01-11\", \"2022-01-12\", \"2022-01-13\"], \"xaxis\": \"x2\", \"y\": [174826, 182260, 190049, 195707, 200137, 209350, 219164, 229116, 240025, 249948, 258280, 264811, 273732, 284638, 296478, 311516, 321254, 330059, 338036, 345672, 355594, 366561, 376104, 383662, 391609, 395738, 402295, 412849, 421891, 432134, 443090, 448224, 454759, 463541, 473105, 482467, 490102, 498266, 504605, 510392, 517182, 524898, 531825, 538805, 547670, 555343, 563464, 569058, 577220, 582623, 587900, 593405, 599156, 602144, 607621, 613707, 619836, 623647, 628492, 633834, 636547, 640317, 645534, 649844, 653321, 658789, 663246, 665338, 666209, 670427, 675149, 677888, 683295, 685921, 689941, 694547, 701509, 706034, 710423, 713652, 716914, 722460, 744736, 749069, 753551, 758379, 761644, 764642, 770539, 773679, 780543, 784027, 788066, 793962, 799411, 802440, 806535, 811191, 817166, 821732, 826241, 829758, 832750, 836807, 842316, 848168, 853977, 859567, 863993, 869376, 874080, 879949, 886421, 891714, 899390, 906657, 910592, 917240, 924475, 932245, 939355, 946023, 953451, 957789, 965780, 974292, 984919, 993894, 1003908, 1009837, 1016772, 1026570, 1038214, 1051071, 1060798, 1073382, 1083132, 1090500, 1101781, 1112676, 1125898, 1139676, 1153363, 1164267, 1172761, 1183834, 1204366, 1219283, 1223893, 1228514, 1234740, 1246883, 1261943, 1275295, 1293839, 1311751, 1325855, 1337030, 1346249, 1361070, 1374960, 1390227, 1403359, 1461605, 1473080, 1479805, 1493407, 1513068, 1534822, 1551333, 1570679, 1584055, 1591885, 1608768, 1630886, 1651560, 1659551, 1661619, 1667352, 1690021, 1710489, 1734268, 1753686, 1770527, 1778306, 1792363, 1808382, 1831486, 1862478, 1887800, 1910426, 1934504, 1952047, 1966081, 1989821, 2017036, 2040144, 2070044, 2094606, 2112925, 2125391, 2136595, 2158462, 2186469, 2207935, 2226203, 2240136, 2247849, 2268260, 2288854, 2308600, 2328099, 2346818, 2360584, 2372960, 2412150, 2430370, 2448334, 2461907, 2476282, 2484782, 2492317, 2503200, 2516432, 2529516, 2541392, 2553677, 2561684, 2566191, 2569113, 2572743, 2577230, 2579584, 2585482, 2590989, 2597379, 2604710, 2614977, 2622573, 2630384, 2641266, 2646681, 2650283, 2658389, 2665566, 2673115, 2680637, 2686191, 2689785, 2692573, 2696533, 2701913, 2707234, 2713387, 2718585, 2721431, 2724143, 2728799, 2734622, 2739163, 2742559, 2746452, 2748905, 2751212, 2754620, 2758973, 2762762, 2768120, 2772019, 2775092, 2778062, 2782555, 2785961, 2790030, 2793685, 2795691, 2797366, 2798366, 2803306, 2807504, 2811415, 2815899, 2819137, 2821570, 2823018, 2828568, 2833381, 2836974, 2840297, 2843308, 2845113, 2846552, 2851247, 2855946, 2860001, 2863676, 2866290, 2868275, 2869755, 2874150, 2877890, 2882018, 2885569, 2889252, 2891264, 2892504, 2896609, 2899356, 2901603, 2904201, 2907084, 2908499, 2909750, 2912414, 2915330, 2917768, 2920004, 2922438, 2923523, 2924188, 2926306, 2929734, 2931630, 2933314, 2934857, 2935806, 2936554, 2939416, 2941936, 2943560, 2945297, 2946950, 2947615, 2947780, 2947933, 2948635, 2950982, 2954086, 2955722, 2957016, 2957646, 2958465, 2960310, 2967261, 2969114, 2970252, 2971075, 2971498, 2972381, 2973462, 2975716, 2976499, 2977580, 2979299, 2979672, 2980325, 2982215, 2983351, 2985029, 2986713, 2988213, 2988389, 2989253, 2990978, 2993964, 2995274, 2997152, 2998381, 2998600, 2999137, 3000308, 3004368, 3006725, 3009125, 3010721, 3011151, 3012965, 3018297, 3023065, 3026074, 3030756, 3033389, 3035135, 3037688, 3042473, 3050283, 3057841, 3064653, 3069699, 3071097, 3076397, 3088278, 3097047, 3112522, 3126717, 3132348, 3135695, 3143940, 3164075, 3175724, 3193258, 3217817, 3229082, 3231454, 3243166, 3263345, 3285199, 3298392, 3316208, 3327117, 3333059, 3346889, 3372386, 3392291, 3410867, 3433517, 3451738, 3455618, 3466970, 3488035, 3511447, 3527090, 3548371, 3558939, 3562808, 3582287, 3604438, 3630865, 3650334, 3677129, 3693335, 3696245, 3700956, 3710719, 3752776, 3784830, 3802905, 3813319, 3815818, 3833311, 3857592, 3880333, 3897271, 3915675, 3925228, 3926755, 3938756, 3954709, 3972002, 3982646, 3999392, 4005238, 4011213, 4021667, 4035865, 4050122, 4059956, 4069475, 4075826, 4076957, 4084775, 4095417, 4108141, 4116095, 4123946, 4128945, 4129954, 4135402, 4145150, 4154847, 4160441, 4167271, 4170584, 4171446, 4176433, 4182689, 4188539, 4194234, 4198500, 4201408, 4202609, 4207000, 4212519, 4216736, 4222837, 4227048, 4230019, 4230417, 4233754, 4238926, 4243192, 4246805, 4249894, 4252114, 4252903, 4255308, 4260345, 4263381, 4269263, 4272527, 4275336, 4275822, 4279225, 4284307, 4288395, 4292678, 4296648, 4298114, 4298896, 4303004, 4306962, 4312664, 4312993, 4313033, 4313070, 4313064, 4321519, 4327626, 4332011, 4336327, 4340505, 4342425, 4343389, 4347374, 4352353, 4356555, 4360146, 4377757, 4381540, 4383362, 4388030, 4393556, 4399099, 4404958, 4411247, 4418022, 4424558, 4435127, 4446330, 4457526, 4469774, 4469813, 4469813, 4469813, 4523360, 4538771, 4554307, 4574376, 4574881, 4578763, 4581606, 4746508, 4800498, 4848294, 4893970, 4947742, 4996914, 5037218, 5085074, 5141662, 5215557, 5287761], \"yaxis\": \"y2\"}],\n",
              "                        {\"annotations\": [{\"font\": {}, \"showarrow\": false, \"text\": \"state=New York\", \"x\": 0.15999999999999998, \"xanchor\": \"center\", \"xref\": \"paper\", \"y\": 0.46499999999999997, \"yanchor\": \"bottom\", \"yref\": \"paper\"}, {\"font\": {}, \"showarrow\": false, \"text\": \"state=Texas\", \"x\": 0.49999999999999994, \"xanchor\": \"center\", \"xref\": \"paper\", \"y\": 0.46499999999999997, \"yanchor\": \"bottom\", \"yref\": \"paper\"}, {\"font\": {}, \"showarrow\": false, \"text\": \"state=Arizona\", \"x\": 0.15999999999999998, \"xanchor\": \"center\", \"xref\": \"paper\", \"y\": 0.9999999999999999, \"yanchor\": \"bottom\", \"yref\": \"paper\"}, {\"font\": {}, \"showarrow\": false, \"text\": \"state=California\", \"x\": 0.49999999999999994, \"xanchor\": \"center\", \"xref\": \"paper\", \"y\": 0.9999999999999999, \"yanchor\": \"bottom\", \"yref\": \"paper\"}, {\"font\": {}, \"showarrow\": false, \"text\": \"state=Florida\", \"x\": 0.8399999999999999, \"xanchor\": \"center\", \"xref\": \"paper\", \"y\": 0.9999999999999999, \"yanchor\": \"bottom\", \"yref\": \"paper\"}], \"legend\": {\"tracegroupgap\": 0}, \"margin\": {\"t\": 60}, \"template\": {\"data\": {\"bar\": [{\"error_x\": {\"color\": \"#2a3f5f\"}, \"error_y\": {\"color\": \"#2a3f5f\"}, \"marker\": {\"line\": {\"color\": \"#E5ECF6\", \"width\": 0.5}}, \"type\": \"bar\"}], \"barpolar\": [{\"marker\": {\"line\": {\"color\": \"#E5ECF6\", \"width\": 0.5}}, \"type\": \"barpolar\"}], \"carpet\": [{\"aaxis\": {\"endlinecolor\": \"#2a3f5f\", \"gridcolor\": \"white\", \"linecolor\": \"white\", \"minorgridcolor\": \"white\", \"startlinecolor\": \"#2a3f5f\"}, \"baxis\": {\"endlinecolor\": \"#2a3f5f\", \"gridcolor\": \"white\", \"linecolor\": \"white\", \"minorgridcolor\": \"white\", \"startlinecolor\": \"#2a3f5f\"}, \"type\": \"carpet\"}], \"choropleth\": [{\"colorbar\": {\"outlinewidth\": 0, \"ticks\": \"\"}, \"type\": \"choropleth\"}], \"contour\": [{\"colorbar\": {\"outlinewidth\": 0, \"ticks\": \"\"}, \"colorscale\": [[0.0, \"#0d0887\"], [0.1111111111111111, \"#46039f\"], [0.2222222222222222, \"#7201a8\"], [0.3333333333333333, \"#9c179e\"], [0.4444444444444444, \"#bd3786\"], [0.5555555555555556, \"#d8576b\"], [0.6666666666666666, \"#ed7953\"], [0.7777777777777778, \"#fb9f3a\"], [0.8888888888888888, \"#fdca26\"], [1.0, \"#f0f921\"]], \"type\": \"contour\"}], \"contourcarpet\": [{\"colorbar\": {\"outlinewidth\": 0, \"ticks\": \"\"}, \"type\": \"contourcarpet\"}], \"heatmap\": [{\"colorbar\": {\"outlinewidth\": 0, \"ticks\": \"\"}, \"colorscale\": [[0.0, \"#0d0887\"], [0.1111111111111111, \"#46039f\"], [0.2222222222222222, \"#7201a8\"], [0.3333333333333333, \"#9c179e\"], [0.4444444444444444, \"#bd3786\"], [0.5555555555555556, \"#d8576b\"], [0.6666666666666666, \"#ed7953\"], [0.7777777777777778, \"#fb9f3a\"], [0.8888888888888888, \"#fdca26\"], [1.0, \"#f0f921\"]], \"type\": \"heatmap\"}], \"heatmapgl\": [{\"colorbar\": {\"outlinewidth\": 0, \"ticks\": \"\"}, \"colorscale\": [[0.0, \"#0d0887\"], [0.1111111111111111, \"#46039f\"], [0.2222222222222222, \"#7201a8\"], [0.3333333333333333, \"#9c179e\"], [0.4444444444444444, \"#bd3786\"], [0.5555555555555556, \"#d8576b\"], [0.6666666666666666, \"#ed7953\"], [0.7777777777777778, \"#fb9f3a\"], [0.8888888888888888, \"#fdca26\"], [1.0, \"#f0f921\"]], \"type\": \"heatmapgl\"}], \"histogram\": [{\"marker\": {\"colorbar\": {\"outlinewidth\": 0, \"ticks\": \"\"}}, \"type\": \"histogram\"}], \"histogram2d\": [{\"colorbar\": {\"outlinewidth\": 0, \"ticks\": \"\"}, \"colorscale\": [[0.0, \"#0d0887\"], [0.1111111111111111, \"#46039f\"], [0.2222222222222222, \"#7201a8\"], [0.3333333333333333, \"#9c179e\"], [0.4444444444444444, \"#bd3786\"], [0.5555555555555556, \"#d8576b\"], [0.6666666666666666, \"#ed7953\"], [0.7777777777777778, \"#fb9f3a\"], [0.8888888888888888, \"#fdca26\"], [1.0, \"#f0f921\"]], \"type\": \"histogram2d\"}], \"histogram2dcontour\": [{\"colorbar\": {\"outlinewidth\": 0, \"ticks\": \"\"}, \"colorscale\": [[0.0, \"#0d0887\"], [0.1111111111111111, \"#46039f\"], [0.2222222222222222, \"#7201a8\"], [0.3333333333333333, \"#9c179e\"], [0.4444444444444444, \"#bd3786\"], [0.5555555555555556, \"#d8576b\"], [0.6666666666666666, \"#ed7953\"], [0.7777777777777778, \"#fb9f3a\"], [0.8888888888888888, \"#fdca26\"], [1.0, \"#f0f921\"]], \"type\": \"histogram2dcontour\"}], \"mesh3d\": [{\"colorbar\": {\"outlinewidth\": 0, \"ticks\": \"\"}, \"type\": \"mesh3d\"}], \"parcoords\": [{\"line\": {\"colorbar\": {\"outlinewidth\": 0, \"ticks\": \"\"}}, \"type\": \"parcoords\"}], \"pie\": [{\"automargin\": true, \"type\": \"pie\"}], \"scatter\": [{\"marker\": {\"colorbar\": {\"outlinewidth\": 0, \"ticks\": \"\"}}, \"type\": \"scatter\"}], \"scatter3d\": [{\"line\": {\"colorbar\": {\"outlinewidth\": 0, \"ticks\": \"\"}}, \"marker\": {\"colorbar\": {\"outlinewidth\": 0, \"ticks\": \"\"}}, \"type\": \"scatter3d\"}], \"scattercarpet\": [{\"marker\": {\"colorbar\": {\"outlinewidth\": 0, \"ticks\": \"\"}}, \"type\": \"scattercarpet\"}], \"scattergeo\": [{\"marker\": {\"colorbar\": {\"outlinewidth\": 0, \"ticks\": \"\"}}, \"type\": \"scattergeo\"}], \"scattergl\": [{\"marker\": {\"colorbar\": {\"outlinewidth\": 0, \"ticks\": \"\"}}, \"type\": \"scattergl\"}], \"scattermapbox\": [{\"marker\": {\"colorbar\": {\"outlinewidth\": 0, \"ticks\": \"\"}}, \"type\": \"scattermapbox\"}], \"scatterpolar\": [{\"marker\": {\"colorbar\": {\"outlinewidth\": 0, \"ticks\": \"\"}}, \"type\": \"scatterpolar\"}], \"scatterpolargl\": [{\"marker\": {\"colorbar\": {\"outlinewidth\": 0, \"ticks\": \"\"}}, \"type\": \"scatterpolargl\"}], \"scatterternary\": [{\"marker\": {\"colorbar\": {\"outlinewidth\": 0, \"ticks\": \"\"}}, \"type\": \"scatterternary\"}], \"surface\": [{\"colorbar\": {\"outlinewidth\": 0, \"ticks\": \"\"}, \"colorscale\": [[0.0, \"#0d0887\"], [0.1111111111111111, \"#46039f\"], [0.2222222222222222, \"#7201a8\"], [0.3333333333333333, \"#9c179e\"], [0.4444444444444444, \"#bd3786\"], [0.5555555555555556, \"#d8576b\"], [0.6666666666666666, \"#ed7953\"], [0.7777777777777778, \"#fb9f3a\"], [0.8888888888888888, \"#fdca26\"], [1.0, \"#f0f921\"]], \"type\": \"surface\"}], \"table\": [{\"cells\": {\"fill\": {\"color\": \"#EBF0F8\"}, \"line\": {\"color\": \"white\"}}, \"header\": {\"fill\": {\"color\": \"#C8D4E3\"}, \"line\": {\"color\": \"white\"}}, \"type\": \"table\"}]}, \"layout\": {\"annotationdefaults\": {\"arrowcolor\": \"#2a3f5f\", \"arrowhead\": 0, \"arrowwidth\": 1}, \"coloraxis\": {\"colorbar\": {\"outlinewidth\": 0, \"ticks\": \"\"}}, \"colorscale\": {\"diverging\": [[0, \"#8e0152\"], [0.1, \"#c51b7d\"], [0.2, \"#de77ae\"], [0.3, \"#f1b6da\"], [0.4, \"#fde0ef\"], [0.5, \"#f7f7f7\"], [0.6, \"#e6f5d0\"], [0.7, \"#b8e186\"], [0.8, \"#7fbc41\"], [0.9, \"#4d9221\"], [1, \"#276419\"]], \"sequential\": [[0.0, \"#0d0887\"], [0.1111111111111111, \"#46039f\"], [0.2222222222222222, \"#7201a8\"], [0.3333333333333333, \"#9c179e\"], [0.4444444444444444, \"#bd3786\"], [0.5555555555555556, \"#d8576b\"], [0.6666666666666666, \"#ed7953\"], [0.7777777777777778, \"#fb9f3a\"], [0.8888888888888888, \"#fdca26\"], [1.0, \"#f0f921\"]], \"sequentialminus\": [[0.0, \"#0d0887\"], [0.1111111111111111, \"#46039f\"], [0.2222222222222222, \"#7201a8\"], [0.3333333333333333, \"#9c179e\"], [0.4444444444444444, \"#bd3786\"], [0.5555555555555556, \"#d8576b\"], [0.6666666666666666, \"#ed7953\"], [0.7777777777777778, \"#fb9f3a\"], [0.8888888888888888, \"#fdca26\"], [1.0, \"#f0f921\"]]}, \"colorway\": [\"#636efa\", \"#EF553B\", \"#00cc96\", \"#ab63fa\", \"#FFA15A\", \"#19d3f3\", \"#FF6692\", \"#B6E880\", \"#FF97FF\", \"#FECB52\"], \"font\": {\"color\": \"#2a3f5f\"}, \"geo\": {\"bgcolor\": \"white\", \"lakecolor\": \"white\", \"landcolor\": \"#E5ECF6\", \"showlakes\": true, \"showland\": true, \"subunitcolor\": \"white\"}, \"hoverlabel\": {\"align\": \"left\"}, \"hovermode\": \"closest\", \"mapbox\": {\"style\": \"light\"}, \"paper_bgcolor\": \"white\", \"plot_bgcolor\": \"#E5ECF6\", \"polar\": {\"angularaxis\": {\"gridcolor\": \"white\", \"linecolor\": \"white\", \"ticks\": \"\"}, \"bgcolor\": \"#E5ECF6\", \"radialaxis\": {\"gridcolor\": \"white\", \"linecolor\": \"white\", \"ticks\": \"\"}}, \"scene\": {\"xaxis\": {\"backgroundcolor\": \"#E5ECF6\", \"gridcolor\": \"white\", \"gridwidth\": 2, \"linecolor\": \"white\", \"showbackground\": true, \"ticks\": \"\", \"zerolinecolor\": \"white\"}, \"yaxis\": {\"backgroundcolor\": \"#E5ECF6\", \"gridcolor\": \"white\", \"gridwidth\": 2, \"linecolor\": \"white\", \"showbackground\": true, \"ticks\": \"\", \"zerolinecolor\": \"white\"}, \"zaxis\": {\"backgroundcolor\": \"#E5ECF6\", \"gridcolor\": \"white\", \"gridwidth\": 2, \"linecolor\": \"white\", \"showbackground\": true, \"ticks\": \"\", \"zerolinecolor\": \"white\"}}, \"shapedefaults\": {\"line\": {\"color\": \"#2a3f5f\"}}, \"ternary\": {\"aaxis\": {\"gridcolor\": \"white\", \"linecolor\": \"white\", \"ticks\": \"\"}, \"baxis\": {\"gridcolor\": \"white\", \"linecolor\": \"white\", \"ticks\": \"\"}, \"bgcolor\": \"#E5ECF6\", \"caxis\": {\"gridcolor\": \"white\", \"linecolor\": \"white\", \"ticks\": \"\"}}, \"title\": {\"x\": 0.05}, \"xaxis\": {\"automargin\": true, \"gridcolor\": \"white\", \"linecolor\": \"white\", \"ticks\": \"\", \"title\": {\"standoff\": 15}, \"zerolinecolor\": \"white\", \"zerolinewidth\": 2}, \"yaxis\": {\"automargin\": true, \"gridcolor\": \"white\", \"linecolor\": \"white\", \"ticks\": \"\", \"title\": {\"standoff\": 15}, \"zerolinecolor\": \"white\", \"zerolinewidth\": 2}}}, \"xaxis\": {\"anchor\": \"y\", \"domain\": [0.0, 0.31999999999999995], \"title\": {\"text\": \"date\"}}, \"xaxis2\": {\"anchor\": \"y2\", \"domain\": [0.33999999999999997, 0.6599999999999999], \"matches\": \"x\", \"title\": {\"text\": \"date\"}}, \"xaxis3\": {\"anchor\": \"y3\", \"domain\": [0.6799999999999999, 0.9999999999999999], \"matches\": \"x\", \"title\": {\"text\": \"date\"}}, \"xaxis4\": {\"anchor\": \"y4\", \"domain\": [0.0, 0.31999999999999995], \"matches\": \"x\", \"showticklabels\": false}, \"xaxis5\": {\"anchor\": \"y5\", \"domain\": [0.33999999999999997, 0.6599999999999999], \"matches\": \"x\", \"showticklabels\": false}, \"xaxis6\": {\"anchor\": \"y6\", \"domain\": [0.6799999999999999, 0.9999999999999999], \"matches\": \"x\", \"showticklabels\": false}, \"yaxis\": {\"anchor\": \"x\", \"domain\": [0.0, 0.46499999999999997], \"title\": {\"text\": \"cases\"}}, \"yaxis2\": {\"anchor\": \"x2\", \"domain\": [0.0, 0.46499999999999997], \"matches\": \"y\", \"showticklabels\": false}, \"yaxis3\": {\"anchor\": \"x3\", \"domain\": [0.0, 0.46499999999999997], \"matches\": \"y\", \"showticklabels\": false}, \"yaxis4\": {\"anchor\": \"x4\", \"domain\": [0.5349999999999999, 0.9999999999999999], \"matches\": \"y\", \"title\": {\"text\": \"cases\"}}, \"yaxis5\": {\"anchor\": \"x5\", \"domain\": [0.5349999999999999, 0.9999999999999999], \"matches\": \"y\", \"showticklabels\": false}, \"yaxis6\": {\"anchor\": \"x6\", \"domain\": [0.5349999999999999, 0.9999999999999999], \"matches\": \"y\", \"showticklabels\": false}},\n",
              "                        {\"responsive\": true}\n",
              "                    ).then(function(){\n",
              "                            \n",
              "var gd = document.getElementById('0baab5bd-b428-4491-869f-8c8b1c59931f');\n",
              "var x = new MutationObserver(function (mutations, observer) {{\n",
              "        var display = window.getComputedStyle(gd).display;\n",
              "        if (!display || display === 'none') {{\n",
              "            console.log([gd, 'removed!']);\n",
              "            Plotly.purge(gd);\n",
              "            observer.disconnect();\n",
              "        }}\n",
              "}});\n",
              "\n",
              "// Listen for the removal of the full notebook cells\n",
              "var notebookContainer = gd.closest('#notebook-container');\n",
              "if (notebookContainer) {{\n",
              "    x.observe(notebookContainer, {childList: true});\n",
              "}}\n",
              "\n",
              "// Listen for the clearing of the current output cell\n",
              "var outputEl = gd.closest('.output');\n",
              "if (outputEl) {{\n",
              "    x.observe(outputEl, {childList: true});\n",
              "}}\n",
              "\n",
              "                        })\n",
              "                };\n",
              "                \n",
              "            </script>\n",
              "        </div>\n",
              "</body>\n",
              "</html>"
            ]
          },
          "metadata": {}
        }
      ]
    },
    {
      "cell_type": "markdown",
      "metadata": {
        "id": "Hwch-J5PIHA1"
      },
      "source": [
        "# Conclusion"
      ]
    },
    {
      "cell_type": "markdown",
      "metadata": {
        "id": "q5G5KP6CINBS"
      },
      "source": [
        "Below are the conclusions:\n",
        "\n",
        "\n",
        "\n",
        "1.   Conclusion 1\n",
        "     --Your text here\n",
        "2.   Conclusion 2\n",
        "     --Your text here>\n",
        "\n"
      ]
    }
  ]
}