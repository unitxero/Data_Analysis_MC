{
  "nbformat": 4,
  "nbformat_minor": 0,
  "metadata": {
    "colab": {
      "name": "Day 3 While Loops.ipynb",
      "provenance": [],
      "authorship_tag": "ABX9TyPOoVhXMQHm9Yj7bzT37sUa",
      "include_colab_link": true
    },
    "kernelspec": {
      "name": "python3",
      "display_name": "Python 3"
    },
    "language_info": {
      "name": "python"
    }
  },
  "cells": [
    {
      "cell_type": "markdown",
      "metadata": {
        "id": "view-in-github",
        "colab_type": "text"
      },
      "source": [
        "<a href=\"https://colab.research.google.com/github/unitxero/Data_Analysis_MC/blob/main/Day_3_While_Loops.ipynb\" target=\"_parent\"><img src=\"https://colab.research.google.com/assets/colab-badge.svg\" alt=\"Open In Colab\"/></a>"
      ]
    },
    {
      "cell_type": "markdown",
      "source": [
        "While Loops"
      ],
      "metadata": {
        "id": "vp6mqZNQ68sA"
      }
    },
    {
      "cell_type": "code",
      "source": [
        "# creating a dictionary\n",
        "patient_3 = {'Name': 'Jack',\n",
        "             'Last Name': 'Sparrow',\n",
        "             'MRN' : '001234567',\n",
        "             'DOB': '092104'}"
      ],
      "metadata": {
        "id": "z9hfA5aq7FaI"
      },
      "execution_count": 1,
      "outputs": []
    },
    {
      "cell_type": "code",
      "source": [
        "# unpacking key value pairs from a dictionary\n",
        "\n",
        "for key,value in patient_3.items():\n",
        "  print('\\n key: ' + key)\n",
        "  print('\\n value: ' + value)"
      ],
      "metadata": {
        "colab": {
          "base_uri": "https://localhost:8080/"
        },
        "id": "ZaojKxN7JgAs",
        "outputId": "590387ed-d038-4762-ee2c-856693a0110c"
      },
      "execution_count": 2,
      "outputs": [
        {
          "output_type": "stream",
          "name": "stdout",
          "text": [
            "\n",
            " key: Name\n",
            "\n",
            " value: Jack\n",
            "\n",
            " key: Last Name\n",
            "\n",
            " value: Sparrow\n",
            "\n",
            " key: MRN\n",
            "\n",
            " value: 001234567\n",
            "\n",
            " key: DOB\n",
            "\n",
            " value: 092104\n"
          ]
        }
      ]
    },
    {
      "cell_type": "code",
      "source": [
        "# printing keys in the patient_3 dictionary\n",
        "for keys in patient_3.keys():\n",
        "  print(keys)"
      ],
      "metadata": {
        "colab": {
          "base_uri": "https://localhost:8080/"
        },
        "id": "hgJIrx1OKAwI",
        "outputId": "524327cf-2963-4330-aeb5-a3c59454f8e8"
      },
      "execution_count": 4,
      "outputs": [
        {
          "output_type": "stream",
          "name": "stdout",
          "text": [
            "Name\n",
            "Last Name\n",
            "MRN\n",
            "DOB\n"
          ]
        }
      ]
    },
    {
      "cell_type": "code",
      "source": [
        "# printing values in patient_3 dictionary\n",
        "\n",
        "for values in patient_3.values():\n",
        "  print(values)"
      ],
      "metadata": {
        "colab": {
          "base_uri": "https://localhost:8080/"
        },
        "id": "16xR1UGdKKME",
        "outputId": "bb8907d8-5a3f-47d4-b77f-5c828a6b3a0d"
      },
      "execution_count": 6,
      "outputs": [
        {
          "output_type": "stream",
          "name": "stdout",
          "text": [
            "Jack\n",
            "Sparrow\n",
            "001234567\n",
            "092104\n"
          ]
        }
      ]
    },
    {
      "cell_type": "code",
      "source": [
        "# creating a dictionary with friends as key, and their age as the value\n",
        "friends_ages = {\n",
        "    'nick': '30',\n",
        "    'amanda': '34',\n",
        "    'john': '36',\n",
        "    'haley': '26'\n",
        "}"
      ],
      "metadata": {
        "id": "HMyP3pRmKWgO"
      },
      "execution_count": 7,
      "outputs": []
    },
    {
      "cell_type": "code",
      "source": [
        "# working with keys\n",
        "fav_friends = ['nick', 'amanda']\n",
        "\n",
        "for name in friends_ages.keys():\n",
        "  print(name.title())\n",
        "\n",
        "  if name in fav_friends:\n",
        "    print(f\"Hi {name.title()}, I see you're {friends_ages[name]}\")"
      ],
      "metadata": {
        "colab": {
          "base_uri": "https://localhost:8080/"
        },
        "id": "2WzsAl1FKf7m",
        "outputId": "cc28184e-2109-4b9e-bcac-e89dfe77dbad"
      },
      "execution_count": 11,
      "outputs": [
        {
          "output_type": "stream",
          "name": "stdout",
          "text": [
            "Nick\n",
            "Hi Nick, I see you're 30\n",
            "Amanda\n",
            "Hi Amanda, I see you're 34\n",
            "John\n",
            "Haley\n"
          ]
        }
      ]
    },
    {
      "cell_type": "code",
      "source": [
        "# while loops are used to search through data; \n",
        "# while a certain condition is True\n",
        "# in this case the condition is number being less than or equal to 5\n",
        "number = 1\n",
        "\n",
        "while number <= 5:\n",
        "  print(number)\n",
        "  number += 1"
      ],
      "metadata": {
        "colab": {
          "base_uri": "https://localhost:8080/"
        },
        "id": "71SVNoAiTvAG",
        "outputId": "f6882ded-233b-46d2-eb44-be23a01f8423"
      },
      "execution_count": 13,
      "outputs": [
        {
          "output_type": "stream",
          "name": "stdout",
          "text": [
            "1\n",
            "2\n",
            "3\n",
            "4\n",
            "5\n"
          ]
        }
      ]
    },
    {
      "cell_type": "code",
      "source": [
        "# without a variable, the name is not stored\n",
        "input('What is your name?: ')\n",
        "# let us store this by adding a variable called name\n",
        "name = input('What is your name?: ')"
      ],
      "metadata": {
        "colab": {
          "base_uri": "https://localhost:8080/",
          "height": 74
        },
        "id": "SlC1vYy-U2CY",
        "outputId": "71eb48f0-9046-4b6a-aa92-98476cf5a76c"
      },
      "execution_count": 14,
      "outputs": [
        {
          "name": "stdout",
          "output_type": "stream",
          "text": [
            "What is your name?: Kevin\n"
          ]
        },
        {
          "output_type": "execute_result",
          "data": {
            "application/vnd.google.colaboratory.intrinsic+json": {
              "type": "string"
            },
            "text/plain": [
              "'Kevin'"
            ]
          },
          "metadata": {},
          "execution_count": 14
        }
      ]
    },
    {
      "cell_type": "code",
      "source": [
        "# asking for age, storing it as age var, and using int to store it\n",
        "age = int(input('What is your age?: '))"
      ],
      "metadata": {
        "colab": {
          "base_uri": "https://localhost:8080/"
        },
        "id": "xLND8qrKVNeP",
        "outputId": "7819c05c-49c1-42ba-a31a-90a78c89a3c9"
      },
      "execution_count": 15,
      "outputs": [
        {
          "name": "stdout",
          "output_type": "stream",
          "text": [
            "What is your age?: 5\n"
          ]
        }
      ]
    },
    {
      "cell_type": "code",
      "source": [
        "# this asks for a message until you type quit\n",
        "\n",
        "prompt = \"Input a message. I will repeat it until you type quit: \"\n",
        "message = \"\"\n",
        "\n",
        "while message != 'quit':\n",
        "  message = input(prompt)\n",
        "  print(message)"
      ],
      "metadata": {
        "colab": {
          "base_uri": "https://localhost:8080/"
        },
        "id": "Wga4DQB7Vofb",
        "outputId": "d7e75591-9512-47a3-83cd-7731b6bb1d5f"
      },
      "execution_count": 18,
      "outputs": [
        {
          "output_type": "stream",
          "name": "stdout",
          "text": [
            "Input a message. I will repeat it until you type quit: Hello\n",
            "Hello\n",
            "Input a message. I will repeat it until you type quit: Are\n",
            "Are\n",
            "Input a message. I will repeat it until you type quit: You\n",
            "You\n",
            "Input a message. I will repeat it until you type quit: There?\n",
            "There?\n",
            "Input a message. I will repeat it until you type quit: quit\n",
            "quit\n"
          ]
        }
      ]
    },
    {
      "cell_type": "code",
      "source": [
        "# here we have a while loop that goes on until you trigger the active var to False\n",
        "# this will stop the loop, which prints outs your message\n",
        "\n",
        "prompt = \"Input a message. I will repeat it until you type quit: \"\n",
        "message = \"\"\n",
        "\n",
        "active = True\n",
        "\n",
        "while active:\n",
        "  message = input(prompt)\n",
        "\n",
        "  if message == 'quit':\n",
        "    active = False\n",
        "  else:\n",
        "    print(message)"
      ],
      "metadata": {
        "colab": {
          "base_uri": "https://localhost:8080/"
        },
        "id": "8X8rMnsWWj61",
        "outputId": "ac97561b-274a-4886-c5d7-f1b071e7ed7b"
      },
      "execution_count": 19,
      "outputs": [
        {
          "name": "stdout",
          "output_type": "stream",
          "text": [
            "Input a message. I will repeat it until you type quit: no\n",
            "no\n",
            "Input a message. I will repeat it until you type quit: quit\n"
          ]
        }
      ]
    },
    {
      "cell_type": "markdown",
      "source": [
        ""
      ],
      "metadata": {
        "id": "BfUGyRIwWjuQ"
      }
    }
  ]
}