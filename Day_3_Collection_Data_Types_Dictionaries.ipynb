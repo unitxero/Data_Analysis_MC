{
  "nbformat": 4,
  "nbformat_minor": 0,
  "metadata": {
    "colab": {
      "name": "Day 3 Collection Data Types - Dictionaries.ipynb",
      "provenance": [],
      "collapsed_sections": [],
      "include_colab_link": true
    },
    "kernelspec": {
      "name": "python3",
      "display_name": "Python 3"
    },
    "language_info": {
      "name": "python"
    }
  },
  "cells": [
    {
      "cell_type": "markdown",
      "metadata": {
        "id": "view-in-github",
        "colab_type": "text"
      },
      "source": [
        "<a href=\"https://colab.research.google.com/github/unitxero/Data_Analysis_MC/blob/main/Day_3_Collection_Data_Types_Dictionaries.ipynb\" target=\"_parent\"><img src=\"https://colab.research.google.com/assets/colab-badge.svg\" alt=\"Open In Colab\"/></a>"
      ]
    },
    {
      "cell_type": "markdown",
      "source": [
        "# Collection Data Types  "
      ],
      "metadata": {
        "id": "wVz8-DCCslsp"
      }
    },
    {
      "cell_type": "markdown",
      "source": [
        "# Dictionaries"
      ],
      "metadata": {
        "id": "1D9E_w18tOyF"
      }
    },
    {
      "cell_type": "code",
      "source": [
        "patient_2 = {}"
      ],
      "metadata": {
        "id": "DvJZUEf5vbMr"
      },
      "execution_count": null,
      "outputs": []
    },
    {
      "cell_type": "code",
      "source": [
        "patient_2['first name'] = 'John'"
      ],
      "metadata": {
        "id": "NRXLBvgbvbJB"
      },
      "execution_count": null,
      "outputs": []
    },
    {
      "cell_type": "code",
      "source": [
        "patient_2['Last Name'] = 'Wick'"
      ],
      "metadata": {
        "id": "hqRQIpwqvbGC"
      },
      "execution_count": null,
      "outputs": []
    },
    {
      "cell_type": "code",
      "source": [
        "patient_2"
      ],
      "metadata": {
        "colab": {
          "base_uri": "https://localhost:8080/"
        },
        "id": "6l6PpTcgvbC7",
        "outputId": "3a88864b-cbee-41e5-b37c-6fe051b618fd"
      },
      "execution_count": null,
      "outputs": [
        {
          "output_type": "execute_result",
          "data": {
            "text/plain": [
              "{'Last Name': 'Wick', 'first name': 'John'}"
            ]
          },
          "metadata": {},
          "execution_count": 4
        }
      ]
    },
    {
      "cell_type": "code",
      "source": [
        "patient_2['Fruits'] = 'Orange'"
      ],
      "metadata": {
        "id": "pMaQZvozva-5"
      },
      "execution_count": null,
      "outputs": []
    },
    {
      "cell_type": "code",
      "source": [
        "patient_2['Object'] = 'Floor'"
      ],
      "metadata": {
        "id": "PTVqbh-bva7f"
      },
      "execution_count": null,
      "outputs": []
    },
    {
      "cell_type": "code",
      "source": [
        "patient_2"
      ],
      "metadata": {
        "colab": {
          "base_uri": "https://localhost:8080/"
        },
        "id": "IbAC29XMva3X",
        "outputId": "fc6552ff-6c69-47ce-e507-905289303da5"
      },
      "execution_count": null,
      "outputs": [
        {
          "output_type": "execute_result",
          "data": {
            "text/plain": [
              "{'Fruits': 'Orange',\n",
              " 'Last Name': 'Wick',\n",
              " 'Object': 'Floor',\n",
              " 'first name': 'John'}"
            ]
          },
          "metadata": {},
          "execution_count": 7
        }
      ]
    },
    {
      "cell_type": "code",
      "source": [
        "del patient_2['Object']"
      ],
      "metadata": {
        "id": "q522D-5Nvaz5"
      },
      "execution_count": null,
      "outputs": []
    },
    {
      "cell_type": "code",
      "source": [
        "patient_2"
      ],
      "metadata": {
        "colab": {
          "base_uri": "https://localhost:8080/"
        },
        "id": "eRZBFqtWvaw3",
        "outputId": "a6d43161-fc6b-4fc5-958c-74f2e3cd40ed"
      },
      "execution_count": null,
      "outputs": [
        {
          "output_type": "execute_result",
          "data": {
            "text/plain": [
              "{'Fruits': 'Orange', 'Last Name': 'Wick', 'first name': 'John'}"
            ]
          },
          "metadata": {},
          "execution_count": 9
        }
      ]
    },
    {
      "cell_type": "code",
      "source": [
        "patient_2['Object'] = ['fruits', 12, 2.4, 'strings']"
      ],
      "metadata": {
        "id": "5kCLMdERw9ns"
      },
      "execution_count": null,
      "outputs": []
    },
    {
      "cell_type": "code",
      "source": [
        "patient_2"
      ],
      "metadata": {
        "colab": {
          "base_uri": "https://localhost:8080/"
        },
        "id": "X983zalDxUmA",
        "outputId": "8919c91d-f138-4180-e381-cf805f18b360"
      },
      "execution_count": null,
      "outputs": [
        {
          "output_type": "execute_result",
          "data": {
            "text/plain": [
              "{'Fruits': 'Orange',\n",
              " 'Last Name': 'Wick',\n",
              " 'Object': ['fruits', 12, 2.4, 'strings'],\n",
              " 'first name': 'John'}"
            ]
          },
          "metadata": {},
          "execution_count": 11
        }
      ]
    },
    {
      "cell_type": "code",
      "source": [
        "del patient_2['Object']"
      ],
      "metadata": {
        "id": "KX8f09HbxVyB"
      },
      "execution_count": null,
      "outputs": []
    },
    {
      "cell_type": "code",
      "source": [
        "patient_2"
      ],
      "metadata": {
        "colab": {
          "base_uri": "https://localhost:8080/"
        },
        "id": "QdB-BdgBxaXB",
        "outputId": "b9146d4a-3e8f-48a8-c88f-e42c3ac6ad66"
      },
      "execution_count": null,
      "outputs": [
        {
          "output_type": "execute_result",
          "data": {
            "text/plain": [
              "{'Fruits': 'Orange', 'Last Name': 'Wick', 'first name': 'John'}"
            ]
          },
          "metadata": {},
          "execution_count": 14
        }
      ]
    },
    {
      "cell_type": "code",
      "source": [
        "patient_2['Object'] = ['fruits', 12, 2.4, 'strings']"
      ],
      "metadata": {
        "id": "w5NRLpqlxcAN"
      },
      "execution_count": null,
      "outputs": []
    },
    {
      "cell_type": "code",
      "source": [
        "patient_2['Object'][-1][3:]"
      ],
      "metadata": {
        "colab": {
          "base_uri": "https://localhost:8080/",
          "height": 35
        },
        "id": "TwYGpf_BxnK9",
        "outputId": "d547dc6f-d467-4794-d0d3-26eec0c8e277"
      },
      "execution_count": null,
      "outputs": [
        {
          "output_type": "execute_result",
          "data": {
            "application/vnd.google.colaboratory.intrinsic+json": {
              "type": "string"
            },
            "text/plain": [
              "'ings'"
            ]
          },
          "metadata": {},
          "execution_count": 29
        }
      ]
    },
    {
      "cell_type": "code",
      "source": [
        "patient_2['Object'][0].upper()"
      ],
      "metadata": {
        "colab": {
          "base_uri": "https://localhost:8080/",
          "height": 35
        },
        "id": "OYzgEwuZxqJT",
        "outputId": "aac088ab-bed3-48a3-d307-9ed137ecac19"
      },
      "execution_count": null,
      "outputs": [
        {
          "output_type": "execute_result",
          "data": {
            "application/vnd.google.colaboratory.intrinsic+json": {
              "type": "string"
            },
            "text/plain": [
              "'FRUITS'"
            ]
          },
          "metadata": {},
          "execution_count": 20
        }
      ]
    },
    {
      "cell_type": "code",
      "source": [
        "patient_3 = {'Name': 'Jack', 'Last Name': 'Sparrow', 'MRN': '001234567', 'DOB': '22231845'}"
      ],
      "metadata": {
        "id": "nHQ7962fx_Pn"
      },
      "execution_count": null,
      "outputs": []
    },
    {
      "cell_type": "code",
      "source": [
        "patient_3"
      ],
      "metadata": {
        "colab": {
          "base_uri": "https://localhost:8080/"
        },
        "id": "JehAbfxgztl_",
        "outputId": "88009510-42a3-4a16-d8ab-f882d91f3dd1"
      },
      "execution_count": null,
      "outputs": [
        {
          "output_type": "execute_result",
          "data": {
            "text/plain": [
              "{'DOB': '22231845', 'Last Name': 'Sparrow', 'MRN': '001234567', 'Name': 'Jack'}"
            ]
          },
          "metadata": {},
          "execution_count": 32
        }
      ]
    },
    {
      "cell_type": "code",
      "source": [
        "print(f'The first name of the Patient is {patient_3[\"Name\"]}')\n",
        "print(f'The last name of the Patient is {patient_3[\"Last Name\"]}')\n",
        "print(f'The ID of the Patient is {patient_3[\"MRN\"]}')\n",
        "print(f'The DOB of the Patient is {patient_3[\"DOB\"]}')"
      ],
      "metadata": {
        "colab": {
          "base_uri": "https://localhost:8080/"
        },
        "id": "B3pMvJTCzzLc",
        "outputId": "59de34b3-504b-434b-b8ad-afd699e032ec"
      },
      "execution_count": null,
      "outputs": [
        {
          "output_type": "stream",
          "name": "stdout",
          "text": [
            "The first name of the Patient is Jack\n",
            "The last name of the Patient is Sparrow\n",
            "The ID of the Patient is 001234567\n",
            "The DOB of the Patient is 22231845\n"
          ]
        }
      ]
    },
    {
      "cell_type": "markdown",
      "source": [
        "# Nesting with Dictionaries"
      ],
      "metadata": {
        "id": "LPPsQpPr0AhV"
      }
    },
    {
      "cell_type": "code",
      "source": [
        "# Dictionary nested inside a dictionary nested in side a dictionary\n",
        "d = {'key1':{'nestkey':{'subnestkey':'value'}}}"
      ],
      "metadata": {
        "id": "gUyIPHx61vvs"
      },
      "execution_count": null,
      "outputs": []
    },
    {
      "cell_type": "code",
      "source": [
        "# Keep calling the keys\n",
        "d['key1']['nestkey']['subnestkey']"
      ],
      "metadata": {
        "colab": {
          "base_uri": "https://localhost:8080/",
          "height": 35
        },
        "id": "tKuyS8gt1vr8",
        "outputId": "f2241bba-a743-4aee-deda-ae9612e37995"
      },
      "execution_count": null,
      "outputs": [
        {
          "output_type": "execute_result",
          "data": {
            "application/vnd.google.colaboratory.intrinsic+json": {
              "type": "string"
            },
            "text/plain": [
              "'value'"
            ]
          },
          "metadata": {},
          "execution_count": 37
        }
      ]
    },
    {
      "cell_type": "code",
      "source": [
        ""
      ],
      "metadata": {
        "id": "iRXyX_P71vZB"
      },
      "execution_count": null,
      "outputs": []
    },
    {
      "cell_type": "markdown",
      "source": [
        "# Dictionary Methods"
      ],
      "metadata": {
        "id": "GEcPEd3n1vRY"
      }
    },
    {
      "cell_type": "code",
      "source": [
        "# Create a typical dictionary\n",
        "d = {'key1':1,'key2':2,'key3':3}\n"
      ],
      "metadata": {
        "id": "prJVzWwa1vMI"
      },
      "execution_count": null,
      "outputs": []
    },
    {
      "cell_type": "code",
      "source": [
        "# Method to return a list of all keys \n",
        "d.keys()"
      ],
      "metadata": {
        "id": "uPhM0yh02E2a",
        "outputId": "cf695175-e6c4-477c-9dc0-bdd85319c89f",
        "colab": {
          "base_uri": "https://localhost:8080/"
        }
      },
      "execution_count": null,
      "outputs": [
        {
          "output_type": "execute_result",
          "data": {
            "text/plain": [
              "dict_keys(['key1', 'key2', 'key3'])"
            ]
          },
          "metadata": {},
          "execution_count": 39
        }
      ]
    },
    {
      "cell_type": "code",
      "source": [
        "# Method to grab all values\n",
        "d.values()"
      ],
      "metadata": {
        "id": "hKFJ5Md72HiQ",
        "outputId": "9e651dfa-c92e-4f75-a41f-6ede71ad3e1a",
        "colab": {
          "base_uri": "https://localhost:8080/"
        }
      },
      "execution_count": null,
      "outputs": [
        {
          "output_type": "execute_result",
          "data": {
            "text/plain": [
              "dict_values([1, 2, 3])"
            ]
          },
          "metadata": {},
          "execution_count": 40
        }
      ]
    },
    {
      "cell_type": "code",
      "source": [
        "# Method to return tuples of all items  (we'll learn about tuples soon)\n",
        "d.items()"
      ],
      "metadata": {
        "id": "dPHfN7Zk2JXv",
        "outputId": "18c5411a-a524-4b87-f302-bb44272613dc",
        "colab": {
          "base_uri": "https://localhost:8080/"
        }
      },
      "execution_count": null,
      "outputs": [
        {
          "output_type": "execute_result",
          "data": {
            "text/plain": [
              "dict_items([('key1', 1), ('key2', 2), ('key3', 3)])"
            ]
          },
          "metadata": {},
          "execution_count": 41
        }
      ]
    }
  ]
}