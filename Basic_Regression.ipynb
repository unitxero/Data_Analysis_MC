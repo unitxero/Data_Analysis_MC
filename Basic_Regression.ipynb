{
  "nbformat": 4,
  "nbformat_minor": 0,
  "metadata": {
    "colab": {
      "name": "Basic Regression.ipynb",
      "provenance": [],
      "collapsed_sections": [],
      "include_colab_link": true
    },
    "kernelspec": {
      "name": "python3",
      "display_name": "Python 3"
    }
  },
  "cells": [
    {
      "cell_type": "markdown",
      "metadata": {
        "id": "view-in-github",
        "colab_type": "text"
      },
      "source": [
        "<a href=\"https://colab.research.google.com/github/unitxero/Data_Analysis_MC/blob/main/Basic_Regression.ipynb\" target=\"_parent\"><img src=\"https://colab.research.google.com/assets/colab-badge.svg\" alt=\"Open In Colab\"/></a>"
      ]
    },
    {
      "cell_type": "markdown",
      "metadata": {
        "id": "A_yKZA5V-Fht"
      },
      "source": [
        "# Regression Analysis\n",
        "\n",
        "Regression analysis refers to the use of statistical methods to estimate the relationships between one or more independent variables and dependent variables. \n",
        "\n",
        "Regression is a powerful tool as it is used to assess the strength of the relationship between two or more variables, and then it would be used for modeling the relationship between those variables in the future.\n",
        "\n",
        "[source](https://en.wikipedia.org/wiki/Regression_analysis)"
      ]
    },
    {
      "cell_type": "markdown",
      "metadata": {
        "id": "SvEcClLr-8kN"
      },
      "source": [
        "# Building a basic regression model.\n",
        "\n",
        "###*We know that a Linear regression is a way to model the relationship between two variables. We will use the equation as the slope formula. The equation has the form:* \n",
        "\n",
        "<font size =  6><center>$Y = \\alpha + \\beta X$</center></font>\n",
        "\n",
        "*where `Y` is the dependent variable (that’s the variable on the vertical or `Y` axis).*\n",
        "\n",
        "*`X` is the independent variable (i.e. it is plotted on the Horizonr=tal or `X` axis).*\n",
        "\n",
        " *`b` is the slope of the line and `a` is the `y-intercept`.*"
      ]
    },
    {
      "cell_type": "code",
      "metadata": {
        "id": "AG378a0hXv34",
        "colab": {
          "base_uri": "https://localhost:8080/"
        },
        "outputId": "6d670d95-30e7-4bf3-bd79-fc7becb761f6"
      },
      "source": [
        "import pandas as pd\n",
        "import numpy as np\n",
        "import statsmodels.formula.api as smf\n",
        "from sklearn.linear_model import LinearRegression\n",
        "from matplotlib import pyplot as plt"
      ],
      "execution_count": null,
      "outputs": [
        {
          "output_type": "stream",
          "name": "stderr",
          "text": [
            "/usr/local/lib/python3.7/dist-packages/statsmodels/tools/_testing.py:19: FutureWarning: pandas.util.testing is deprecated. Use the functions in the public API at pandas.testing instead.\n",
            "  import pandas.util.testing as tm\n"
          ]
        }
      ]
    },
    {
      "cell_type": "markdown",
      "metadata": {
        "id": "Q28f1rgb6lOs"
      },
      "source": [
        "### To construct out analysis, first, let's generate some *'random'* data"
      ]
    },
    {
      "cell_type": "code",
      "metadata": {
        "id": "gzJS8fhDX6qr"
      },
      "source": [
        "np.random.seed(10)\n",
        "X = 2.5 * np.random.randn(1000) + 1.5   # Array of 100 values with mean = 1.5, stddev = 2.5\n",
        "res = 0.5 * np.random.randn(1000)       # Generate 100 residual terms\n",
        "y = 2 + 0.3 * X + res                  # Actual values of Y"
      ],
      "execution_count": null,
      "outputs": []
    },
    {
      "cell_type": "markdown",
      "metadata": {
        "id": "9aHYoGDg6qTH"
      },
      "source": [
        "## Now, let's create a pandas dataframe to store our X and y values"
      ]
    },
    {
      "cell_type": "code",
      "metadata": {
        "id": "vUTpSBZlYF8r"
      },
      "source": [
        "df = pd.DataFrame({'X': X,'y': y})"
      ],
      "execution_count": null,
      "outputs": []
    },
    {
      "cell_type": "markdown",
      "metadata": {
        "id": "w3fgEZwO64Oe"
      },
      "source": [
        "## Next, we want to calculate the mean of X and the mean y\n",
        "\n",
        "####*The mean of an array refers to the sum of array elements divided by the number of elements.*"
      ]
    },
    {
      "cell_type": "code",
      "metadata": {
        "id": "uUMhEPXxYgXd"
      },
      "source": [
        "xmean = np.mean(X)\n",
        "ymean = np.mean(y)"
      ],
      "execution_count": null,
      "outputs": []
    },
    {
      "cell_type": "markdown",
      "metadata": {
        "id": "8AY6ZcX1-Eu1"
      },
      "source": [
        "###Now, we need to calculate the terms needed for the numator and denominator of beta to satisfy the line equation formula."
      ]
    },
    {
      "cell_type": "code",
      "metadata": {
        "id": "Iu5kgfJ-ZMGs"
      },
      "source": [
        "df['xycov'] = (df['X'] - xmean) * (df['y'] - ymean)\n",
        "df['xvar'] = (df['X'] - xmean)**2"
      ],
      "execution_count": null,
      "outputs": []
    },
    {
      "cell_type": "markdown",
      "metadata": {
        "id": "_em0bHC5BPPq"
      },
      "source": [
        "### We can now calculate $\\beta$ and $\\alpha$.\n",
        "\n",
        "*This is the formula for each...*\n",
        "\n",
        "<font size=\"6\"><center>$\\alpha = \\frac{\\sum(y)\\sum(x^2) - \\sum(x)\\sum(xy)}{n\\sum(x^2) - (\\sum(x))^2}$</center>\n",
        "<br>\n",
        "<center>$\\beta = \\frac{n\\sum(xy) - \\sum(x)\\sum(y)}{n\\sum(x^2) - (\\sum(x))^2}$</center></font>\n"
      ]
    },
    {
      "cell_type": "code",
      "metadata": {
        "colab": {
          "base_uri": "https://localhost:8080/"
        },
        "id": "G_V31MgPZT1l",
        "outputId": "be034cb4-8b00-43d8-b58c-0ef00deba745"
      },
      "source": [
        "beta = df['xycov'].sum() / df['xvar'].sum()\n",
        "alpha = ymean - (beta * xmean)\n",
        "print(f'alpha = {alpha}')\n",
        "print(f'beta = {beta}')"
      ],
      "execution_count": null,
      "outputs": [
        {
          "output_type": "stream",
          "text": [
            "alpha = 1.9734233360735431\n",
            "beta = 0.31436921108349586\n"
          ],
          "name": "stdout"
        }
      ]
    },
    {
      "cell_type": "markdown",
      "metadata": {
        "id": "fShaIrzVFH39"
      },
      "source": [
        "###Great, we now have an estimate for alpha and beta!\n",
        "\n",
        "<font size = 6><center>$y_{pred} = \\alpha + \\beta * X$</center></font></span>\n"
      ]
    },
    {
      "cell_type": "code",
      "metadata": {
        "id": "iLUHrUVI9oD3"
      },
      "source": [
        "ypred = alpha + (beta*X)"
      ],
      "execution_count": null,
      "outputs": []
    },
    {
      "cell_type": "code",
      "metadata": {
        "colab": {
          "base_uri": "https://localhost:8080/",
          "height": 422
        },
        "id": "5InzFitrZ7G4",
        "outputId": "e0cd1442-7fe6-493a-b3b5-af65a40b993d"
      },
      "source": [
        "# Let’s plot our prediction ypred against the actual values of y, \n",
        "# to get a better visual understanding of our model.\n",
        "\n",
        "# Plot regression against actual data\n",
        "plt.figure(figsize=(12, 6))\n",
        "plt.plot(X, ypred)     # regression line\n",
        "plt.plot(X, y, 'ro')   # scatter plot showing actual data\n",
        "plt.title('Actual vs Predicted')\n",
        "plt.xlabel('X')\n",
        "plt.ylabel('y')"
      ],
      "execution_count": null,
      "outputs": [
        {
          "output_type": "execute_result",
          "data": {
            "text/plain": [
              "Text(0, 0.5, 'y')"
            ]
          },
          "metadata": {},
          "execution_count": 11
        },
        {
          "output_type": "display_data",
          "data": {
            "image/png": "[encoded data removed]",
            "text/plain": [
              "<Figure size 864x432 with 1 Axes>"
            ]
          },
          "metadata": {
            "needs_background": "light"
          }
        }
      ]
    },
    {
      "cell_type": "code",
      "metadata": {
        "id": "2_cxshcoaOuE"
      },
      "source": [
        ""
      ],
      "execution_count": null,
      "outputs": []
    }
  ]
}