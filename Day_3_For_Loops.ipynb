{
  "nbformat": 4,
  "nbformat_minor": 0,
  "metadata": {
    "colab": {
      "name": "Day 3 For Loops.ipynb",
      "provenance": [],
      "collapsed_sections": [],
      "authorship_tag": "ABX9TyOTpQMrGvxfA/1wORddid8B",
      "include_colab_link": true
    },
    "kernelspec": {
      "name": "python3",
      "display_name": "Python 3"
    },
    "language_info": {
      "name": "python"
    }
  },
  "cells": [
    {
      "cell_type": "markdown",
      "metadata": {
        "id": "view-in-github",
        "colab_type": "text"
      },
      "source": [
        "<a href=\"https://colab.research.google.com/github/unitxero/Data_Analysis_MC/blob/main/Day_3_For_Loops.ipynb\" target=\"_parent\"><img src=\"https://colab.research.google.com/assets/colab-badge.svg\" alt=\"Open In Colab\"/></a>"
      ]
    },
    {
      "cell_type": "markdown",
      "source": [
        "For Loops"
      ],
      "metadata": {
        "id": "zA6Sfqke7YVC"
      }
    },
    {
      "cell_type": "code",
      "source": [
        "# looping through the string of CUNY, each letter in the string is an interation\n",
        "for x in 'CUNY':\n",
        "  print(x)"
      ],
      "metadata": {
        "colab": {
          "base_uri": "https://localhost:8080/"
        },
        "id": "W0NVDJ6a7cMj",
        "outputId": "d911ed87-72ff-45b4-a87a-676a551c488f"
      },
      "execution_count": 6,
      "outputs": [
        {
          "output_type": "stream",
          "name": "stdout",
          "text": [
            "C\n",
            "U\n",
            "N\n",
            "Y\n"
          ]
        }
      ]
    },
    {
      "cell_type": "code",
      "source": [
        "# Creating a list of tv shows\n",
        "tv_shows = ['game of thrones', 'star trek', 'stranger things']"
      ],
      "metadata": {
        "id": "ViuVX-d18AHi"
      },
      "execution_count": 8,
      "outputs": []
    },
    {
      "cell_type": "code",
      "source": [
        "for x in tv_shows:\n",
        "  print(x)"
      ],
      "metadata": {
        "colab": {
          "base_uri": "https://localhost:8080/"
        },
        "id": "TV0i6VH18TEi",
        "outputId": "4db0b775-c976-4494-fafe-f04458ef8011"
      },
      "execution_count": 9,
      "outputs": [
        {
          "output_type": "stream",
          "name": "stdout",
          "text": [
            "game of thrones\n",
            "star trek\n",
            "stranger things\n"
          ]
        }
      ]
    },
    {
      "cell_type": "code",
      "source": [
        "# let's make the game shows capitalized in the proper location as .title\n",
        "\n",
        "for show in tv_shows:\n",
        "  print(f'{show.title()} is one of my fav TV shows')"
      ],
      "metadata": {
        "colab": {
          "base_uri": "https://localhost:8080/"
        },
        "id": "u4lgSKwK8mgz",
        "outputId": "938dcab4-ee26-4cb0-eea8-1012e94e2af1"
      },
      "execution_count": 12,
      "outputs": [
        {
          "output_type": "stream",
          "name": "stdout",
          "text": [
            "Game Of Thrones is one of my fav TV shows\n",
            "Star Trek is one of my fav TV shows\n",
            "Stranger Things is one of my fav TV shows\n"
          ]
        }
      ]
    },
    {
      "cell_type": "code",
      "source": [
        "# empty var and append it with some fruits\n",
        "fruits = []\n",
        "\n",
        "fruits.append('orange')\n",
        "fruits.append('apple')\n",
        "fruits.append('kiwi')\n",
        "fruits.append('banana')\n",
        "fruits.append('papaya')\n",
        "fruits.append('pineapple')\n",
        "fruits.append('mango')\n",
        "fruits.append('strawberry')\n",
        "fruits.append('apricot')\n",
        "fruits.append('pear')"
      ],
      "metadata": {
        "id": "4dA5felS_m3K"
      },
      "execution_count": 19,
      "outputs": []
    },
    {
      "cell_type": "code",
      "source": [
        "fruits"
      ],
      "metadata": {
        "colab": {
          "base_uri": "https://localhost:8080/"
        },
        "id": "EqcXIrgvATQ3",
        "outputId": "db3c7b69-fcfb-459c-c08a-3c89a7e26878"
      },
      "execution_count": 20,
      "outputs": [
        {
          "output_type": "execute_result",
          "data": {
            "text/plain": [
              "['orange',\n",
              " 'apple',\n",
              " 'kiwi',\n",
              " 'banana',\n",
              " 'papaya',\n",
              " 'pineapple',\n",
              " 'mango',\n",
              " 'strawberry',\n",
              " 'apricot',\n",
              " 'pear']"
            ]
          },
          "metadata": {},
          "execution_count": 20
        }
      ]
    },
    {
      "cell_type": "code",
      "source": [
        "for fav_fruit in fruits:\n",
        "  print(f'My favorite fruit is a {fav_fruit}.')"
      ],
      "metadata": {
        "colab": {
          "base_uri": "https://localhost:8080/"
        },
        "id": "um75HVCRAccB",
        "outputId": "e8fe57c0-3626-4f6e-8595-9da51fd6091c"
      },
      "execution_count": 31,
      "outputs": [
        {
          "output_type": "stream",
          "name": "stdout",
          "text": [
            "My favorite fruit is a orange.\n",
            "My favorite fruit is a apple.\n",
            "My favorite fruit is a kiwi.\n",
            "My favorite fruit is a banana.\n",
            "My favorite fruit is a papaya.\n",
            "My favorite fruit is a pineapple.\n",
            "My favorite fruit is a mango.\n",
            "My favorite fruit is a strawberry.\n",
            "My favorite fruit is a apricot.\n",
            "My favorite fruit is a pear.\n"
          ]
        }
      ]
    },
    {
      "cell_type": "code",
      "source": [
        "# append a vegetable that we don't want and then remove it from the list\n",
        "fruits.append('lettuce')\n"
      ],
      "metadata": {
        "id": "6TkqpvYJBD4P"
      },
      "execution_count": 27,
      "outputs": []
    },
    {
      "cell_type": "code",
      "source": [
        "del fruits[-1]"
      ],
      "metadata": {
        "colab": {
          "base_uri": "https://localhost:8080/"
        },
        "id": "HUT9-2WvBbvn",
        "outputId": "c3b73c51-0db9-4809-f9fd-4887d234e45c"
      },
      "execution_count": 30,
      "outputs": [
        {
          "output_type": "execute_result",
          "data": {
            "text/plain": [
              "['orange',\n",
              " 'apple',\n",
              " 'kiwi',\n",
              " 'banana',\n",
              " 'papaya',\n",
              " 'pineapple',\n",
              " 'mango',\n",
              " 'strawberry',\n",
              " 'apricot',\n",
              " 'pear']"
            ]
          },
          "metadata": {},
          "execution_count": 30
        }
      ]
    },
    {
      "cell_type": "code",
      "source": [
        "# using the range function which is EXCLUSIVE\n",
        "\n",
        "for x in range(1,21):\n",
        "  print(x)"
      ],
      "metadata": {
        "colab": {
          "base_uri": "https://localhost:8080/"
        },
        "id": "4f7XteDxCVaE",
        "outputId": "f5e71bb4-1abd-4812-c759-9b5cf61ba21e"
      },
      "execution_count": 34,
      "outputs": [
        {
          "output_type": "stream",
          "name": "stdout",
          "text": [
            "1\n",
            "2\n",
            "3\n",
            "4\n",
            "5\n",
            "6\n",
            "7\n",
            "8\n",
            "9\n",
            "10\n",
            "11\n",
            "12\n",
            "13\n",
            "14\n",
            "15\n",
            "16\n",
            "17\n",
            "18\n",
            "19\n",
            "20\n"
          ]
        }
      ]
    },
    {
      "cell_type": "code",
      "source": [
        "# we can also do some math \n",
        "for x in range(1,21):\n",
        "  print(x+3)"
      ],
      "metadata": {
        "id": "Lr6W08LQCj_k"
      },
      "execution_count": null,
      "outputs": []
    },
    {
      "cell_type": "code",
      "source": [
        "# arranging numbers 1 to 20 using a list\n",
        "list(range(1, 21))\n"
      ],
      "metadata": {
        "colab": {
          "base_uri": "https://localhost:8080/"
        },
        "id": "--Lc6hS2CrFQ",
        "outputId": "ac5317f2-d261-496a-9083-94ae88502a0c"
      },
      "execution_count": 35,
      "outputs": [
        {
          "output_type": "execute_result",
          "data": {
            "text/plain": [
              "[1, 2, 3, 4, 5, 6, 7, 8, 9, 10, 11, 12, 13, 14, 15, 16, 17, 18, 19, 20]"
            ]
          },
          "metadata": {},
          "execution_count": 35
        }
      ]
    },
    {
      "cell_type": "code",
      "source": [
        "# we can also add a step, where it skips\n",
        "list(range(1,21,2))"
      ],
      "metadata": {
        "colab": {
          "base_uri": "https://localhost:8080/"
        },
        "id": "u6bP-bZaDF2q",
        "outputId": "a89976e0-24e1-45fb-bb25-f58993406953"
      },
      "execution_count": 36,
      "outputs": [
        {
          "output_type": "execute_result",
          "data": {
            "text/plain": [
              "[1, 3, 5, 7, 9, 11, 13, 15, 17, 19]"
            ]
          },
          "metadata": {},
          "execution_count": 36
        }
      ]
    },
    {
      "cell_type": "code",
      "source": [
        "# we can also perform some simple statistics\n",
        "\n",
        "num = list(range(21,1, -1))"
      ],
      "metadata": {
        "id": "Bn2ORbeKDP_S"
      },
      "execution_count": 37,
      "outputs": []
    },
    {
      "cell_type": "code",
      "source": [
        "# number of items in num\n",
        "len(num)"
      ],
      "metadata": {
        "colab": {
          "base_uri": "https://localhost:8080/"
        },
        "id": "XuwlVAwpDV3z",
        "outputId": "2d1a9a46-4fee-458d-f7bc-5606933112bf"
      },
      "execution_count": 40,
      "outputs": [
        {
          "output_type": "execute_result",
          "data": {
            "text/plain": [
              "20"
            ]
          },
          "metadata": {},
          "execution_count": 40
        }
      ]
    },
    {
      "cell_type": "code",
      "source": [
        "# max value in num\n",
        "max(num)"
      ],
      "metadata": {
        "colab": {
          "base_uri": "https://localhost:8080/"
        },
        "id": "9em3P0o1DaZN",
        "outputId": "563790f7-4bc3-45b7-d6f3-9f1cf3a15fd9"
      },
      "execution_count": 39,
      "outputs": [
        {
          "output_type": "execute_result",
          "data": {
            "text/plain": [
              "21"
            ]
          },
          "metadata": {},
          "execution_count": 39
        }
      ]
    },
    {
      "cell_type": "code",
      "source": [
        "# minimum value in num\n",
        "min(num)"
      ],
      "metadata": {
        "colab": {
          "base_uri": "https://localhost:8080/"
        },
        "id": "xZdnuYvUDaf9",
        "outputId": "00ac7c41-7505-4dfd-f981-b53a60f99b5a"
      },
      "execution_count": 41,
      "outputs": [
        {
          "output_type": "execute_result",
          "data": {
            "text/plain": [
              "2"
            ]
          },
          "metadata": {},
          "execution_count": 41
        }
      ]
    },
    {
      "cell_type": "code",
      "source": [
        "# sum of values in num\n",
        "sum(num)"
      ],
      "metadata": {
        "id": "tKl4a8ObDapa"
      },
      "execution_count": null,
      "outputs": []
    },
    {
      "cell_type": "code",
      "source": [
        "l = [1,2,3,4,5,6,7,8,9,10]"
      ],
      "metadata": {
        "id": "dTJfArzJDpH4"
      },
      "execution_count": 42,
      "outputs": []
    },
    {
      "cell_type": "code",
      "source": [
        "# Modulo gives us the remainder of a division\n",
        "17 % 2"
      ],
      "metadata": {
        "colab": {
          "base_uri": "https://localhost:8080/"
        },
        "id": "hwe0_wPGDtJi",
        "outputId": "a5e29434-afd4-43db-eeaa-308827b5bdf9"
      },
      "execution_count": 43,
      "outputs": [
        {
          "output_type": "execute_result",
          "data": {
            "text/plain": [
              "1"
            ]
          },
          "metadata": {},
          "execution_count": 43
        }
      ]
    },
    {
      "cell_type": "code",
      "source": [
        "# prints out only even numbers, by dividing num, with 2, and seeing if it has a \n",
        "# remainder of 0, which indicates an even number\n",
        "# after it is found, the even number is printed\n",
        "for num in l:\n",
        "  if num % 2 == 0:\n",
        "    print(num)"
      ],
      "metadata": {
        "colab": {
          "base_uri": "https://localhost:8080/"
        },
        "id": "uPGksGmSD5-c",
        "outputId": "fae41dc6-bba4-4e25-d51b-47b5628eb050"
      },
      "execution_count": 44,
      "outputs": [
        {
          "output_type": "stream",
          "name": "stdout",
          "text": [
            "2\n",
            "4\n",
            "6\n",
            "8\n",
            "10\n"
          ]
        }
      ]
    },
    {
      "cell_type": "code",
      "source": [
        "list_2 = [1,2,3,4,5,6,7,8,9,10]\n"
      ],
      "metadata": {
        "id": "Q8QTrhreErV3"
      },
      "execution_count": 45,
      "outputs": []
    },
    {
      "cell_type": "code",
      "source": [
        "# creating a for loop that prints out odd numbers\n",
        "# we are checking if it is odd by seeing if when the number is divided by 2,\n",
        "# it leaves a\n",
        "# remainder that is not 0.\n",
        "for num in list_2:\n",
        "  if num % 2 != 0:\n",
        "    print(f'{num} is odd, but we accept them how they are :)')\n"
      ],
      "metadata": {
        "colab": {
          "base_uri": "https://localhost:8080/"
        },
        "id": "eNXAjbqCE1-m",
        "outputId": "b397dccb-1863-44e7-b8b9-2f25b53245a2"
      },
      "execution_count": 52,
      "outputs": [
        {
          "output_type": "stream",
          "name": "stdout",
          "text": [
            "1 is odd, but we accept them how they are :)\n",
            "3 is odd, but we accept them how they are :)\n",
            "5 is odd, but we accept them how they are :)\n",
            "7 is odd, but we accept them how they are :)\n",
            "9 is odd, but we accept them how they are :)\n"
          ]
        }
      ]
    },
    {
      "cell_type": "code",
      "source": [
        "#for letter in 'This is a string'"
      ],
      "metadata": {
        "id": "0lWssd7wGP9l"
      },
      "execution_count": null,
      "outputs": []
    },
    {
      "cell_type": "code",
      "source": [
        "# Adding all the values together in a list to get the sum\n",
        "\n",
        "listSum = 0\n",
        "\n",
        "for num in l:\n",
        "  listSum = listSum + num\n",
        "\n",
        "print(listSum)"
      ],
      "metadata": {
        "colab": {
          "base_uri": "https://localhost:8080/"
        },
        "id": "WTK0l85hGTaK",
        "outputId": "1c8c8a48-c602-4043-a56f-cd7682692933"
      },
      "execution_count": 54,
      "outputs": [
        {
          "output_type": "stream",
          "name": "stdout",
          "text": [
            "55\n"
          ]
        }
      ]
    },
    {
      "cell_type": "code",
      "source": [
        "dy = {'k1': 1, 'k2': 2, 'k3': 3, 'k4': 4}\n"
      ],
      "metadata": {
        "id": "cQ7IXKtdG3jS"
      },
      "execution_count": 55,
      "outputs": []
    },
    {
      "cell_type": "code",
      "source": [
        "# this loop only prints the key of the dictionary\n",
        "for item in dy:\n",
        "  print(item)"
      ],
      "metadata": {
        "colab": {
          "base_uri": "https://localhost:8080/"
        },
        "id": "_gLsFKiEHBPP",
        "outputId": "5b289d52-d5b5-4f96-c3ef-190252a9c13d"
      },
      "execution_count": 56,
      "outputs": [
        {
          "output_type": "stream",
          "name": "stdout",
          "text": [
            "k1\n",
            "k2\n",
            "k3\n",
            "k4\n"
          ]
        }
      ]
    },
    {
      "cell_type": "code",
      "source": [
        "# this loop prints out the key of the dictionary, \n",
        "# and the value\n",
        "# for key we will use k\n",
        "# for value we will use v\n",
        "\n",
        "for k,v in dy.items():\n",
        "  print(k)\n",
        "  print(v)"
      ],
      "metadata": {
        "colab": {
          "base_uri": "https://localhost:8080/"
        },
        "id": "Ge44GnVkHJtV",
        "outputId": "6acfd03f-5f94-4582-fa68-df6232e048cb"
      },
      "execution_count": 57,
      "outputs": [
        {
          "output_type": "stream",
          "name": "stdout",
          "text": [
            "k1\n",
            "1\n",
            "k2\n",
            "2\n",
            "k3\n",
            "3\n",
            "k4\n",
            "4\n"
          ]
        }
      ]
    }
  ]
}