{
  "nbformat": 4,
  "nbformat_minor": 0,
  "metadata": {
    "colab": {
      "name": "Lists, Dictionaries & Loops.ipynb",
      "provenance": [],
      "collapsed_sections": [
        "i3-D9Nw3aBpX"
      ],
      "authorship_tag": "ABX9TyNfR+tjXd4lj5ziufQRNsHc",
      "include_colab_link": true
    },
    "kernelspec": {
      "name": "python3",
      "display_name": "Python 3"
    },
    "language_info": {
      "name": "python"
    }
  },
  "cells": [
    {
      "cell_type": "markdown",
      "metadata": {
        "id": "view-in-github",
        "colab_type": "text"
      },
      "source": [
        "<a href=\"https://colab.research.google.com/github/unitxero/Data_Analysis_MC/blob/main/Lists%2C_Dictionaries_%26_Loops.ipynb\" target=\"_parent\"><img src=\"https://colab.research.google.com/assets/colab-badge.svg\" alt=\"Open In Colab\"/></a>"
      ]
    },
    {
      "cell_type": "markdown",
      "source": [
        "# Unit2_L4_Looping\n"
      ],
      "metadata": {
        "id": "i3-D9Nw3aBpX"
      }
    },
    {
      "cell_type": "code",
      "source": [
        "# Create a list that holds 5 data variables. \n",
        "\n",
        "list_items = ['red', 'green', 'blue' , 'orange', 'truck' ]"
      ],
      "metadata": {
        "id": "xozAnGQ4aUda"
      },
      "execution_count": 19,
      "outputs": []
    },
    {
      "cell_type": "code",
      "source": [
        "# Print out those variables by using a for loop.\n",
        "\n",
        "# temp variable elements, will iterate through list_items, and print the value\n",
        "for elements in list_items:\n",
        "  print(elements)"
      ],
      "metadata": {
        "colab": {
          "base_uri": "https://localhost:8080/"
        },
        "id": "PVjEdN8Pa_jv",
        "outputId": "dd9c6c0a-0c64-48f2-dbb6-fe8eaa5e2311"
      },
      "execution_count": 20,
      "outputs": [
        {
          "output_type": "stream",
          "name": "stdout",
          "text": [
            "red\n",
            "green\n",
            "blue\n",
            "orange\n",
            "truck\n"
          ]
        }
      ]
    },
    {
      "cell_type": "code",
      "source": [
        "# Modify your for loop to add a message to your for loop.\n",
        "\n",
        "for elements in list_items:\n",
        "  print(f'Looks like you have {elements} in your list!')"
      ],
      "metadata": {
        "colab": {
          "base_uri": "https://localhost:8080/"
        },
        "id": "0RC5ijnhbbsb",
        "outputId": "b128d097-fc26-4351-c1a8-5f79f1594aef"
      },
      "execution_count": 21,
      "outputs": [
        {
          "output_type": "stream",
          "name": "stdout",
          "text": [
            "Looks like you have red in your list!\n",
            "Looks like you have green in your list!\n",
            "Looks like you have blue in your list!\n",
            "Looks like you have orange in your list!\n",
            "Looks like you have truck in your list!\n"
          ]
        }
      ]
    },
    {
      "cell_type": "code",
      "source": [
        "# Use a for loop to print even numbers from 1-20.\n",
        "\n",
        "# a for loop to print even numbers using num to iterate, in a range of 1-20\n",
        "# we are checking if the number when divided by 2 gives us no remainder\n",
        "# to know it is even.\n",
        "\n",
        "for num in range(1,21):\n",
        "  if num % 2 == 0:\n",
        "    print(num)"
      ],
      "metadata": {
        "colab": {
          "base_uri": "https://localhost:8080/"
        },
        "id": "uPo9xdXybuBk",
        "outputId": "44502fe8-82ea-42b9-ecec-56313a7a3999"
      },
      "execution_count": 22,
      "outputs": [
        {
          "output_type": "stream",
          "name": "stdout",
          "text": [
            "2\n",
            "4\n",
            "6\n",
            "8\n",
            "10\n",
            "12\n",
            "14\n",
            "16\n",
            "18\n",
            "20\n"
          ]
        }
      ]
    },
    {
      "cell_type": "code",
      "source": [
        "# Sort your list in alphabetic order.\n",
        "\n",
        "# printing list_items to see the current order\n",
        "print(list_items)\n",
        "# sorting by alphabetical order\n",
        "list_items.sort(reverse = False)\n",
        "# checking the order\n",
        "print(list_items)"
      ],
      "metadata": {
        "colab": {
          "base_uri": "https://localhost:8080/"
        },
        "id": "B_Iilk7kcWBa",
        "outputId": "5d50f120-7269-407e-91d8-cbfb5788860a"
      },
      "execution_count": 23,
      "outputs": [
        {
          "output_type": "stream",
          "name": "stdout",
          "text": [
            "['red', 'green', 'blue', 'orange', 'truck']\n",
            "['blue', 'green', 'orange', 'red', 'truck']\n"
          ]
        }
      ]
    },
    {
      "cell_type": "code",
      "source": [
        "# Print out the first three elements of your list.\n",
        "\n",
        "# using indexing to print first three elements\n",
        "print(list_items[:3])"
      ],
      "metadata": {
        "colab": {
          "base_uri": "https://localhost:8080/"
        },
        "id": "MV-v4X1pdB5D",
        "outputId": "fcf100e0-80bf-4f9f-ef24-79c3032d9ac2"
      },
      "execution_count": 24,
      "outputs": [
        {
          "output_type": "stream",
          "name": "stdout",
          "text": [
            "['blue', 'green', 'orange']\n"
          ]
        }
      ]
    },
    {
      "cell_type": "code",
      "source": [
        "# Create a loop to print the last 2 elements of your list.\n",
        "\n",
        "# list is reversed, and last 2 elements are printed\n",
        "for elements in list_items[:2:-1]:\n",
        "  print(elements)"
      ],
      "metadata": {
        "colab": {
          "base_uri": "https://localhost:8080/"
        },
        "id": "wzqQjSRrdQXy",
        "outputId": "74e9fe28-2d7d-498b-f8cd-5a544048b297"
      },
      "execution_count": 25,
      "outputs": [
        {
          "output_type": "stream",
          "name": "stdout",
          "text": [
            "truck\n",
            "red\n"
          ]
        }
      ]
    },
    {
      "cell_type": "markdown",
      "source": [
        "# Unit2_L6_Dictionaries "
      ],
      "metadata": {
        "id": "D7F9Vepaex8F"
      }
    },
    {
      "cell_type": "code",
      "source": [
        "Create a simple dictionary that stores 2 variables, for example: first and last name.\n",
        "\n",
        "\n",
        "\n",
        "Print out those variables stored in your previous dictionary. \n",
        "\n",
        "\n",
        "\n",
        "\n",
        "Add a message to those variables on printing: for example: “Hello, firstname lastname!”\n",
        "\n",
        "\n",
        "\n",
        "\n",
        "\n",
        "Create a dictionary that holds 2 key: value pairs:\n",
        "Look through your dictionary and print each pair,\n",
        "\n",
        "\n",
        "\n",
        "\n",
        "\n",
        "\n",
        "\n",
        "Create a nested dictionary containing three dictionaries – these dictionaries could be anything (favorite pets, travel locations, etc.)\n",
        "Loop through the dictionaries and print a message for each.\n"
      ],
      "metadata": {
        "id": "PgxLcWZVe0At"
      },
      "execution_count": null,
      "outputs": []
    },
    {
      "cell_type": "code",
      "source": [
        "# Create a simple dictionary that stores 2 variables, for example: first and last name.\n",
        "\n",
        "simple_dictionary = {'first_name': 'Dun','last_name':'Kirk'}"
      ],
      "metadata": {
        "id": "FCLxW8ODfFqo"
      },
      "execution_count": null,
      "outputs": []
    },
    {
      "cell_type": "code",
      "source": [
        "# Print out those variables stored in your previous dictionary. \n",
        "\n",
        "print(simple_dictionary)"
      ],
      "metadata": {
        "colab": {
          "base_uri": "https://localhost:8080/"
        },
        "id": "-r4N4AKbfyp_",
        "outputId": "33c28878-2ce2-4df2-b30c-e3a95114eb90"
      },
      "execution_count": null,
      "outputs": [
        {
          "output_type": "stream",
          "name": "stdout",
          "text": [
            "{'first_name': 'Dun', 'last_name': 'Kirk'}\n"
          ]
        }
      ]
    },
    {
      "cell_type": "code",
      "source": [
        "# Add a message to those variables on printing: for example: “Hello, firstname lastname!”\n",
        "\n",
        "print(f'Hello,{simple_dictionary[\"first_name\"]} {simple_dictionary[\"last_name\"]}!')"
      ],
      "metadata": {
        "colab": {
          "base_uri": "https://localhost:8080/"
        },
        "id": "YwyA9NgmgO0K",
        "outputId": "fa157697-5cf8-4bdc-92a0-96385c4fbe1e"
      },
      "execution_count": null,
      "outputs": [
        {
          "output_type": "stream",
          "name": "stdout",
          "text": [
            "Hello,Dun Kirk!\n"
          ]
        }
      ]
    },
    {
      "cell_type": "code",
      "source": [
        "# Create a dictionary that holds 2 key: value pairs:\n",
        "# Look through your dictionary and print each pair,\n",
        "\n",
        "my_dictionary = {'car_manf': 'Honda', 'car_type':'Sedan'}\n",
        "\n",
        "for k,v in my_dictionary.items():\n",
        "  print(f'{k} contains {v}')"
      ],
      "metadata": {
        "colab": {
          "base_uri": "https://localhost:8080/"
        },
        "id": "JMDXwex9hY2y",
        "outputId": "a8cb21de-8f86-4d9b-8bc8-467d9232916b"
      },
      "execution_count": null,
      "outputs": [
        {
          "output_type": "stream",
          "name": "stdout",
          "text": [
            "car_manf contains Honda\n",
            "car_type contains Sedan\n"
          ]
        }
      ]
    },
    {
      "cell_type": "code",
      "source": [
        "# Create a nested dictionary containing three dictionaries –\n",
        "# these dictionaries could be anything (favorite pets, travel locations, etc.)\n",
        "# Loop through the dictionaries and print a message for each.\n",
        "\n",
        "nested_dictionary = { \n",
        "  'Location': {'State':{'City':{'Borough':'Manhattan'}}}}\n",
        "\n",
        "for k,v in nested_dictionary.items():\n",
        "  print(f'{v} is here')\n",
        "\n",
        "'''\n",
        "\n",
        "I'm aware that currently Location is the key and {'State':{'City':{'Borough':'Manhattan'}}}}\n",
        "is the value. I'm having difficulty, trying to acess State:City -> City:Borough -> Borough:Manhattan\n",
        "Slicing is a way to get there possibly, but i'm not sure how to implement it in\n",
        "a for loop\n",
        "\n",
        "'''\n",
        "\n"
      ],
      "metadata": {
        "colab": {
          "base_uri": "https://localhost:8080/"
        },
        "id": "pfOi2xOfjhgA",
        "outputId": "69180b1a-26c9-4ea7-fba2-984debfab1bc"
      },
      "execution_count": 18,
      "outputs": [
        {
          "output_type": "stream",
          "name": "stdout",
          "text": [
            "{'State': {'City': {'Borough': 'Manhattan'}}} is here\n"
          ]
        }
      ]
    }
  ]
}