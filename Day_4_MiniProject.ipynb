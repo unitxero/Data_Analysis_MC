{
  "nbformat": 4,
  "nbformat_minor": 0,
  "metadata": {
    "colab": {
      "name": "Day 4 MiniProject.ipynb",
      "provenance": [],
      "authorship_tag": "ABX9TyOncGA5f+k4SJAc+LFRuIl7",
      "include_colab_link": true
    },
    "kernelspec": {
      "name": "python3",
      "display_name": "Python 3"
    },
    "language_info": {
      "name": "python"
    }
  },
  "cells": [
    {
      "cell_type": "markdown",
      "metadata": {
        "id": "view-in-github",
        "colab_type": "text"
      },
      "source": [
        "<a href=\"https://colab.research.google.com/github/unitxero/Data_Analysis_MC/blob/main/Day_4_MiniProject.ipynb\" target=\"_parent\"><img src=\"https://colab.research.google.com/assets/colab-badge.svg\" alt=\"Open In Colab\"/></a>"
      ]
    },
    {
      "cell_type": "code",
      "execution_count": null,
      "metadata": {
        "id": "EibNYSBDtgsY"
      },
      "outputs": [],
      "source": [
        ""
      ]
    },
    {
      "cell_type": "markdown",
      "source": [
        "Ask the user for a number. \n",
        "Depending on whether the number is even or odd, print out an\n",
        "appropriate message to the user. \n",
        "\n",
        "Hint: how does an even / odd number react differently\n",
        "when divided by 2?"
      ],
      "metadata": {
        "id": "GtKJ0t6Pt00y"
      }
    },
    {
      "cell_type": "code",
      "source": [
        "def odd_even():\n",
        "  '''\n",
        "  Author: Kevin Camacho\n",
        "  Input: No input\n",
        "  Output: Print out if the number is odd or even after calculation\n",
        "  '''\n",
        "  print('Hello this program will check if')\n",
        "  print('The number you input, is odd or even')\n",
        "  print(\"It will also check if your number is a multiple of 4 \\n\" )\n",
        "\n",
        "  num = input('Input your number: \\n')\n",
        "  # check = input()\n",
        "  # line 15 we are checking if when we divide the input by 2\n",
        "  # it gives us no remainder\n",
        "  # if no remainder it prints an even number\n",
        "  if int(num) % 2 == 0:\n",
        "    print(f'The number {num} is even')\n",
        "    # line 19 we check if the number is also a multiple of 4\n",
        "    # if so, we return a print statement   \n",
        "    if int(num) % 4 == 0:\n",
        "      print(f'The number {num} is also a multiple of 4!')\n",
        "  # if the number is producing a remainder, we throw out an print \n",
        "  # informing the reader    \n",
        "  else:\n",
        "    print(f'The number {num} is odd')\n",
        "    \n"
      ],
      "metadata": {
        "id": "1G0ObfUiuEYJ"
      },
      "execution_count": 35,
      "outputs": []
    },
    {
      "cell_type": "code",
      "source": [
        "def num_check():\n",
        "  '''\n",
        "  Author: Kevin Camacho\n",
        "  Input: No arguments for this function\n",
        "  Output: Prints out if the two numbers input by the user are evenly\n",
        "          divisible by each other\n",
        "  '''\n",
        "  print('This program checks if the first number you input')\n",
        "  print('is evenly divisble with the second number you input \\n')\n",
        "\n",
        "  number = float(input('Input first number: '))\n",
        "  number_check = float(input('Input second number: '))\n",
        "\n",
        "  if number % number_check == 0:\n",
        "    print(f'The number {number} is evenly divisible by {number_check}')\n",
        "  else:  \n",
        "    print(f'The number {number} is not evenly divisible by {number_check}')\n"
      ],
      "metadata": {
        "id": "Z3LqSXAzzaON"
      },
      "execution_count": 41,
      "outputs": []
    },
    {
      "cell_type": "code",
      "source": [
        "def main():\n",
        "  odd_even()\n",
        "  print('\\n') \n",
        "  num_check()\n",
        "\n",
        "main()"
      ],
      "metadata": {
        "colab": {
          "base_uri": "https://localhost:8080/"
        },
        "id": "GQtCo-0v0k2C",
        "outputId": "73a23fd2-8520-47e8-e97b-a3f4f7a7b7bb"
      },
      "execution_count": 42,
      "outputs": [
        {
          "output_type": "stream",
          "name": "stdout",
          "text": [
            "Hello this program will check if\n",
            "The number you input, is odd or even\n",
            "It will also check if your number is a multiple of 4 \n",
            "\n",
            "Input your number: \n",
            "16\n",
            "The number 16 is even\n",
            "The number 16 is also a multiple of 4!\n",
            "\n",
            "\n",
            "This program checks if the first number you input\n",
            "is evenly divisble with the second number you input \n",
            "\n",
            "Input first number: 26\n",
            "Input second number: 1\n",
            "The number 26.0 is evenly divisible by 1.0\n"
          ]
        }
      ]
    }
  ]
}