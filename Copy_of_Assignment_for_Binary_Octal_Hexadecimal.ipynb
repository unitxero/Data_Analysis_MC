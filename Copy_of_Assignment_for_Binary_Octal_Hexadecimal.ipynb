{
  "nbformat": 4,
  "nbformat_minor": 0,
  "metadata": {
    "colab": {
      "name": "Copy of Assignment for Binary_Octal_Hexadecimal.ipynb",
      "provenance": [],
      "authorship_tag": "ABX9TyOXLAvKNeC4c6DJ0i4xDS3V",
      "include_colab_link": true
    },
    "kernelspec": {
      "name": "python3",
      "display_name": "Python 3"
    },
    "language_info": {
      "name": "python"
    }
  },
  "cells": [
    {
      "cell_type": "markdown",
      "metadata": {
        "id": "view-in-github",
        "colab_type": "text"
      },
      "source": [
        "<a href=\"https://colab.research.google.com/github/unitxero/Data_Analysis_MC/blob/main/Copy_of_Assignment_for_Binary_Octal_Hexadecimal.ipynb\" target=\"_parent\"><img src=\"https://colab.research.google.com/assets/colab-badge.svg\" alt=\"Open In Colab\"/></a>"
      ]
    },
    {
      "cell_type": "markdown",
      "source": [
        "Take any int number from a user and convert it into Binary, Octal and Hexadecimal"
      ],
      "metadata": {
        "id": "lp6_rq-_iL3e"
      }
    },
    {
      "cell_type": "code",
      "source": [
        "num = int(input('Input any number to convert to Binary, Octal and Hexademical: '))\n",
        "\n",
        "# Here we ask a user to input a Integer so we can use it for our calculations"
      ],
      "metadata": {
        "colab": {
          "base_uri": "https://localhost:8080/"
        },
        "id": "9tIIegxziN0V",
        "outputId": "04af4485-6715-49a4-fb50-adf745227357"
      },
      "execution_count": null,
      "outputs": [
        {
          "name": "stdout",
          "output_type": "stream",
          "text": [
            "Input any number to convert to Binary, Octal and Hexademical: 100\n"
          ]
        }
      ]
    },
    {
      "cell_type": "code",
      "source": [
        "# We will do the Hexadecimal calculations and store it in hex_result and \n",
        "# then provide a print statement\n",
        "\n",
        "hex_result = hex(num)\n",
        "print(f'Here is your hexadecimal number conversion: {hex_result}')\n",
        "\n",
        "# We will do the Octal calculations and store it in oct_result and then provide\n",
        "# a print statement\n",
        "\n",
        "oct_result = oct(num)\n",
        "print(f'Here is your octal number conversion: {oct_result}')\n",
        "\n",
        "# We will do the binary calculations and store it in hex_result and then provide\n",
        "# a print statement\n",
        "\n",
        "bin_result = bin(num)\n",
        "print(f'Here is your binary number conversion: {bin_result}')"
      ],
      "metadata": {
        "colab": {
          "base_uri": "https://localhost:8080/"
        },
        "id": "93Hj1ZRRjCic",
        "outputId": "8fa7eb90-0b4a-455b-e201-7934c05e6175"
      },
      "execution_count": null,
      "outputs": [
        {
          "output_type": "stream",
          "name": "stdout",
          "text": [
            "Here is your hexadecimal number conversion: 0x64\n",
            "Here is your octal number conversion: 0o144\n",
            "Here is your binary number conversion: 0b1100100\n"
          ]
        }
      ]
    }
  ]
}