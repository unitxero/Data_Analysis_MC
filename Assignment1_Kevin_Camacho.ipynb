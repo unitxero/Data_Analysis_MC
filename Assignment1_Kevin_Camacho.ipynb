{
  "nbformat": 4,
  "nbformat_minor": 0,
  "metadata": {
    "colab": {
      "name": "Assignment1_Kevin_Camacho.ipynb",
      "provenance": [],
      "authorship_tag": "ABX9TyMPM64AY1ynbNx14ixUAc2I",
      "include_colab_link": true
    },
    "kernelspec": {
      "name": "python3",
      "display_name": "Python 3"
    },
    "language_info": {
      "name": "python"
    }
  },
  "cells": [
    {
      "cell_type": "markdown",
      "metadata": {
        "id": "view-in-github",
        "colab_type": "text"
      },
      "source": [
        "<a href=\"https://colab.research.google.com/github/unitxero/Data_Analysis_MC/blob/main/Assignment1_Kevin_Camacho.ipynb\" target=\"_parent\"><img src=\"https://colab.research.google.com/assets/colab-badge.svg\" alt=\"Open In Colab\"/></a>"
      ]
    },
    {
      "cell_type": "code",
      "execution_count": 1,
      "metadata": {
        "id": "cKWleg2UBd-L"
      },
      "outputs": [],
      "source": [
        "#in-class exercise\n",
        "\n",
        "#build a connection with the url and create a beatifulsoup object\n",
        "import requests\n",
        "from bs4 import BeautifulSoup\n",
        "\n",
        "url = 'https://en.wikipedia.org/wiki/Baruch_College'\n",
        "r = requests.get(url)\n",
        "soup = BeautifulSoup(r.text)\n",
        "\n",
        "\n"
      ]
    },
    {
      "cell_type": "code",
      "source": [
        "\n",
        "#<li> defines a list item\n",
        "\n",
        "cites = soup.find_all('cite',class_='citation',limit = 10)\n",
        "\n",
        "newlist = []\n",
        "for cite in cites:\n",
        "    #print(cite.find('a'))\n",
        "    a = cite.find('a')\n",
        "    link = a.get('href')\n",
        "    #print(link)\n",
        "    newlist.append(link)\n",
        "    \n",
        "newlist \n"
      ],
      "metadata": {
        "colab": {
          "base_uri": "https://localhost:8080/"
        },
        "id": "wMPV-8CLBiR3",
        "outputId": "56068577-6317-4194-c75f-7e53c85fb0c1"
      },
      "execution_count": 2,
      "outputs": [
        {
          "output_type": "execute_result",
          "data": {
            "text/plain": [
              "['https://www.alumni.baruch.cuny.edu/uploaded/Annual_Reports/BCF_Annual_Report_2019_FINAL.pdf',\n",
              " 'https://ir.baruch.cuny.edu/wp-content/uploads/sites/23/2021/01/Factsheet.Fall_2020_Finalx.pdf',\n",
              " 'http://colleges.usnews.rankingsandreviews.com/best-colleges/baruch-cuny-4766',\n",
              " 'http://www.baruch.edu/news/waldron_announces_gifts.htm',\n",
              " 'https://web.archive.org/web/20090918142223/http://www.baruch.cuny.edu/campaign/index.htm',\n",
              " 'https://www.nytimes.com/2011/11/22/education/cuny-students-clash-with-police-in-manhattan.html',\n",
              " 'https://www1.cuny.edu/mu/forum/2020/02/03/cuny-appoints-next-president-of-baruch-college/',\n",
              " 'https://www.baruch.cuny.edu//academic-degree-programs/',\n",
              " 'http://zicklin.baruch.cuny.edu/',\n",
              " 'http://www.baruch.cuny.edu/wsas/']"
            ]
          },
          "metadata": {},
          "execution_count": 2
        }
      ]
    }
  ]
}