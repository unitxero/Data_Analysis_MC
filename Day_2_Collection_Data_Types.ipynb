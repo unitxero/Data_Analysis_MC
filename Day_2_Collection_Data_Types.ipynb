{
  "nbformat": 4,
  "nbformat_minor": 0,
  "metadata": {
    "colab": {
      "name": "Day 2 Collection Data Types.ipynb",
      "provenance": [],
      "authorship_tag": "ABX9TyPkCQB0dYxwqIoTti/CMy3X",
      "include_colab_link": true
    },
    "kernelspec": {
      "name": "python3",
      "display_name": "Python 3"
    },
    "language_info": {
      "name": "python"
    }
  },
  "cells": [
    {
      "cell_type": "markdown",
      "metadata": {
        "id": "view-in-github",
        "colab_type": "text"
      },
      "source": [
        "<a href=\"https://colab.research.google.com/github/unitxero/Data_Analysis_MC/blob/main/Day_2_Collection_Data_Types.ipynb\" target=\"_parent\"><img src=\"https://colab.research.google.com/assets/colab-badge.svg\" alt=\"Open In Colab\"/></a>"
      ]
    },
    {
      "cell_type": "markdown",
      "source": [
        "#  Collection Data Types\n",
        "## List, Dictionaires, Sets & Tuples\n",
        "\n",
        "# List"
      ],
      "metadata": {
        "id": "aTACdkv0Nb4E"
      }
    },
    {
      "cell_type": "code",
      "source": [
        "# created a list of movies and assigned it to the variable movies\n",
        "movies = ['star wars', 'star trek', 'lord of the rings', 'avengers']\n",
        "# printed the list of movies\n",
        "print(movies)"
      ],
      "metadata": {
        "colab": {
          "base_uri": "https://localhost:8080/"
        },
        "id": "yHWluoCvOKwn",
        "outputId": "3e0e743a-c3ba-4834-b9ce-23d714de2e36"
      },
      "execution_count": null,
      "outputs": [
        {
          "output_type": "stream",
          "name": "stdout",
          "text": [
            "['star wars', 'star trek', 'lord of the rings', 'avengers']\n"
          ]
        }
      ]
    },
    {
      "cell_type": "code",
      "source": [
        "# index of 0 is selected in movies\n",
        "movies[0]"
      ],
      "metadata": {
        "colab": {
          "base_uri": "https://localhost:8080/",
          "height": 37
        },
        "id": "8Hc8DhMRPfR_",
        "outputId": "20ffa389-080e-411c-e078-d798379d013b"
      },
      "execution_count": null,
      "outputs": [
        {
          "output_type": "execute_result",
          "data": {
            "application/vnd.google.colaboratory.intrinsic+json": {
              "type": "string"
            },
            "text/plain": [
              "'star wars'"
            ]
          },
          "metadata": {},
          "execution_count": 2
        }
      ]
    },
    {
      "cell_type": "code",
      "source": [
        "movies[1]"
      ],
      "metadata": {
        "colab": {
          "base_uri": "https://localhost:8080/",
          "height": 37
        },
        "id": "v-4i8CA1PphN",
        "outputId": "e471491a-1393-479a-b2d2-8d0f6f4c6e19"
      },
      "execution_count": null,
      "outputs": [
        {
          "output_type": "execute_result",
          "data": {
            "application/vnd.google.colaboratory.intrinsic+json": {
              "type": "string"
            },
            "text/plain": [
              "'star trek'"
            ]
          },
          "metadata": {},
          "execution_count": 3
        }
      ]
    },
    {
      "cell_type": "code",
      "source": [
        "movies[2]"
      ],
      "metadata": {
        "colab": {
          "base_uri": "https://localhost:8080/",
          "height": 37
        },
        "id": "frh91xXEPrHR",
        "outputId": "e2392a8d-61a8-4195-cf3f-3958f47b6c47"
      },
      "execution_count": null,
      "outputs": [
        {
          "output_type": "execute_result",
          "data": {
            "application/vnd.google.colaboratory.intrinsic+json": {
              "type": "string"
            },
            "text/plain": [
              "'lord of the rings'"
            ]
          },
          "metadata": {},
          "execution_count": 4
        }
      ]
    },
    {
      "cell_type": "code",
      "source": [
        "movies[3]"
      ],
      "metadata": {
        "colab": {
          "base_uri": "https://localhost:8080/",
          "height": 37
        },
        "id": "e0Kg5NhzPtbq",
        "outputId": "1372169f-224d-4dea-a42d-c27a700a0673"
      },
      "execution_count": null,
      "outputs": [
        {
          "output_type": "execute_result",
          "data": {
            "application/vnd.google.colaboratory.intrinsic+json": {
              "type": "string"
            },
            "text/plain": [
              "'avengers'"
            ]
          },
          "metadata": {},
          "execution_count": 5
        }
      ]
    },
    {
      "cell_type": "code",
      "source": [
        "print(movies[0].title())"
      ],
      "metadata": {
        "colab": {
          "base_uri": "https://localhost:8080/"
        },
        "id": "bQSdi4x1QErS",
        "outputId": "290335a7-2ffd-4983-ee2d-f8208bdddf72"
      },
      "execution_count": null,
      "outputs": [
        {
          "output_type": "stream",
          "name": "stdout",
          "text": [
            "Star Wars\n"
          ]
        }
      ]
    },
    {
      "cell_type": "code",
      "source": [
        "len(movies)"
      ],
      "metadata": {
        "colab": {
          "base_uri": "https://localhost:8080/"
        },
        "id": "hvdqwPIURZTV",
        "outputId": "e6d5fdb3-c45f-42c8-b977-c164abb49879"
      },
      "execution_count": null,
      "outputs": [
        {
          "output_type": "execute_result",
          "data": {
            "text/plain": [
              "4"
            ]
          },
          "metadata": {},
          "execution_count": 7
        }
      ]
    },
    {
      "cell_type": "code",
      "source": [
        "movies[-1]"
      ],
      "metadata": {
        "colab": {
          "base_uri": "https://localhost:8080/",
          "height": 37
        },
        "id": "HqdRT5VwRiZZ",
        "outputId": "0dc744e0-1aba-4c29-fcb0-8d2e4df56d80"
      },
      "execution_count": null,
      "outputs": [
        {
          "output_type": "execute_result",
          "data": {
            "application/vnd.google.colaboratory.intrinsic+json": {
              "type": "string"
            },
            "text/plain": [
              "'avengers'"
            ]
          },
          "metadata": {},
          "execution_count": 8
        }
      ]
    },
    {
      "cell_type": "code",
      "source": [
        "print(movies[3])\n",
        "print(movies[2])\n",
        "print(movies[-1])"
      ],
      "metadata": {
        "colab": {
          "base_uri": "https://localhost:8080/"
        },
        "id": "ns-hpnAiTTdG",
        "outputId": "9a59f09b-da7e-487d-b4b7-b1e5a90d4c06"
      },
      "execution_count": null,
      "outputs": [
        {
          "output_type": "stream",
          "name": "stdout",
          "text": [
            "avengers\n",
            "lord of the rings\n",
            "avengers\n"
          ]
        }
      ]
    },
    {
      "cell_type": "code",
      "source": [
        "# we are concating a string and assigning it to the message variable. \n",
        "# We start with\n",
        "# \"My favorite movie is \" to the movies list at the 0 index\n",
        "# and then using the upper command to capitalize each letter of that movie\n",
        "# then we concat another string \"!!!\" to this which ends the message\n",
        "\n",
        "message = \"My favorite movie is \" + movies[0].upper() + \"!!!\"\n",
        "print(message)"
      ],
      "metadata": {
        "colab": {
          "base_uri": "https://localhost:8080/"
        },
        "id": "E1j3tNuGTc0y",
        "outputId": "90ba0cd4-cebe-4989-83ee-b3ecd800d741"
      },
      "execution_count": null,
      "outputs": [
        {
          "output_type": "stream",
          "name": "stdout",
          "text": [
            "My favorite movie is STAR WARS!!!\n"
          ]
        }
      ]
    },
    {
      "cell_type": "code",
      "source": [
        "movies[1] = 'captain america'\n",
        "print(movies)"
      ],
      "metadata": {
        "colab": {
          "base_uri": "https://localhost:8080/"
        },
        "id": "h0aSDyTbc-TH",
        "outputId": "c2a11e64-63b0-4d8c-a397-b915d481f5a6"
      },
      "execution_count": null,
      "outputs": [
        {
          "output_type": "stream",
          "name": "stdout",
          "text": [
            "['star wars', 'captain america', 'lord of the rings', 'avengers']\n"
          ]
        }
      ]
    },
    {
      "cell_type": "code",
      "source": [
        "# append multiple movies to the movies list\n",
        "movies.append('Iron Man')\n",
        "movies.append('iron man')\n",
        "movies.append('harry potter')\n",
        "movies.append('scary movie')\n",
        "movies.append('texas chainsaw massacre')\n",
        "movies.append('saw')"
      ],
      "metadata": {
        "id": "zJ_GMKdpdW1B"
      },
      "execution_count": null,
      "outputs": []
    },
    {
      "cell_type": "code",
      "source": [
        "print(movies)\n",
        "# remove Iron Man which was duplicated on the next line of code\n",
        "movies.remove('Iron Man')\n"
      ],
      "metadata": {
        "colab": {
          "base_uri": "https://localhost:8080/"
        },
        "id": "iU_YSGO4dftv",
        "outputId": "fb970d66-17c3-4165-908c-5f4448d47a66"
      },
      "execution_count": null,
      "outputs": [
        {
          "output_type": "stream",
          "name": "stdout",
          "text": [
            "['star wars', 'captain america', 'lord of the rings', 'avengers', 'Iron Man', 'iron man', 'harry potter', 'scary movie', 'texas chainsaw massacre', 'saw']\n"
          ]
        }
      ]
    },
    {
      "cell_type": "code",
      "source": [
        "print(movies)"
      ],
      "metadata": {
        "colab": {
          "base_uri": "https://localhost:8080/"
        },
        "id": "1aU0q6epessl",
        "outputId": "637c852b-60b1-4d37-9fd0-af112c2a911d"
      },
      "execution_count": null,
      "outputs": [
        {
          "output_type": "stream",
          "name": "stdout",
          "text": [
            "['star wars', 'captain america', 'lord of the rings', 'avengers', 'iron man', 'harry potter', 'scary movie', 'texas chainsaw massacre', 'saw']\n"
          ]
        }
      ]
    },
    {
      "cell_type": "code",
      "source": [
        "# sort the movies using .sort()\n",
        "\n",
        "movies.sort()\n",
        "print(movies)\n",
        "\n",
        "# reverse the sort\n",
        "\n",
        "movies.sort(reverse = True)\n",
        "print(movies)"
      ],
      "metadata": {
        "colab": {
          "base_uri": "https://localhost:8080/"
        },
        "id": "gBbkPCjsfu5e",
        "outputId": "34e40836-d02d-4f2b-d0a2-1d063946b297"
      },
      "execution_count": null,
      "outputs": [
        {
          "output_type": "stream",
          "name": "stdout",
          "text": [
            "['avengers', 'captain america', 'harry potter', 'iron man', 'lord of the rings', 'saw', 'scary movie', 'star wars', 'texas chainsaw massacre']\n",
            "['texas chainsaw massacre', 'star wars', 'scary movie', 'saw', 'lord of the rings', 'iron man', 'harry potter', 'captain america', 'avengers']\n"
          ]
        }
      ]
    }
  ]
}